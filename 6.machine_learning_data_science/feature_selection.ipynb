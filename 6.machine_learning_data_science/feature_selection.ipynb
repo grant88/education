{
 "cells": [
  {
   "cell_type": "markdown",
   "id": "d514a65d",
   "metadata": {},
   "source": [
    "# Feature selection"
   ]
  },
  {
   "cell_type": "markdown",
   "id": "bcb260b5",
   "metadata": {},
   "source": [
    "Применение различных методов по отбору признаков"
   ]
  },
  {
   "cell_type": "code",
   "execution_count": 1,
   "id": "3670d468",
   "metadata": {},
   "outputs": [],
   "source": [
    "import numpy as np\n",
    "import pandas as pd\n",
    "from sklearn.datasets import make_classification\n",
    "from sklearn.linear_model import LogisticRegression\n",
    "from sklearn.model_selection import cross_val_score\n",
    "from sklearn.feature_selection import VarianceThreshold, SelectKBest, f_classif, SelectFromModel, SequentialFeatureSelector\n",
    "from sklearn.ensemble import RandomForestClassifier\n",
    "\n",
    "import matplotlib.pyplot as plt\n",
    "import seaborn as sns"
   ]
  },
  {
   "cell_type": "markdown",
   "id": "9830e039",
   "metadata": {},
   "source": [
    "## Сгенерируем данные"
   ]
  },
  {
   "cell_type": "code",
   "execution_count": 2,
   "id": "aeae35e3",
   "metadata": {},
   "outputs": [],
   "source": [
    "x_data_generated, y_data_generated = make_classification(scale=1.0)"
   ]
  },
  {
   "cell_type": "code",
   "execution_count": 3,
   "id": "5704ed21",
   "metadata": {},
   "outputs": [],
   "source": [
    "features_df = pd.DataFrame(x_data_generated)"
   ]
  },
  {
   "cell_type": "code",
   "execution_count": 4,
   "id": "3e550aed",
   "metadata": {},
   "outputs": [
    {
     "data": {
      "text/plain": [
       "(100, 20)"
      ]
     },
     "execution_count": 4,
     "metadata": {},
     "output_type": "execute_result"
    }
   ],
   "source": [
    "features_df.shape"
   ]
  },
  {
   "cell_type": "code",
   "execution_count": 5,
   "id": "8ed445b9",
   "metadata": {},
   "outputs": [],
   "source": [
    "target_df = pd.DataFrame(y_data_generated, columns=['target'])"
   ]
  },
  {
   "cell_type": "code",
   "execution_count": 6,
   "id": "71dcc0cf",
   "metadata": {},
   "outputs": [],
   "source": [
    "target = target_df['target']"
   ]
  },
  {
   "cell_type": "markdown",
   "id": "0f23df68",
   "metadata": {},
   "source": [
    "Сформируем dataframe для удобства:"
   ]
  },
  {
   "cell_type": "code",
   "execution_count": 7,
   "id": "dc51e07e",
   "metadata": {},
   "outputs": [],
   "source": [
    "df = pd.concat([features_df, target_df], axis=1)"
   ]
  },
  {
   "cell_type": "code",
   "execution_count": 8,
   "id": "559351f5",
   "metadata": {},
   "outputs": [
    {
     "data": {
      "text/html": [
       "<div>\n",
       "<style scoped>\n",
       "    .dataframe tbody tr th:only-of-type {\n",
       "        vertical-align: middle;\n",
       "    }\n",
       "\n",
       "    .dataframe tbody tr th {\n",
       "        vertical-align: top;\n",
       "    }\n",
       "\n",
       "    .dataframe thead th {\n",
       "        text-align: right;\n",
       "    }\n",
       "</style>\n",
       "<table border=\"1\" class=\"dataframe\">\n",
       "  <thead>\n",
       "    <tr style=\"text-align: right;\">\n",
       "      <th></th>\n",
       "      <th>0</th>\n",
       "      <th>1</th>\n",
       "      <th>2</th>\n",
       "      <th>3</th>\n",
       "      <th>4</th>\n",
       "      <th>5</th>\n",
       "      <th>6</th>\n",
       "      <th>7</th>\n",
       "      <th>8</th>\n",
       "      <th>9</th>\n",
       "      <th>...</th>\n",
       "      <th>11</th>\n",
       "      <th>12</th>\n",
       "      <th>13</th>\n",
       "      <th>14</th>\n",
       "      <th>15</th>\n",
       "      <th>16</th>\n",
       "      <th>17</th>\n",
       "      <th>18</th>\n",
       "      <th>19</th>\n",
       "      <th>target</th>\n",
       "    </tr>\n",
       "  </thead>\n",
       "  <tbody>\n",
       "    <tr>\n",
       "      <th>0</th>\n",
       "      <td>-0.810581</td>\n",
       "      <td>0.929636</td>\n",
       "      <td>1.136525</td>\n",
       "      <td>-0.811868</td>\n",
       "      <td>0.418594</td>\n",
       "      <td>0.196073</td>\n",
       "      <td>0.365736</td>\n",
       "      <td>-0.758116</td>\n",
       "      <td>-0.245041</td>\n",
       "      <td>-0.825836</td>\n",
       "      <td>...</td>\n",
       "      <td>0.532955</td>\n",
       "      <td>-0.301082</td>\n",
       "      <td>0.859577</td>\n",
       "      <td>-0.604208</td>\n",
       "      <td>0.828495</td>\n",
       "      <td>-0.209802</td>\n",
       "      <td>-1.171191</td>\n",
       "      <td>0.485574</td>\n",
       "      <td>-0.687079</td>\n",
       "      <td>1</td>\n",
       "    </tr>\n",
       "    <tr>\n",
       "      <th>1</th>\n",
       "      <td>-1.809789</td>\n",
       "      <td>-0.085897</td>\n",
       "      <td>1.431917</td>\n",
       "      <td>-0.253467</td>\n",
       "      <td>-0.920656</td>\n",
       "      <td>-0.088732</td>\n",
       "      <td>1.149183</td>\n",
       "      <td>-1.077149</td>\n",
       "      <td>1.427335</td>\n",
       "      <td>0.344324</td>\n",
       "      <td>...</td>\n",
       "      <td>-0.497920</td>\n",
       "      <td>-0.247362</td>\n",
       "      <td>-1.988598</td>\n",
       "      <td>2.006185</td>\n",
       "      <td>-0.342564</td>\n",
       "      <td>1.670207</td>\n",
       "      <td>-1.784541</td>\n",
       "      <td>0.683636</td>\n",
       "      <td>0.949450</td>\n",
       "      <td>1</td>\n",
       "    </tr>\n",
       "    <tr>\n",
       "      <th>2</th>\n",
       "      <td>0.334827</td>\n",
       "      <td>0.914949</td>\n",
       "      <td>1.851146</td>\n",
       "      <td>-0.308023</td>\n",
       "      <td>0.680477</td>\n",
       "      <td>-0.060114</td>\n",
       "      <td>-2.400992</td>\n",
       "      <td>-0.041241</td>\n",
       "      <td>-0.113625</td>\n",
       "      <td>0.035196</td>\n",
       "      <td>...</td>\n",
       "      <td>0.760807</td>\n",
       "      <td>-0.114288</td>\n",
       "      <td>-1.309300</td>\n",
       "      <td>0.358113</td>\n",
       "      <td>0.588365</td>\n",
       "      <td>-0.775370</td>\n",
       "      <td>1.595872</td>\n",
       "      <td>-0.275381</td>\n",
       "      <td>-0.096273</td>\n",
       "      <td>0</td>\n",
       "    </tr>\n",
       "    <tr>\n",
       "      <th>3</th>\n",
       "      <td>1.723295</td>\n",
       "      <td>0.120713</td>\n",
       "      <td>-0.076419</td>\n",
       "      <td>-0.789411</td>\n",
       "      <td>-0.226036</td>\n",
       "      <td>-0.280883</td>\n",
       "      <td>1.120217</td>\n",
       "      <td>-0.755048</td>\n",
       "      <td>-0.217217</td>\n",
       "      <td>0.904926</td>\n",
       "      <td>...</td>\n",
       "      <td>-0.388938</td>\n",
       "      <td>-1.532657</td>\n",
       "      <td>-0.783057</td>\n",
       "      <td>0.993566</td>\n",
       "      <td>-0.815353</td>\n",
       "      <td>1.054173</td>\n",
       "      <td>0.582957</td>\n",
       "      <td>0.625885</td>\n",
       "      <td>-0.170237</td>\n",
       "      <td>0</td>\n",
       "    </tr>\n",
       "    <tr>\n",
       "      <th>4</th>\n",
       "      <td>-0.755964</td>\n",
       "      <td>-1.047965</td>\n",
       "      <td>-0.157662</td>\n",
       "      <td>0.785226</td>\n",
       "      <td>-0.609117</td>\n",
       "      <td>0.013388</td>\n",
       "      <td>0.863951</td>\n",
       "      <td>-0.586469</td>\n",
       "      <td>0.999998</td>\n",
       "      <td>0.529836</td>\n",
       "      <td>...</td>\n",
       "      <td>0.548764</td>\n",
       "      <td>0.088995</td>\n",
       "      <td>-0.724331</td>\n",
       "      <td>0.866532</td>\n",
       "      <td>2.818173</td>\n",
       "      <td>0.872827</td>\n",
       "      <td>-0.116219</td>\n",
       "      <td>0.851478</td>\n",
       "      <td>1.615125</td>\n",
       "      <td>1</td>\n",
       "    </tr>\n",
       "  </tbody>\n",
       "</table>\n",
       "<p>5 rows × 21 columns</p>\n",
       "</div>"
      ],
      "text/plain": [
       "          0         1         2         3         4         5         6  \\\n",
       "0 -0.810581  0.929636  1.136525 -0.811868  0.418594  0.196073  0.365736   \n",
       "1 -1.809789 -0.085897  1.431917 -0.253467 -0.920656 -0.088732  1.149183   \n",
       "2  0.334827  0.914949  1.851146 -0.308023  0.680477 -0.060114 -2.400992   \n",
       "3  1.723295  0.120713 -0.076419 -0.789411 -0.226036 -0.280883  1.120217   \n",
       "4 -0.755964 -1.047965 -0.157662  0.785226 -0.609117  0.013388  0.863951   \n",
       "\n",
       "          7         8         9  ...        11        12        13        14  \\\n",
       "0 -0.758116 -0.245041 -0.825836  ...  0.532955 -0.301082  0.859577 -0.604208   \n",
       "1 -1.077149  1.427335  0.344324  ... -0.497920 -0.247362 -1.988598  2.006185   \n",
       "2 -0.041241 -0.113625  0.035196  ...  0.760807 -0.114288 -1.309300  0.358113   \n",
       "3 -0.755048 -0.217217  0.904926  ... -0.388938 -1.532657 -0.783057  0.993566   \n",
       "4 -0.586469  0.999998  0.529836  ...  0.548764  0.088995 -0.724331  0.866532   \n",
       "\n",
       "         15        16        17        18        19  target  \n",
       "0  0.828495 -0.209802 -1.171191  0.485574 -0.687079       1  \n",
       "1 -0.342564  1.670207 -1.784541  0.683636  0.949450       1  \n",
       "2  0.588365 -0.775370  1.595872 -0.275381 -0.096273       0  \n",
       "3 -0.815353  1.054173  0.582957  0.625885 -0.170237       0  \n",
       "4  2.818173  0.872827 -0.116219  0.851478  1.615125       1  \n",
       "\n",
       "[5 rows x 21 columns]"
      ]
     },
     "execution_count": 8,
     "metadata": {},
     "output_type": "execute_result"
    }
   ],
   "source": [
    "df.head()"
   ]
  },
  {
   "cell_type": "code",
   "execution_count": 9,
   "id": "1237e7ce",
   "metadata": {},
   "outputs": [
    {
     "data": {
      "text/plain": [
       "(100, 21)"
      ]
     },
     "execution_count": 9,
     "metadata": {},
     "output_type": "execute_result"
    }
   ],
   "source": [
    "df.shape"
   ]
  },
  {
   "cell_type": "markdown",
   "id": "2789a0ad",
   "metadata": {},
   "source": [
    "Подготовим список для хранения промежуточных результатов:"
   ]
  },
  {
   "cell_type": "code",
   "execution_count": 10,
   "id": "af530300",
   "metadata": {},
   "outputs": [],
   "source": [
    "results = []"
   ]
  },
  {
   "cell_type": "markdown",
   "id": "7fcada99",
   "metadata": {},
   "source": [
    "## Построим модель логистической регрессии и оценим её точность"
   ]
  },
  {
   "cell_type": "code",
   "execution_count": 11,
   "id": "d29a19d8",
   "metadata": {},
   "outputs": [
    {
     "name": "stdout",
     "output_type": "stream",
     "text": [
      "0.8099999999999999\n"
     ]
    }
   ],
   "source": [
    "score = cross_val_score(LogisticRegression(), features_df, target, scoring='accuracy').mean()\n",
    "print(score)"
   ]
  },
  {
   "cell_type": "markdown",
   "id": "3d7ff0a6",
   "metadata": {},
   "source": [
    "Добавим промежуточные результаты в results:"
   ]
  },
  {
   "cell_type": "code",
   "execution_count": 12,
   "id": "2b5c2549",
   "metadata": {},
   "outputs": [
    {
     "data": {
      "text/html": [
       "<div>\n",
       "<style scoped>\n",
       "    .dataframe tbody tr th:only-of-type {\n",
       "        vertical-align: middle;\n",
       "    }\n",
       "\n",
       "    .dataframe tbody tr th {\n",
       "        vertical-align: top;\n",
       "    }\n",
       "\n",
       "    .dataframe thead th {\n",
       "        text-align: right;\n",
       "    }\n",
       "</style>\n",
       "<table border=\"1\" class=\"dataframe\">\n",
       "  <thead>\n",
       "    <tr style=\"text-align: right;\">\n",
       "      <th></th>\n",
       "      <th>feature_selection_method</th>\n",
       "      <th>features_count</th>\n",
       "      <th>cross_val_score</th>\n",
       "    </tr>\n",
       "  </thead>\n",
       "  <tbody>\n",
       "    <tr>\n",
       "      <th>0</th>\n",
       "      <td>no</td>\n",
       "      <td>20</td>\n",
       "      <td>0.81</td>\n",
       "    </tr>\n",
       "  </tbody>\n",
       "</table>\n",
       "</div>"
      ],
      "text/plain": [
       "  feature_selection_method  features_count  cross_val_score\n",
       "0                       no              20             0.81"
      ]
     },
     "execution_count": 12,
     "metadata": {},
     "output_type": "execute_result"
    }
   ],
   "source": [
    "results.append({\n",
    "    'feature_selection_method': 'no',\n",
    "    'features_count': len(features_df.columns),\n",
    "    'cross_val_score': score\n",
    "})\n",
    "pd.DataFrame(results)"
   ]
  },
  {
   "cell_type": "markdown",
   "id": "171b8721",
   "metadata": {},
   "source": [
    "## Используем статистические методы для отбора признаков"
   ]
  },
  {
   "cell_type": "markdown",
   "id": "a528f70c",
   "metadata": {},
   "source": [
    "### Выберем признаки на основе матрицы корреляции"
   ]
  },
  {
   "cell_type": "code",
   "execution_count": 13,
   "id": "f1c85785",
   "metadata": {},
   "outputs": [],
   "source": [
    "corr_matrix = df.corr()"
   ]
  },
  {
   "cell_type": "code",
   "execution_count": 14,
   "id": "221c8ed6",
   "metadata": {},
   "outputs": [
    {
     "data": {
      "image/png": "[encoded data removed]",
      "text/plain": [
       "<Figure size 1152x648 with 2 Axes>"
      ]
     },
     "metadata": {
      "needs_background": "light"
     },
     "output_type": "display_data"
    }
   ],
   "source": [
    "plt.figure(figsize=(16, 9))\n",
    "plt.title(\"Correlation matrix\")\n",
    "sns.heatmap(corr_matrix, annot=True, fmt='.2f')\n",
    "plt.show()"
   ]
  },
  {
   "cell_type": "markdown",
   "id": "be225f62",
   "metadata": {},
   "source": [
    "Выберем стобцы у которых корреляция с таргетом превышает 0.3 в абсолютном значении:"
   ]
  },
  {
   "cell_type": "code",
   "execution_count": 15,
   "id": "0b59036d",
   "metadata": {},
   "outputs": [],
   "source": [
    "columns = corr_matrix[((corr_matrix['target'].abs() >= 0.3) & (corr_matrix.index != 'target'))].index"
   ]
  },
  {
   "cell_type": "code",
   "execution_count": 16,
   "id": "7e253081",
   "metadata": {},
   "outputs": [
    {
     "data": {
      "text/plain": [
       "[6, 14, 16]"
      ]
     },
     "execution_count": 16,
     "metadata": {},
     "output_type": "execute_result"
    }
   ],
   "source": [
    "list(columns)"
   ]
  },
  {
   "cell_type": "code",
   "execution_count": 17,
   "id": "a27d3f1f",
   "metadata": {},
   "outputs": [
    {
     "name": "stdout",
     "output_type": "stream",
     "text": [
      "0.9199999999999999\n"
     ]
    }
   ],
   "source": [
    "score = cross_val_score(LogisticRegression(), df[columns], target, scoring='accuracy').mean()\n",
    "print(score)"
   ]
  },
  {
   "cell_type": "code",
   "execution_count": 18,
   "id": "1d77626c",
   "metadata": {},
   "outputs": [
    {
     "data": {
      "text/html": [
       "<div>\n",
       "<style scoped>\n",
       "    .dataframe tbody tr th:only-of-type {\n",
       "        vertical-align: middle;\n",
       "    }\n",
       "\n",
       "    .dataframe tbody tr th {\n",
       "        vertical-align: top;\n",
       "    }\n",
       "\n",
       "    .dataframe thead th {\n",
       "        text-align: right;\n",
       "    }\n",
       "</style>\n",
       "<table border=\"1\" class=\"dataframe\">\n",
       "  <thead>\n",
       "    <tr style=\"text-align: right;\">\n",
       "      <th></th>\n",
       "      <th>feature_selection_method</th>\n",
       "      <th>features_count</th>\n",
       "      <th>cross_val_score</th>\n",
       "    </tr>\n",
       "  </thead>\n",
       "  <tbody>\n",
       "    <tr>\n",
       "      <th>0</th>\n",
       "      <td>no</td>\n",
       "      <td>20</td>\n",
       "      <td>0.81</td>\n",
       "    </tr>\n",
       "    <tr>\n",
       "      <th>1</th>\n",
       "      <td>correlation matrix</td>\n",
       "      <td>3</td>\n",
       "      <td>0.92</td>\n",
       "    </tr>\n",
       "  </tbody>\n",
       "</table>\n",
       "</div>"
      ],
      "text/plain": [
       "  feature_selection_method  features_count  cross_val_score\n",
       "0                       no              20             0.81\n",
       "1       correlation matrix               3             0.92"
      ]
     },
     "execution_count": 18,
     "metadata": {},
     "output_type": "execute_result"
    }
   ],
   "source": [
    "results.append({\n",
    "    'feature_selection_method': 'correlation matrix',\n",
    "    'features_count': len(columns),\n",
    "    'cross_val_score': score\n",
    "})\n",
    "pd.DataFrame(results)"
   ]
  },
  {
   "cell_type": "markdown",
   "id": "f328ea67",
   "metadata": {},
   "source": [
    "### Отсечем низковариативные признаки"
   ]
  },
  {
   "cell_type": "code",
   "execution_count": 19,
   "id": "e8332bde",
   "metadata": {},
   "outputs": [],
   "source": [
    "selector  = VarianceThreshold(threshold=1.2)\n",
    "X_new = selector.fit_transform(df, y_data_generated)"
   ]
  },
  {
   "cell_type": "code",
   "execution_count": 20,
   "id": "38d54bae",
   "metadata": {},
   "outputs": [
    {
     "data": {
      "text/plain": [
       "array([False, False, False, False, False, False,  True, False, False,\n",
       "       False, False, False, False,  True,  True, False, False, False,\n",
       "       False, False, False])"
      ]
     },
     "execution_count": 20,
     "metadata": {},
     "output_type": "execute_result"
    }
   ],
   "source": [
    "selector.get_support()"
   ]
  },
  {
   "cell_type": "markdown",
   "id": "0ce41abc",
   "metadata": {},
   "source": [
    "Удалим столбцы с низковариативными признаками:"
   ]
  },
  {
   "cell_type": "code",
   "execution_count": 21,
   "id": "4dbf3c1b",
   "metadata": {},
   "outputs": [
    {
     "data": {
      "text/plain": [
       "[6, 13, 14]"
      ]
     },
     "execution_count": 21,
     "metadata": {},
     "output_type": "execute_result"
    }
   ],
   "source": [
    "columns = [column for column, value in enumerate(selector.get_support()) if value]\n",
    "columns"
   ]
  },
  {
   "cell_type": "code",
   "execution_count": 22,
   "id": "3d3ebb00",
   "metadata": {},
   "outputs": [
    {
     "name": "stdout",
     "output_type": "stream",
     "text": [
      "0.9199999999999999\n"
     ]
    }
   ],
   "source": [
    "score = cross_val_score(LogisticRegression(), df[columns], target, scoring='accuracy').mean()\n",
    "print(score)"
   ]
  },
  {
   "cell_type": "code",
   "execution_count": 23,
   "id": "febe8134",
   "metadata": {
    "scrolled": true
   },
   "outputs": [
    {
     "data": {
      "text/html": [
       "<div>\n",
       "<style scoped>\n",
       "    .dataframe tbody tr th:only-of-type {\n",
       "        vertical-align: middle;\n",
       "    }\n",
       "\n",
       "    .dataframe tbody tr th {\n",
       "        vertical-align: top;\n",
       "    }\n",
       "\n",
       "    .dataframe thead th {\n",
       "        text-align: right;\n",
       "    }\n",
       "</style>\n",
       "<table border=\"1\" class=\"dataframe\">\n",
       "  <thead>\n",
       "    <tr style=\"text-align: right;\">\n",
       "      <th></th>\n",
       "      <th>feature_selection_method</th>\n",
       "      <th>features_count</th>\n",
       "      <th>cross_val_score</th>\n",
       "    </tr>\n",
       "  </thead>\n",
       "  <tbody>\n",
       "    <tr>\n",
       "      <th>0</th>\n",
       "      <td>no</td>\n",
       "      <td>20</td>\n",
       "      <td>0.81</td>\n",
       "    </tr>\n",
       "    <tr>\n",
       "      <th>1</th>\n",
       "      <td>correlation matrix</td>\n",
       "      <td>3</td>\n",
       "      <td>0.92</td>\n",
       "    </tr>\n",
       "    <tr>\n",
       "      <th>2</th>\n",
       "      <td>low variance threshold removing</td>\n",
       "      <td>3</td>\n",
       "      <td>0.92</td>\n",
       "    </tr>\n",
       "  </tbody>\n",
       "</table>\n",
       "</div>"
      ],
      "text/plain": [
       "          feature_selection_method  features_count  cross_val_score\n",
       "0                               no              20             0.81\n",
       "1               correlation matrix               3             0.92\n",
       "2  low variance threshold removing               3             0.92"
      ]
     },
     "execution_count": 23,
     "metadata": {},
     "output_type": "execute_result"
    }
   ],
   "source": [
    "results.append({\n",
    "    'feature_selection_method': 'low variance threshold removing',\n",
    "    'features_count': len(columns),\n",
    "    'cross_val_score': score\n",
    "})\n",
    "pd.DataFrame(results)"
   ]
  },
  {
   "cell_type": "markdown",
   "id": "2a778b76",
   "metadata": {},
   "source": [
    "## Отбор признаков на основе дисперсионного анализа"
   ]
  },
  {
   "cell_type": "markdown",
   "id": "befb1958",
   "metadata": {},
   "source": [
    "Выберем топ 5 признаков:"
   ]
  },
  {
   "cell_type": "code",
   "execution_count": 24,
   "id": "73027e9c",
   "metadata": {},
   "outputs": [],
   "source": [
    "X_new = SelectKBest(f_classif, k=5).fit_transform(features_df, target)"
   ]
  },
  {
   "cell_type": "code",
   "execution_count": 25,
   "id": "a7c3df43",
   "metadata": {},
   "outputs": [
    {
     "name": "stdout",
     "output_type": "stream",
     "text": [
      "0.9099999999999999\n"
     ]
    }
   ],
   "source": [
    "score = cross_val_score(LogisticRegression(), X_new, target, scoring='accuracy').mean()\n",
    "print(score)"
   ]
  },
  {
   "cell_type": "code",
   "execution_count": 26,
   "id": "44fb33fb",
   "metadata": {},
   "outputs": [
    {
     "data": {
      "text/html": [
       "<div>\n",
       "<style scoped>\n",
       "    .dataframe tbody tr th:only-of-type {\n",
       "        vertical-align: middle;\n",
       "    }\n",
       "\n",
       "    .dataframe tbody tr th {\n",
       "        vertical-align: top;\n",
       "    }\n",
       "\n",
       "    .dataframe thead th {\n",
       "        text-align: right;\n",
       "    }\n",
       "</style>\n",
       "<table border=\"1\" class=\"dataframe\">\n",
       "  <thead>\n",
       "    <tr style=\"text-align: right;\">\n",
       "      <th></th>\n",
       "      <th>feature_selection_method</th>\n",
       "      <th>features_count</th>\n",
       "      <th>cross_val_score</th>\n",
       "    </tr>\n",
       "  </thead>\n",
       "  <tbody>\n",
       "    <tr>\n",
       "      <th>0</th>\n",
       "      <td>no</td>\n",
       "      <td>20</td>\n",
       "      <td>0.81</td>\n",
       "    </tr>\n",
       "    <tr>\n",
       "      <th>1</th>\n",
       "      <td>correlation matrix</td>\n",
       "      <td>3</td>\n",
       "      <td>0.92</td>\n",
       "    </tr>\n",
       "    <tr>\n",
       "      <th>2</th>\n",
       "      <td>low variance threshold removing</td>\n",
       "      <td>3</td>\n",
       "      <td>0.92</td>\n",
       "    </tr>\n",
       "    <tr>\n",
       "      <th>3</th>\n",
       "      <td>select k best</td>\n",
       "      <td>5</td>\n",
       "      <td>0.91</td>\n",
       "    </tr>\n",
       "  </tbody>\n",
       "</table>\n",
       "</div>"
      ],
      "text/plain": [
       "          feature_selection_method  features_count  cross_val_score\n",
       "0                               no              20             0.81\n",
       "1               correlation matrix               3             0.92\n",
       "2  low variance threshold removing               3             0.92\n",
       "3                    select k best               5             0.91"
      ]
     },
     "execution_count": 26,
     "metadata": {},
     "output_type": "execute_result"
    }
   ],
   "source": [
    "results.append({\n",
    "    'feature_selection_method': 'select k best',\n",
    "    'features_count': X_new.shape[1],\n",
    "    'cross_val_score': score\n",
    "})\n",
    "pd.DataFrame(results)"
   ]
  },
  {
   "cell_type": "markdown",
   "id": "23f3ba19",
   "metadata": {},
   "source": [
    "## Отбор с использованием моделей"
   ]
  },
  {
   "cell_type": "markdown",
   "id": "11c0bdb4",
   "metadata": {},
   "source": [
    "### Отбор признаков с помощью логистической регрессии"
   ]
  },
  {
   "cell_type": "markdown",
   "id": "5233b0c2",
   "metadata": {},
   "source": [
    "Будем использовать L1 регуляризацию"
   ]
  },
  {
   "cell_type": "code",
   "execution_count": 27,
   "id": "08bfc582",
   "metadata": {},
   "outputs": [],
   "source": [
    "selector = SelectFromModel(estimator=LogisticRegression(penalty='l1', solver='liblinear')).fit(features_df, target)"
   ]
  },
  {
   "cell_type": "code",
   "execution_count": 28,
   "id": "ec66ec51",
   "metadata": {},
   "outputs": [
    {
     "data": {
      "text/plain": [
       "[0, 2, 3, 4, 6, 7, 8, 12, 16, 17]"
      ]
     },
     "execution_count": 28,
     "metadata": {},
     "output_type": "execute_result"
    }
   ],
   "source": [
    "columns = [column for column, value in enumerate(selector.get_support()) if value]\n",
    "columns"
   ]
  },
  {
   "cell_type": "code",
   "execution_count": 29,
   "id": "3dc07bb8",
   "metadata": {},
   "outputs": [
    {
     "name": "stdout",
     "output_type": "stream",
     "text": [
      "0.86\n"
     ]
    }
   ],
   "source": [
    "score = cross_val_score(LogisticRegression(), df[columns], target, scoring='accuracy').mean()\n",
    "print(score)"
   ]
  },
  {
   "cell_type": "code",
   "execution_count": 30,
   "id": "5860180f",
   "metadata": {},
   "outputs": [
    {
     "data": {
      "text/html": [
       "<div>\n",
       "<style scoped>\n",
       "    .dataframe tbody tr th:only-of-type {\n",
       "        vertical-align: middle;\n",
       "    }\n",
       "\n",
       "    .dataframe tbody tr th {\n",
       "        vertical-align: top;\n",
       "    }\n",
       "\n",
       "    .dataframe thead th {\n",
       "        text-align: right;\n",
       "    }\n",
       "</style>\n",
       "<table border=\"1\" class=\"dataframe\">\n",
       "  <thead>\n",
       "    <tr style=\"text-align: right;\">\n",
       "      <th></th>\n",
       "      <th>feature_selection_method</th>\n",
       "      <th>features_count</th>\n",
       "      <th>cross_val_score</th>\n",
       "    </tr>\n",
       "  </thead>\n",
       "  <tbody>\n",
       "    <tr>\n",
       "      <th>0</th>\n",
       "      <td>no</td>\n",
       "      <td>20</td>\n",
       "      <td>0.81</td>\n",
       "    </tr>\n",
       "    <tr>\n",
       "      <th>1</th>\n",
       "      <td>correlation matrix</td>\n",
       "      <td>3</td>\n",
       "      <td>0.92</td>\n",
       "    </tr>\n",
       "    <tr>\n",
       "      <th>2</th>\n",
       "      <td>low variance threshold removing</td>\n",
       "      <td>3</td>\n",
       "      <td>0.92</td>\n",
       "    </tr>\n",
       "    <tr>\n",
       "      <th>3</th>\n",
       "      <td>select k best</td>\n",
       "      <td>5</td>\n",
       "      <td>0.91</td>\n",
       "    </tr>\n",
       "    <tr>\n",
       "      <th>4</th>\n",
       "      <td>select from model (logistic regression)</td>\n",
       "      <td>10</td>\n",
       "      <td>0.86</td>\n",
       "    </tr>\n",
       "  </tbody>\n",
       "</table>\n",
       "</div>"
      ],
      "text/plain": [
       "                  feature_selection_method  features_count  cross_val_score\n",
       "0                                       no              20             0.81\n",
       "1                       correlation matrix               3             0.92\n",
       "2          low variance threshold removing               3             0.92\n",
       "3                            select k best               5             0.91\n",
       "4  select from model (logistic regression)              10             0.86"
      ]
     },
     "execution_count": 30,
     "metadata": {},
     "output_type": "execute_result"
    }
   ],
   "source": [
    "results.append({\n",
    "    'feature_selection_method': 'select from model (logistic regression)',\n",
    "    'features_count': len(columns),\n",
    "    'cross_val_score': score\n",
    "})\n",
    "pd.DataFrame(results)"
   ]
  },
  {
   "cell_type": "markdown",
   "id": "c288d027",
   "metadata": {},
   "source": [
    "### Отбор признаков с помощью модели RandomForest"
   ]
  },
  {
   "cell_type": "markdown",
   "id": "021a7fb9",
   "metadata": {},
   "source": [
    "Пусть глубина дерева будет равна 5"
   ]
  },
  {
   "cell_type": "code",
   "execution_count": 31,
   "id": "22c6d006",
   "metadata": {},
   "outputs": [],
   "source": [
    "clf = RandomForestClassifier(max_depth=5, random_state=0)"
   ]
  },
  {
   "cell_type": "code",
   "execution_count": 32,
   "id": "54252570",
   "metadata": {},
   "outputs": [
    {
     "data": {
      "text/plain": [
       "RandomForestClassifier(max_depth=5, random_state=0)"
      ]
     },
     "execution_count": 32,
     "metadata": {},
     "output_type": "execute_result"
    }
   ],
   "source": [
    "clf.fit(features_df, target)"
   ]
  },
  {
   "cell_type": "code",
   "execution_count": 33,
   "id": "ff172079",
   "metadata": {},
   "outputs": [
    {
     "data": {
      "text/plain": [
       "array([0.0314319 , 0.01898369, 0.0248754 , 0.02421221, 0.03467671,\n",
       "       0.01494873, 0.33989057, 0.02003821, 0.02731339, 0.03282345,\n",
       "       0.02146498, 0.02990873, 0.02507921, 0.03015189, 0.06023692,\n",
       "       0.01812843, 0.14816042, 0.0229931 , 0.02928327, 0.04539879])"
      ]
     },
     "execution_count": 33,
     "metadata": {},
     "output_type": "execute_result"
    }
   ],
   "source": [
    "clf.feature_importances_"
   ]
  },
  {
   "cell_type": "markdown",
   "id": "6aacc78e",
   "metadata": {},
   "source": [
    "Пусть значение feature_importance, ниже которого столбец будет отброшен, будет равно 0.02"
   ]
  },
  {
   "cell_type": "code",
   "execution_count": 34,
   "id": "2517bc35",
   "metadata": {},
   "outputs": [
    {
     "data": {
      "text/plain": [
       "[0, 2, 3, 4, 6, 7, 8, 9, 10, 11, 12, 13, 14, 16, 17, 18, 19]"
      ]
     },
     "execution_count": 34,
     "metadata": {},
     "output_type": "execute_result"
    }
   ],
   "source": [
    "columns = [column for column, value in enumerate(clf.feature_importances_) if value >= 0.02]\n",
    "columns"
   ]
  },
  {
   "cell_type": "code",
   "execution_count": 35,
   "id": "3ba04f8e",
   "metadata": {},
   "outputs": [
    {
     "name": "stdout",
     "output_type": "stream",
     "text": [
      "0.8400000000000001\n"
     ]
    }
   ],
   "source": [
    "score = cross_val_score(LogisticRegression(), df[columns], target, scoring='accuracy').mean()\n",
    "print(score)"
   ]
  },
  {
   "cell_type": "code",
   "execution_count": 36,
   "id": "7da8add8",
   "metadata": {},
   "outputs": [
    {
     "data": {
      "text/html": [
       "<div>\n",
       "<style scoped>\n",
       "    .dataframe tbody tr th:only-of-type {\n",
       "        vertical-align: middle;\n",
       "    }\n",
       "\n",
       "    .dataframe tbody tr th {\n",
       "        vertical-align: top;\n",
       "    }\n",
       "\n",
       "    .dataframe thead th {\n",
       "        text-align: right;\n",
       "    }\n",
       "</style>\n",
       "<table border=\"1\" class=\"dataframe\">\n",
       "  <thead>\n",
       "    <tr style=\"text-align: right;\">\n",
       "      <th></th>\n",
       "      <th>feature_selection_method</th>\n",
       "      <th>features_count</th>\n",
       "      <th>cross_val_score</th>\n",
       "    </tr>\n",
       "  </thead>\n",
       "  <tbody>\n",
       "    <tr>\n",
       "      <th>0</th>\n",
       "      <td>no</td>\n",
       "      <td>20</td>\n",
       "      <td>0.81</td>\n",
       "    </tr>\n",
       "    <tr>\n",
       "      <th>1</th>\n",
       "      <td>correlation matrix</td>\n",
       "      <td>3</td>\n",
       "      <td>0.92</td>\n",
       "    </tr>\n",
       "    <tr>\n",
       "      <th>2</th>\n",
       "      <td>low variance threshold removing</td>\n",
       "      <td>3</td>\n",
       "      <td>0.92</td>\n",
       "    </tr>\n",
       "    <tr>\n",
       "      <th>3</th>\n",
       "      <td>select k best</td>\n",
       "      <td>5</td>\n",
       "      <td>0.91</td>\n",
       "    </tr>\n",
       "    <tr>\n",
       "      <th>4</th>\n",
       "      <td>select from model (logistic regression)</td>\n",
       "      <td>10</td>\n",
       "      <td>0.86</td>\n",
       "    </tr>\n",
       "    <tr>\n",
       "      <th>5</th>\n",
       "      <td>random forest feature importances</td>\n",
       "      <td>17</td>\n",
       "      <td>0.84</td>\n",
       "    </tr>\n",
       "  </tbody>\n",
       "</table>\n",
       "</div>"
      ],
      "text/plain": [
       "                  feature_selection_method  features_count  cross_val_score\n",
       "0                                       no              20             0.81\n",
       "1                       correlation matrix               3             0.92\n",
       "2          low variance threshold removing               3             0.92\n",
       "3                            select k best               5             0.91\n",
       "4  select from model (logistic regression)              10             0.86\n",
       "5        random forest feature importances              17             0.84"
      ]
     },
     "execution_count": 36,
     "metadata": {},
     "output_type": "execute_result"
    }
   ],
   "source": [
    "results.append({\n",
    "    'feature_selection_method': 'random forest feature importances',\n",
    "    'features_count': len(columns),\n",
    "    'cross_val_score': score\n",
    "})\n",
    "pd.DataFrame(results)"
   ]
  },
  {
   "cell_type": "markdown",
   "id": "32ce6c97",
   "metadata": {},
   "source": [
    "## Отбор с использованием перебора"
   ]
  },
  {
   "cell_type": "code",
   "execution_count": 37,
   "id": "b878e20c",
   "metadata": {},
   "outputs": [],
   "source": [
    "selector = SequentialFeatureSelector(estimator=LogisticRegression(penalty='l1', solver='liblinear')).fit(features_df, target)"
   ]
  },
  {
   "cell_type": "code",
   "execution_count": 38,
   "id": "77c7d76e",
   "metadata": {},
   "outputs": [
    {
     "data": {
      "text/plain": [
       "[0, 1, 2, 3, 5, 6, 8, 9, 10, 13]"
      ]
     },
     "execution_count": 38,
     "metadata": {},
     "output_type": "execute_result"
    }
   ],
   "source": [
    "columns = [column for column, value in enumerate(selector.get_support()) if value]\n",
    "columns"
   ]
  },
  {
   "cell_type": "code",
   "execution_count": 39,
   "id": "75438514",
   "metadata": {},
   "outputs": [
    {
     "name": "stdout",
     "output_type": "stream",
     "text": [
      "0.89\n"
     ]
    }
   ],
   "source": [
    "score = cross_val_score(LogisticRegression(), df[columns], target, scoring='accuracy').mean()\n",
    "print(score)"
   ]
  },
  {
   "cell_type": "code",
   "execution_count": 40,
   "id": "9e3c83e4",
   "metadata": {},
   "outputs": [
    {
     "data": {
      "text/html": [
       "<div>\n",
       "<style scoped>\n",
       "    .dataframe tbody tr th:only-of-type {\n",
       "        vertical-align: middle;\n",
       "    }\n",
       "\n",
       "    .dataframe tbody tr th {\n",
       "        vertical-align: top;\n",
       "    }\n",
       "\n",
       "    .dataframe thead th {\n",
       "        text-align: right;\n",
       "    }\n",
       "</style>\n",
       "<table border=\"1\" class=\"dataframe\">\n",
       "  <thead>\n",
       "    <tr style=\"text-align: right;\">\n",
       "      <th></th>\n",
       "      <th>feature_selection_method</th>\n",
       "      <th>features_count</th>\n",
       "      <th>cross_val_score</th>\n",
       "    </tr>\n",
       "  </thead>\n",
       "  <tbody>\n",
       "    <tr>\n",
       "      <th>0</th>\n",
       "      <td>no</td>\n",
       "      <td>20</td>\n",
       "      <td>0.81</td>\n",
       "    </tr>\n",
       "    <tr>\n",
       "      <th>1</th>\n",
       "      <td>correlation matrix</td>\n",
       "      <td>3</td>\n",
       "      <td>0.92</td>\n",
       "    </tr>\n",
       "    <tr>\n",
       "      <th>2</th>\n",
       "      <td>low variance threshold removing</td>\n",
       "      <td>3</td>\n",
       "      <td>0.92</td>\n",
       "    </tr>\n",
       "    <tr>\n",
       "      <th>3</th>\n",
       "      <td>select k best</td>\n",
       "      <td>5</td>\n",
       "      <td>0.91</td>\n",
       "    </tr>\n",
       "    <tr>\n",
       "      <th>4</th>\n",
       "      <td>select from model (logistic regression)</td>\n",
       "      <td>10</td>\n",
       "      <td>0.86</td>\n",
       "    </tr>\n",
       "    <tr>\n",
       "      <th>5</th>\n",
       "      <td>random forest feature importances</td>\n",
       "      <td>17</td>\n",
       "      <td>0.84</td>\n",
       "    </tr>\n",
       "    <tr>\n",
       "      <th>6</th>\n",
       "      <td>sequential feature selector (logistic regression)</td>\n",
       "      <td>10</td>\n",
       "      <td>0.89</td>\n",
       "    </tr>\n",
       "  </tbody>\n",
       "</table>\n",
       "</div>"
      ],
      "text/plain": [
       "                            feature_selection_method  features_count  \\\n",
       "0                                                 no              20   \n",
       "1                                 correlation matrix               3   \n",
       "2                    low variance threshold removing               3   \n",
       "3                                      select k best               5   \n",
       "4            select from model (logistic regression)              10   \n",
       "5                  random forest feature importances              17   \n",
       "6  sequential feature selector (logistic regression)              10   \n",
       "\n",
       "   cross_val_score  \n",
       "0             0.81  \n",
       "1             0.92  \n",
       "2             0.92  \n",
       "3             0.91  \n",
       "4             0.86  \n",
       "5             0.84  \n",
       "6             0.89  "
      ]
     },
     "execution_count": 40,
     "metadata": {},
     "output_type": "execute_result"
    }
   ],
   "source": [
    "results.append({\n",
    "    'feature_selection_method': 'sequential feature selector (logistic regression)',\n",
    "    'features_count': len(columns),\n",
    "    'cross_val_score': score\n",
    "})\n",
    "pd.DataFrame(results)"
   ]
  },
  {
   "cell_type": "markdown",
   "id": "3703380d",
   "metadata": {},
   "source": [
    "## Выводы"
   ]
  },
  {
   "cell_type": "markdown",
   "id": "42a5d1de",
   "metadata": {},
   "source": [
    "В работы были применены различные методы отбора признаков (features):\n",
    "* Статистические методы\n",
    "    * На основе матрицы корреляции\n",
    "    * Отсечение низковариативных признаков (VarianceThreshold)\n",
    "* Метод на основе дисперсионного анализа (SelectKBest)\n",
    "* Метод на основе использования моделей\n",
    "    * Логистическая регрессия (SelectFromModel(LogisticRegression))\n",
    "    * Случайный лес (RandomForestClassifier)\n",
    "* Последовательный перебор признаков (SequentialFeatureSelector)\n",
    "\n",
    "Сравнительная таблица результатов:"
   ]
  },
  {
   "cell_type": "code",
   "execution_count": 41,
   "id": "3548c74c",
   "metadata": {
    "scrolled": true
   },
   "outputs": [
    {
     "data": {
      "text/html": [
       "<div>\n",
       "<style scoped>\n",
       "    .dataframe tbody tr th:only-of-type {\n",
       "        vertical-align: middle;\n",
       "    }\n",
       "\n",
       "    .dataframe tbody tr th {\n",
       "        vertical-align: top;\n",
       "    }\n",
       "\n",
       "    .dataframe thead th {\n",
       "        text-align: right;\n",
       "    }\n",
       "</style>\n",
       "<table border=\"1\" class=\"dataframe\">\n",
       "  <thead>\n",
       "    <tr style=\"text-align: right;\">\n",
       "      <th></th>\n",
       "      <th>feature_selection_method</th>\n",
       "      <th>features_count</th>\n",
       "      <th>cross_val_score</th>\n",
       "    </tr>\n",
       "  </thead>\n",
       "  <tbody>\n",
       "    <tr>\n",
       "      <th>0</th>\n",
       "      <td>no</td>\n",
       "      <td>20</td>\n",
       "      <td>0.81</td>\n",
       "    </tr>\n",
       "    <tr>\n",
       "      <th>1</th>\n",
       "      <td>correlation matrix</td>\n",
       "      <td>3</td>\n",
       "      <td>0.92</td>\n",
       "    </tr>\n",
       "    <tr>\n",
       "      <th>2</th>\n",
       "      <td>low variance threshold removing</td>\n",
       "      <td>3</td>\n",
       "      <td>0.92</td>\n",
       "    </tr>\n",
       "    <tr>\n",
       "      <th>3</th>\n",
       "      <td>select k best</td>\n",
       "      <td>5</td>\n",
       "      <td>0.91</td>\n",
       "    </tr>\n",
       "    <tr>\n",
       "      <th>4</th>\n",
       "      <td>select from model (logistic regression)</td>\n",
       "      <td>10</td>\n",
       "      <td>0.86</td>\n",
       "    </tr>\n",
       "    <tr>\n",
       "      <th>5</th>\n",
       "      <td>random forest feature importances</td>\n",
       "      <td>17</td>\n",
       "      <td>0.84</td>\n",
       "    </tr>\n",
       "    <tr>\n",
       "      <th>6</th>\n",
       "      <td>sequential feature selector (logistic regression)</td>\n",
       "      <td>10</td>\n",
       "      <td>0.89</td>\n",
       "    </tr>\n",
       "  </tbody>\n",
       "</table>\n",
       "</div>"
      ],
      "text/plain": [
       "                            feature_selection_method  features_count  \\\n",
       "0                                                 no              20   \n",
       "1                                 correlation matrix               3   \n",
       "2                    low variance threshold removing               3   \n",
       "3                                      select k best               5   \n",
       "4            select from model (logistic regression)              10   \n",
       "5                  random forest feature importances              17   \n",
       "6  sequential feature selector (logistic regression)              10   \n",
       "\n",
       "   cross_val_score  \n",
       "0             0.81  \n",
       "1             0.92  \n",
       "2             0.92  \n",
       "3             0.91  \n",
       "4             0.86  \n",
       "5             0.84  \n",
       "6             0.89  "
      ]
     },
     "execution_count": 41,
     "metadata": {},
     "output_type": "execute_result"
    }
   ],
   "source": [
    "pd.DataFrame(results)"
   ]
  },
  {
   "cell_type": "markdown",
   "id": "9acd4649",
   "metadata": {},
   "source": [
    "На основании таблицы результатов можно сделать выводы:\n",
    "* Не все features обязательно нужны, некоторые наоборот создают шум, и их нужно удалять\n",
    "* Даже на 3 признаках модель дает качество выше, чем модель построенная на всех 20 признаках"
   ]
  }
 ],
 "metadata": {
  "kernelspec": {
   "display_name": "Python 3 (ipykernel)",
   "language": "python",
   "name": "python3"
  },
  "language_info": {
   "codemirror_mode": {
    "name": "ipython",
    "version": 3
   },
   "file_extension": ".py",
   "mimetype": "text/x-python",
   "name": "python",
   "nbconvert_exporter": "python",
   "pygments_lexer": "ipython3",
   "version": "3.9.7"
  },
  "toc": {
   "base_numbering": 1,
   "nav_menu": {},
   "number_sections": true,
   "sideBar": true,
   "skip_h1_title": false,
   "title_cell": "Table of Contents",
   "title_sidebar": "Contents",
   "toc_cell": false,
   "toc_position": {},
   "toc_section_display": true,
   "toc_window_display": false
  }
 },
 "nbformat": 4,
 "nbformat_minor": 5
}
