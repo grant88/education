{
 "cells": [
  {
   "cell_type": "code",
   "execution_count": 1,
   "id": "6b9d265d",
   "metadata": {
    "ExecuteTime": {
     "end_time": "2022-08-06T09:08:38.713435Z",
     "start_time": "2022-08-06T09:08:34.816653Z"
    }
   },
   "outputs": [],
   "source": [
    "import pandas as pd\n",
    "from sklearn.datasets import fetch_california_housing\n",
    "from sklearn.linear_model import LinearRegression\n",
    "from sklearn.metrics import r2_score, mean_squared_error\n",
    "from sklearn.model_selection import train_test_split\n",
    "import matplotlib.pyplot as plt\n",
    "import seaborn as sns\n",
    "from math import log"
   ]
  },
  {
   "cell_type": "markdown",
   "id": "2c65248e",
   "metadata": {},
   "source": [
    "# Подгрузим данные об объектах недвижимости в Калифорнии"
   ]
  },
  {
   "cell_type": "code",
   "execution_count": 2,
   "id": "8b3d84b7",
   "metadata": {
    "ExecuteTime": {
     "end_time": "2022-08-06T09:08:38.739002Z",
     "start_time": "2022-08-06T09:08:38.715395Z"
    }
   },
   "outputs": [],
   "source": [
    "data = fetch_california_housing(as_frame=True)"
   ]
  },
  {
   "cell_type": "code",
   "execution_count": 3,
   "id": "9a733395",
   "metadata": {
    "ExecuteTime": {
     "end_time": "2022-08-06T09:08:38.774741Z",
     "start_time": "2022-08-06T09:08:38.747375Z"
    }
   },
   "outputs": [
    {
     "name": "stdout",
     "output_type": "stream",
     "text": [
      ".. _california_housing_dataset:\n",
      "\n",
      "California Housing dataset\n",
      "--------------------------\n",
      "\n",
      "**Data Set Characteristics:**\n",
      "\n",
      "    :Number of Instances: 20640\n",
      "\n",
      "    :Number of Attributes: 8 numeric, predictive attributes and the target\n",
      "\n",
      "    :Attribute Information:\n",
      "        - MedInc        median income in block\n",
      "        - HouseAge      median house age in block\n",
      "        - AveRooms      average number of rooms\n",
      "        - AveBedrms     average number of bedrooms\n",
      "        - Population    block population\n",
      "        - AveOccup      average house occupancy\n",
      "        - Latitude      house block latitude\n",
      "        - Longitude     house block longitude\n",
      "\n",
      "    :Missing Attribute Values: None\n",
      "\n",
      "This dataset was obtained from the StatLib repository.\n",
      "http://lib.stat.cmu.edu/datasets/\n",
      "\n",
      "The target variable is the median house value for California districts.\n",
      "\n",
      "This dataset was derived from the 1990 U.S. census, using one row per census\n",
      "block group. A block group is the smallest geographical unit for which the U.S.\n",
      "Census Bureau publishes sample data (a block group typically has a population\n",
      "of 600 to 3,000 people).\n",
      "\n",
      "It can be downloaded/loaded using the\n",
      ":func:`sklearn.datasets.fetch_california_housing` function.\n",
      "\n",
      ".. topic:: References\n",
      "\n",
      "    - Pace, R. Kelley and Ronald Barry, Sparse Spatial Autoregressions,\n",
      "      Statistics and Probability Letters, 33 (1997) 291-297\n",
      "\n"
     ]
    }
   ],
   "source": [
    "print(data.DESCR)"
   ]
  },
  {
   "cell_type": "code",
   "execution_count": 27,
   "id": "a94f8382",
   "metadata": {
    "ExecuteTime": {
     "end_time": "2022-08-06T09:12:56.718927Z",
     "start_time": "2022-08-06T09:12:56.690875Z"
    }
   },
   "outputs": [
    {
     "data": {
      "text/html": [
       "<div>\n",
       "<style scoped>\n",
       "    .dataframe tbody tr th:only-of-type {\n",
       "        vertical-align: middle;\n",
       "    }\n",
       "\n",
       "    .dataframe tbody tr th {\n",
       "        vertical-align: top;\n",
       "    }\n",
       "\n",
       "    .dataframe thead th {\n",
       "        text-align: right;\n",
       "    }\n",
       "</style>\n",
       "<table border=\"1\" class=\"dataframe\">\n",
       "  <thead>\n",
       "    <tr style=\"text-align: right;\">\n",
       "      <th></th>\n",
       "      <th>MedInc</th>\n",
       "      <th>HouseAge</th>\n",
       "      <th>AveRooms</th>\n",
       "      <th>AveBedrms</th>\n",
       "      <th>Population</th>\n",
       "      <th>AveOccup</th>\n",
       "      <th>Latitude</th>\n",
       "      <th>Longitude</th>\n",
       "      <th>MedHouseVal</th>\n",
       "    </tr>\n",
       "  </thead>\n",
       "  <tbody>\n",
       "    <tr>\n",
       "      <th>0</th>\n",
       "      <td>8.3252</td>\n",
       "      <td>41.0</td>\n",
       "      <td>6.984127</td>\n",
       "      <td>1.023810</td>\n",
       "      <td>322.0</td>\n",
       "      <td>2.555556</td>\n",
       "      <td>37.88</td>\n",
       "      <td>-122.23</td>\n",
       "      <td>4.526</td>\n",
       "    </tr>\n",
       "    <tr>\n",
       "      <th>1</th>\n",
       "      <td>8.3014</td>\n",
       "      <td>21.0</td>\n",
       "      <td>6.238137</td>\n",
       "      <td>0.971880</td>\n",
       "      <td>2401.0</td>\n",
       "      <td>2.109842</td>\n",
       "      <td>37.86</td>\n",
       "      <td>-122.22</td>\n",
       "      <td>3.585</td>\n",
       "    </tr>\n",
       "    <tr>\n",
       "      <th>2</th>\n",
       "      <td>7.2574</td>\n",
       "      <td>52.0</td>\n",
       "      <td>8.288136</td>\n",
       "      <td>1.073446</td>\n",
       "      <td>496.0</td>\n",
       "      <td>2.802260</td>\n",
       "      <td>37.85</td>\n",
       "      <td>-122.24</td>\n",
       "      <td>3.521</td>\n",
       "    </tr>\n",
       "    <tr>\n",
       "      <th>3</th>\n",
       "      <td>5.6431</td>\n",
       "      <td>52.0</td>\n",
       "      <td>5.817352</td>\n",
       "      <td>1.073059</td>\n",
       "      <td>558.0</td>\n",
       "      <td>2.547945</td>\n",
       "      <td>37.85</td>\n",
       "      <td>-122.25</td>\n",
       "      <td>3.413</td>\n",
       "    </tr>\n",
       "    <tr>\n",
       "      <th>4</th>\n",
       "      <td>3.8462</td>\n",
       "      <td>52.0</td>\n",
       "      <td>6.281853</td>\n",
       "      <td>1.081081</td>\n",
       "      <td>565.0</td>\n",
       "      <td>2.181467</td>\n",
       "      <td>37.85</td>\n",
       "      <td>-122.25</td>\n",
       "      <td>3.422</td>\n",
       "    </tr>\n",
       "    <tr>\n",
       "      <th>...</th>\n",
       "      <td>...</td>\n",
       "      <td>...</td>\n",
       "      <td>...</td>\n",
       "      <td>...</td>\n",
       "      <td>...</td>\n",
       "      <td>...</td>\n",
       "      <td>...</td>\n",
       "      <td>...</td>\n",
       "      <td>...</td>\n",
       "    </tr>\n",
       "    <tr>\n",
       "      <th>20635</th>\n",
       "      <td>1.5603</td>\n",
       "      <td>25.0</td>\n",
       "      <td>5.045455</td>\n",
       "      <td>1.133333</td>\n",
       "      <td>845.0</td>\n",
       "      <td>2.560606</td>\n",
       "      <td>39.48</td>\n",
       "      <td>-121.09</td>\n",
       "      <td>0.781</td>\n",
       "    </tr>\n",
       "    <tr>\n",
       "      <th>20636</th>\n",
       "      <td>2.5568</td>\n",
       "      <td>18.0</td>\n",
       "      <td>6.114035</td>\n",
       "      <td>1.315789</td>\n",
       "      <td>356.0</td>\n",
       "      <td>3.122807</td>\n",
       "      <td>39.49</td>\n",
       "      <td>-121.21</td>\n",
       "      <td>0.771</td>\n",
       "    </tr>\n",
       "    <tr>\n",
       "      <th>20637</th>\n",
       "      <td>1.7000</td>\n",
       "      <td>17.0</td>\n",
       "      <td>5.205543</td>\n",
       "      <td>1.120092</td>\n",
       "      <td>1007.0</td>\n",
       "      <td>2.325635</td>\n",
       "      <td>39.43</td>\n",
       "      <td>-121.22</td>\n",
       "      <td>0.923</td>\n",
       "    </tr>\n",
       "    <tr>\n",
       "      <th>20638</th>\n",
       "      <td>1.8672</td>\n",
       "      <td>18.0</td>\n",
       "      <td>5.329513</td>\n",
       "      <td>1.171920</td>\n",
       "      <td>741.0</td>\n",
       "      <td>2.123209</td>\n",
       "      <td>39.43</td>\n",
       "      <td>-121.32</td>\n",
       "      <td>0.847</td>\n",
       "    </tr>\n",
       "    <tr>\n",
       "      <th>20639</th>\n",
       "      <td>2.3886</td>\n",
       "      <td>16.0</td>\n",
       "      <td>5.254717</td>\n",
       "      <td>1.162264</td>\n",
       "      <td>1387.0</td>\n",
       "      <td>2.616981</td>\n",
       "      <td>39.37</td>\n",
       "      <td>-121.24</td>\n",
       "      <td>0.894</td>\n",
       "    </tr>\n",
       "  </tbody>\n",
       "</table>\n",
       "<p>20640 rows × 9 columns</p>\n",
       "</div>"
      ],
      "text/plain": [
       "       MedInc  HouseAge  AveRooms  AveBedrms  Population  AveOccup  Latitude  \\\n",
       "0      8.3252      41.0  6.984127   1.023810       322.0  2.555556     37.88   \n",
       "1      8.3014      21.0  6.238137   0.971880      2401.0  2.109842     37.86   \n",
       "2      7.2574      52.0  8.288136   1.073446       496.0  2.802260     37.85   \n",
       "3      5.6431      52.0  5.817352   1.073059       558.0  2.547945     37.85   \n",
       "4      3.8462      52.0  6.281853   1.081081       565.0  2.181467     37.85   \n",
       "...       ...       ...       ...        ...         ...       ...       ...   \n",
       "20635  1.5603      25.0  5.045455   1.133333       845.0  2.560606     39.48   \n",
       "20636  2.5568      18.0  6.114035   1.315789       356.0  3.122807     39.49   \n",
       "20637  1.7000      17.0  5.205543   1.120092      1007.0  2.325635     39.43   \n",
       "20638  1.8672      18.0  5.329513   1.171920       741.0  2.123209     39.43   \n",
       "20639  2.3886      16.0  5.254717   1.162264      1387.0  2.616981     39.37   \n",
       "\n",
       "       Longitude  MedHouseVal  \n",
       "0        -122.23        4.526  \n",
       "1        -122.22        3.585  \n",
       "2        -122.24        3.521  \n",
       "3        -122.25        3.413  \n",
       "4        -122.25        3.422  \n",
       "...          ...          ...  \n",
       "20635    -121.09        0.781  \n",
       "20636    -121.21        0.771  \n",
       "20637    -121.22        0.923  \n",
       "20638    -121.32        0.847  \n",
       "20639    -121.24        0.894  \n",
       "\n",
       "[20640 rows x 9 columns]"
      ]
     },
     "execution_count": 27,
     "metadata": {},
     "output_type": "execute_result"
    }
   ],
   "source": [
    "df = data.frame\n",
    "df"
   ]
  },
  {
   "cell_type": "markdown",
   "id": "a960b5b7",
   "metadata": {},
   "source": [
    "# Проверим данные на наличие пропусков"
   ]
  },
  {
   "cell_type": "code",
   "execution_count": 5,
   "id": "41699496",
   "metadata": {
    "ExecuteTime": {
     "end_time": "2022-08-06T09:08:38.804188Z",
     "start_time": "2022-08-06T09:08:38.785803Z"
    }
   },
   "outputs": [
    {
     "name": "stdout",
     "output_type": "stream",
     "text": [
      "<class 'pandas.core.frame.DataFrame'>\n",
      "RangeIndex: 20640 entries, 0 to 20639\n",
      "Data columns (total 9 columns):\n",
      " #   Column       Non-Null Count  Dtype  \n",
      "---  ------       --------------  -----  \n",
      " 0   MedInc       20640 non-null  float64\n",
      " 1   HouseAge     20640 non-null  float64\n",
      " 2   AveRooms     20640 non-null  float64\n",
      " 3   AveBedrms    20640 non-null  float64\n",
      " 4   Population   20640 non-null  float64\n",
      " 5   AveOccup     20640 non-null  float64\n",
      " 6   Latitude     20640 non-null  float64\n",
      " 7   Longitude    20640 non-null  float64\n",
      " 8   MedHouseVal  20640 non-null  float64\n",
      "dtypes: float64(9)\n",
      "memory usage: 1.4 MB\n"
     ]
    }
   ],
   "source": [
    "df.info()"
   ]
  },
  {
   "cell_type": "code",
   "execution_count": 6,
   "id": "caaa28f3",
   "metadata": {
    "ExecuteTime": {
     "end_time": "2022-08-06T09:08:38.864942Z",
     "start_time": "2022-08-06T09:08:38.805151Z"
    }
   },
   "outputs": [
    {
     "data": {
      "text/html": [
       "<div>\n",
       "<style scoped>\n",
       "    .dataframe tbody tr th:only-of-type {\n",
       "        vertical-align: middle;\n",
       "    }\n",
       "\n",
       "    .dataframe tbody tr th {\n",
       "        vertical-align: top;\n",
       "    }\n",
       "\n",
       "    .dataframe thead th {\n",
       "        text-align: right;\n",
       "    }\n",
       "</style>\n",
       "<table border=\"1\" class=\"dataframe\">\n",
       "  <thead>\n",
       "    <tr style=\"text-align: right;\">\n",
       "      <th></th>\n",
       "      <th>count</th>\n",
       "      <th>mean</th>\n",
       "      <th>std</th>\n",
       "      <th>min</th>\n",
       "      <th>25%</th>\n",
       "      <th>50%</th>\n",
       "      <th>75%</th>\n",
       "      <th>max</th>\n",
       "    </tr>\n",
       "  </thead>\n",
       "  <tbody>\n",
       "    <tr>\n",
       "      <th>MedInc</th>\n",
       "      <td>20640.0</td>\n",
       "      <td>3.870671</td>\n",
       "      <td>1.899822</td>\n",
       "      <td>0.499900</td>\n",
       "      <td>2.563400</td>\n",
       "      <td>3.534800</td>\n",
       "      <td>4.743250</td>\n",
       "      <td>15.000100</td>\n",
       "    </tr>\n",
       "    <tr>\n",
       "      <th>HouseAge</th>\n",
       "      <td>20640.0</td>\n",
       "      <td>28.639486</td>\n",
       "      <td>12.585558</td>\n",
       "      <td>1.000000</td>\n",
       "      <td>18.000000</td>\n",
       "      <td>29.000000</td>\n",
       "      <td>37.000000</td>\n",
       "      <td>52.000000</td>\n",
       "    </tr>\n",
       "    <tr>\n",
       "      <th>AveRooms</th>\n",
       "      <td>20640.0</td>\n",
       "      <td>5.429000</td>\n",
       "      <td>2.474173</td>\n",
       "      <td>0.846154</td>\n",
       "      <td>4.440716</td>\n",
       "      <td>5.229129</td>\n",
       "      <td>6.052381</td>\n",
       "      <td>141.909091</td>\n",
       "    </tr>\n",
       "    <tr>\n",
       "      <th>AveBedrms</th>\n",
       "      <td>20640.0</td>\n",
       "      <td>1.096675</td>\n",
       "      <td>0.473911</td>\n",
       "      <td>0.333333</td>\n",
       "      <td>1.006079</td>\n",
       "      <td>1.048780</td>\n",
       "      <td>1.099526</td>\n",
       "      <td>34.066667</td>\n",
       "    </tr>\n",
       "    <tr>\n",
       "      <th>Population</th>\n",
       "      <td>20640.0</td>\n",
       "      <td>1425.476744</td>\n",
       "      <td>1132.462122</td>\n",
       "      <td>3.000000</td>\n",
       "      <td>787.000000</td>\n",
       "      <td>1166.000000</td>\n",
       "      <td>1725.000000</td>\n",
       "      <td>35682.000000</td>\n",
       "    </tr>\n",
       "    <tr>\n",
       "      <th>AveOccup</th>\n",
       "      <td>20640.0</td>\n",
       "      <td>3.070655</td>\n",
       "      <td>10.386050</td>\n",
       "      <td>0.692308</td>\n",
       "      <td>2.429741</td>\n",
       "      <td>2.818116</td>\n",
       "      <td>3.282261</td>\n",
       "      <td>1243.333333</td>\n",
       "    </tr>\n",
       "    <tr>\n",
       "      <th>Latitude</th>\n",
       "      <td>20640.0</td>\n",
       "      <td>35.631861</td>\n",
       "      <td>2.135952</td>\n",
       "      <td>32.540000</td>\n",
       "      <td>33.930000</td>\n",
       "      <td>34.260000</td>\n",
       "      <td>37.710000</td>\n",
       "      <td>41.950000</td>\n",
       "    </tr>\n",
       "    <tr>\n",
       "      <th>Longitude</th>\n",
       "      <td>20640.0</td>\n",
       "      <td>-119.569704</td>\n",
       "      <td>2.003532</td>\n",
       "      <td>-124.350000</td>\n",
       "      <td>-121.800000</td>\n",
       "      <td>-118.490000</td>\n",
       "      <td>-118.010000</td>\n",
       "      <td>-114.310000</td>\n",
       "    </tr>\n",
       "    <tr>\n",
       "      <th>MedHouseVal</th>\n",
       "      <td>20640.0</td>\n",
       "      <td>2.068558</td>\n",
       "      <td>1.153956</td>\n",
       "      <td>0.149990</td>\n",
       "      <td>1.196000</td>\n",
       "      <td>1.797000</td>\n",
       "      <td>2.647250</td>\n",
       "      <td>5.000010</td>\n",
       "    </tr>\n",
       "  </tbody>\n",
       "</table>\n",
       "</div>"
      ],
      "text/plain": [
       "               count         mean          std         min         25%  \\\n",
       "MedInc       20640.0     3.870671     1.899822    0.499900    2.563400   \n",
       "HouseAge     20640.0    28.639486    12.585558    1.000000   18.000000   \n",
       "AveRooms     20640.0     5.429000     2.474173    0.846154    4.440716   \n",
       "AveBedrms    20640.0     1.096675     0.473911    0.333333    1.006079   \n",
       "Population   20640.0  1425.476744  1132.462122    3.000000  787.000000   \n",
       "AveOccup     20640.0     3.070655    10.386050    0.692308    2.429741   \n",
       "Latitude     20640.0    35.631861     2.135952   32.540000   33.930000   \n",
       "Longitude    20640.0  -119.569704     2.003532 -124.350000 -121.800000   \n",
       "MedHouseVal  20640.0     2.068558     1.153956    0.149990    1.196000   \n",
       "\n",
       "                     50%          75%           max  \n",
       "MedInc          3.534800     4.743250     15.000100  \n",
       "HouseAge       29.000000    37.000000     52.000000  \n",
       "AveRooms        5.229129     6.052381    141.909091  \n",
       "AveBedrms       1.048780     1.099526     34.066667  \n",
       "Population   1166.000000  1725.000000  35682.000000  \n",
       "AveOccup        2.818116     3.282261   1243.333333  \n",
       "Latitude       34.260000    37.710000     41.950000  \n",
       "Longitude    -118.490000  -118.010000   -114.310000  \n",
       "MedHouseVal     1.797000     2.647250      5.000010  "
      ]
     },
     "execution_count": 6,
     "metadata": {},
     "output_type": "execute_result"
    }
   ],
   "source": [
    "df.describe().T"
   ]
  },
  {
   "cell_type": "markdown",
   "id": "c761687b",
   "metadata": {},
   "source": [
    "В данных нет пропусков"
   ]
  },
  {
   "cell_type": "markdown",
   "id": "06feaa48",
   "metadata": {},
   "source": [
    "# Функция построения модели"
   ]
  },
  {
   "cell_type": "markdown",
   "id": "053fa24c",
   "metadata": {},
   "source": [
    "* Функция получает на вход датасет и комментарий.\n",
    "* Датасет разбивается на train, test части.\n",
    "* Строится модель линейной регрессии.\n",
    "* Для train, test датасетов производится подсчет метрик качества модели:\n",
    "    * Model score\n",
    "    * RMSE\n",
    "    * R2 score"
   ]
  },
  {
   "cell_type": "code",
   "execution_count": 7,
   "id": "0998e000",
   "metadata": {
    "ExecuteTime": {
     "end_time": "2022-08-06T09:08:38.885653Z",
     "start_time": "2022-08-06T09:08:38.866310Z"
    }
   },
   "outputs": [],
   "source": [
    "def get_model_results(df, comment=''):\n",
    "    \"\"\"Построение модели линейной регрессии\"\"\"\n",
    "\n",
    "    # выделение таргета из датасета\n",
    "    df_data = df.drop(columns=['MedHouseVal'])\n",
    "    df_target = df['MedHouseVal']\n",
    "\n",
    "    # разбиение на train, test\n",
    "    X_train, X_test, Y_train, Y_test = train_test_split(df_data, df_target, test_size=0.2, random_state=0)\n",
    "    \n",
    "    # Обучение модели на обучающей выборке\n",
    "    model = LinearRegression()\n",
    "    model.fit(X_train, Y_train)\n",
    "    y_pred_train = model.predict(X_train)\n",
    "    y_pred_test = model.predict(X_test)\n",
    "\n",
    "    # Вычисление метрик RMSE, R2 на обучающем и тестовом множестве.\n",
    "    result = {\n",
    "        'model': 'LinearRegression',\n",
    "        'rmse_train': mean_squared_error(Y_train, y_pred_train, squared=False),\n",
    "        'rmse_test': mean_squared_error(Y_test, y_pred_test, squared=False),\n",
    "        'r2_train': r2_score(Y_train, y_pred_train),\n",
    "        'r2_test': r2_score(Y_test, y_pred_test),\n",
    "        'comment': comment\n",
    "    }\n",
    "    return result"
   ]
  },
  {
   "cell_type": "code",
   "execution_count": 8,
   "id": "ae8ae6c0",
   "metadata": {
    "ExecuteTime": {
     "end_time": "2022-08-06T09:08:38.964780Z",
     "start_time": "2022-08-06T09:08:38.887652Z"
    }
   },
   "outputs": [
    {
     "data": {
      "text/plain": [
       "{'model': 'LinearRegression',\n",
       " 'rmse_train': 0.7234924745376036,\n",
       " 'rmse_test': 0.7273129773603123,\n",
       " 'r2_train': 0.6088968118672868,\n",
       " 'r2_test': 0.5943232652466193,\n",
       " 'comment': 'before_changes'}"
      ]
     },
     "execution_count": 8,
     "metadata": {},
     "output_type": "execute_result"
    }
   ],
   "source": [
    "common_results = []\n",
    "current_result = get_model_results(df, 'before_changes')\n",
    "common_results.append(current_result)\n",
    "current_result"
   ]
  },
  {
   "cell_type": "markdown",
   "id": "9485c23a",
   "metadata": {},
   "source": [
    "# Построим график распределения целевой переменной"
   ]
  },
  {
   "cell_type": "code",
   "execution_count": 9,
   "id": "a9e138a9",
   "metadata": {
    "ExecuteTime": {
     "end_time": "2022-08-06T09:08:39.233182Z",
     "start_time": "2022-08-06T09:08:38.966788Z"
    }
   },
   "outputs": [
    {
     "data": {
      "image/png": "[encoded data removed]",
      "text/plain": [
       "<Figure size 720x720 with 1 Axes>"
      ]
     },
     "metadata": {
      "needs_background": "light"
     },
     "output_type": "display_data"
    }
   ],
   "source": [
    "plt.figure(figsize=(10, 10))\n",
    "plt.hist(data.target, bins=50)\n",
    "plt.title('Target histogram')\n",
    "plt.xlabel('MedHouseVal')\n",
    "plt.ylabel('Count')\n",
    "plt.show()"
   ]
  },
  {
   "cell_type": "code",
   "execution_count": 10,
   "id": "47fd71a5",
   "metadata": {
    "ExecuteTime": {
     "end_time": "2022-08-06T09:08:39.348446Z",
     "start_time": "2022-08-06T09:08:39.234567Z"
    }
   },
   "outputs": [
    {
     "data": {
      "image/png": "[encoded data removed]",
      "text/plain": [
       "<Figure size 720x720 with 1 Axes>"
      ]
     },
     "metadata": {
      "needs_background": "light"
     },
     "output_type": "display_data"
    }
   ],
   "source": [
    "plt.figure(figsize=(10, 10))\n",
    "plt.boxplot(data.target)\n",
    "plt.title('Target boxplot')\n",
    "plt.xlabel('MedHouseVal')\n",
    "plt.show()"
   ]
  },
  {
   "cell_type": "code",
   "execution_count": 11,
   "id": "7b6434c8",
   "metadata": {
    "ExecuteTime": {
     "end_time": "2022-08-06T09:08:39.368145Z",
     "start_time": "2022-08-06T09:08:39.350447Z"
    }
   },
   "outputs": [
    {
     "data": {
      "text/plain": [
       "5.00001    965\n",
       "1.37500    122\n",
       "1.62500    117\n",
       "1.12500    103\n",
       "1.87500     93\n",
       "          ... \n",
       "3.59200      1\n",
       "0.54900      1\n",
       "3.77600      1\n",
       "0.81200      1\n",
       "0.47000      1\n",
       "Name: MedHouseVal, Length: 3842, dtype: int64"
      ]
     },
     "execution_count": 11,
     "metadata": {},
     "output_type": "execute_result"
    }
   ],
   "source": [
    "data.target.value_counts()"
   ]
  },
  {
   "cell_type": "code",
   "execution_count": 12,
   "id": "a49207c5",
   "metadata": {
    "ExecuteTime": {
     "end_time": "2022-08-06T09:08:39.411703Z",
     "start_time": "2022-08-06T09:08:39.372150Z"
    }
   },
   "outputs": [
    {
     "data": {
      "text/html": [
       "<div>\n",
       "<style scoped>\n",
       "    .dataframe tbody tr th:only-of-type {\n",
       "        vertical-align: middle;\n",
       "    }\n",
       "\n",
       "    .dataframe tbody tr th {\n",
       "        vertical-align: top;\n",
       "    }\n",
       "\n",
       "    .dataframe thead th {\n",
       "        text-align: right;\n",
       "    }\n",
       "</style>\n",
       "<table border=\"1\" class=\"dataframe\">\n",
       "  <thead>\n",
       "    <tr style=\"text-align: right;\">\n",
       "      <th></th>\n",
       "      <th>count</th>\n",
       "      <th>mean</th>\n",
       "      <th>std</th>\n",
       "      <th>min</th>\n",
       "      <th>25%</th>\n",
       "      <th>50%</th>\n",
       "      <th>75%</th>\n",
       "      <th>max</th>\n",
       "    </tr>\n",
       "  </thead>\n",
       "  <tbody>\n",
       "    <tr>\n",
       "      <th>MedInc</th>\n",
       "      <td>965.0</td>\n",
       "      <td>7.825123</td>\n",
       "      <td>3.245021e+00</td>\n",
       "      <td>0.499900</td>\n",
       "      <td>5.239100</td>\n",
       "      <td>7.719700</td>\n",
       "      <td>10.112200</td>\n",
       "      <td>15.000100</td>\n",
       "    </tr>\n",
       "    <tr>\n",
       "      <th>HouseAge</th>\n",
       "      <td>965.0</td>\n",
       "      <td>33.802073</td>\n",
       "      <td>1.302779e+01</td>\n",
       "      <td>2.000000</td>\n",
       "      <td>24.000000</td>\n",
       "      <td>34.000000</td>\n",
       "      <td>44.000000</td>\n",
       "      <td>52.000000</td>\n",
       "    </tr>\n",
       "    <tr>\n",
       "      <th>AveRooms</th>\n",
       "      <td>965.0</td>\n",
       "      <td>6.817436</td>\n",
       "      <td>4.666195e+00</td>\n",
       "      <td>1.824719</td>\n",
       "      <td>5.505593</td>\n",
       "      <td>6.884058</td>\n",
       "      <td>7.893733</td>\n",
       "      <td>141.909091</td>\n",
       "    </tr>\n",
       "    <tr>\n",
       "      <th>AveBedrms</th>\n",
       "      <td>965.0</td>\n",
       "      <td>1.097833</td>\n",
       "      <td>8.011475e-01</td>\n",
       "      <td>0.500000</td>\n",
       "      <td>1.009554</td>\n",
       "      <td>1.052227</td>\n",
       "      <td>1.102450</td>\n",
       "      <td>25.636364</td>\n",
       "    </tr>\n",
       "    <tr>\n",
       "      <th>Population</th>\n",
       "      <td>965.0</td>\n",
       "      <td>1112.808290</td>\n",
       "      <td>8.133218e+02</td>\n",
       "      <td>13.000000</td>\n",
       "      <td>636.000000</td>\n",
       "      <td>927.000000</td>\n",
       "      <td>1347.000000</td>\n",
       "      <td>7431.000000</td>\n",
       "    </tr>\n",
       "    <tr>\n",
       "      <th>AveOccup</th>\n",
       "      <td>965.0</td>\n",
       "      <td>2.570442</td>\n",
       "      <td>1.492767e+00</td>\n",
       "      <td>1.275000</td>\n",
       "      <td>2.079710</td>\n",
       "      <td>2.518789</td>\n",
       "      <td>2.840580</td>\n",
       "      <td>41.214286</td>\n",
       "    </tr>\n",
       "    <tr>\n",
       "      <th>Latitude</th>\n",
       "      <td>965.0</td>\n",
       "      <td>35.225751</td>\n",
       "      <td>1.783949e+00</td>\n",
       "      <td>32.680000</td>\n",
       "      <td>33.970000</td>\n",
       "      <td>34.130000</td>\n",
       "      <td>37.400000</td>\n",
       "      <td>38.910000</td>\n",
       "    </tr>\n",
       "    <tr>\n",
       "      <th>Longitude</th>\n",
       "      <td>965.0</td>\n",
       "      <td>-119.702477</td>\n",
       "      <td>1.946521e+00</td>\n",
       "      <td>-122.640000</td>\n",
       "      <td>-122.120000</td>\n",
       "      <td>-118.480000</td>\n",
       "      <td>-118.330000</td>\n",
       "      <td>-116.430000</td>\n",
       "    </tr>\n",
       "    <tr>\n",
       "      <th>MedHouseVal</th>\n",
       "      <td>965.0</td>\n",
       "      <td>5.000010</td>\n",
       "      <td>3.910011e-14</td>\n",
       "      <td>5.000010</td>\n",
       "      <td>5.000010</td>\n",
       "      <td>5.000010</td>\n",
       "      <td>5.000010</td>\n",
       "      <td>5.000010</td>\n",
       "    </tr>\n",
       "  </tbody>\n",
       "</table>\n",
       "</div>"
      ],
      "text/plain": [
       "             count         mean           std         min         25%  \\\n",
       "MedInc       965.0     7.825123  3.245021e+00    0.499900    5.239100   \n",
       "HouseAge     965.0    33.802073  1.302779e+01    2.000000   24.000000   \n",
       "AveRooms     965.0     6.817436  4.666195e+00    1.824719    5.505593   \n",
       "AveBedrms    965.0     1.097833  8.011475e-01    0.500000    1.009554   \n",
       "Population   965.0  1112.808290  8.133218e+02   13.000000  636.000000   \n",
       "AveOccup     965.0     2.570442  1.492767e+00    1.275000    2.079710   \n",
       "Latitude     965.0    35.225751  1.783949e+00   32.680000   33.970000   \n",
       "Longitude    965.0  -119.702477  1.946521e+00 -122.640000 -122.120000   \n",
       "MedHouseVal  965.0     5.000010  3.910011e-14    5.000010    5.000010   \n",
       "\n",
       "                    50%          75%          max  \n",
       "MedInc         7.719700    10.112200    15.000100  \n",
       "HouseAge      34.000000    44.000000    52.000000  \n",
       "AveRooms       6.884058     7.893733   141.909091  \n",
       "AveBedrms      1.052227     1.102450    25.636364  \n",
       "Population   927.000000  1347.000000  7431.000000  \n",
       "AveOccup       2.518789     2.840580    41.214286  \n",
       "Latitude      34.130000    37.400000    38.910000  \n",
       "Longitude   -118.480000  -118.330000  -116.430000  \n",
       "MedHouseVal    5.000010     5.000010     5.000010  "
      ]
     },
     "execution_count": 12,
     "metadata": {},
     "output_type": "execute_result"
    }
   ],
   "source": [
    "df[df.MedHouseVal > 5.0].describe().T"
   ]
  },
  {
   "cell_type": "markdown",
   "id": "bfaa5963",
   "metadata": {
    "ExecuteTime": {
     "end_time": "2022-08-06T07:06:35.550262Z",
     "start_time": "2022-08-06T07:06:35.534765Z"
    }
   },
   "source": [
    "Видно, что в целевой переменной имеются выбросы. Предположительно, все самые дорогие объекты уже привели к некому медианному/среднему значению около 5. Возможно, это недвижимость в celebrity районе неподалеку от Beverly Hills, Bel Air, Hollywood. Если взять медианные значения долготы и широты и посмотреть место на географической карте, то это подтверждает догадку"
   ]
  },
  {
   "cell_type": "markdown",
   "id": "aaa39b6e",
   "metadata": {},
   "source": [
    "# Посчитаем и выведем корреляционную матрицу"
   ]
  },
  {
   "cell_type": "code",
   "execution_count": 13,
   "id": "64ac643f",
   "metadata": {
    "ExecuteTime": {
     "end_time": "2022-08-06T09:08:39.899040Z",
     "start_time": "2022-08-06T09:08:39.413383Z"
    }
   },
   "outputs": [
    {
     "data": {
      "image/png": "[encoded data removed]",
      "text/plain": [
       "<Figure size 1152x864 with 2 Axes>"
      ]
     },
     "metadata": {
      "needs_background": "light"
     },
     "output_type": "display_data"
    }
   ],
   "source": [
    "plt.figure(figsize=(16, 12))\n",
    "sns.heatmap(df.corr(), annot=True)\n",
    "plt.title('Correlation matrix')\n",
    "plt.show()"
   ]
  },
  {
   "cell_type": "markdown",
   "id": "fdcfa64a",
   "metadata": {},
   "source": [
    "Сильная корреляция:\n",
    "* Latitude - Longitude -0.92\n",
    "* AveRooms - AveBedrms 0.85\n",
    "* MedHouseVal(таргет) - MedInc 0.69\n",
    "* MedInc - AveRooms 0.33\n",
    "* HouseAge - Population -0.3\n",
    "* HouseAge - AveRooms -0.15\n",
    "* AveRooms - MedHouseVal(таргет) 0.15\n",
    "* Latitude - MedHouseVal(таргет) -0.14"
   ]
  },
  {
   "cell_type": "markdown",
   "id": "53b174f7",
   "metadata": {},
   "source": [
    "Удалим признаки:\n",
    "+ AveBedrms, т.к. сильно корреллирует с AveRooms, но AveRooms лучше коррелирует с таргетом"
   ]
  },
  {
   "cell_type": "code",
   "execution_count": 14,
   "id": "843d9554",
   "metadata": {
    "ExecuteTime": {
     "end_time": "2022-08-06T09:08:39.914765Z",
     "start_time": "2022-08-06T09:08:39.902152Z"
    }
   },
   "outputs": [],
   "source": [
    "df = data.frame.drop(columns=['AveBedrms'])"
   ]
  },
  {
   "cell_type": "markdown",
   "id": "f45f7ee9",
   "metadata": {},
   "source": [
    "Заново построим модель и рассчитаем метрики качества"
   ]
  },
  {
   "cell_type": "code",
   "execution_count": 15,
   "id": "c7b30d51",
   "metadata": {
    "ExecuteTime": {
     "end_time": "2022-08-06T09:08:39.977618Z",
     "start_time": "2022-08-06T09:08:39.916869Z"
    }
   },
   "outputs": [
    {
     "data": {
      "text/plain": [
       "{'model': 'LinearRegression',\n",
       " 'rmse_train': 0.7314188174268145,\n",
       " 'rmse_test': 0.7414501124382495,\n",
       " 'r2_train': 0.6002802761968506,\n",
       " 'r2_test': 0.5783993232750753,\n",
       " 'comment': 'after_removing_cols'}"
      ]
     },
     "execution_count": 15,
     "metadata": {},
     "output_type": "execute_result"
    }
   ],
   "source": [
    "current_result = get_model_results(df, 'after_removing_cols')\n",
    "common_results.append(current_result)\n",
    "current_result"
   ]
  },
  {
   "cell_type": "code",
   "execution_count": 16,
   "id": "572faa0e",
   "metadata": {
    "ExecuteTime": {
     "end_time": "2022-08-06T09:08:39.998561Z",
     "start_time": "2022-08-06T09:08:39.979808Z"
    }
   },
   "outputs": [
    {
     "data": {
      "text/html": [
       "<div>\n",
       "<style scoped>\n",
       "    .dataframe tbody tr th:only-of-type {\n",
       "        vertical-align: middle;\n",
       "    }\n",
       "\n",
       "    .dataframe tbody tr th {\n",
       "        vertical-align: top;\n",
       "    }\n",
       "\n",
       "    .dataframe thead th {\n",
       "        text-align: right;\n",
       "    }\n",
       "</style>\n",
       "<table border=\"1\" class=\"dataframe\">\n",
       "  <thead>\n",
       "    <tr style=\"text-align: right;\">\n",
       "      <th></th>\n",
       "      <th>model</th>\n",
       "      <th>rmse_train</th>\n",
       "      <th>rmse_test</th>\n",
       "      <th>r2_train</th>\n",
       "      <th>r2_test</th>\n",
       "      <th>comment</th>\n",
       "    </tr>\n",
       "  </thead>\n",
       "  <tbody>\n",
       "    <tr>\n",
       "      <th>0</th>\n",
       "      <td>LinearRegression</td>\n",
       "      <td>0.723492</td>\n",
       "      <td>0.727313</td>\n",
       "      <td>0.608897</td>\n",
       "      <td>0.594323</td>\n",
       "      <td>before_changes</td>\n",
       "    </tr>\n",
       "    <tr>\n",
       "      <th>1</th>\n",
       "      <td>LinearRegression</td>\n",
       "      <td>0.731419</td>\n",
       "      <td>0.741450</td>\n",
       "      <td>0.600280</td>\n",
       "      <td>0.578399</td>\n",
       "      <td>after_removing_cols</td>\n",
       "    </tr>\n",
       "  </tbody>\n",
       "</table>\n",
       "</div>"
      ],
      "text/plain": [
       "              model  rmse_train  rmse_test  r2_train   r2_test  \\\n",
       "0  LinearRegression    0.723492   0.727313  0.608897  0.594323   \n",
       "1  LinearRegression    0.731419   0.741450  0.600280  0.578399   \n",
       "\n",
       "               comment  \n",
       "0       before_changes  \n",
       "1  after_removing_cols  "
      ]
     },
     "execution_count": 16,
     "metadata": {},
     "output_type": "execute_result"
    }
   ],
   "source": [
    "pd.DataFrame(common_results)"
   ]
  },
  {
   "cell_type": "markdown",
   "id": "bc6d5a18",
   "metadata": {},
   "source": [
    "# Посмотрим на выбросы и при необходимости удалим их"
   ]
  },
  {
   "cell_type": "code",
   "execution_count": 17,
   "id": "184b5bb5",
   "metadata": {
    "ExecuteTime": {
     "end_time": "2022-08-06T09:08:41.579809Z",
     "start_time": "2022-08-06T09:08:40.000594Z"
    },
    "scrolled": false
   },
   "outputs": [
    {
     "name": "stdout",
     "output_type": "stream",
     "text": [
      "column='MedInc'\n"
     ]
    },
    {
     "data": {
      "image/png": "[encoded data removed]",
      "text/plain": [
       "<Figure size 1008x504 with 2 Axes>"
      ]
     },
     "metadata": {
      "needs_background": "light"
     },
     "output_type": "display_data"
    },
    {
     "name": "stdout",
     "output_type": "stream",
     "text": [
      "column='HouseAge'\n"
     ]
    },
    {
     "data": {
      "image/png": "[encoded data removed]",
      "text/plain": [
       "<Figure size 1008x504 with 2 Axes>"
      ]
     },
     "metadata": {
      "needs_background": "light"
     },
     "output_type": "display_data"
    },
    {
     "name": "stdout",
     "output_type": "stream",
     "text": [
      "column='AveRooms'\n"
     ]
    },
    {
     "data": {
      "image/png": "[encoded data removed]",
      "text/plain": [
       "<Figure size 1008x504 with 2 Axes>"
      ]
     },
     "metadata": {
      "needs_background": "light"
     },
     "output_type": "display_data"
    },
    {
     "name": "stdout",
     "output_type": "stream",
     "text": [
      "column='Population'\n"
     ]
    },
    {
     "data": {
      "image/png": "[encoded data removed]",
      "text/plain": [
       "<Figure size 1008x504 with 2 Axes>"
      ]
     },
     "metadata": {
      "needs_background": "light"
     },
     "output_type": "display_data"
    },
    {
     "name": "stdout",
     "output_type": "stream",
     "text": [
      "column='AveOccup'\n"
     ]
    },
    {
     "data": {
      "image/png": "[encoded data removed]",
      "text/plain": [
       "<Figure size 1008x504 with 2 Axes>"
      ]
     },
     "metadata": {
      "needs_background": "light"
     },
     "output_type": "display_data"
    },
    {
     "name": "stdout",
     "output_type": "stream",
     "text": [
      "column='Latitude'\n"
     ]
    },
    {
     "data": {
      "image/png": "[encoded data removed]",
      "text/plain": [
       "<Figure size 1008x504 with 2 Axes>"
      ]
     },
     "metadata": {
      "needs_background": "light"
     },
     "output_type": "display_data"
    },
    {
     "name": "stdout",
     "output_type": "stream",
     "text": [
      "column='Longitude'\n"
     ]
    },
    {
     "data": {
      "image/png": "[encoded data removed]",
      "text/plain": [
       "<Figure size 1008x504 with 2 Axes>"
      ]
     },
     "metadata": {
      "needs_background": "light"
     },
     "output_type": "display_data"
    }
   ],
   "source": [
    "for column in df.drop(columns=['MedHouseVal']).columns:\n",
    "    print(f'{column=}')\n",
    "    f, (ax1, ax2) = plt.subplots(nrows=1, ncols=2, figsize=(14, 7))\n",
    "    ax1.hist(df[column], bins=50)\n",
    "    ax2.boxplot(df[column], showcaps=False )\n",
    "    plt.show()"
   ]
  },
  {
   "cell_type": "markdown",
   "id": "df7c5633",
   "metadata": {},
   "source": [
    "Рассчитаем долю кол-ва строк, которые будут удалены, если удалить выбросы"
   ]
  },
  {
   "cell_type": "code",
   "execution_count": 18,
   "id": "ff581f96",
   "metadata": {
    "ExecuteTime": {
     "end_time": "2022-08-06T09:08:41.588595Z",
     "start_time": "2022-08-06T09:08:41.580810Z"
    }
   },
   "outputs": [
    {
     "data": {
      "text/plain": [
       "0.5910852713178295"
      ]
     },
     "execution_count": 18,
     "metadata": {},
     "output_type": "execute_result"
    }
   ],
   "source": [
    "100*len(df[((df.MedInc >= 14) | (df.AveRooms >= 22) | (df.Population >= 13000) | (df.AveOccup >= 200))]) / len(df)"
   ]
  },
  {
   "cell_type": "markdown",
   "id": "e2dfff40",
   "metadata": {},
   "source": [
    "Удалим выбросы"
   ]
  },
  {
   "cell_type": "code",
   "execution_count": 19,
   "id": "15eeb11a",
   "metadata": {
    "ExecuteTime": {
     "end_time": "2022-08-06T09:08:41.647257Z",
     "start_time": "2022-08-06T09:08:41.589893Z"
    }
   },
   "outputs": [],
   "source": [
    "df = df[((df.MedInc < 14) & (df.AveRooms < 22) & (df.Population < 13000) & (df.AveOccup < 200))]"
   ]
  },
  {
   "cell_type": "markdown",
   "id": "babadbf8",
   "metadata": {},
   "source": [
    "Заново построим модель и рассчитаем метрики качества"
   ]
  },
  {
   "cell_type": "code",
   "execution_count": 20,
   "id": "de781602",
   "metadata": {
    "ExecuteTime": {
     "end_time": "2022-08-06T09:08:41.696161Z",
     "start_time": "2022-08-06T09:08:41.651486Z"
    }
   },
   "outputs": [
    {
     "data": {
      "text/plain": [
       "{'model': 'LinearRegression',\n",
       " 'rmse_train': 0.7069564277022001,\n",
       " 'rmse_test': 0.7137025802611836,\n",
       " 'r2_train': 0.6197307285326796,\n",
       " 'r2_test': 0.6109915074928749,\n",
       " 'comment': 'after_removing_outliers'}"
      ]
     },
     "execution_count": 20,
     "metadata": {},
     "output_type": "execute_result"
    }
   ],
   "source": [
    "current_result = get_model_results(df, 'after_removing_outliers')\n",
    "common_results.append(current_result)\n",
    "current_result"
   ]
  },
  {
   "cell_type": "code",
   "execution_count": 21,
   "id": "c224ffe2",
   "metadata": {
    "ExecuteTime": {
     "end_time": "2022-08-06T09:08:41.720260Z",
     "start_time": "2022-08-06T09:08:41.697625Z"
    },
    "scrolled": true
   },
   "outputs": [
    {
     "data": {
      "text/html": [
       "<div>\n",
       "<style scoped>\n",
       "    .dataframe tbody tr th:only-of-type {\n",
       "        vertical-align: middle;\n",
       "    }\n",
       "\n",
       "    .dataframe tbody tr th {\n",
       "        vertical-align: top;\n",
       "    }\n",
       "\n",
       "    .dataframe thead th {\n",
       "        text-align: right;\n",
       "    }\n",
       "</style>\n",
       "<table border=\"1\" class=\"dataframe\">\n",
       "  <thead>\n",
       "    <tr style=\"text-align: right;\">\n",
       "      <th></th>\n",
       "      <th>model</th>\n",
       "      <th>rmse_train</th>\n",
       "      <th>rmse_test</th>\n",
       "      <th>r2_train</th>\n",
       "      <th>r2_test</th>\n",
       "      <th>comment</th>\n",
       "    </tr>\n",
       "  </thead>\n",
       "  <tbody>\n",
       "    <tr>\n",
       "      <th>0</th>\n",
       "      <td>LinearRegression</td>\n",
       "      <td>0.723492</td>\n",
       "      <td>0.727313</td>\n",
       "      <td>0.608897</td>\n",
       "      <td>0.594323</td>\n",
       "      <td>before_changes</td>\n",
       "    </tr>\n",
       "    <tr>\n",
       "      <th>1</th>\n",
       "      <td>LinearRegression</td>\n",
       "      <td>0.731419</td>\n",
       "      <td>0.741450</td>\n",
       "      <td>0.600280</td>\n",
       "      <td>0.578399</td>\n",
       "      <td>after_removing_cols</td>\n",
       "    </tr>\n",
       "    <tr>\n",
       "      <th>2</th>\n",
       "      <td>LinearRegression</td>\n",
       "      <td>0.706956</td>\n",
       "      <td>0.713703</td>\n",
       "      <td>0.619731</td>\n",
       "      <td>0.610992</td>\n",
       "      <td>after_removing_outliers</td>\n",
       "    </tr>\n",
       "  </tbody>\n",
       "</table>\n",
       "</div>"
      ],
      "text/plain": [
       "              model  rmse_train  rmse_test  r2_train   r2_test  \\\n",
       "0  LinearRegression    0.723492   0.727313  0.608897  0.594323   \n",
       "1  LinearRegression    0.731419   0.741450  0.600280  0.578399   \n",
       "2  LinearRegression    0.706956   0.713703  0.619731  0.610992   \n",
       "\n",
       "                   comment  \n",
       "0           before_changes  \n",
       "1      after_removing_cols  \n",
       "2  after_removing_outliers  "
      ]
     },
     "execution_count": 21,
     "metadata": {},
     "output_type": "execute_result"
    }
   ],
   "source": [
    "pd.DataFrame(common_results)"
   ]
  },
  {
   "cell_type": "markdown",
   "id": "ca38ebf5",
   "metadata": {},
   "source": [
    "# Изменим несколько признаков на выбор математически"
   ]
  },
  {
   "cell_type": "code",
   "execution_count": 22,
   "id": "e0ef5d30",
   "metadata": {
    "ExecuteTime": {
     "end_time": "2022-08-06T09:08:41.776275Z",
     "start_time": "2022-08-06T09:08:41.722234Z"
    }
   },
   "outputs": [],
   "source": [
    "df['MedInc_exp'] = df['MedInc'].apply(lambda x: x**2)\n",
    "\n",
    "df['Population_sqrt'] = df['Population'].apply(lambda x: x**0.5)\n",
    "\n",
    "df['AveRooms_log'] = df['AveRooms'].apply(lambda x: log(x))\n",
    "\n",
    "df['AveOccup_exp'] = df['AveOccup'].apply(lambda x: log(x))"
   ]
  },
  {
   "cell_type": "markdown",
   "id": "c3ccb239",
   "metadata": {},
   "source": [
    "Заново построим модель и рассчитаем метрики качества"
   ]
  },
  {
   "cell_type": "code",
   "execution_count": 23,
   "id": "694be6fa",
   "metadata": {
    "ExecuteTime": {
     "end_time": "2022-08-06T09:08:41.811757Z",
     "start_time": "2022-08-06T09:08:41.777680Z"
    }
   },
   "outputs": [
    {
     "data": {
      "text/plain": [
       "{'model': 'LinearRegression',\n",
       " 'rmse_train': 0.6550262651499388,\n",
       " 'rmse_test': 0.6631672503918854,\n",
       " 'r2_train': 0.6735449682081658,\n",
       " 'r2_test': 0.664130404757685,\n",
       " 'comment': 'after_math'}"
      ]
     },
     "execution_count": 23,
     "metadata": {},
     "output_type": "execute_result"
    }
   ],
   "source": [
    "current_result = get_model_results(df, 'after_math')\n",
    "common_results.append(current_result)\n",
    "current_result"
   ]
  },
  {
   "cell_type": "markdown",
   "id": "857f4da9",
   "metadata": {},
   "source": [
    "# Выводы"
   ]
  },
  {
   "cell_type": "markdown",
   "id": "9d26e377",
   "metadata": {},
   "source": [
    "В работы над данным были последовательно применены преобразования и рассчитаны метрики качества модели после каждого этапа преобразований.\n",
    "\n",
    "Выполненные преобразования:\n",
    "* Удаление коррелирующих столбцов\n",
    "* Удаление выбросов\n",
    "* Математические преобразования"
   ]
  },
  {
   "cell_type": "markdown",
   "id": "eaae3efb",
   "metadata": {},
   "source": [
    "Согласно таблице ниже, можно сделать вывод, что после выполненных преобразований метрики качества в среднем улучшились"
   ]
  },
  {
   "cell_type": "markdown",
   "id": "033bda10",
   "metadata": {},
   "source": [
    "### Таблица метрик качества, после каждого этапа преобразований:"
   ]
  },
  {
   "cell_type": "code",
   "execution_count": 24,
   "id": "2d0d15f5",
   "metadata": {
    "ExecuteTime": {
     "end_time": "2022-08-06T09:08:41.836456Z",
     "start_time": "2022-08-06T09:08:41.813508Z"
    }
   },
   "outputs": [
    {
     "data": {
      "text/html": [
       "<div>\n",
       "<style scoped>\n",
       "    .dataframe tbody tr th:only-of-type {\n",
       "        vertical-align: middle;\n",
       "    }\n",
       "\n",
       "    .dataframe tbody tr th {\n",
       "        vertical-align: top;\n",
       "    }\n",
       "\n",
       "    .dataframe thead th {\n",
       "        text-align: right;\n",
       "    }\n",
       "</style>\n",
       "<table border=\"1\" class=\"dataframe\">\n",
       "  <thead>\n",
       "    <tr style=\"text-align: right;\">\n",
       "      <th></th>\n",
       "      <th>model</th>\n",
       "      <th>rmse_train</th>\n",
       "      <th>rmse_test</th>\n",
       "      <th>r2_train</th>\n",
       "      <th>r2_test</th>\n",
       "      <th>comment</th>\n",
       "    </tr>\n",
       "  </thead>\n",
       "  <tbody>\n",
       "    <tr>\n",
       "      <th>0</th>\n",
       "      <td>LinearRegression</td>\n",
       "      <td>0.723492</td>\n",
       "      <td>0.727313</td>\n",
       "      <td>0.608897</td>\n",
       "      <td>0.594323</td>\n",
       "      <td>before_changes</td>\n",
       "    </tr>\n",
       "    <tr>\n",
       "      <th>1</th>\n",
       "      <td>LinearRegression</td>\n",
       "      <td>0.731419</td>\n",
       "      <td>0.741450</td>\n",
       "      <td>0.600280</td>\n",
       "      <td>0.578399</td>\n",
       "      <td>after_removing_cols</td>\n",
       "    </tr>\n",
       "    <tr>\n",
       "      <th>2</th>\n",
       "      <td>LinearRegression</td>\n",
       "      <td>0.706956</td>\n",
       "      <td>0.713703</td>\n",
       "      <td>0.619731</td>\n",
       "      <td>0.610992</td>\n",
       "      <td>after_removing_outliers</td>\n",
       "    </tr>\n",
       "    <tr>\n",
       "      <th>3</th>\n",
       "      <td>LinearRegression</td>\n",
       "      <td>0.655026</td>\n",
       "      <td>0.663167</td>\n",
       "      <td>0.673545</td>\n",
       "      <td>0.664130</td>\n",
       "      <td>after_math</td>\n",
       "    </tr>\n",
       "  </tbody>\n",
       "</table>\n",
       "</div>"
      ],
      "text/plain": [
       "              model  rmse_train  rmse_test  r2_train   r2_test  \\\n",
       "0  LinearRegression    0.723492   0.727313  0.608897  0.594323   \n",
       "1  LinearRegression    0.731419   0.741450  0.600280  0.578399   \n",
       "2  LinearRegression    0.706956   0.713703  0.619731  0.610992   \n",
       "3  LinearRegression    0.655026   0.663167  0.673545  0.664130   \n",
       "\n",
       "                   comment  \n",
       "0           before_changes  \n",
       "1      after_removing_cols  \n",
       "2  after_removing_outliers  \n",
       "3               after_math  "
      ]
     },
     "execution_count": 24,
     "metadata": {},
     "output_type": "execute_result"
    }
   ],
   "source": [
    "pd.DataFrame(common_results)"
   ]
  },
  {
   "cell_type": "markdown",
   "id": "18300ab7",
   "metadata": {},
   "source": [
    "Видно, что математические преобразования хорошо повлияли на r2 score, хуже на rmse score. Удаление ненужных столбцов хорошо повлияло на rmse score - но хуже на r2 score"
   ]
  },
  {
   "cell_type": "markdown",
   "id": "9afd1357",
   "metadata": {},
   "source": [
    "Для улучшения качества модели можно еще добавить дополнительный столбец, который на основании Долготы и Широты, указывает на то, что район находится неподалеку от Beverly Hills, Bel Air, Hollywood."
   ]
  }
 ],
 "metadata": {
  "kernelspec": {
   "display_name": "Python 3 (ipykernel)",
   "language": "python",
   "name": "python3"
  },
  "language_info": {
   "codemirror_mode": {
    "name": "ipython",
    "version": 3
   },
   "file_extension": ".py",
   "mimetype": "text/x-python",
   "name": "python",
   "nbconvert_exporter": "python",
   "pygments_lexer": "ipython3",
   "version": "3.8.12"
  },
  "toc": {
   "base_numbering": 1,
   "nav_menu": {},
   "number_sections": true,
   "sideBar": true,
   "skip_h1_title": false,
   "title_cell": "Table of Contents",
   "title_sidebar": "Contents",
   "toc_cell": false,
   "toc_position": {},
   "toc_section_display": true,
   "toc_window_display": false
  }
 },
 "nbformat": 4,
 "nbformat_minor": 5
}
