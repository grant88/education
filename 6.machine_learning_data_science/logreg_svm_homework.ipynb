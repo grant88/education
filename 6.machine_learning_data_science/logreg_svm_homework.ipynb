{
 "cells": [
  {
   "cell_type": "code",
   "execution_count": 1,
   "id": "d903cf2e",
   "metadata": {
    "ExecuteTime": {
     "end_time": "2022-07-20T18:29:14.497524Z",
     "start_time": "2022-07-20T18:29:06.696317Z"
    }
   },
   "outputs": [],
   "source": [
    "import numpy as np\n",
    "import pandas as pd\n",
    "import scipy.stats\n",
    "import matplotlib.pyplot as plt\n",
    "import seaborn as sns\n",
    "from sklearn.linear_model import LogisticRegression\n",
    "from sklearn.preprocessing import LabelEncoder, StandardScaler\n",
    "from sklearn.pipeline import make_pipeline\n",
    "from sklearn.model_selection import train_test_split \n",
    "from sklearn.svm import SVC"
   ]
  },
  {
   "cell_type": "markdown",
   "id": "c93cf708",
   "metadata": {},
   "source": [
    "## Загрузим данные и проведем первичный анализ"
   ]
  },
  {
   "cell_type": "code",
   "execution_count": 2,
   "id": "8ef0ae8b",
   "metadata": {
    "ExecuteTime": {
     "end_time": "2022-07-20T18:29:14.718583Z",
     "start_time": "2022-07-20T18:29:14.502458Z"
    }
   },
   "outputs": [],
   "source": [
    "df = pd.read_csv('adult.csv')"
   ]
  },
  {
   "cell_type": "code",
   "execution_count": 3,
   "id": "2e214e37",
   "metadata": {
    "ExecuteTime": {
     "end_time": "2022-07-20T18:29:14.765615Z",
     "start_time": "2022-07-20T18:29:14.724658Z"
    }
   },
   "outputs": [
    {
     "data": {
      "text/html": [
       "<div>\n",
       "<style scoped>\n",
       "    .dataframe tbody tr th:only-of-type {\n",
       "        vertical-align: middle;\n",
       "    }\n",
       "\n",
       "    .dataframe tbody tr th {\n",
       "        vertical-align: top;\n",
       "    }\n",
       "\n",
       "    .dataframe thead th {\n",
       "        text-align: right;\n",
       "    }\n",
       "</style>\n",
       "<table border=\"1\" class=\"dataframe\">\n",
       "  <thead>\n",
       "    <tr style=\"text-align: right;\">\n",
       "      <th></th>\n",
       "      <th>age</th>\n",
       "      <th>workclass</th>\n",
       "      <th>fnlwgt</th>\n",
       "      <th>education</th>\n",
       "      <th>educational-num</th>\n",
       "      <th>marital-status</th>\n",
       "      <th>occupation</th>\n",
       "      <th>relationship</th>\n",
       "      <th>race</th>\n",
       "      <th>gender</th>\n",
       "      <th>capital-gain</th>\n",
       "      <th>capital-loss</th>\n",
       "      <th>hours-per-week</th>\n",
       "      <th>native-country</th>\n",
       "      <th>income</th>\n",
       "    </tr>\n",
       "  </thead>\n",
       "  <tbody>\n",
       "    <tr>\n",
       "      <th>0</th>\n",
       "      <td>25</td>\n",
       "      <td>Private</td>\n",
       "      <td>226802</td>\n",
       "      <td>11th</td>\n",
       "      <td>7</td>\n",
       "      <td>Never-married</td>\n",
       "      <td>Machine-op-inspct</td>\n",
       "      <td>Own-child</td>\n",
       "      <td>Black</td>\n",
       "      <td>Male</td>\n",
       "      <td>0</td>\n",
       "      <td>0</td>\n",
       "      <td>40</td>\n",
       "      <td>United-States</td>\n",
       "      <td>&lt;=50K</td>\n",
       "    </tr>\n",
       "    <tr>\n",
       "      <th>1</th>\n",
       "      <td>38</td>\n",
       "      <td>Private</td>\n",
       "      <td>89814</td>\n",
       "      <td>HS-grad</td>\n",
       "      <td>9</td>\n",
       "      <td>Married-civ-spouse</td>\n",
       "      <td>Farming-fishing</td>\n",
       "      <td>Husband</td>\n",
       "      <td>White</td>\n",
       "      <td>Male</td>\n",
       "      <td>0</td>\n",
       "      <td>0</td>\n",
       "      <td>50</td>\n",
       "      <td>United-States</td>\n",
       "      <td>&lt;=50K</td>\n",
       "    </tr>\n",
       "    <tr>\n",
       "      <th>2</th>\n",
       "      <td>28</td>\n",
       "      <td>Local-gov</td>\n",
       "      <td>336951</td>\n",
       "      <td>Assoc-acdm</td>\n",
       "      <td>12</td>\n",
       "      <td>Married-civ-spouse</td>\n",
       "      <td>Protective-serv</td>\n",
       "      <td>Husband</td>\n",
       "      <td>White</td>\n",
       "      <td>Male</td>\n",
       "      <td>0</td>\n",
       "      <td>0</td>\n",
       "      <td>40</td>\n",
       "      <td>United-States</td>\n",
       "      <td>&gt;50K</td>\n",
       "    </tr>\n",
       "    <tr>\n",
       "      <th>3</th>\n",
       "      <td>44</td>\n",
       "      <td>Private</td>\n",
       "      <td>160323</td>\n",
       "      <td>Some-college</td>\n",
       "      <td>10</td>\n",
       "      <td>Married-civ-spouse</td>\n",
       "      <td>Machine-op-inspct</td>\n",
       "      <td>Husband</td>\n",
       "      <td>Black</td>\n",
       "      <td>Male</td>\n",
       "      <td>7688</td>\n",
       "      <td>0</td>\n",
       "      <td>40</td>\n",
       "      <td>United-States</td>\n",
       "      <td>&gt;50K</td>\n",
       "    </tr>\n",
       "    <tr>\n",
       "      <th>4</th>\n",
       "      <td>18</td>\n",
       "      <td>?</td>\n",
       "      <td>103497</td>\n",
       "      <td>Some-college</td>\n",
       "      <td>10</td>\n",
       "      <td>Never-married</td>\n",
       "      <td>?</td>\n",
       "      <td>Own-child</td>\n",
       "      <td>White</td>\n",
       "      <td>Female</td>\n",
       "      <td>0</td>\n",
       "      <td>0</td>\n",
       "      <td>30</td>\n",
       "      <td>United-States</td>\n",
       "      <td>&lt;=50K</td>\n",
       "    </tr>\n",
       "  </tbody>\n",
       "</table>\n",
       "</div>"
      ],
      "text/plain": [
       "   age  workclass  fnlwgt     education  educational-num      marital-status  \\\n",
       "0   25    Private  226802          11th                7       Never-married   \n",
       "1   38    Private   89814       HS-grad                9  Married-civ-spouse   \n",
       "2   28  Local-gov  336951    Assoc-acdm               12  Married-civ-spouse   \n",
       "3   44    Private  160323  Some-college               10  Married-civ-spouse   \n",
       "4   18          ?  103497  Some-college               10       Never-married   \n",
       "\n",
       "          occupation relationship   race  gender  capital-gain  capital-loss  \\\n",
       "0  Machine-op-inspct    Own-child  Black    Male             0             0   \n",
       "1    Farming-fishing      Husband  White    Male             0             0   \n",
       "2    Protective-serv      Husband  White    Male             0             0   \n",
       "3  Machine-op-inspct      Husband  Black    Male          7688             0   \n",
       "4                  ?    Own-child  White  Female             0             0   \n",
       "\n",
       "   hours-per-week native-country income  \n",
       "0              40  United-States  <=50K  \n",
       "1              50  United-States  <=50K  \n",
       "2              40  United-States   >50K  \n",
       "3              40  United-States   >50K  \n",
       "4              30  United-States  <=50K  "
      ]
     },
     "execution_count": 3,
     "metadata": {},
     "output_type": "execute_result"
    }
   ],
   "source": [
    "df.head()"
   ]
  },
  {
   "cell_type": "code",
   "execution_count": 4,
   "id": "4b377cf6",
   "metadata": {
    "ExecuteTime": {
     "end_time": "2022-07-20T18:29:14.797157Z",
     "start_time": "2022-07-20T18:29:14.770517Z"
    }
   },
   "outputs": [
    {
     "data": {
      "text/plain": [
       "(48842, 15)"
      ]
     },
     "execution_count": 4,
     "metadata": {},
     "output_type": "execute_result"
    }
   ],
   "source": [
    "df.shape"
   ]
  },
  {
   "cell_type": "code",
   "execution_count": 5,
   "id": "64c4553b",
   "metadata": {
    "ExecuteTime": {
     "end_time": "2022-07-20T18:29:14.844159Z",
     "start_time": "2022-07-20T18:29:14.825159Z"
    }
   },
   "outputs": [
    {
     "data": {
      "text/plain": [
       "Index(['age', 'workclass', 'fnlwgt', 'education', 'educational-num',\n",
       "       'marital-status', 'occupation', 'relationship', 'race', 'gender',\n",
       "       'capital-gain', 'capital-loss', 'hours-per-week', 'native-country',\n",
       "       'income'],\n",
       "      dtype='object')"
      ]
     },
     "execution_count": 5,
     "metadata": {},
     "output_type": "execute_result"
    }
   ],
   "source": [
    "df.columns"
   ]
  },
  {
   "cell_type": "markdown",
   "id": "ddf8b5aa",
   "metadata": {},
   "source": [
    "Целевой показатель - уровень дохода имеет 2 значения: <= 50 000, > 50 000 долларов в год."
   ]
  },
  {
   "cell_type": "code",
   "execution_count": 6,
   "id": "693b5c86",
   "metadata": {
    "ExecuteTime": {
     "end_time": "2022-07-20T18:29:14.875193Z",
     "start_time": "2022-07-20T18:29:14.849496Z"
    }
   },
   "outputs": [
    {
     "data": {
      "text/plain": [
       "array(['<=50K', '>50K'], dtype=object)"
      ]
     },
     "execution_count": 6,
     "metadata": {},
     "output_type": "execute_result"
    }
   ],
   "source": [
    "df['income'].unique()"
   ]
  },
  {
   "cell_type": "markdown",
   "id": "3b97dc08",
   "metadata": {},
   "source": [
    "## Проверим данные на пропуски "
   ]
  },
  {
   "cell_type": "code",
   "execution_count": 7,
   "id": "5a11afb6",
   "metadata": {
    "ExecuteTime": {
     "end_time": "2022-07-20T18:29:14.967198Z",
     "start_time": "2022-07-20T18:29:14.880657Z"
    }
   },
   "outputs": [
    {
     "name": "stdout",
     "output_type": "stream",
     "text": [
      "<class 'pandas.core.frame.DataFrame'>\n",
      "RangeIndex: 48842 entries, 0 to 48841\n",
      "Data columns (total 15 columns):\n",
      " #   Column           Non-Null Count  Dtype \n",
      "---  ------           --------------  ----- \n",
      " 0   age              48842 non-null  int64 \n",
      " 1   workclass        48842 non-null  object\n",
      " 2   fnlwgt           48842 non-null  int64 \n",
      " 3   education        48842 non-null  object\n",
      " 4   educational-num  48842 non-null  int64 \n",
      " 5   marital-status   48842 non-null  object\n",
      " 6   occupation       48842 non-null  object\n",
      " 7   relationship     48842 non-null  object\n",
      " 8   race             48842 non-null  object\n",
      " 9   gender           48842 non-null  object\n",
      " 10  capital-gain     48842 non-null  int64 \n",
      " 11  capital-loss     48842 non-null  int64 \n",
      " 12  hours-per-week   48842 non-null  int64 \n",
      " 13  native-country   48842 non-null  object\n",
      " 14  income           48842 non-null  object\n",
      "dtypes: int64(6), object(9)\n",
      "memory usage: 5.6+ MB\n"
     ]
    }
   ],
   "source": [
    "df.info()"
   ]
  },
  {
   "cell_type": "code",
   "execution_count": 8,
   "id": "0551c4cf",
   "metadata": {
    "ExecuteTime": {
     "end_time": "2022-07-20T18:29:14.997902Z",
     "start_time": "2022-07-20T18:29:14.971158Z"
    }
   },
   "outputs": [
    {
     "data": {
      "text/plain": [
       "Private             33906\n",
       "Self-emp-not-inc     3862\n",
       "Local-gov            3136\n",
       "?                    2799\n",
       "State-gov            1981\n",
       "Self-emp-inc         1695\n",
       "Federal-gov          1432\n",
       "Without-pay            21\n",
       "Never-worked           10\n",
       "Name: workclass, dtype: int64"
      ]
     },
     "execution_count": 8,
     "metadata": {},
     "output_type": "execute_result"
    }
   ],
   "source": [
    "df['workclass'].value_counts()"
   ]
  },
  {
   "cell_type": "markdown",
   "id": "f9e22740",
   "metadata": {},
   "source": [
    "Отсутствующих значений в датасете не обнаружено, однако есть заполненные ячейки дефолтными значениями. Например, у полей `workclass`, `occupation`, `native-country` отсутвующие значения заполнены знаком \"?\". Решаем их для текущей задачи оставить неизменными. "
   ]
  },
  {
   "cell_type": "markdown",
   "id": "c6802011",
   "metadata": {},
   "source": [
    "### Рассмотрим средние и крайние показатели с стандартным отклонением"
   ]
  },
  {
   "cell_type": "code",
   "execution_count": 9,
   "id": "caec7ae3",
   "metadata": {
    "ExecuteTime": {
     "end_time": "2022-07-20T18:29:15.107664Z",
     "start_time": "2022-07-20T18:29:15.003239Z"
    }
   },
   "outputs": [
    {
     "data": {
      "text/html": [
       "<div>\n",
       "<style scoped>\n",
       "    .dataframe tbody tr th:only-of-type {\n",
       "        vertical-align: middle;\n",
       "    }\n",
       "\n",
       "    .dataframe tbody tr th {\n",
       "        vertical-align: top;\n",
       "    }\n",
       "\n",
       "    .dataframe thead th {\n",
       "        text-align: right;\n",
       "    }\n",
       "</style>\n",
       "<table border=\"1\" class=\"dataframe\">\n",
       "  <thead>\n",
       "    <tr style=\"text-align: right;\">\n",
       "      <th></th>\n",
       "      <th>count</th>\n",
       "      <th>mean</th>\n",
       "      <th>std</th>\n",
       "      <th>min</th>\n",
       "      <th>25%</th>\n",
       "      <th>50%</th>\n",
       "      <th>75%</th>\n",
       "      <th>max</th>\n",
       "    </tr>\n",
       "  </thead>\n",
       "  <tbody>\n",
       "    <tr>\n",
       "      <th>age</th>\n",
       "      <td>48842.0</td>\n",
       "      <td>38.643585</td>\n",
       "      <td>13.710510</td>\n",
       "      <td>17.0</td>\n",
       "      <td>28.0</td>\n",
       "      <td>37.0</td>\n",
       "      <td>48.0</td>\n",
       "      <td>90.0</td>\n",
       "    </tr>\n",
       "    <tr>\n",
       "      <th>fnlwgt</th>\n",
       "      <td>48842.0</td>\n",
       "      <td>189664.134597</td>\n",
       "      <td>105604.025423</td>\n",
       "      <td>12285.0</td>\n",
       "      <td>117550.5</td>\n",
       "      <td>178144.5</td>\n",
       "      <td>237642.0</td>\n",
       "      <td>1490400.0</td>\n",
       "    </tr>\n",
       "    <tr>\n",
       "      <th>educational-num</th>\n",
       "      <td>48842.0</td>\n",
       "      <td>10.078089</td>\n",
       "      <td>2.570973</td>\n",
       "      <td>1.0</td>\n",
       "      <td>9.0</td>\n",
       "      <td>10.0</td>\n",
       "      <td>12.0</td>\n",
       "      <td>16.0</td>\n",
       "    </tr>\n",
       "    <tr>\n",
       "      <th>capital-gain</th>\n",
       "      <td>48842.0</td>\n",
       "      <td>1079.067626</td>\n",
       "      <td>7452.019058</td>\n",
       "      <td>0.0</td>\n",
       "      <td>0.0</td>\n",
       "      <td>0.0</td>\n",
       "      <td>0.0</td>\n",
       "      <td>99999.0</td>\n",
       "    </tr>\n",
       "    <tr>\n",
       "      <th>capital-loss</th>\n",
       "      <td>48842.0</td>\n",
       "      <td>87.502314</td>\n",
       "      <td>403.004552</td>\n",
       "      <td>0.0</td>\n",
       "      <td>0.0</td>\n",
       "      <td>0.0</td>\n",
       "      <td>0.0</td>\n",
       "      <td>4356.0</td>\n",
       "    </tr>\n",
       "    <tr>\n",
       "      <th>hours-per-week</th>\n",
       "      <td>48842.0</td>\n",
       "      <td>40.422382</td>\n",
       "      <td>12.391444</td>\n",
       "      <td>1.0</td>\n",
       "      <td>40.0</td>\n",
       "      <td>40.0</td>\n",
       "      <td>45.0</td>\n",
       "      <td>99.0</td>\n",
       "    </tr>\n",
       "  </tbody>\n",
       "</table>\n",
       "</div>"
      ],
      "text/plain": [
       "                   count           mean            std      min       25%  \\\n",
       "age              48842.0      38.643585      13.710510     17.0      28.0   \n",
       "fnlwgt           48842.0  189664.134597  105604.025423  12285.0  117550.5   \n",
       "educational-num  48842.0      10.078089       2.570973      1.0       9.0   \n",
       "capital-gain     48842.0    1079.067626    7452.019058      0.0       0.0   \n",
       "capital-loss     48842.0      87.502314     403.004552      0.0       0.0   \n",
       "hours-per-week   48842.0      40.422382      12.391444      1.0      40.0   \n",
       "\n",
       "                      50%       75%        max  \n",
       "age                  37.0      48.0       90.0  \n",
       "fnlwgt           178144.5  237642.0  1490400.0  \n",
       "educational-num      10.0      12.0       16.0  \n",
       "capital-gain          0.0       0.0    99999.0  \n",
       "capital-loss          0.0       0.0     4356.0  \n",
       "hours-per-week       40.0      45.0       99.0  "
      ]
     },
     "execution_count": 9,
     "metadata": {},
     "output_type": "execute_result"
    }
   ],
   "source": [
    "df.describe().T"
   ]
  },
  {
   "cell_type": "markdown",
   "id": "d79af7f0",
   "metadata": {},
   "source": [
    "Кто-то работает по 99 часов в неделю! "
   ]
  },
  {
   "cell_type": "markdown",
   "id": "3a25b88d",
   "metadata": {},
   "source": [
    "### Построим графики, чтобы отобразить интересные зависимости"
   ]
  },
  {
   "cell_type": "markdown",
   "id": "d8293736",
   "metadata": {
    "ExecuteTime": {
     "end_time": "2022-07-20T17:08:21.887172Z",
     "start_time": "2022-07-20T17:08:21.867201Z"
    }
   },
   "source": [
    "Проверим количество персон в разрезе `workclass`, на одном графике отобразим и тех, кто зарабатывает <=50K, и тех, кто >50K"
   ]
  },
  {
   "cell_type": "code",
   "execution_count": 10,
   "id": "dc18d7d4",
   "metadata": {
    "ExecuteTime": {
     "end_time": "2022-07-20T18:29:15.216744Z",
     "start_time": "2022-07-20T18:29:15.146664Z"
    }
   },
   "outputs": [],
   "source": [
    "work = df[['workclass', 'income']].groupby(['workclass', 'income']).agg(in_cnt=('income', np.count_nonzero )).reset_index()"
   ]
  },
  {
   "cell_type": "code",
   "execution_count": 28,
   "id": "6ed2128b",
   "metadata": {
    "ExecuteTime": {
     "end_time": "2022-07-20T18:38:11.408260Z",
     "start_time": "2022-07-20T18:38:11.207005Z"
    }
   },
   "outputs": [
    {
     "data": {
      "image/png": "[encoded data removed]",
      "text/plain": [
       "<Figure size 648x648 with 1 Axes>"
      ]
     },
     "metadata": {
      "needs_background": "light"
     },
     "output_type": "display_data"
    }
   ],
   "source": [
    "plt.figure(figsize=(9, 9))\n",
    "plt.title('Workclass')\n",
    "plt.plot(work[work.income=='<=50K']['workclass'], work[work.income=='<=50K']['in_cnt'])\n",
    "plt.plot(work[work.income=='>50K']['workclass'], work[work.income=='>50K']['in_cnt'])\n",
    "plt.legend(['<=50K', '>50K'])\n",
    "plt.ylabel('Количество персон')\n",
    "plt.xlabel('workclass')\n",
    "plt.xticks(rotation=50)\n",
    "plt.show()"
   ]
  },
  {
   "cell_type": "markdown",
   "id": "239fe896",
   "metadata": {},
   "source": [
    "На графике видно, что для `Private` `workclass` количество персон значительно выше в группе с доходом `<=50K`"
   ]
  },
  {
   "cell_type": "code",
   "execution_count": 12,
   "id": "50485d40",
   "metadata": {
    "ExecuteTime": {
     "end_time": "2022-07-20T18:29:15.870955Z",
     "start_time": "2022-07-20T18:29:15.815919Z"
    }
   },
   "outputs": [],
   "source": [
    "edu = df[['education', 'income']].groupby(['education', 'income']).agg(in_cnt=('income', np.count_nonzero )).reset_index()"
   ]
  },
  {
   "cell_type": "code",
   "execution_count": 13,
   "id": "183c90f0",
   "metadata": {
    "ExecuteTime": {
     "end_time": "2022-07-20T18:29:16.385326Z",
     "start_time": "2022-07-20T18:29:15.872956Z"
    }
   },
   "outputs": [
    {
     "data": {
      "image/png": "[encoded data removed]",
      "text/plain": [
       "<Figure size 720x720 with 1 Axes>"
      ]
     },
     "metadata": {
      "needs_background": "light"
     },
     "output_type": "display_data"
    }
   ],
   "source": [
    "plt.figure(figsize=(10, 10))\n",
    "plt.title('Education')\n",
    "plt.plot(edu[edu.income=='<=50K']['education'], edu[edu.income=='<=50K']['in_cnt'])\n",
    "plt.plot(edu[edu.income=='>50K']['education'], edu[edu.income=='>50K']['in_cnt'])\n",
    "plt.legend(['<=50K', '>50K'])\n",
    "plt.ylabel('Количество персон')\n",
    "plt.xlabel('edu')\n",
    "plt.xticks(rotation=50)\n",
    "plt.show()"
   ]
  },
  {
   "cell_type": "markdown",
   "id": "b2a6c747",
   "metadata": {},
   "source": [
    "## Преобразование категориальных признаков в столбцы с числовыми значениями"
   ]
  },
  {
   "cell_type": "markdown",
   "id": "90af4e85",
   "metadata": {},
   "source": [
    "Выберем столбц income, чтобы добавить к нему столбц income_num, в котором будут значения 0, 1"
   ]
  },
  {
   "cell_type": "code",
   "execution_count": 14,
   "id": "691bef69",
   "metadata": {
    "ExecuteTime": {
     "end_time": "2022-07-20T18:29:16.416456Z",
     "start_time": "2022-07-20T18:29:16.387250Z"
    }
   },
   "outputs": [],
   "source": [
    "categ_columns = ['income']\n",
    "for column in categ_columns:\n",
    "    le = LabelEncoder()\n",
    "    le.fit(df[column])\n",
    "    df[f'{column}_num'] = pd.Series(data=le.transform(df[column]))"
   ]
  },
  {
   "cell_type": "markdown",
   "id": "f80888a7",
   "metadata": {},
   "source": [
    "## Подготовка наборов данных (обучающего, тестового)"
   ]
  },
  {
   "cell_type": "markdown",
   "id": "d1e29a28",
   "metadata": {},
   "source": [
    "Предположим, что доход зависит от `hours-per-week`, `marital-status`, `workclass`, `education`, `age`"
   ]
  },
  {
   "cell_type": "code",
   "execution_count": 15,
   "id": "623dbc3e",
   "metadata": {
    "ExecuteTime": {
     "end_time": "2022-07-20T18:29:16.431629Z",
     "start_time": "2022-07-20T18:29:16.421249Z"
    }
   },
   "outputs": [],
   "source": [
    "selectedColumns = df[['hours-per-week', 'marital-status', 'workclass', 'education', 'age']]"
   ]
  },
  {
   "cell_type": "markdown",
   "id": "8806f316",
   "metadata": {},
   "source": [
    "Разложим каждый категориальный стобец в группу столбцов, в которых будут лежать 0 и 1, в зависимости от того, какое значение категориального признака присвоено физлицу"
   ]
  },
  {
   "cell_type": "code",
   "execution_count": 16,
   "id": "f3df4e1c",
   "metadata": {
    "ExecuteTime": {
     "end_time": "2022-07-20T18:29:16.555892Z",
     "start_time": "2022-07-20T18:29:16.435630Z"
    }
   },
   "outputs": [],
   "source": [
    "X = pd.get_dummies(selectedColumns, columns = ['hours-per-week', 'marital-status', 'workclass', 'education'])"
   ]
  },
  {
   "cell_type": "code",
   "execution_count": 17,
   "id": "c1d891f0",
   "metadata": {
    "ExecuteTime": {
     "end_time": "2022-07-20T18:29:16.571891Z",
     "start_time": "2022-07-20T18:29:16.557891Z"
    }
   },
   "outputs": [],
   "source": [
    "y = df['income_num']"
   ]
  },
  {
   "cell_type": "code",
   "execution_count": 18,
   "id": "305c4b41",
   "metadata": {
    "ExecuteTime": {
     "end_time": "2022-07-20T18:29:16.681770Z",
     "start_time": "2022-07-20T18:29:16.574892Z"
    }
   },
   "outputs": [],
   "source": [
    "X_train, X_test, y_train, y_test = train_test_split(X, y, test_size=0.2, random_state=42)"
   ]
  },
  {
   "cell_type": "markdown",
   "id": "a6f7532d",
   "metadata": {},
   "source": [
    "## Логистическая регрессия"
   ]
  },
  {
   "cell_type": "code",
   "execution_count": 19,
   "id": "00ba9ba8",
   "metadata": {
    "ExecuteTime": {
     "end_time": "2022-07-20T18:29:16.697773Z",
     "start_time": "2022-07-20T18:29:16.684773Z"
    }
   },
   "outputs": [],
   "source": [
    "model = make_pipeline(StandardScaler(), LogisticRegression(max_iter=1000))\n",
    "#model = LogisticRegression(max_iter=2000)"
   ]
  },
  {
   "cell_type": "code",
   "execution_count": 20,
   "id": "3fe88de1",
   "metadata": {
    "ExecuteTime": {
     "end_time": "2022-07-20T18:29:17.454899Z",
     "start_time": "2022-07-20T18:29:16.700866Z"
    }
   },
   "outputs": [
    {
     "data": {
      "text/plain": [
       "Pipeline(steps=[('standardscaler', StandardScaler()),\n",
       "                ('logisticregression', LogisticRegression(max_iter=1000))])"
      ]
     },
     "execution_count": 20,
     "metadata": {},
     "output_type": "execute_result"
    }
   ],
   "source": [
    "model.fit(X_train, y_train)"
   ]
  },
  {
   "cell_type": "code",
   "execution_count": 21,
   "id": "49c1a151",
   "metadata": {
    "ExecuteTime": {
     "end_time": "2022-07-20T18:29:17.580898Z",
     "start_time": "2022-07-20T18:29:17.457840Z"
    }
   },
   "outputs": [
    {
     "data": {
      "text/plain": [
       "0.8295242238886188"
      ]
     },
     "execution_count": 21,
     "metadata": {},
     "output_type": "execute_result"
    }
   ],
   "source": [
    "model.score(X_train, y_train) "
   ]
  },
  {
   "cell_type": "code",
   "execution_count": 22,
   "id": "cefec9ad",
   "metadata": {
    "ExecuteTime": {
     "end_time": "2022-07-20T18:29:17.644840Z",
     "start_time": "2022-07-20T18:29:17.584842Z"
    }
   },
   "outputs": [
    {
     "data": {
      "text/plain": [
       "0.8328385709898659"
      ]
     },
     "execution_count": 22,
     "metadata": {},
     "output_type": "execute_result"
    }
   ],
   "source": [
    "model.score(X_test, y_test)"
   ]
  },
  {
   "cell_type": "markdown",
   "id": "8413922f",
   "metadata": {},
   "source": [
    "## Метод опорных векторов"
   ]
  },
  {
   "cell_type": "code",
   "execution_count": 23,
   "id": "9772ec60",
   "metadata": {
    "ExecuteTime": {
     "end_time": "2022-07-20T18:29:17.660877Z",
     "start_time": "2022-07-20T18:29:17.646841Z"
    }
   },
   "outputs": [],
   "source": [
    "clf = make_pipeline(StandardScaler(), SVC(gamma='auto')) "
   ]
  },
  {
   "cell_type": "code",
   "execution_count": 24,
   "id": "6b0b338b",
   "metadata": {
    "ExecuteTime": {
     "end_time": "2022-07-20T18:32:49.547839Z",
     "start_time": "2022-07-20T18:29:17.662840Z"
    }
   },
   "outputs": [
    {
     "data": {
      "text/plain": [
       "Pipeline(steps=[('standardscaler', StandardScaler()),\n",
       "                ('svc', SVC(gamma='auto'))])"
      ]
     },
     "execution_count": 24,
     "metadata": {},
     "output_type": "execute_result"
    }
   ],
   "source": [
    "clf.fit(X_train, y_train)"
   ]
  },
  {
   "cell_type": "code",
   "execution_count": 25,
   "id": "e7b3007b",
   "metadata": {
    "ExecuteTime": {
     "end_time": "2022-07-20T18:35:26.346147Z",
     "start_time": "2022-07-20T18:32:49.550407Z"
    }
   },
   "outputs": [
    {
     "data": {
      "text/plain": [
       "0.8287820233921122"
      ]
     },
     "execution_count": 25,
     "metadata": {},
     "output_type": "execute_result"
    }
   ],
   "source": [
    "clf.score(X_train, y_train)"
   ]
  },
  {
   "cell_type": "code",
   "execution_count": 26,
   "id": "0d537912",
   "metadata": {
    "ExecuteTime": {
     "end_time": "2022-07-20T18:36:05.013976Z",
     "start_time": "2022-07-20T18:35:26.348150Z"
    }
   },
   "outputs": [
    {
     "data": {
      "text/plain": [
       "0.8260825058859658"
      ]
     },
     "execution_count": 26,
     "metadata": {},
     "output_type": "execute_result"
    }
   ],
   "source": [
    "clf.score(X_test, y_test) "
   ]
  },
  {
   "cell_type": "markdown",
   "id": "9771f33c",
   "metadata": {},
   "source": [
    "### Выводы"
   ]
  },
  {
   "cell_type": "markdown",
   "id": "86eacf34",
   "metadata": {},
   "source": [
    "* В работе был произведен первичные анализ входных данных по уровню дохода физлиц.\n",
    "* Выявлены столбцы в которых есть ячейки, заполненные дефолтными значениями. Решено их оставить неизменными\n",
    "* Построены графики некоторых зависимостей\n",
    "* Выполнены преобразования над данными:\n",
    "    * Для income добавлен столбец income_num со значениями 0, 1\n",
    "    * Каждый категориальный столбец разложен в группы столбцов с 0, 1\n",
    "    * Выборка поделена на часть для обучения (train) и часть для проверки (test)\n",
    "* Выполнено обучение логистической и SVM моделей\n",
    "* Логистическая и SVM модели показали практически схожий результат: 82-83% точности\n",
    "* Логистическая модель работает на laptop в разы быстрее - менее секунды против 3.5 минут (для SVM)\n",
    "* Признаки (features) были подобраны наугад, в дальнейшем желательно выбирать нужные и убирать ненужные признаки"
   ]
  }
 ],
 "metadata": {
  "kernelspec": {
   "display_name": "Python 3 (ipykernel)",
   "language": "python",
   "name": "python3"
  },
  "language_info": {
   "codemirror_mode": {
    "name": "ipython",
    "version": 3
   },
   "file_extension": ".py",
   "mimetype": "text/x-python",
   "name": "python",
   "nbconvert_exporter": "python",
   "pygments_lexer": "ipython3",
   "version": "3.8.12"
  }
 },
 "nbformat": 4,
 "nbformat_minor": 5
}
