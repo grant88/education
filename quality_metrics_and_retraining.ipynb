{
 "cells": [
  {
   "cell_type": "code",
   "execution_count": 1,
   "id": "866caf21",
   "metadata": {
    "ExecuteTime": {
     "end_time": "2022-07-28T15:35:21.494399Z",
     "start_time": "2022-07-28T15:35:17.850898Z"
    }
   },
   "outputs": [],
   "source": [
    "import pandas as pd\n",
    "import numpy as np\n",
    "from sklearn.model_selection import train_test_split\n",
    "from sklearn.linear_model import LogisticRegression\n",
    "from sklearn.preprocessing import StandardScaler\n",
    "from sklearn.pipeline import make_pipeline\n",
    "from sklearn.metrics import roc_curve\n",
    "from sklearn.metrics import roc_auc_score\n",
    "from sklearn.metrics import recall_score\n",
    "from sklearn.metrics import precision_score\n",
    "from sklearn.metrics import precision_recall_curve\n",
    "import matplotlib.pyplot as plt"
   ]
  },
  {
   "cell_type": "markdown",
   "id": "33c50d1c",
   "metadata": {},
   "source": [
    "## Подготовка данных"
   ]
  },
  {
   "cell_type": "code",
   "execution_count": 2,
   "id": "87e2884d",
   "metadata": {
    "ExecuteTime": {
     "end_time": "2022-07-28T15:35:21.525455Z",
     "start_time": "2022-07-28T15:35:21.497301Z"
    }
   },
   "outputs": [],
   "source": [
    "df = pd.read_csv('athletes.csv')"
   ]
  },
  {
   "cell_type": "code",
   "execution_count": 3,
   "id": "a74b218f",
   "metadata": {
    "ExecuteTime": {
     "end_time": "2022-07-28T15:35:21.557337Z",
     "start_time": "2022-07-28T15:35:21.528301Z"
    }
   },
   "outputs": [
    {
     "data": {
      "text/html": [
       "<div>\n",
       "<style scoped>\n",
       "    .dataframe tbody tr th:only-of-type {\n",
       "        vertical-align: middle;\n",
       "    }\n",
       "\n",
       "    .dataframe tbody tr th {\n",
       "        vertical-align: top;\n",
       "    }\n",
       "\n",
       "    .dataframe thead th {\n",
       "        text-align: right;\n",
       "    }\n",
       "</style>\n",
       "<table border=\"1\" class=\"dataframe\">\n",
       "  <thead>\n",
       "    <tr style=\"text-align: right;\">\n",
       "      <th></th>\n",
       "      <th>id</th>\n",
       "      <th>name</th>\n",
       "      <th>nationality</th>\n",
       "      <th>sex</th>\n",
       "      <th>dob</th>\n",
       "      <th>height</th>\n",
       "      <th>weight</th>\n",
       "      <th>sport</th>\n",
       "      <th>gold</th>\n",
       "      <th>silver</th>\n",
       "      <th>bronze</th>\n",
       "    </tr>\n",
       "  </thead>\n",
       "  <tbody>\n",
       "    <tr>\n",
       "      <th>0</th>\n",
       "      <td>736041664</td>\n",
       "      <td>A Jesus Garcia</td>\n",
       "      <td>ESP</td>\n",
       "      <td>male</td>\n",
       "      <td>10/17/69</td>\n",
       "      <td>1.72</td>\n",
       "      <td>64.0</td>\n",
       "      <td>athletics</td>\n",
       "      <td>0</td>\n",
       "      <td>0</td>\n",
       "      <td>0</td>\n",
       "    </tr>\n",
       "    <tr>\n",
       "      <th>1</th>\n",
       "      <td>532037425</td>\n",
       "      <td>A Lam Shin</td>\n",
       "      <td>KOR</td>\n",
       "      <td>female</td>\n",
       "      <td>9/23/86</td>\n",
       "      <td>1.68</td>\n",
       "      <td>56.0</td>\n",
       "      <td>fencing</td>\n",
       "      <td>0</td>\n",
       "      <td>0</td>\n",
       "      <td>0</td>\n",
       "    </tr>\n",
       "    <tr>\n",
       "      <th>2</th>\n",
       "      <td>435962603</td>\n",
       "      <td>Aaron Brown</td>\n",
       "      <td>CAN</td>\n",
       "      <td>male</td>\n",
       "      <td>5/27/92</td>\n",
       "      <td>1.98</td>\n",
       "      <td>79.0</td>\n",
       "      <td>athletics</td>\n",
       "      <td>0</td>\n",
       "      <td>0</td>\n",
       "      <td>1</td>\n",
       "    </tr>\n",
       "    <tr>\n",
       "      <th>3</th>\n",
       "      <td>521041435</td>\n",
       "      <td>Aaron Cook</td>\n",
       "      <td>MDA</td>\n",
       "      <td>male</td>\n",
       "      <td>1/2/91</td>\n",
       "      <td>1.83</td>\n",
       "      <td>80.0</td>\n",
       "      <td>taekwondo</td>\n",
       "      <td>0</td>\n",
       "      <td>0</td>\n",
       "      <td>0</td>\n",
       "    </tr>\n",
       "    <tr>\n",
       "      <th>4</th>\n",
       "      <td>33922579</td>\n",
       "      <td>Aaron Gate</td>\n",
       "      <td>NZL</td>\n",
       "      <td>male</td>\n",
       "      <td>11/26/90</td>\n",
       "      <td>1.81</td>\n",
       "      <td>71.0</td>\n",
       "      <td>cycling</td>\n",
       "      <td>0</td>\n",
       "      <td>0</td>\n",
       "      <td>0</td>\n",
       "    </tr>\n",
       "  </tbody>\n",
       "</table>\n",
       "</div>"
      ],
      "text/plain": [
       "          id            name nationality     sex       dob  height  weight  \\\n",
       "0  736041664  A Jesus Garcia         ESP    male  10/17/69    1.72    64.0   \n",
       "1  532037425      A Lam Shin         KOR  female   9/23/86    1.68    56.0   \n",
       "2  435962603     Aaron Brown         CAN    male   5/27/92    1.98    79.0   \n",
       "3  521041435      Aaron Cook         MDA    male    1/2/91    1.83    80.0   \n",
       "4   33922579      Aaron Gate         NZL    male  11/26/90    1.81    71.0   \n",
       "\n",
       "       sport  gold  silver  bronze  \n",
       "0  athletics     0       0       0  \n",
       "1    fencing     0       0       0  \n",
       "2  athletics     0       0       1  \n",
       "3  taekwondo     0       0       0  \n",
       "4    cycling     0       0       0  "
      ]
     },
     "execution_count": 3,
     "metadata": {},
     "output_type": "execute_result"
    }
   ],
   "source": [
    "df.head()"
   ]
  },
  {
   "cell_type": "code",
   "execution_count": 4,
   "id": "132ccd0b",
   "metadata": {
    "ExecuteTime": {
     "end_time": "2022-07-28T15:35:21.589349Z",
     "start_time": "2022-07-28T15:35:21.559305Z"
    }
   },
   "outputs": [
    {
     "name": "stdout",
     "output_type": "stream",
     "text": [
      "<class 'pandas.core.frame.DataFrame'>\n",
      "RangeIndex: 11538 entries, 0 to 11537\n",
      "Data columns (total 11 columns):\n",
      " #   Column       Non-Null Count  Dtype  \n",
      "---  ------       --------------  -----  \n",
      " 0   id           11538 non-null  int64  \n",
      " 1   name         11538 non-null  object \n",
      " 2   nationality  11538 non-null  object \n",
      " 3   sex          11538 non-null  object \n",
      " 4   dob          11537 non-null  object \n",
      " 5   height       11208 non-null  float64\n",
      " 6   weight       10879 non-null  float64\n",
      " 7   sport        11538 non-null  object \n",
      " 8   gold         11538 non-null  int64  \n",
      " 9   silver       11538 non-null  int64  \n",
      " 10  bronze       11538 non-null  int64  \n",
      "dtypes: float64(2), int64(4), object(5)\n",
      "memory usage: 991.7+ KB\n"
     ]
    }
   ],
   "source": [
    "df.info()"
   ]
  },
  {
   "cell_type": "markdown",
   "id": "cf2852d4",
   "metadata": {},
   "source": [
    "Видно, что есть записи с пропусками, уберем такие записи"
   ]
  },
  {
   "cell_type": "code",
   "execution_count": 5,
   "id": "81a2e129",
   "metadata": {
    "ExecuteTime": {
     "end_time": "2022-07-28T15:35:21.604702Z",
     "start_time": "2022-07-28T15:35:21.591324Z"
    }
   },
   "outputs": [],
   "source": [
    "df = df[~(df.height.isna() | df.weight.isna() | df.dob.isna())]"
   ]
  },
  {
   "cell_type": "markdown",
   "id": "471759f1",
   "metadata": {},
   "source": [
    "Преобразуем столбец dob в три столбца dob1, dob2, dob3"
   ]
  },
  {
   "cell_type": "code",
   "execution_count": 6,
   "id": "ac76c754",
   "metadata": {
    "ExecuteTime": {
     "end_time": "2022-07-28T15:35:21.635866Z",
     "start_time": "2022-07-28T15:35:21.606302Z"
    }
   },
   "outputs": [],
   "source": [
    "df = df.join(df.dob.str.split('/', n=2, expand=True).rename(columns={0: 'dob1', 1: 'dob2', 2: 'dob3'}))"
   ]
  },
  {
   "cell_type": "code",
   "execution_count": 7,
   "id": "0e68417d",
   "metadata": {
    "ExecuteTime": {
     "end_time": "2022-07-28T15:35:21.651309Z",
     "start_time": "2022-07-28T15:35:21.638306Z"
    }
   },
   "outputs": [],
   "source": [
    "for column in ['dob1', 'dob2', 'dob3']:\n",
    "    df[column] = df[column].astype(int)"
   ]
  },
  {
   "cell_type": "markdown",
   "id": "ad6aa1dd",
   "metadata": {},
   "source": [
    "Добавим целевой target столбец, который будем значить, заработал ли спортсмен хоть какую-либо медаль"
   ]
  },
  {
   "cell_type": "code",
   "execution_count": 8,
   "id": "2a98e380",
   "metadata": {
    "ExecuteTime": {
     "end_time": "2022-07-28T15:35:21.667333Z",
     "start_time": "2022-07-28T15:35:21.653301Z"
    }
   },
   "outputs": [],
   "source": [
    "df['has_medal'] = (df.gold.astype(bool) | df.silver.astype(bool) |  df.bronze.astype(bool)).astype(int)"
   ]
  },
  {
   "cell_type": "code",
   "execution_count": 9,
   "id": "05d088cc",
   "metadata": {
    "ExecuteTime": {
     "end_time": "2022-07-28T15:35:21.729336Z",
     "start_time": "2022-07-28T15:35:21.669302Z"
    }
   },
   "outputs": [
    {
     "data": {
      "text/html": [
       "<div>\n",
       "<style scoped>\n",
       "    .dataframe tbody tr th:only-of-type {\n",
       "        vertical-align: middle;\n",
       "    }\n",
       "\n",
       "    .dataframe tbody tr th {\n",
       "        vertical-align: top;\n",
       "    }\n",
       "\n",
       "    .dataframe thead th {\n",
       "        text-align: right;\n",
       "    }\n",
       "</style>\n",
       "<table border=\"1\" class=\"dataframe\">\n",
       "  <thead>\n",
       "    <tr style=\"text-align: right;\">\n",
       "      <th></th>\n",
       "      <th>count</th>\n",
       "      <th>mean</th>\n",
       "      <th>std</th>\n",
       "      <th>min</th>\n",
       "      <th>25%</th>\n",
       "      <th>50%</th>\n",
       "      <th>75%</th>\n",
       "      <th>max</th>\n",
       "    </tr>\n",
       "  </thead>\n",
       "  <tbody>\n",
       "    <tr>\n",
       "      <th>id</th>\n",
       "      <td>10858.0</td>\n",
       "      <td>5.011329e+08</td>\n",
       "      <td>2.909399e+08</td>\n",
       "      <td>18347.00</td>\n",
       "      <td>2.460081e+08</td>\n",
       "      <td>5.020973e+08</td>\n",
       "      <td>7.555681e+08</td>\n",
       "      <td>9.999878e+08</td>\n",
       "    </tr>\n",
       "    <tr>\n",
       "      <th>height</th>\n",
       "      <td>10858.0</td>\n",
       "      <td>1.766942e+00</td>\n",
       "      <td>1.131113e-01</td>\n",
       "      <td>1.21</td>\n",
       "      <td>1.690000e+00</td>\n",
       "      <td>1.760000e+00</td>\n",
       "      <td>1.840000e+00</td>\n",
       "      <td>2.210000e+00</td>\n",
       "    </tr>\n",
       "    <tr>\n",
       "      <th>weight</th>\n",
       "      <td>10858.0</td>\n",
       "      <td>7.207092e+01</td>\n",
       "      <td>1.616236e+01</td>\n",
       "      <td>31.00</td>\n",
       "      <td>6.000000e+01</td>\n",
       "      <td>7.000000e+01</td>\n",
       "      <td>8.100000e+01</td>\n",
       "      <td>1.700000e+02</td>\n",
       "    </tr>\n",
       "    <tr>\n",
       "      <th>gold</th>\n",
       "      <td>10858.0</td>\n",
       "      <td>5.977160e-02</td>\n",
       "      <td>2.607561e-01</td>\n",
       "      <td>0.00</td>\n",
       "      <td>0.000000e+00</td>\n",
       "      <td>0.000000e+00</td>\n",
       "      <td>0.000000e+00</td>\n",
       "      <td>5.000000e+00</td>\n",
       "    </tr>\n",
       "    <tr>\n",
       "      <th>silver</th>\n",
       "      <td>10858.0</td>\n",
       "      <td>5.848223e-02</td>\n",
       "      <td>2.423868e-01</td>\n",
       "      <td>0.00</td>\n",
       "      <td>0.000000e+00</td>\n",
       "      <td>0.000000e+00</td>\n",
       "      <td>0.000000e+00</td>\n",
       "      <td>2.000000e+00</td>\n",
       "    </tr>\n",
       "    <tr>\n",
       "      <th>bronze</th>\n",
       "      <td>10858.0</td>\n",
       "      <td>5.857432e-02</td>\n",
       "      <td>2.391125e-01</td>\n",
       "      <td>0.00</td>\n",
       "      <td>0.000000e+00</td>\n",
       "      <td>0.000000e+00</td>\n",
       "      <td>0.000000e+00</td>\n",
       "      <td>2.000000e+00</td>\n",
       "    </tr>\n",
       "    <tr>\n",
       "      <th>dob1</th>\n",
       "      <td>10858.0</td>\n",
       "      <td>6.282833e+00</td>\n",
       "      <td>3.425605e+00</td>\n",
       "      <td>1.00</td>\n",
       "      <td>3.000000e+00</td>\n",
       "      <td>6.000000e+00</td>\n",
       "      <td>9.000000e+00</td>\n",
       "      <td>1.200000e+01</td>\n",
       "    </tr>\n",
       "    <tr>\n",
       "      <th>dob2</th>\n",
       "      <td>10858.0</td>\n",
       "      <td>1.563631e+01</td>\n",
       "      <td>8.799700e+00</td>\n",
       "      <td>1.00</td>\n",
       "      <td>8.000000e+00</td>\n",
       "      <td>1.600000e+01</td>\n",
       "      <td>2.300000e+01</td>\n",
       "      <td>3.100000e+01</td>\n",
       "    </tr>\n",
       "    <tr>\n",
       "      <th>dob3</th>\n",
       "      <td>10858.0</td>\n",
       "      <td>8.871348e+01</td>\n",
       "      <td>8.172789e+00</td>\n",
       "      <td>0.00</td>\n",
       "      <td>8.600000e+01</td>\n",
       "      <td>9.000000e+01</td>\n",
       "      <td>9.300000e+01</td>\n",
       "      <td>9.900000e+01</td>\n",
       "    </tr>\n",
       "    <tr>\n",
       "      <th>has_medal</th>\n",
       "      <td>10858.0</td>\n",
       "      <td>1.614478e-01</td>\n",
       "      <td>3.679604e-01</td>\n",
       "      <td>0.00</td>\n",
       "      <td>0.000000e+00</td>\n",
       "      <td>0.000000e+00</td>\n",
       "      <td>0.000000e+00</td>\n",
       "      <td>1.000000e+00</td>\n",
       "    </tr>\n",
       "  </tbody>\n",
       "</table>\n",
       "</div>"
      ],
      "text/plain": [
       "             count          mean           std       min           25%  \\\n",
       "id         10858.0  5.011329e+08  2.909399e+08  18347.00  2.460081e+08   \n",
       "height     10858.0  1.766942e+00  1.131113e-01      1.21  1.690000e+00   \n",
       "weight     10858.0  7.207092e+01  1.616236e+01     31.00  6.000000e+01   \n",
       "gold       10858.0  5.977160e-02  2.607561e-01      0.00  0.000000e+00   \n",
       "silver     10858.0  5.848223e-02  2.423868e-01      0.00  0.000000e+00   \n",
       "bronze     10858.0  5.857432e-02  2.391125e-01      0.00  0.000000e+00   \n",
       "dob1       10858.0  6.282833e+00  3.425605e+00      1.00  3.000000e+00   \n",
       "dob2       10858.0  1.563631e+01  8.799700e+00      1.00  8.000000e+00   \n",
       "dob3       10858.0  8.871348e+01  8.172789e+00      0.00  8.600000e+01   \n",
       "has_medal  10858.0  1.614478e-01  3.679604e-01      0.00  0.000000e+00   \n",
       "\n",
       "                    50%           75%           max  \n",
       "id         5.020973e+08  7.555681e+08  9.999878e+08  \n",
       "height     1.760000e+00  1.840000e+00  2.210000e+00  \n",
       "weight     7.000000e+01  8.100000e+01  1.700000e+02  \n",
       "gold       0.000000e+00  0.000000e+00  5.000000e+00  \n",
       "silver     0.000000e+00  0.000000e+00  2.000000e+00  \n",
       "bronze     0.000000e+00  0.000000e+00  2.000000e+00  \n",
       "dob1       6.000000e+00  9.000000e+00  1.200000e+01  \n",
       "dob2       1.600000e+01  2.300000e+01  3.100000e+01  \n",
       "dob3       9.000000e+01  9.300000e+01  9.900000e+01  \n",
       "has_medal  0.000000e+00  0.000000e+00  1.000000e+00  "
      ]
     },
     "execution_count": 9,
     "metadata": {},
     "output_type": "execute_result"
    }
   ],
   "source": [
    "df.describe().T"
   ]
  },
  {
   "cell_type": "code",
   "execution_count": 10,
   "id": "590ed184",
   "metadata": {
    "ExecuteTime": {
     "end_time": "2022-07-28T15:35:21.761336Z",
     "start_time": "2022-07-28T15:35:21.732302Z"
    }
   },
   "outputs": [
    {
     "data": {
      "text/html": [
       "<div>\n",
       "<style scoped>\n",
       "    .dataframe tbody tr th:only-of-type {\n",
       "        vertical-align: middle;\n",
       "    }\n",
       "\n",
       "    .dataframe tbody tr th {\n",
       "        vertical-align: top;\n",
       "    }\n",
       "\n",
       "    .dataframe thead th {\n",
       "        text-align: right;\n",
       "    }\n",
       "</style>\n",
       "<table border=\"1\" class=\"dataframe\">\n",
       "  <thead>\n",
       "    <tr style=\"text-align: right;\">\n",
       "      <th></th>\n",
       "      <th>id</th>\n",
       "      <th>name</th>\n",
       "      <th>nationality</th>\n",
       "      <th>sex</th>\n",
       "      <th>dob</th>\n",
       "      <th>height</th>\n",
       "      <th>weight</th>\n",
       "      <th>sport</th>\n",
       "      <th>gold</th>\n",
       "      <th>silver</th>\n",
       "      <th>bronze</th>\n",
       "      <th>dob1</th>\n",
       "      <th>dob2</th>\n",
       "      <th>dob3</th>\n",
       "      <th>has_medal</th>\n",
       "    </tr>\n",
       "  </thead>\n",
       "  <tbody>\n",
       "    <tr>\n",
       "      <th>0</th>\n",
       "      <td>736041664</td>\n",
       "      <td>A Jesus Garcia</td>\n",
       "      <td>ESP</td>\n",
       "      <td>male</td>\n",
       "      <td>10/17/69</td>\n",
       "      <td>1.72</td>\n",
       "      <td>64.0</td>\n",
       "      <td>athletics</td>\n",
       "      <td>0</td>\n",
       "      <td>0</td>\n",
       "      <td>0</td>\n",
       "      <td>10</td>\n",
       "      <td>17</td>\n",
       "      <td>69</td>\n",
       "      <td>0</td>\n",
       "    </tr>\n",
       "    <tr>\n",
       "      <th>1</th>\n",
       "      <td>532037425</td>\n",
       "      <td>A Lam Shin</td>\n",
       "      <td>KOR</td>\n",
       "      <td>female</td>\n",
       "      <td>9/23/86</td>\n",
       "      <td>1.68</td>\n",
       "      <td>56.0</td>\n",
       "      <td>fencing</td>\n",
       "      <td>0</td>\n",
       "      <td>0</td>\n",
       "      <td>0</td>\n",
       "      <td>9</td>\n",
       "      <td>23</td>\n",
       "      <td>86</td>\n",
       "      <td>0</td>\n",
       "    </tr>\n",
       "    <tr>\n",
       "      <th>2</th>\n",
       "      <td>435962603</td>\n",
       "      <td>Aaron Brown</td>\n",
       "      <td>CAN</td>\n",
       "      <td>male</td>\n",
       "      <td>5/27/92</td>\n",
       "      <td>1.98</td>\n",
       "      <td>79.0</td>\n",
       "      <td>athletics</td>\n",
       "      <td>0</td>\n",
       "      <td>0</td>\n",
       "      <td>1</td>\n",
       "      <td>5</td>\n",
       "      <td>27</td>\n",
       "      <td>92</td>\n",
       "      <td>1</td>\n",
       "    </tr>\n",
       "    <tr>\n",
       "      <th>3</th>\n",
       "      <td>521041435</td>\n",
       "      <td>Aaron Cook</td>\n",
       "      <td>MDA</td>\n",
       "      <td>male</td>\n",
       "      <td>1/2/91</td>\n",
       "      <td>1.83</td>\n",
       "      <td>80.0</td>\n",
       "      <td>taekwondo</td>\n",
       "      <td>0</td>\n",
       "      <td>0</td>\n",
       "      <td>0</td>\n",
       "      <td>1</td>\n",
       "      <td>2</td>\n",
       "      <td>91</td>\n",
       "      <td>0</td>\n",
       "    </tr>\n",
       "    <tr>\n",
       "      <th>4</th>\n",
       "      <td>33922579</td>\n",
       "      <td>Aaron Gate</td>\n",
       "      <td>NZL</td>\n",
       "      <td>male</td>\n",
       "      <td>11/26/90</td>\n",
       "      <td>1.81</td>\n",
       "      <td>71.0</td>\n",
       "      <td>cycling</td>\n",
       "      <td>0</td>\n",
       "      <td>0</td>\n",
       "      <td>0</td>\n",
       "      <td>11</td>\n",
       "      <td>26</td>\n",
       "      <td>90</td>\n",
       "      <td>0</td>\n",
       "    </tr>\n",
       "  </tbody>\n",
       "</table>\n",
       "</div>"
      ],
      "text/plain": [
       "          id            name nationality     sex       dob  height  weight  \\\n",
       "0  736041664  A Jesus Garcia         ESP    male  10/17/69    1.72    64.0   \n",
       "1  532037425      A Lam Shin         KOR  female   9/23/86    1.68    56.0   \n",
       "2  435962603     Aaron Brown         CAN    male   5/27/92    1.98    79.0   \n",
       "3  521041435      Aaron Cook         MDA    male    1/2/91    1.83    80.0   \n",
       "4   33922579      Aaron Gate         NZL    male  11/26/90    1.81    71.0   \n",
       "\n",
       "       sport  gold  silver  bronze  dob1  dob2  dob3  has_medal  \n",
       "0  athletics     0       0       0    10    17    69          0  \n",
       "1    fencing     0       0       0     9    23    86          0  \n",
       "2  athletics     0       0       1     5    27    92          1  \n",
       "3  taekwondo     0       0       0     1     2    91          0  \n",
       "4    cycling     0       0       0    11    26    90          0  "
      ]
     },
     "execution_count": 10,
     "metadata": {},
     "output_type": "execute_result"
    }
   ],
   "source": [
    "df.head()"
   ]
  },
  {
   "cell_type": "markdown",
   "id": "55abef5b",
   "metadata": {},
   "source": [
    "## Разделение данных на train, test части"
   ]
  },
  {
   "cell_type": "code",
   "execution_count": 11,
   "id": "1997fb0f",
   "metadata": {
    "ExecuteTime": {
     "end_time": "2022-07-28T15:35:21.793300Z",
     "start_time": "2022-07-28T15:35:21.763302Z"
    }
   },
   "outputs": [],
   "source": [
    "selected_df = df[['height', 'weight', 'dob1', 'dob2', 'dob3', 'nationality', 'sex', 'sport']]\n",
    "X = pd.get_dummies(selected_df, columns=['nationality', 'sex', 'sport'])\n",
    "Y = df['has_medal']"
   ]
  },
  {
   "cell_type": "code",
   "execution_count": 12,
   "id": "c4326186",
   "metadata": {
    "ExecuteTime": {
     "end_time": "2022-07-28T15:35:21.919302Z",
     "start_time": "2022-07-28T15:35:21.797302Z"
    }
   },
   "outputs": [],
   "source": [
    "X_train, X_test, Y_train, Y_test = train_test_split(X, Y, test_size=0.2, random_state = 0)\n",
    "sc = StandardScaler()\n",
    "X_train = sc.fit_transform(X_train)\n",
    "X_test = sc.transform(X_test)"
   ]
  },
  {
   "cell_type": "code",
   "execution_count": 13,
   "id": "563867b5",
   "metadata": {
    "ExecuteTime": {
     "end_time": "2022-07-28T15:35:21.935018Z",
     "start_time": "2022-07-28T15:35:21.921301Z"
    }
   },
   "outputs": [],
   "source": [
    "pipe =  LogisticRegression()"
   ]
  },
  {
   "cell_type": "code",
   "execution_count": 14,
   "id": "75d4fde5",
   "metadata": {
    "ExecuteTime": {
     "end_time": "2022-07-28T15:35:22.157431Z",
     "start_time": "2022-07-28T15:35:21.937527Z"
    }
   },
   "outputs": [
    {
     "data": {
      "text/plain": [
       "LogisticRegression()"
      ]
     },
     "execution_count": 14,
     "metadata": {},
     "output_type": "execute_result"
    }
   ],
   "source": [
    "pipe.fit(X_train, Y_train)"
   ]
  },
  {
   "cell_type": "markdown",
   "id": "f9420a67",
   "metadata": {},
   "source": [
    "## Построение ROC-кривой с помощью функции sklearn.metrics roc_curve"
   ]
  },
  {
   "cell_type": "code",
   "execution_count": 15,
   "id": "e1f4283a",
   "metadata": {
    "ExecuteTime": {
     "end_time": "2022-07-28T15:35:22.172793Z",
     "start_time": "2022-07-28T15:35:22.159457Z"
    }
   },
   "outputs": [],
   "source": [
    "predict_proba_values = pipe.predict_proba(X_test)\n",
    "predictions = pipe.predict(X_test)"
   ]
  },
  {
   "cell_type": "code",
   "execution_count": 16,
   "id": "f6d2d3bc",
   "metadata": {
    "ExecuteTime": {
     "end_time": "2022-07-28T15:35:22.218902Z",
     "start_time": "2022-07-28T15:35:22.174314Z"
    }
   },
   "outputs": [],
   "source": [
    "fpr, tpr, thres = roc_curve( Y_test, predict_proba_values[:, 1] )"
   ]
  },
  {
   "cell_type": "code",
   "execution_count": 17,
   "id": "5396a451",
   "metadata": {
    "ExecuteTime": {
     "end_time": "2022-07-28T15:35:22.409694Z",
     "start_time": "2022-07-28T15:35:22.220585Z"
    }
   },
   "outputs": [
    {
     "data": {
      "image/png": "[encoded data removed]",
      "text/plain": [
       "<Figure size 648x648 with 1 Axes>"
      ]
     },
     "metadata": {
      "needs_background": "light"
     },
     "output_type": "display_data"
    }
   ],
   "source": [
    "plt.figure(figsize=(9, 9))\n",
    "plt.plot(fpr, tpr)\n",
    "plt.title('ROC-кривая (Sklearn)')\n",
    "plt.xlabel('fpr')\n",
    "plt.ylabel('tpr_recall')\n",
    "plt.grid()"
   ]
  },
  {
   "cell_type": "markdown",
   "id": "ee004551",
   "metadata": {},
   "source": [
    "## Вычисление значения ROC-AUC метрики с помощью функции sklearn.metrics.roc_auc_score"
   ]
  },
  {
   "cell_type": "code",
   "execution_count": 18,
   "id": "36d7b618",
   "metadata": {
    "ExecuteTime": {
     "end_time": "2022-07-28T15:35:22.425233Z",
     "start_time": "2022-07-28T15:35:22.411610Z"
    }
   },
   "outputs": [
    {
     "data": {
      "text/plain": [
       "0.7606791980678249"
      ]
     },
     "execution_count": 18,
     "metadata": {},
     "output_type": "execute_result"
    }
   ],
   "source": [
    "roc_auc_score( Y_test, predict_proba_values[:, 1])"
   ]
  },
  {
   "cell_type": "markdown",
   "id": "1d8f184d",
   "metadata": {},
   "source": [
    "## Подсчет метрик TPR, FPR вручную"
   ]
  },
  {
   "cell_type": "markdown",
   "id": "6204e13f",
   "metadata": {},
   "source": [
    "### Подготовим разные пороговые значения `ratio`"
   ]
  },
  {
   "cell_type": "code",
   "execution_count": 19,
   "id": "377a0f0f",
   "metadata": {
    "ExecuteTime": {
     "end_time": "2022-07-28T15:35:22.456394Z",
     "start_time": "2022-07-28T15:35:22.427269Z"
    }
   },
   "outputs": [],
   "source": [
    "step = 0.02\n",
    "ratios = np.arange(0.0, 1.0 + step, step)"
   ]
  },
  {
   "cell_type": "markdown",
   "id": "616bb545",
   "metadata": {},
   "source": [
    "### Для каждого порогового значения `ratio` произведем подсчет метрик"
   ]
  },
  {
   "cell_type": "code",
   "execution_count": 20,
   "id": "adffdeac",
   "metadata": {
    "ExecuteTime": {
     "end_time": "2022-07-28T15:35:22.645391Z",
     "start_time": "2022-07-28T15:35:22.458281Z"
    }
   },
   "outputs": [],
   "source": [
    "ratio_metrics_dicts = []\n",
    "for ratio in ratios:\n",
    "    tp = 0 # True positive\n",
    "    fp = 0 # False positive\n",
    "    fn = 0 # False negative\n",
    "    tn = 0 # True negative\n",
    "    for predicted_prob, actual in zip( predict_proba_values[:, 1], Y_test ):    \n",
    "        if predicted_prob >= ratio:\n",
    "            predicted = 1\n",
    "        else:\n",
    "            predicted = 0\n",
    "\n",
    "        if predicted == 1:\n",
    "            if actual == 1:\n",
    "                tp += 1\n",
    "            else:\n",
    "                fp += 1\n",
    "\n",
    "        else:\n",
    "            if actual == 1:\n",
    "                fn += 1\n",
    "            else:\n",
    "                tn += 1\n",
    "    step_dict = {\n",
    "        'ratio': ratio,\n",
    "        'tp': tp,\n",
    "        'fp': fp,\n",
    "        'fn': fn,\n",
    "        'tn': tn\n",
    "    }\n",
    "    ratio_metrics_dicts.append(step_dict)"
   ]
  },
  {
   "cell_type": "code",
   "execution_count": 21,
   "id": "b5e96acc",
   "metadata": {
    "ExecuteTime": {
     "end_time": "2022-07-28T15:35:22.660530Z",
     "start_time": "2022-07-28T15:35:22.649536Z"
    }
   },
   "outputs": [],
   "source": [
    "ratios_metrics = pd.DataFrame(ratio_metrics_dicts)"
   ]
  },
  {
   "cell_type": "code",
   "execution_count": 22,
   "id": "0c0288e0",
   "metadata": {
    "ExecuteTime": {
     "end_time": "2022-07-28T15:35:22.786171Z",
     "start_time": "2022-07-28T15:35:22.664134Z"
    }
   },
   "outputs": [],
   "source": [
    "ratios_metrics['fpr'] = ratios_metrics['fp'] / (ratios_metrics['fp'] + ratios_metrics['tn'])\n",
    "ratios_metrics['tpr_recall'] = ratios_metrics['tp'] / (ratios_metrics['tp'] + ratios_metrics['fn'])\n",
    "ratios_metrics['precision'] =  ratios_metrics['tp'] / (ratios_metrics['tp'] + ratios_metrics['fp'])"
   ]
  },
  {
   "cell_type": "markdown",
   "id": "68833274",
   "metadata": {},
   "source": [
    "### В результате получим датасет, с подсчитанными метриками для каждого порогового значения `ratio` от 0 до 1 с шагом 0.02"
   ]
  },
  {
   "cell_type": "code",
   "execution_count": 23,
   "id": "5450ef9b",
   "metadata": {
    "ExecuteTime": {
     "end_time": "2022-07-28T15:35:22.817159Z",
     "start_time": "2022-07-28T15:35:22.790172Z"
    }
   },
   "outputs": [
    {
     "data": {
      "text/html": [
       "<div>\n",
       "<style scoped>\n",
       "    .dataframe tbody tr th:only-of-type {\n",
       "        vertical-align: middle;\n",
       "    }\n",
       "\n",
       "    .dataframe tbody tr th {\n",
       "        vertical-align: top;\n",
       "    }\n",
       "\n",
       "    .dataframe thead th {\n",
       "        text-align: right;\n",
       "    }\n",
       "</style>\n",
       "<table border=\"1\" class=\"dataframe\">\n",
       "  <thead>\n",
       "    <tr style=\"text-align: right;\">\n",
       "      <th></th>\n",
       "      <th>ratio</th>\n",
       "      <th>tp</th>\n",
       "      <th>fp</th>\n",
       "      <th>fn</th>\n",
       "      <th>tn</th>\n",
       "      <th>fpr</th>\n",
       "      <th>tpr_recall</th>\n",
       "      <th>precision</th>\n",
       "    </tr>\n",
       "  </thead>\n",
       "  <tbody>\n",
       "    <tr>\n",
       "      <th>0</th>\n",
       "      <td>0.00</td>\n",
       "      <td>361</td>\n",
       "      <td>1811</td>\n",
       "      <td>0</td>\n",
       "      <td>0</td>\n",
       "      <td>1.000000</td>\n",
       "      <td>1.000000</td>\n",
       "      <td>0.166206</td>\n",
       "    </tr>\n",
       "    <tr>\n",
       "      <th>1</th>\n",
       "      <td>0.02</td>\n",
       "      <td>355</td>\n",
       "      <td>1490</td>\n",
       "      <td>6</td>\n",
       "      <td>321</td>\n",
       "      <td>0.822750</td>\n",
       "      <td>0.983380</td>\n",
       "      <td>0.192412</td>\n",
       "    </tr>\n",
       "    <tr>\n",
       "      <th>2</th>\n",
       "      <td>0.04</td>\n",
       "      <td>350</td>\n",
       "      <td>1319</td>\n",
       "      <td>11</td>\n",
       "      <td>492</td>\n",
       "      <td>0.728327</td>\n",
       "      <td>0.969529</td>\n",
       "      <td>0.209706</td>\n",
       "    </tr>\n",
       "    <tr>\n",
       "      <th>3</th>\n",
       "      <td>0.06</td>\n",
       "      <td>345</td>\n",
       "      <td>1191</td>\n",
       "      <td>16</td>\n",
       "      <td>620</td>\n",
       "      <td>0.657648</td>\n",
       "      <td>0.955679</td>\n",
       "      <td>0.224609</td>\n",
       "    </tr>\n",
       "    <tr>\n",
       "      <th>4</th>\n",
       "      <td>0.08</td>\n",
       "      <td>333</td>\n",
       "      <td>1073</td>\n",
       "      <td>28</td>\n",
       "      <td>738</td>\n",
       "      <td>0.592490</td>\n",
       "      <td>0.922438</td>\n",
       "      <td>0.236842</td>\n",
       "    </tr>\n",
       "  </tbody>\n",
       "</table>\n",
       "</div>"
      ],
      "text/plain": [
       "   ratio   tp    fp  fn   tn       fpr  tpr_recall  precision\n",
       "0   0.00  361  1811   0    0  1.000000    1.000000   0.166206\n",
       "1   0.02  355  1490   6  321  0.822750    0.983380   0.192412\n",
       "2   0.04  350  1319  11  492  0.728327    0.969529   0.209706\n",
       "3   0.06  345  1191  16  620  0.657648    0.955679   0.224609\n",
       "4   0.08  333  1073  28  738  0.592490    0.922438   0.236842"
      ]
     },
     "execution_count": 23,
     "metadata": {},
     "output_type": "execute_result"
    }
   ],
   "source": [
    "ratios_metrics.head()"
   ]
  },
  {
   "cell_type": "markdown",
   "id": "e4578f5b",
   "metadata": {},
   "source": [
    "## Построение ROC-кривой с помощью вычисленных в п. 5 метрик"
   ]
  },
  {
   "cell_type": "code",
   "execution_count": 24,
   "id": "32f08dbe",
   "metadata": {
    "ExecuteTime": {
     "end_time": "2022-07-28T15:35:23.164127Z",
     "start_time": "2022-07-28T15:35:22.820339Z"
    }
   },
   "outputs": [
    {
     "data": {
      "image/png": "[encoded data removed]",
      "text/plain": [
       "<Figure size 648x648 with 1 Axes>"
      ]
     },
     "metadata": {
      "needs_background": "light"
     },
     "output_type": "display_data"
    }
   ],
   "source": [
    "plt.figure(figsize=(9, 9))\n",
    "plt.plot(ratios_metrics['fpr'], ratios_metrics['tpr_recall'], label='Manual')\n",
    "plt.plot(fpr, tpr, label='Sklearn')\n",
    "plt.plot([0.0, 1.0],[0.0, 1.0])\n",
    "plt.xlabel('fpr')\n",
    "plt.ylabel('tpr_recall')\n",
    "plt.title('ROC curve')\n",
    "plt.legend(loc=0)\n",
    "plt.grid()"
   ]
  },
  {
   "cell_type": "markdown",
   "id": "b8e9f94c",
   "metadata": {},
   "source": [
    "На графикие ROC-кривых можно видеть, что обе кривые повторяют друг друга с точностью до ratio step"
   ]
  },
  {
   "cell_type": "markdown",
   "id": "afc1fdb4",
   "metadata": {},
   "source": [
    "## Построение графика Precision-Recall, используя метрики, посчитанные в п. 5."
   ]
  },
  {
   "cell_type": "code",
   "execution_count": 25,
   "id": "23bb5e24",
   "metadata": {
    "ExecuteTime": {
     "end_time": "2022-07-28T15:35:23.179724Z",
     "start_time": "2022-07-28T15:35:23.166156Z"
    }
   },
   "outputs": [],
   "source": [
    "precision, recall, threshold = precision_recall_curve( Y_test, predict_proba_values[:, 1])"
   ]
  },
  {
   "cell_type": "code",
   "execution_count": 26,
   "id": "f4aeab06",
   "metadata": {
    "ExecuteTime": {
     "end_time": "2022-07-28T15:35:23.496532Z",
     "start_time": "2022-07-28T15:35:23.182189Z"
    }
   },
   "outputs": [
    {
     "data": {
      "image/png": "[encoded data removed]",
      "text/plain": [
       "<Figure size 648x648 with 1 Axes>"
      ]
     },
     "metadata": {
      "needs_background": "light"
     },
     "output_type": "display_data"
    }
   ],
   "source": [
    "plt.figure(figsize=(9, 9))\n",
    "plt.plot(ratios_metrics['tpr_recall'], ratios_metrics['precision'], label='Manual')\n",
    "plt.plot(recall, precision, label='Sklearn')\n",
    "plt.xlabel('tpr_recall')\n",
    "plt.ylabel('precision')\n",
    "plt.title('Precision-Recall')\n",
    "plt.legend(loc=0)\n",
    "plt.xlim(right=1.1, left=0)\n",
    "plt.ylim(top=1.1, bottom=0)\n",
    "plt.grid()"
   ]
  },
  {
   "cell_type": "markdown",
   "id": "cfb1482b",
   "metadata": {},
   "source": [
    "### Сравнение трех метрик, которые посчитаны вручную и через библиотеки sklearn"
   ]
  },
  {
   "cell_type": "code",
   "execution_count": 27,
   "id": "f5e3df18",
   "metadata": {
    "ExecuteTime": {
     "end_time": "2022-07-28T15:35:23.526635Z",
     "start_time": "2022-07-28T15:35:23.501878Z"
    }
   },
   "outputs": [
    {
     "data": {
      "text/plain": [
       "(18.0, 17.0, 343.0, 1794.0)"
      ]
     },
     "execution_count": 27,
     "metadata": {},
     "output_type": "execute_result"
    }
   ],
   "source": [
    "manual_metrics = ratios_metrics[ratios_metrics.ratio == 0.5].iloc[0]\n",
    "tp, fp, fn, tn = manual_metrics['tp'], manual_metrics['fp'], manual_metrics['fn'], manual_metrics['tn'] \n",
    "tp, fp, fn, tn "
   ]
  },
  {
   "cell_type": "markdown",
   "id": "e72291db",
   "metadata": {},
   "source": [
    "### Accuracy"
   ]
  },
  {
   "cell_type": "code",
   "execution_count": 28,
   "id": "1d23285c",
   "metadata": {
    "ExecuteTime": {
     "end_time": "2022-07-28T15:35:23.573119Z",
     "start_time": "2022-07-28T15:35:23.530257Z"
    }
   },
   "outputs": [
    {
     "data": {
      "text/plain": [
       "(0.8342541436464088, 0.8342541436464088)"
      ]
     },
     "execution_count": 28,
     "metadata": {},
     "output_type": "execute_result"
    }
   ],
   "source": [
    "manual_accuracy = (tp + tn) / (tp + fp + fn + tn)\n",
    "manual_accuracy, pipe.score(X_test, Y_test)"
   ]
  },
  {
   "cell_type": "markdown",
   "id": "a2ed33b1",
   "metadata": {},
   "source": [
    "### Precision"
   ]
  },
  {
   "cell_type": "code",
   "execution_count": 29,
   "id": "869f410e",
   "metadata": {
    "ExecuteTime": {
     "end_time": "2022-07-28T15:35:23.589120Z",
     "start_time": "2022-07-28T15:35:23.575362Z"
    }
   },
   "outputs": [
    {
     "data": {
      "text/plain": [
       "(0.5142857142857142, 0.5142857142857142)"
      ]
     },
     "execution_count": 29,
     "metadata": {},
     "output_type": "execute_result"
    }
   ],
   "source": [
    "manual_precision = tp / (tp + fp)\n",
    "manual_precision, precision_score(Y_test, predictions)"
   ]
  },
  {
   "cell_type": "markdown",
   "id": "c51fd90d",
   "metadata": {},
   "source": [
    "### Recall"
   ]
  },
  {
   "cell_type": "code",
   "execution_count": 30,
   "id": "f5174b76",
   "metadata": {
    "ExecuteTime": {
     "end_time": "2022-07-28T15:35:23.605128Z",
     "start_time": "2022-07-28T15:35:23.591121Z"
    }
   },
   "outputs": [
    {
     "data": {
      "text/plain": [
       "(0.04986149584487535, 0.04986149584487535)"
      ]
     },
     "execution_count": 30,
     "metadata": {},
     "output_type": "execute_result"
    }
   ],
   "source": [
    "manual_recall = tp / (tp + fn)\n",
    "manual_recall, recall_score(Y_test, predictions)"
   ]
  },
  {
   "cell_type": "markdown",
   "id": "18d44d9d",
   "metadata": {},
   "source": [
    "Видно, что метрики совпадают"
   ]
  },
  {
   "cell_type": "markdown",
   "id": "644c0df7",
   "metadata": {},
   "source": [
    "## Выводы:"
   ]
  },
  {
   "cell_type": "markdown",
   "id": "877e73ca",
   "metadata": {
    "ExecuteTime": {
     "end_time": "2022-07-28T15:11:29.372099Z",
     "start_time": "2022-07-28T15:11:29.362429Z"
    }
   },
   "source": [
    "Наша модель показала хороший уровень `Accuracy` и неплохой ROC-AUC score, но средние  `Precision` и `Recall`. \n",
    "По полученным графикам делаем вывод о качестве модели так: чем выше площадь под кривой Precision-Recall тем модель лучше.\n",
    "В нашем случае модель показывает средние показали качества - площадь под кривой. \n",
    "Для работы на предприятии или в промышленности такую модель необходимо дополнительно прорабатывать, поскольку результаты весьма скромные."
   ]
  }
 ],
 "metadata": {
  "kernelspec": {
   "display_name": "Python 3 (ipykernel)",
   "language": "python",
   "name": "python3"
  },
  "language_info": {
   "codemirror_mode": {
    "name": "ipython",
    "version": 3
   },
   "file_extension": ".py",
   "mimetype": "text/x-python",
   "name": "python",
   "nbconvert_exporter": "python",
   "pygments_lexer": "ipython3",
   "version": "3.8.12"
  },
  "toc": {
   "base_numbering": 1,
   "nav_menu": {},
   "number_sections": true,
   "sideBar": true,
   "skip_h1_title": false,
   "title_cell": "Table of Contents",
   "title_sidebar": "Contents",
   "toc_cell": false,
   "toc_position": {},
   "toc_section_display": true,
   "toc_window_display": false
  }
 },
 "nbformat": 4,
 "nbformat_minor": 5
}
