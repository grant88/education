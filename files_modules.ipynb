{
  "cells": [
    {
      "cell_type": "markdown",
      "metadata": {
        "colab_type": "text",
        "id": "view-in-github"
      },
      "source": [
        "<a href=\"https://colab.research.google.com/github/grant88/education/blob/main/files_modules.ipynb\" target=\"_parent\"><img src=\"https://colab.research.google.com/assets/colab-badge.svg\" alt=\"Open In Colab\"/></a>"
      ]
    },
    {
      "cell_type": "markdown",
      "metadata": {
        "id": "HebfUcToFGJh"
      },
      "source": [
        "**Переведите содержимое файла purchase_log.txt в словарь purchases вида:**\n",
        "\n",
        "{‘1840e0b9d4’: ‘Продукты’, …}"
      ]
    },
    {
      "cell_type": "code",
      "execution_count": 4,
      "metadata": {
        "id": "GCZyqNnYFmL2"
      },
      "outputs": [],
      "source": [
        "import json"
      ]
    },
    {
      "cell_type": "code",
      "execution_count": 3,
      "metadata": {
        "id": "Ng5lFSwZFGJj"
      },
      "outputs": [],
      "source": [
        "from google.colab import files\n",
        "uploaded = files.upload()"
      ]
    },
    {
      "cell_type": "code",
      "execution_count": 6,
      "metadata": {
        "id": "-WFIfmkVFGJl"
      },
      "outputs": [],
      "source": [
        "purchase_log_file = \"/content/purchase_log.txt\"\n",
        "visit_log_filepath = \"/content/visit_log.csv\"\n",
        "funnel_filepath = \"/content/funnel.csv\""
      ]
    },
    {
      "cell_type": "code",
      "execution_count": 7,
      "metadata": {
        "id": "sj8SxbFKFGJl"
      },
      "outputs": [],
      "source": [
        "purchases = dict()\n",
        "with open(purchase_log_file, 'r', encoding='utf-8') as file:\n",
        "    next(file)\n",
        "    for line in file:\n",
        "        dict_ = json.loads(line)\n",
        "        purchases[dict_['user_id']] = dict_['category']"
      ]
    },
    {
      "cell_type": "markdown",
      "metadata": {
        "id": "o3fFfjX0FGJm"
      },
      "source": [
        "**Для каждого user_id в файле visit_log.csv определите третий столбец с категорией покупки (если покупка была, сам файл visit_log.csv изменять не надо).**\n",
        "\n",
        "**Запишите в файл funnel.csv визиты из файла visit_log.csv, в которых были покупки с указанием категории.**\n",
        "\n",
        "\n",
        "Учтите условия на данные:\n",
        "\n",
        "содержимое purchase_log.txt помещается в оперативную память компьютера\n",
        "\n",
        "содержимое visit_log.csv - нет; \n",
        "\n",
        "используйте только построчную обработку этого файла"
      ]
    },
    {
      "cell_type": "code",
      "execution_count": 20,
      "metadata": {
        "id": "Wa_7zBnCFGJm"
      },
      "outputs": [],
      "source": [
        "with open(visit_log_filepath, 'r', encoding='utf-8') as visits_file:\n",
        "    with open(funnel_filepath, 'w', encoding='utf-8') as funnels_file:\n",
        "        next(visits_file)\n",
        "        funnels_file.write('user_id,source,category\\n')\n",
        "        for visit_line in visits_file:\n",
        "            user_id, source = visit_line.strip().split(',')\n",
        "            if purchases.get(user_id):\n",
        "                funnels_file.write(f'{user_id},{source},{purchases[user_id]}\\n')"
      ]
    }
  ],
  "metadata": {
    "colab": {
      "include_colab_link": true,
      "name": "files_modules.ipynb",
      "provenance": []
    },
    "kernelspec": {
      "display_name": "Python 3",
      "language": "python",
      "name": "python3"
    },
    "language_info": {
      "codemirror_mode": {
        "name": "ipython",
        "version": 3
      },
      "file_extension": ".py",
      "mimetype": "text/x-python",
      "name": "python",
      "nbconvert_exporter": "python",
      "pygments_lexer": "ipython3",
      "version": "3.7.3"
    }
  },
  "nbformat": 4,
  "nbformat_minor": 0
}
