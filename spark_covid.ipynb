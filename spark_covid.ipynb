{
  "cells": [
    {
      "cell_type": "markdown",
      "metadata": {
        "id": "view-in-github",
        "colab_type": "text"
      },
      "source": [
        "<a href=\"https://colab.research.google.com/github/grant88/education/blob/main/spark_covid.ipynb\" target=\"_parent\"><img src=\"https://colab.research.google.com/assets/colab-badge.svg\" alt=\"Open In Colab\"/></a>"
      ]
    },
    {
      "cell_type": "code",
      "execution_count": null,
      "metadata": {
        "colab": {
          "base_uri": "https://localhost:8080/"
        },
        "id": "mLihTJ9DtdYo",
        "outputId": "036de947-7efc-43e7-db23-40c1b5e72e09"
      },
      "outputs": [
        {
          "name": "stdout",
          "output_type": "stream",
          "text": [
            "Collecting pyspark\n",
            "  Downloading pyspark-3.2.1.tar.gz (281.4 MB)\n",
            "\u001b[K     |████████████████████████████████| 281.4 MB 35 kB/s \n",
            "\u001b[?25hCollecting py4j==0.10.9.3\n",
            "  Downloading py4j-0.10.9.3-py2.py3-none-any.whl (198 kB)\n",
            "\u001b[K     |████████████████████████████████| 198 kB 64.3 MB/s \n",
            "\u001b[?25hBuilding wheels for collected packages: pyspark\n",
            "  Building wheel for pyspark (setup.py) ... \u001b[?25l\u001b[?25hdone\n",
            "  Created wheel for pyspark: filename=pyspark-3.2.1-py2.py3-none-any.whl size=281853642 sha256=4debda6836378cf5b38010fb78b27defdc846e609e658c157803b77189e28abc\n",
            "  Stored in directory: /root/.cache/pip/wheels/9f/f5/07/7cd8017084dce4e93e84e92efd1e1d5334db05f2e83bcef74f\n",
            "Successfully built pyspark\n",
            "Installing collected packages: py4j, pyspark\n",
            "Successfully installed py4j-0.10.9.3 pyspark-3.2.1\n"
          ]
        }
      ],
      "source": [
        "!pip install pyspark"
      ]
    },
    {
      "cell_type": "code",
      "execution_count": 97,
      "metadata": {
        "id": "n5ODGtMLtkoH"
      },
      "outputs": [],
      "source": [
        "from pyspark.sql import SparkSession\n",
        "from pyspark.sql import functions as f\n",
        "from pyspark.sql.window import Window"
      ]
    },
    {
      "cell_type": "code",
      "execution_count": 10,
      "metadata": {
        "id": "BVQggBeat-M8"
      },
      "outputs": [],
      "source": [
        "spark = SparkSession.builder.master(\"local[*]\").appName(\"PySpark\").getOrCreate()"
      ]
    },
    {
      "cell_type": "code",
      "source": [
        "df = spark.read.csv(\"owid-covid-data.csv\", header=True, inferSchema=True)"
      ],
      "metadata": {
        "id": "HtVvQzPTvQ3g"
      },
      "execution_count": 16,
      "outputs": []
    },
    {
      "cell_type": "markdown",
      "source": [
        "### Задание 1\n",
        "5 стран с наибольшим процентом переболевших на 31 марта (в выходящем датасете необходимы колонки: iso_code, страна, процент переболевших)"
      ],
      "metadata": {
        "id": "t0wK3lQYGloM"
      }
    },
    {
      "cell_type": "code",
      "source": [
        "(\n",
        "    df\n",
        "    .filter(f.col(\"date\") == \"2021-03-31\")\n",
        "    .select(\"iso_code\", \"location\", f.round(f.col(\"total_cases\") / f.col(\"population\"), 3).alias(\"ill_percent\"))\n",
        "    .sort(f.col(\"ill_percent\").desc())\n",
        "    .show(15)\n",
        ")"
      ],
      "metadata": {
        "colab": {
          "base_uri": "https://localhost:8080/"
        },
        "id": "rvr8Fq23vVfW",
        "outputId": "5d141fd8-b7f0-409c-b1ce-0c825e12864d"
      },
      "execution_count": 38,
      "outputs": [
        {
          "output_type": "stream",
          "name": "stdout",
          "text": [
            "+--------+-------------+-----------+\n",
            "|iso_code|     location|ill_percent|\n",
            "+--------+-------------+-----------+\n",
            "|     AND|      Andorra|      0.155|\n",
            "|     MNE|   Montenegro|      0.145|\n",
            "|     CZE|      Czechia|      0.143|\n",
            "|     SMR|   San Marino|      0.139|\n",
            "|     SVN|     Slovenia|      0.104|\n",
            "|     LUX|   Luxembourg|      0.098|\n",
            "|     ISR|       Israel|      0.096|\n",
            "|     USA|United States|      0.092|\n",
            "|     SRB|       Serbia|      0.088|\n",
            "|     BHR|      Bahrain|      0.085|\n",
            "|     PAN|       Panama|      0.082|\n",
            "|     PRT|     Portugal|      0.081|\n",
            "|     EST|      Estonia|       0.08|\n",
            "|     SWE|       Sweden|       0.08|\n",
            "|     LTU|    Lithuania|      0.079|\n",
            "+--------+-------------+-----------+\n",
            "only showing top 15 rows\n",
            "\n"
          ]
        }
      ]
    },
    {
      "cell_type": "markdown",
      "source": [
        "### Задание 2\n",
        "Top 10 стран с максимальным зафиксированным кол-вом новых случаев за последнюю неделю марта 2021 в отсортированном порядке по убыванию\n",
        "(в выходящем датасете необходимы колонки: число, страна, кол-во новых случаев)"
      ],
      "metadata": {
        "id": "jZj0HqjpGxz2"
      }
    },
    {
      "cell_type": "code",
      "source": [
        "(\n",
        "    df\n",
        "    .where(\n",
        "        (df.date >= \"2021-03-25\") \n",
        "        & (df.date <= \"2021-03-31\")\n",
        "        & (f.length(df.iso_code) == 3)\n",
        "    )\n",
        "    .groupBy(\"iso_code\")\n",
        "    .agg(\n",
        "        f.max(\"date\").alias(\"report_date\"),\n",
        "        f.sum(\"new_cases\").alias(\"new_cases_for_week\")\n",
        "    )\n",
        "    .select(\n",
        "        \"report_date\",\n",
        "        \"iso_code\",\n",
        "        \"new_cases_for_week\"\n",
        "    )\n",
        "    .sort(f.col(\"new_cases_for_week\").desc())\n",
        "    .show(10)\n",
        ")"
      ],
      "metadata": {
        "colab": {
          "base_uri": "https://localhost:8080/"
        },
        "id": "jIqgb9LnwDaB",
        "outputId": "7afb8c94-a038-46e2-f8fa-0e8c83574ec2"
      },
      "execution_count": 96,
      "outputs": [
        {
          "output_type": "stream",
          "name": "stdout",
          "text": [
            "+-----------+--------+------------------+\n",
            "|report_date|iso_code|new_cases_for_week|\n",
            "+-----------+--------+------------------+\n",
            "| 2021-03-31|     BRA|          528736.0|\n",
            "| 2021-03-31|     USA|          448300.0|\n",
            "| 2021-03-31|     IND|          434131.0|\n",
            "| 2021-03-31|     FRA|          266069.0|\n",
            "| 2021-03-31|     TUR|          225900.0|\n",
            "| 2021-03-31|     POL|          201046.0|\n",
            "| 2021-03-31|     ITA|          144037.0|\n",
            "| 2021-03-31|     DEU|          120656.0|\n",
            "| 2021-03-31|     UKR|           95016.0|\n",
            "| 2021-03-31|     ARG|           78944.0|\n",
            "+-----------+--------+------------------+\n",
            "only showing top 10 rows\n",
            "\n"
          ]
        }
      ]
    },
    {
      "cell_type": "markdown",
      "source": [
        "### Задание 3\n",
        "Изменение случаев относительно предыдущего дня в России за последнюю неделю марта 2021.\n",
        "\n",
        "(например: в россии вчера было 9150 , сегодня 8763, итог: -387)\n",
        "\n",
        "(в выходящем датасете необходимы колонки: число, кол-во новых случаев вчера, кол-во новых случаев сегодня, дельта)"
      ],
      "metadata": {
        "id": "1vPREqy2G6Y9"
      }
    },
    {
      "cell_type": "code",
      "source": [
        "window = Window.partitionBy(\"iso_code\").orderBy(f.col(\"date\"))\n",
        "\n",
        "(\n",
        "    df\n",
        "    .where(\n",
        "        (df.date >= \"2021-03-24\") \n",
        "        & (df.date <= \"2021-03-31\")\n",
        "        & (df.iso_code == 'RUS')\n",
        "    )\n",
        "    .withColumn(\"yesterday_new_cases\", f.lag(\"new_cases\", 1).over(window))\n",
        "    .select(\"date\", \"yesterday_new_cases\", \"new_cases\", (f.col(\"new_cases\") - f.col(\"yesterday_new_cases\")).alias(\"delta\"))\n",
        "    .sort(f.col(\"date\").desc())\n",
        "    .limit(7)\n",
        "    .sort(f.col(\"date\").asc())\n",
        "    .show()\n",
        ")"
      ],
      "metadata": {
        "colab": {
          "base_uri": "https://localhost:8080/"
        },
        "id": "00Xj47LQwTRS",
        "outputId": "31e82dcb-64c8-469a-e624-f0a5bba90d1b"
      },
      "execution_count": 117,
      "outputs": [
        {
          "output_type": "stream",
          "name": "stdout",
          "text": [
            "+----------+-------------------+---------+------+\n",
            "|      date|yesterday_new_cases|new_cases| delta|\n",
            "+----------+-------------------+---------+------+\n",
            "|2021-03-25|             8769.0|   9128.0| 359.0|\n",
            "|2021-03-26|             9128.0|   9073.0| -55.0|\n",
            "|2021-03-27|             9073.0|   8783.0|-290.0|\n",
            "|2021-03-28|             8783.0|   8979.0| 196.0|\n",
            "|2021-03-29|             8979.0|   8589.0|-390.0|\n",
            "|2021-03-30|             8589.0|   8162.0|-427.0|\n",
            "|2021-03-31|             8162.0|   8156.0|  -6.0|\n",
            "+----------+-------------------+---------+------+\n",
            "\n"
          ]
        }
      ]
    },
    {
      "cell_type": "code",
      "source": [
        ""
      ],
      "metadata": {
        "id": "1iXtm1PiFAtL"
      },
      "execution_count": null,
      "outputs": []
    }
  ],
  "metadata": {
    "colab": {
      "name": "spark_covid.ipynb",
      "provenance": [],
      "authorship_tag": "ABX9TyOSr4JvvlbbcXj/2fODxF3W",
      "include_colab_link": true
    },
    "kernelspec": {
      "display_name": "Python 3",
      "name": "python3"
    },
    "language_info": {
      "name": "python"
    }
  },
  "nbformat": 4,
  "nbformat_minor": 0
}