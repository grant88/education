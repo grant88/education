{
  "cells": [
    {
      "cell_type": "markdown",
      "metadata": {
        "id": "view-in-github",
        "colab_type": "text"
      },
      "source": [
        "<a href=\"https://colab.research.google.com/github/grant88/education/blob/main/spark_covid.ipynb\" target=\"_parent\"><img src=\"https://colab.research.google.com/assets/colab-badge.svg\" alt=\"Open In Colab\"/></a>"
      ]
    },
    {
      "cell_type": "code",
      "execution_count": 1,
      "metadata": {
        "colab": {
          "base_uri": "https://localhost:8080/"
        },
        "id": "mLihTJ9DtdYo",
        "outputId": "e40c9acb-7847-4e85-f0a6-48a139a73a49"
      },
      "outputs": [
        {
          "output_type": "stream",
          "name": "stdout",
          "text": [
            "Collecting pyspark\n",
            "  Downloading pyspark-3.2.1.tar.gz (281.4 MB)\n",
            "\u001b[K     |████████████████████████████████| 281.4 MB 28 kB/s \n",
            "\u001b[?25hCollecting py4j==0.10.9.3\n",
            "  Downloading py4j-0.10.9.3-py2.py3-none-any.whl (198 kB)\n",
            "\u001b[K     |████████████████████████████████| 198 kB 43.6 MB/s \n",
            "\u001b[?25hBuilding wheels for collected packages: pyspark\n",
            "  Building wheel for pyspark (setup.py) ... \u001b[?25l\u001b[?25hdone\n",
            "  Created wheel for pyspark: filename=pyspark-3.2.1-py2.py3-none-any.whl size=281853642 sha256=004d65f53ec22730bc04e7e086d74a090f1b8dc0219dd2db1cf593d759f73ee1\n",
            "  Stored in directory: /root/.cache/pip/wheels/9f/f5/07/7cd8017084dce4e93e84e92efd1e1d5334db05f2e83bcef74f\n",
            "Successfully built pyspark\n",
            "Installing collected packages: py4j, pyspark\n",
            "Successfully installed py4j-0.10.9.3 pyspark-3.2.1\n"
          ]
        }
      ],
      "source": [
        "!pip install pyspark"
      ]
    },
    {
      "cell_type": "code",
      "execution_count": 10,
      "metadata": {
        "id": "n5ODGtMLtkoH"
      },
      "outputs": [],
      "source": [
        "from pyspark.sql import SparkSession\n",
        "from pyspark.sql import functions as f\n",
        "from pyspark.sql.window import Window"
      ]
    },
    {
      "cell_type": "code",
      "execution_count": 11,
      "metadata": {
        "id": "BVQggBeat-M8"
      },
      "outputs": [],
      "source": [
        "spark = SparkSession.builder.master(\"local[*]\").appName(\"PySpark\").getOrCreate()"
      ]
    },
    {
      "cell_type": "code",
      "source": [
        "df = spark.read.csv(\"owid-covid-data.csv\", header=True, inferSchema=True)"
      ],
      "metadata": {
        "id": "HtVvQzPTvQ3g"
      },
      "execution_count": 12,
      "outputs": []
    },
    {
      "cell_type": "markdown",
      "source": [
        "### Задание 1\n",
        "15 стран с наибольшим процентом переболевших на 31 марта (в выходящем датасете необходимы колонки: iso_code, страна, процент переболевших)"
      ],
      "metadata": {
        "id": "t0wK3lQYGloM"
      }
    },
    {
      "cell_type": "code",
      "source": [
        "(\n",
        "    df\n",
        "    .filter(\n",
        "        (f.col(\"date\") == \"2021-03-31\")\n",
        "        & (f.length(f.col(\"iso_code\")) == 3)\n",
        "    )\n",
        "    .select(\n",
        "        \"iso_code\",\n",
        "        \"location\",\n",
        "        f.round(100 * f.col(\"total_cases\") / f.col(\"population\"), 2).alias(\"ill_percent\")\n",
        "    )\n",
        "    .sort(f.col(\"ill_percent\").desc())\n",
        "    .show(15)\n",
        ")"
      ],
      "metadata": {
        "colab": {
          "base_uri": "https://localhost:8080/"
        },
        "id": "rvr8Fq23vVfW",
        "outputId": "905bbc9b-52a1-4dd0-8516-c92dc5d61be5"
      },
      "execution_count": 14,
      "outputs": [
        {
          "output_type": "stream",
          "name": "stdout",
          "text": [
            "+--------+-------------+-----------+\n",
            "|iso_code|     location|ill_percent|\n",
            "+--------+-------------+-----------+\n",
            "|     AND|      Andorra|      15.54|\n",
            "|     MNE|   Montenegro|      14.52|\n",
            "|     CZE|      Czechia|      14.31|\n",
            "|     SMR|   San Marino|      13.94|\n",
            "|     SVN|     Slovenia|      10.37|\n",
            "|     LUX|   Luxembourg|       9.85|\n",
            "|     ISR|       Israel|       9.63|\n",
            "|     USA|United States|        9.2|\n",
            "|     SRB|       Serbia|       8.83|\n",
            "|     BHR|      Bahrain|       8.49|\n",
            "|     PAN|       Panama|       8.23|\n",
            "|     PRT|     Portugal|       8.06|\n",
            "|     EST|      Estonia|       8.02|\n",
            "|     SWE|       Sweden|       7.97|\n",
            "|     LTU|    Lithuania|       7.94|\n",
            "+--------+-------------+-----------+\n",
            "only showing top 15 rows\n",
            "\n"
          ]
        }
      ]
    },
    {
      "cell_type": "markdown",
      "source": [
        "### Задание 2\n",
        "Top 10 стран с максимальным зафиксированным кол-вом новых случаев за последнюю неделю марта 2021 в отсортированном порядке по убыванию\n",
        "(в выходящем датасете необходимы колонки: число, страна, кол-во новых случаев)"
      ],
      "metadata": {
        "id": "jZj0HqjpGxz2"
      }
    },
    {
      "cell_type": "code",
      "source": [
        "window = Window.partitionBy(\"iso_code\")\n",
        "\n",
        "(\n",
        "    df\n",
        "    .where(\n",
        "        (df.date >= \"2021-03-25\") \n",
        "        & (df.date <= \"2021-03-31\")\n",
        "        & (f.length(df.iso_code) == 3)\n",
        "    )\n",
        "    .withColumn(\"max_cases_week\", f.max(\"new_cases\").over(window))\n",
        "    .where(f.col(\"max_cases_week\") == f.col(\"new_cases\"))\n",
        "    .sort(f.col(\"max_cases_week\").desc())\n",
        "    .select(\n",
        "        \"date\",\n",
        "        \"location\",\n",
        "        \"new_cases\"\n",
        "    )\n",
        "    .show(10)\n",
        ")"
      ],
      "metadata": {
        "colab": {
          "base_uri": "https://localhost:8080/"
        },
        "id": "jIqgb9LnwDaB",
        "outputId": "70c14155-45f5-437c-8f2a-992523100fef"
      },
      "execution_count": 15,
      "outputs": [
        {
          "output_type": "stream",
          "name": "stdout",
          "text": [
            "+----------+-------------+---------+\n",
            "|      date|     location|new_cases|\n",
            "+----------+-------------+---------+\n",
            "|2021-03-25|       Brazil| 100158.0|\n",
            "|2021-03-26|United States|  77321.0|\n",
            "|2021-03-31|        India|  72330.0|\n",
            "|2021-03-31|       France|  59054.0|\n",
            "|2021-03-31|       Turkey|  39302.0|\n",
            "|2021-03-26|       Poland|  35145.0|\n",
            "|2021-03-31|      Germany|  25014.0|\n",
            "|2021-03-26|        Italy|  24076.0|\n",
            "|2021-03-25|         Peru|  19206.0|\n",
            "|2021-03-26|      Ukraine|  18226.0|\n",
            "+----------+-------------+---------+\n",
            "only showing top 10 rows\n",
            "\n"
          ]
        }
      ]
    },
    {
      "cell_type": "markdown",
      "source": [
        "### Задание 3\n",
        "Изменение случаев относительно предыдущего дня в России за последнюю неделю марта 2021.\n",
        "\n",
        "(например: в россии вчера было 9150 , сегодня 8763, итог: -387)\n",
        "\n",
        "(в выходящем датасете необходимы колонки: число, кол-во новых случаев вчера, кол-во новых случаев сегодня, дельта)"
      ],
      "metadata": {
        "id": "1vPREqy2G6Y9"
      }
    },
    {
      "cell_type": "code",
      "source": [
        "window = Window.partitionBy(\"iso_code\").orderBy(f.col(\"date\"))\n",
        "\n",
        "(\n",
        "    df\n",
        "    .where(\n",
        "        (df.date >= \"2021-03-24\") \n",
        "        & (df.date <= \"2021-03-31\")\n",
        "        & (df.iso_code == 'RUS')\n",
        "    )\n",
        "    .withColumn(\"yesterday_new_cases\", f.lag(\"new_cases\", 1).over(window))\n",
        "    .select(\n",
        "        \"date\",\n",
        "        \"yesterday_new_cases\",\n",
        "        \"new_cases\",\n",
        "        (f.col(\"new_cases\") - f.col(\"yesterday_new_cases\")).alias(\"delta\")\n",
        "    )\n",
        "    .orderBy(f.col(\"date\").desc())\n",
        "    .limit(7)\n",
        "    .orderBy(f.col(\"date\"))\n",
        "    .show()\n",
        ")"
      ],
      "metadata": {
        "colab": {
          "base_uri": "https://localhost:8080/"
        },
        "id": "00Xj47LQwTRS",
        "outputId": "7e4c5e76-adb7-43ff-ddcb-15ac5e4a7492"
      },
      "execution_count": 16,
      "outputs": [
        {
          "output_type": "stream",
          "name": "stdout",
          "text": [
            "+----------+-------------------+---------+------+\n",
            "|      date|yesterday_new_cases|new_cases| delta|\n",
            "+----------+-------------------+---------+------+\n",
            "|2021-03-25|             8769.0|   9128.0| 359.0|\n",
            "|2021-03-26|             9128.0|   9073.0| -55.0|\n",
            "|2021-03-27|             9073.0|   8783.0|-290.0|\n",
            "|2021-03-28|             8783.0|   8979.0| 196.0|\n",
            "|2021-03-29|             8979.0|   8589.0|-390.0|\n",
            "|2021-03-30|             8589.0|   8162.0|-427.0|\n",
            "|2021-03-31|             8162.0|   8156.0|  -6.0|\n",
            "+----------+-------------------+---------+------+\n",
            "\n"
          ]
        }
      ]
    }
  ],
  "metadata": {
    "colab": {
      "name": "spark_covid.ipynb",
      "provenance": [],
      "authorship_tag": "ABX9TyMVf5L2h30bB+iBlmCFiyvM",
      "include_colab_link": true
    },
    "kernelspec": {
      "display_name": "Python 3",
      "name": "python3"
    },
    "language_info": {
      "name": "python"
    }
  },
  "nbformat": 4,
  "nbformat_minor": 0
}