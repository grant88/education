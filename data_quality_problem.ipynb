{
 "cells": [
  {
   "cell_type": "markdown",
   "id": "55d947b1",
   "metadata": {},
   "source": [
    "<title>Проблема качества данных на примере Titanic-Dataset</title>"
   ]
  },
  {
   "cell_type": "code",
   "execution_count": 1,
   "id": "dcbf8056",
   "metadata": {
    "ExecuteTime": {
     "end_time": "2022-07-30T12:23:43.890080Z",
     "start_time": "2022-07-30T12:23:40.237643Z"
    }
   },
   "outputs": [],
   "source": [
    "import pandas as pd\n",
    "import numpy as np\n",
    "import matplotlib.pyplot as plt\n",
    "from sklearn.preprocessing import StandardScaler\n",
    "from sklearn.model_selection import train_test_split\n",
    "from sklearn.linear_model import LogisticRegression\n",
    "\n",
    "from sklearn.metrics import precision_score, recall_score"
   ]
  },
  {
   "cell_type": "markdown",
   "id": "49310744",
   "metadata": {},
   "source": [
    "# Получение и загрузка данных"
   ]
  },
  {
   "cell_type": "code",
   "execution_count": 2,
   "id": "5a993e86",
   "metadata": {
    "ExecuteTime": {
     "end_time": "2022-07-30T12:23:43.905219Z",
     "start_time": "2022-07-30T12:23:43.894799Z"
    }
   },
   "outputs": [],
   "source": [
    "df = pd.read_csv('train.csv')"
   ]
  },
  {
   "cell_type": "code",
   "execution_count": 3,
   "id": "65617d0b",
   "metadata": {
    "ExecuteTime": {
     "end_time": "2022-07-30T12:23:43.968955Z",
     "start_time": "2022-07-30T12:23:43.908327Z"
    }
   },
   "outputs": [
    {
     "data": {
      "text/html": [
       "<div>\n",
       "<style scoped>\n",
       "    .dataframe tbody tr th:only-of-type {\n",
       "        vertical-align: middle;\n",
       "    }\n",
       "\n",
       "    .dataframe tbody tr th {\n",
       "        vertical-align: top;\n",
       "    }\n",
       "\n",
       "    .dataframe thead th {\n",
       "        text-align: right;\n",
       "    }\n",
       "</style>\n",
       "<table border=\"1\" class=\"dataframe\">\n",
       "  <thead>\n",
       "    <tr style=\"text-align: right;\">\n",
       "      <th></th>\n",
       "      <th>PassengerId</th>\n",
       "      <th>Survived</th>\n",
       "      <th>Pclass</th>\n",
       "      <th>Name</th>\n",
       "      <th>Sex</th>\n",
       "      <th>Age</th>\n",
       "      <th>SibSp</th>\n",
       "      <th>Parch</th>\n",
       "      <th>Ticket</th>\n",
       "      <th>Fare</th>\n",
       "      <th>Cabin</th>\n",
       "      <th>Embarked</th>\n",
       "    </tr>\n",
       "  </thead>\n",
       "  <tbody>\n",
       "    <tr>\n",
       "      <th>0</th>\n",
       "      <td>1</td>\n",
       "      <td>0</td>\n",
       "      <td>3</td>\n",
       "      <td>Braund, Mr. Owen Harris</td>\n",
       "      <td>male</td>\n",
       "      <td>22.0</td>\n",
       "      <td>1</td>\n",
       "      <td>0</td>\n",
       "      <td>A/5 21171</td>\n",
       "      <td>7.2500</td>\n",
       "      <td>NaN</td>\n",
       "      <td>S</td>\n",
       "    </tr>\n",
       "    <tr>\n",
       "      <th>1</th>\n",
       "      <td>2</td>\n",
       "      <td>1</td>\n",
       "      <td>1</td>\n",
       "      <td>Cumings, Mrs. John Bradley (Florence Briggs Th...</td>\n",
       "      <td>female</td>\n",
       "      <td>38.0</td>\n",
       "      <td>1</td>\n",
       "      <td>0</td>\n",
       "      <td>PC 17599</td>\n",
       "      <td>71.2833</td>\n",
       "      <td>C85</td>\n",
       "      <td>C</td>\n",
       "    </tr>\n",
       "    <tr>\n",
       "      <th>2</th>\n",
       "      <td>3</td>\n",
       "      <td>1</td>\n",
       "      <td>3</td>\n",
       "      <td>Heikkinen, Miss. Laina</td>\n",
       "      <td>female</td>\n",
       "      <td>26.0</td>\n",
       "      <td>0</td>\n",
       "      <td>0</td>\n",
       "      <td>STON/O2. 3101282</td>\n",
       "      <td>7.9250</td>\n",
       "      <td>NaN</td>\n",
       "      <td>S</td>\n",
       "    </tr>\n",
       "    <tr>\n",
       "      <th>3</th>\n",
       "      <td>4</td>\n",
       "      <td>1</td>\n",
       "      <td>1</td>\n",
       "      <td>Futrelle, Mrs. Jacques Heath (Lily May Peel)</td>\n",
       "      <td>female</td>\n",
       "      <td>35.0</td>\n",
       "      <td>1</td>\n",
       "      <td>0</td>\n",
       "      <td>113803</td>\n",
       "      <td>53.1000</td>\n",
       "      <td>C123</td>\n",
       "      <td>S</td>\n",
       "    </tr>\n",
       "    <tr>\n",
       "      <th>4</th>\n",
       "      <td>5</td>\n",
       "      <td>0</td>\n",
       "      <td>3</td>\n",
       "      <td>Allen, Mr. William Henry</td>\n",
       "      <td>male</td>\n",
       "      <td>35.0</td>\n",
       "      <td>0</td>\n",
       "      <td>0</td>\n",
       "      <td>373450</td>\n",
       "      <td>8.0500</td>\n",
       "      <td>NaN</td>\n",
       "      <td>S</td>\n",
       "    </tr>\n",
       "  </tbody>\n",
       "</table>\n",
       "</div>"
      ],
      "text/plain": [
       "   PassengerId  Survived  Pclass  \\\n",
       "0            1         0       3   \n",
       "1            2         1       1   \n",
       "2            3         1       3   \n",
       "3            4         1       1   \n",
       "4            5         0       3   \n",
       "\n",
       "                                                Name     Sex   Age  SibSp  \\\n",
       "0                            Braund, Mr. Owen Harris    male  22.0      1   \n",
       "1  Cumings, Mrs. John Bradley (Florence Briggs Th...  female  38.0      1   \n",
       "2                             Heikkinen, Miss. Laina  female  26.0      0   \n",
       "3       Futrelle, Mrs. Jacques Heath (Lily May Peel)  female  35.0      1   \n",
       "4                           Allen, Mr. William Henry    male  35.0      0   \n",
       "\n",
       "   Parch            Ticket     Fare Cabin Embarked  \n",
       "0      0         A/5 21171   7.2500   NaN        S  \n",
       "1      0          PC 17599  71.2833   C85        C  \n",
       "2      0  STON/O2. 3101282   7.9250   NaN        S  \n",
       "3      0            113803  53.1000  C123        S  \n",
       "4      0            373450   8.0500   NaN        S  "
      ]
     },
     "execution_count": 3,
     "metadata": {},
     "output_type": "execute_result"
    }
   ],
   "source": [
    "df.head()"
   ]
  },
  {
   "cell_type": "code",
   "execution_count": 4,
   "id": "ef43564d",
   "metadata": {
    "ExecuteTime": {
     "end_time": "2022-07-30T12:23:43.997628Z",
     "start_time": "2022-07-30T12:23:43.971206Z"
    }
   },
   "outputs": [
    {
     "name": "stdout",
     "output_type": "stream",
     "text": [
      "<class 'pandas.core.frame.DataFrame'>\n",
      "RangeIndex: 891 entries, 0 to 890\n",
      "Data columns (total 12 columns):\n",
      " #   Column       Non-Null Count  Dtype  \n",
      "---  ------       --------------  -----  \n",
      " 0   PassengerId  891 non-null    int64  \n",
      " 1   Survived     891 non-null    int64  \n",
      " 2   Pclass       891 non-null    int64  \n",
      " 3   Name         891 non-null    object \n",
      " 4   Sex          891 non-null    object \n",
      " 5   Age          714 non-null    float64\n",
      " 6   SibSp        891 non-null    int64  \n",
      " 7   Parch        891 non-null    int64  \n",
      " 8   Ticket       891 non-null    object \n",
      " 9   Fare         891 non-null    float64\n",
      " 10  Cabin        204 non-null    object \n",
      " 11  Embarked     889 non-null    object \n",
      "dtypes: float64(2), int64(5), object(5)\n",
      "memory usage: 83.7+ KB\n"
     ]
    }
   ],
   "source": [
    "df.info()"
   ]
  },
  {
   "cell_type": "code",
   "execution_count": 5,
   "id": "f246c2b7",
   "metadata": {
    "ExecuteTime": {
     "end_time": "2022-07-30T12:23:44.040753Z",
     "start_time": "2022-07-30T12:23:43.999684Z"
    }
   },
   "outputs": [
    {
     "data": {
      "text/html": [
       "<div>\n",
       "<style scoped>\n",
       "    .dataframe tbody tr th:only-of-type {\n",
       "        vertical-align: middle;\n",
       "    }\n",
       "\n",
       "    .dataframe tbody tr th {\n",
       "        vertical-align: top;\n",
       "    }\n",
       "\n",
       "    .dataframe thead th {\n",
       "        text-align: right;\n",
       "    }\n",
       "</style>\n",
       "<table border=\"1\" class=\"dataframe\">\n",
       "  <thead>\n",
       "    <tr style=\"text-align: right;\">\n",
       "      <th></th>\n",
       "      <th>count</th>\n",
       "      <th>mean</th>\n",
       "      <th>std</th>\n",
       "      <th>min</th>\n",
       "      <th>25%</th>\n",
       "      <th>50%</th>\n",
       "      <th>75%</th>\n",
       "      <th>max</th>\n",
       "    </tr>\n",
       "  </thead>\n",
       "  <tbody>\n",
       "    <tr>\n",
       "      <th>PassengerId</th>\n",
       "      <td>891.0</td>\n",
       "      <td>446.000000</td>\n",
       "      <td>257.353842</td>\n",
       "      <td>1.00</td>\n",
       "      <td>223.5000</td>\n",
       "      <td>446.0000</td>\n",
       "      <td>668.5</td>\n",
       "      <td>891.0000</td>\n",
       "    </tr>\n",
       "    <tr>\n",
       "      <th>Survived</th>\n",
       "      <td>891.0</td>\n",
       "      <td>0.383838</td>\n",
       "      <td>0.486592</td>\n",
       "      <td>0.00</td>\n",
       "      <td>0.0000</td>\n",
       "      <td>0.0000</td>\n",
       "      <td>1.0</td>\n",
       "      <td>1.0000</td>\n",
       "    </tr>\n",
       "    <tr>\n",
       "      <th>Pclass</th>\n",
       "      <td>891.0</td>\n",
       "      <td>2.308642</td>\n",
       "      <td>0.836071</td>\n",
       "      <td>1.00</td>\n",
       "      <td>2.0000</td>\n",
       "      <td>3.0000</td>\n",
       "      <td>3.0</td>\n",
       "      <td>3.0000</td>\n",
       "    </tr>\n",
       "    <tr>\n",
       "      <th>Age</th>\n",
       "      <td>714.0</td>\n",
       "      <td>29.699118</td>\n",
       "      <td>14.526497</td>\n",
       "      <td>0.42</td>\n",
       "      <td>20.1250</td>\n",
       "      <td>28.0000</td>\n",
       "      <td>38.0</td>\n",
       "      <td>80.0000</td>\n",
       "    </tr>\n",
       "    <tr>\n",
       "      <th>SibSp</th>\n",
       "      <td>891.0</td>\n",
       "      <td>0.523008</td>\n",
       "      <td>1.102743</td>\n",
       "      <td>0.00</td>\n",
       "      <td>0.0000</td>\n",
       "      <td>0.0000</td>\n",
       "      <td>1.0</td>\n",
       "      <td>8.0000</td>\n",
       "    </tr>\n",
       "    <tr>\n",
       "      <th>Parch</th>\n",
       "      <td>891.0</td>\n",
       "      <td>0.381594</td>\n",
       "      <td>0.806057</td>\n",
       "      <td>0.00</td>\n",
       "      <td>0.0000</td>\n",
       "      <td>0.0000</td>\n",
       "      <td>0.0</td>\n",
       "      <td>6.0000</td>\n",
       "    </tr>\n",
       "    <tr>\n",
       "      <th>Fare</th>\n",
       "      <td>891.0</td>\n",
       "      <td>32.204208</td>\n",
       "      <td>49.693429</td>\n",
       "      <td>0.00</td>\n",
       "      <td>7.9104</td>\n",
       "      <td>14.4542</td>\n",
       "      <td>31.0</td>\n",
       "      <td>512.3292</td>\n",
       "    </tr>\n",
       "  </tbody>\n",
       "</table>\n",
       "</div>"
      ],
      "text/plain": [
       "             count        mean         std   min       25%       50%    75%  \\\n",
       "PassengerId  891.0  446.000000  257.353842  1.00  223.5000  446.0000  668.5   \n",
       "Survived     891.0    0.383838    0.486592  0.00    0.0000    0.0000    1.0   \n",
       "Pclass       891.0    2.308642    0.836071  1.00    2.0000    3.0000    3.0   \n",
       "Age          714.0   29.699118   14.526497  0.42   20.1250   28.0000   38.0   \n",
       "SibSp        891.0    0.523008    1.102743  0.00    0.0000    0.0000    1.0   \n",
       "Parch        891.0    0.381594    0.806057  0.00    0.0000    0.0000    0.0   \n",
       "Fare         891.0   32.204208   49.693429  0.00    7.9104   14.4542   31.0   \n",
       "\n",
       "                  max  \n",
       "PassengerId  891.0000  \n",
       "Survived       1.0000  \n",
       "Pclass         3.0000  \n",
       "Age           80.0000  \n",
       "SibSp          8.0000  \n",
       "Parch          6.0000  \n",
       "Fare         512.3292  "
      ]
     },
     "execution_count": 5,
     "metadata": {},
     "output_type": "execute_result"
    }
   ],
   "source": [
    "df.describe().T"
   ]
  },
  {
   "cell_type": "markdown",
   "id": "bcf56b09",
   "metadata": {
    "ExecuteTime": {
     "end_time": "2022-07-30T09:05:24.281424Z",
     "start_time": "2022-07-30T09:05:24.266812Z"
    }
   },
   "source": [
    "# Удаление пропущенных значений и категориальных переменных. Обучение модели1. Выбор и подсчет метрики качества."
   ]
  },
  {
   "cell_type": "markdown",
   "id": "38379cd2",
   "metadata": {},
   "source": [
    "Удалим столбцы с категориальными переменными"
   ]
  },
  {
   "cell_type": "code",
   "execution_count": 6,
   "id": "eafbfa7a",
   "metadata": {
    "ExecuteTime": {
     "end_time": "2022-07-30T12:23:44.063203Z",
     "start_time": "2022-07-30T12:23:44.042754Z"
    }
   },
   "outputs": [],
   "source": [
    "dataset1 = df.drop(columns=['PassengerId', 'Pclass', 'Name', 'Sex', 'Ticket', 'Cabin', 'Embarked'])"
   ]
  },
  {
   "cell_type": "code",
   "execution_count": 7,
   "id": "4b86a02a",
   "metadata": {
    "ExecuteTime": {
     "end_time": "2022-07-30T12:23:44.083154Z",
     "start_time": "2022-07-30T12:23:44.065587Z"
    }
   },
   "outputs": [
    {
     "name": "stdout",
     "output_type": "stream",
     "text": [
      "<class 'pandas.core.frame.DataFrame'>\n",
      "RangeIndex: 891 entries, 0 to 890\n",
      "Data columns (total 5 columns):\n",
      " #   Column    Non-Null Count  Dtype  \n",
      "---  ------    --------------  -----  \n",
      " 0   Survived  891 non-null    int64  \n",
      " 1   Age       714 non-null    float64\n",
      " 2   SibSp     891 non-null    int64  \n",
      " 3   Parch     891 non-null    int64  \n",
      " 4   Fare      891 non-null    float64\n",
      "dtypes: float64(2), int64(3)\n",
      "memory usage: 34.9 KB\n"
     ]
    }
   ],
   "source": [
    "dataset1.info()"
   ]
  },
  {
   "cell_type": "markdown",
   "id": "f52eedc3",
   "metadata": {},
   "source": [
    "Пропущенные значения остались в стобце `Age`, удалим их"
   ]
  },
  {
   "cell_type": "code",
   "execution_count": 8,
   "id": "516f820e",
   "metadata": {
    "ExecuteTime": {
     "end_time": "2022-07-30T12:23:44.091779Z",
     "start_time": "2022-07-30T12:23:44.084779Z"
    }
   },
   "outputs": [],
   "source": [
    "dataset1 = dataset1[~dataset1['Age'].isna()]"
   ]
  },
  {
   "cell_type": "markdown",
   "id": "1c8ff658",
   "metadata": {},
   "source": [
    "Разделим выборку на train, test части"
   ]
  },
  {
   "cell_type": "code",
   "execution_count": 9,
   "id": "4bd76a86",
   "metadata": {
    "ExecuteTime": {
     "end_time": "2022-07-30T12:23:44.103353Z",
     "start_time": "2022-07-30T12:23:44.093987Z"
    }
   },
   "outputs": [],
   "source": [
    "X = dataset1.drop(columns='Survived')\n",
    "Y = dataset1['Survived']\n",
    "X_train, X_test, Y_train, Y_test = train_test_split(X, Y, test_size=0.2)"
   ]
  },
  {
   "cell_type": "code",
   "execution_count": 10,
   "id": "e902b80a",
   "metadata": {
    "ExecuteTime": {
     "end_time": "2022-07-30T12:23:44.165715Z",
     "start_time": "2022-07-30T12:23:44.104991Z"
    }
   },
   "outputs": [
    {
     "name": "stdout",
     "output_type": "stream",
     "text": [
      "accuracy1=0.7202797202797203, precision1=0.875, recall1=0.3620689655172414\n"
     ]
    }
   ],
   "source": [
    "model = LogisticRegression()\n",
    "model.fit(X_train, Y_train)\n",
    "predictions = model.predict(X_test)\n",
    "accuracy1 = model.score(X_test, Y_test)\n",
    "precision1 = precision_score(Y_test, predictions)\n",
    "recall1 = recall_score(Y_test, predictions)\n",
    "print(f'{accuracy1=}, {precision1=}, {recall1=}')"
   ]
  },
  {
   "cell_type": "markdown",
   "id": "fca51824",
   "metadata": {},
   "source": [
    "# Подгрузка данных снова, проставление пропущенных значений"
   ]
  },
  {
   "cell_type": "code",
   "execution_count": 11,
   "id": "62401589",
   "metadata": {
    "ExecuteTime": {
     "end_time": "2022-07-30T12:23:44.184948Z",
     "start_time": "2022-07-30T12:23:44.166912Z"
    }
   },
   "outputs": [],
   "source": [
    "df = pd.read_csv('train.csv')"
   ]
  },
  {
   "cell_type": "code",
   "execution_count": 12,
   "id": "ab7665ac",
   "metadata": {
    "ExecuteTime": {
     "end_time": "2022-07-30T12:23:44.203630Z",
     "start_time": "2022-07-30T12:23:44.189475Z"
    }
   },
   "outputs": [
    {
     "name": "stdout",
     "output_type": "stream",
     "text": [
      "<class 'pandas.core.frame.DataFrame'>\n",
      "RangeIndex: 891 entries, 0 to 890\n",
      "Data columns (total 12 columns):\n",
      " #   Column       Non-Null Count  Dtype  \n",
      "---  ------       --------------  -----  \n",
      " 0   PassengerId  891 non-null    int64  \n",
      " 1   Survived     891 non-null    int64  \n",
      " 2   Pclass       891 non-null    int64  \n",
      " 3   Name         891 non-null    object \n",
      " 4   Sex          891 non-null    object \n",
      " 5   Age          714 non-null    float64\n",
      " 6   SibSp        891 non-null    int64  \n",
      " 7   Parch        891 non-null    int64  \n",
      " 8   Ticket       891 non-null    object \n",
      " 9   Fare         891 non-null    float64\n",
      " 10  Cabin        204 non-null    object \n",
      " 11  Embarked     889 non-null    object \n",
      "dtypes: float64(2), int64(5), object(5)\n",
      "memory usage: 83.7+ KB\n"
     ]
    }
   ],
   "source": [
    "df.info()"
   ]
  },
  {
   "cell_type": "markdown",
   "id": "2b6dc59c",
   "metadata": {
    "ExecuteTime": {
     "end_time": "2022-07-30T10:08:57.114593Z",
     "start_time": "2022-07-30T10:08:57.091697Z"
    }
   },
   "source": [
    "Пропущено 891-714=177 (20%) в колонке `Age`. Предположительно, возраст - сильный признак, который влияет на таргет.\n",
    "Попробуем его заполнить"
   ]
  },
  {
   "cell_type": "markdown",
   "id": "0193f894",
   "metadata": {},
   "source": [
    "## Заполнение отсутствующих значений"
   ]
  },
  {
   "cell_type": "markdown",
   "id": "601723fc",
   "metadata": {},
   "source": [
    "Создадим индикатор отсутствия значения в колонке возраст"
   ]
  },
  {
   "cell_type": "code",
   "execution_count": 13,
   "id": "eb90098e",
   "metadata": {
    "ExecuteTime": {
     "end_time": "2022-07-30T12:23:44.212895Z",
     "start_time": "2022-07-30T12:23:44.205644Z"
    }
   },
   "outputs": [],
   "source": [
    "df['empty_age'] = df['Age'].isna().astype(int)"
   ]
  },
  {
   "cell_type": "markdown",
   "id": "73d18c99",
   "metadata": {},
   "source": [
    "Определим статус каждого пассажира из колонки `Name`"
   ]
  },
  {
   "cell_type": "code",
   "execution_count": 14,
   "id": "e3a6a714",
   "metadata": {
    "ExecuteTime": {
     "end_time": "2022-07-30T12:23:44.231719Z",
     "start_time": "2022-07-30T12:23:44.215110Z"
    }
   },
   "outputs": [],
   "source": [
    "df['status'] = df['Name'].str.replace('.', ',', regex=False).str.split(',', n=2, expand=True)[1]"
   ]
  },
  {
   "cell_type": "markdown",
   "id": "370296b9",
   "metadata": {},
   "source": [
    "Определившееся статусы пассажиров:"
   ]
  },
  {
   "cell_type": "code",
   "execution_count": 15,
   "id": "b0d00254",
   "metadata": {
    "ExecuteTime": {
     "end_time": "2022-07-30T12:23:44.241212Z",
     "start_time": "2022-07-30T12:23:44.233914Z"
    }
   },
   "outputs": [
    {
     "data": {
      "text/plain": [
       " Mr              517\n",
       " Miss            182\n",
       " Mrs             125\n",
       " Master           40\n",
       " Dr                7\n",
       " Rev               6\n",
       " Mlle              2\n",
       " Major             2\n",
       " Col               2\n",
       " the Countess      1\n",
       " Capt              1\n",
       " Ms                1\n",
       " Sir               1\n",
       " Lady              1\n",
       " Mme               1\n",
       " Don               1\n",
       " Jonkheer          1\n",
       "Name: status, dtype: int64"
      ]
     },
     "execution_count": 15,
     "metadata": {},
     "output_type": "execute_result"
    }
   ],
   "source": [
    "df['status'].value_counts()"
   ]
  },
  {
   "cell_type": "markdown",
   "id": "5e5aaae9",
   "metadata": {},
   "source": [
    "Определим средний возраст для каждого статуса пассажира на основе записей, у которых `Age` заполнен"
   ]
  },
  {
   "cell_type": "code",
   "execution_count": 16,
   "id": "9e9c564c",
   "metadata": {
    "ExecuteTime": {
     "end_time": "2022-07-30T12:23:44.259491Z",
     "start_time": "2022-07-30T12:23:44.243348Z"
    }
   },
   "outputs": [
    {
     "data": {
      "text/html": [
       "<div>\n",
       "<style scoped>\n",
       "    .dataframe tbody tr th:only-of-type {\n",
       "        vertical-align: middle;\n",
       "    }\n",
       "\n",
       "    .dataframe tbody tr th {\n",
       "        vertical-align: top;\n",
       "    }\n",
       "\n",
       "    .dataframe thead th {\n",
       "        text-align: right;\n",
       "    }\n",
       "</style>\n",
       "<table border=\"1\" class=\"dataframe\">\n",
       "  <thead>\n",
       "    <tr style=\"text-align: right;\">\n",
       "      <th></th>\n",
       "      <th>status</th>\n",
       "      <th>Age</th>\n",
       "    </tr>\n",
       "  </thead>\n",
       "  <tbody>\n",
       "    <tr>\n",
       "      <th>0</th>\n",
       "      <td>Capt</td>\n",
       "      <td>70.0</td>\n",
       "    </tr>\n",
       "    <tr>\n",
       "      <th>1</th>\n",
       "      <td>Col</td>\n",
       "      <td>58.0</td>\n",
       "    </tr>\n",
       "    <tr>\n",
       "      <th>2</th>\n",
       "      <td>Don</td>\n",
       "      <td>40.0</td>\n",
       "    </tr>\n",
       "    <tr>\n",
       "      <th>3</th>\n",
       "      <td>Dr</td>\n",
       "      <td>42.0</td>\n",
       "    </tr>\n",
       "    <tr>\n",
       "      <th>4</th>\n",
       "      <td>Jonkheer</td>\n",
       "      <td>38.0</td>\n",
       "    </tr>\n",
       "  </tbody>\n",
       "</table>\n",
       "</div>"
      ],
      "text/plain": [
       "      status   Age\n",
       "0       Capt  70.0\n",
       "1        Col  58.0\n",
       "2        Don  40.0\n",
       "3         Dr  42.0\n",
       "4   Jonkheer  38.0"
      ]
     },
     "execution_count": 16,
     "metadata": {},
     "output_type": "execute_result"
    }
   ],
   "source": [
    "avg_age_for_status = df[~df.status.isna()][['status','Age']].groupby('status').mean().reset_index()\n",
    "avg_age_for_status.head()"
   ]
  },
  {
   "cell_type": "markdown",
   "id": "9ebe9841",
   "metadata": {},
   "source": [
    "Добавим средний возраст для статуса"
   ]
  },
  {
   "cell_type": "code",
   "execution_count": 17,
   "id": "7e539e75",
   "metadata": {
    "ExecuteTime": {
     "end_time": "2022-07-30T12:23:44.281134Z",
     "start_time": "2022-07-30T12:23:44.261487Z"
    }
   },
   "outputs": [],
   "source": [
    "df = df.merge(avg_age_for_status, on='status', suffixes=('', '_avg'))"
   ]
  },
  {
   "cell_type": "code",
   "execution_count": 18,
   "id": "ff960e0c",
   "metadata": {
    "ExecuteTime": {
     "end_time": "2022-07-30T12:23:44.316291Z",
     "start_time": "2022-07-30T12:23:44.282132Z"
    }
   },
   "outputs": [
    {
     "data": {
      "text/html": [
       "<div>\n",
       "<style scoped>\n",
       "    .dataframe tbody tr th:only-of-type {\n",
       "        vertical-align: middle;\n",
       "    }\n",
       "\n",
       "    .dataframe tbody tr th {\n",
       "        vertical-align: top;\n",
       "    }\n",
       "\n",
       "    .dataframe thead th {\n",
       "        text-align: right;\n",
       "    }\n",
       "</style>\n",
       "<table border=\"1\" class=\"dataframe\">\n",
       "  <thead>\n",
       "    <tr style=\"text-align: right;\">\n",
       "      <th></th>\n",
       "      <th>PassengerId</th>\n",
       "      <th>Survived</th>\n",
       "      <th>Pclass</th>\n",
       "      <th>Name</th>\n",
       "      <th>Sex</th>\n",
       "      <th>Age</th>\n",
       "      <th>SibSp</th>\n",
       "      <th>Parch</th>\n",
       "      <th>Ticket</th>\n",
       "      <th>Fare</th>\n",
       "      <th>Cabin</th>\n",
       "      <th>Embarked</th>\n",
       "      <th>empty_age</th>\n",
       "      <th>status</th>\n",
       "      <th>Age_avg</th>\n",
       "    </tr>\n",
       "  </thead>\n",
       "  <tbody>\n",
       "    <tr>\n",
       "      <th>0</th>\n",
       "      <td>1</td>\n",
       "      <td>0</td>\n",
       "      <td>3</td>\n",
       "      <td>Braund, Mr. Owen Harris</td>\n",
       "      <td>male</td>\n",
       "      <td>22.0</td>\n",
       "      <td>1</td>\n",
       "      <td>0</td>\n",
       "      <td>A/5 21171</td>\n",
       "      <td>7.2500</td>\n",
       "      <td>NaN</td>\n",
       "      <td>S</td>\n",
       "      <td>0</td>\n",
       "      <td>Mr</td>\n",
       "      <td>32.36809</td>\n",
       "    </tr>\n",
       "    <tr>\n",
       "      <th>1</th>\n",
       "      <td>5</td>\n",
       "      <td>0</td>\n",
       "      <td>3</td>\n",
       "      <td>Allen, Mr. William Henry</td>\n",
       "      <td>male</td>\n",
       "      <td>35.0</td>\n",
       "      <td>0</td>\n",
       "      <td>0</td>\n",
       "      <td>373450</td>\n",
       "      <td>8.0500</td>\n",
       "      <td>NaN</td>\n",
       "      <td>S</td>\n",
       "      <td>0</td>\n",
       "      <td>Mr</td>\n",
       "      <td>32.36809</td>\n",
       "    </tr>\n",
       "    <tr>\n",
       "      <th>2</th>\n",
       "      <td>6</td>\n",
       "      <td>0</td>\n",
       "      <td>3</td>\n",
       "      <td>Moran, Mr. James</td>\n",
       "      <td>male</td>\n",
       "      <td>NaN</td>\n",
       "      <td>0</td>\n",
       "      <td>0</td>\n",
       "      <td>330877</td>\n",
       "      <td>8.4583</td>\n",
       "      <td>NaN</td>\n",
       "      <td>Q</td>\n",
       "      <td>1</td>\n",
       "      <td>Mr</td>\n",
       "      <td>32.36809</td>\n",
       "    </tr>\n",
       "    <tr>\n",
       "      <th>3</th>\n",
       "      <td>7</td>\n",
       "      <td>0</td>\n",
       "      <td>1</td>\n",
       "      <td>McCarthy, Mr. Timothy J</td>\n",
       "      <td>male</td>\n",
       "      <td>54.0</td>\n",
       "      <td>0</td>\n",
       "      <td>0</td>\n",
       "      <td>17463</td>\n",
       "      <td>51.8625</td>\n",
       "      <td>E46</td>\n",
       "      <td>S</td>\n",
       "      <td>0</td>\n",
       "      <td>Mr</td>\n",
       "      <td>32.36809</td>\n",
       "    </tr>\n",
       "    <tr>\n",
       "      <th>4</th>\n",
       "      <td>13</td>\n",
       "      <td>0</td>\n",
       "      <td>3</td>\n",
       "      <td>Saundercock, Mr. William Henry</td>\n",
       "      <td>male</td>\n",
       "      <td>20.0</td>\n",
       "      <td>0</td>\n",
       "      <td>0</td>\n",
       "      <td>A/5. 2151</td>\n",
       "      <td>8.0500</td>\n",
       "      <td>NaN</td>\n",
       "      <td>S</td>\n",
       "      <td>0</td>\n",
       "      <td>Mr</td>\n",
       "      <td>32.36809</td>\n",
       "    </tr>\n",
       "  </tbody>\n",
       "</table>\n",
       "</div>"
      ],
      "text/plain": [
       "   PassengerId  Survived  Pclass                            Name   Sex   Age  \\\n",
       "0            1         0       3         Braund, Mr. Owen Harris  male  22.0   \n",
       "1            5         0       3        Allen, Mr. William Henry  male  35.0   \n",
       "2            6         0       3                Moran, Mr. James  male   NaN   \n",
       "3            7         0       1         McCarthy, Mr. Timothy J  male  54.0   \n",
       "4           13         0       3  Saundercock, Mr. William Henry  male  20.0   \n",
       "\n",
       "   SibSp  Parch     Ticket     Fare Cabin Embarked  empty_age status   Age_avg  \n",
       "0      1      0  A/5 21171   7.2500   NaN        S          0     Mr  32.36809  \n",
       "1      0      0     373450   8.0500   NaN        S          0     Mr  32.36809  \n",
       "2      0      0     330877   8.4583   NaN        Q          1     Mr  32.36809  \n",
       "3      0      0      17463  51.8625   E46        S          0     Mr  32.36809  \n",
       "4      0      0  A/5. 2151   8.0500   NaN        S          0     Mr  32.36809  "
      ]
     },
     "execution_count": 18,
     "metadata": {},
     "output_type": "execute_result"
    }
   ],
   "source": [
    "df.head()"
   ]
  },
  {
   "cell_type": "markdown",
   "id": "11ab0931",
   "metadata": {},
   "source": [
    "Проставим средний возраст согласно статусу, для записей с пустым `Age`"
   ]
  },
  {
   "cell_type": "code",
   "execution_count": 19,
   "id": "e2884c0e",
   "metadata": {
    "ExecuteTime": {
     "end_time": "2022-07-30T12:23:44.325484Z",
     "start_time": "2022-07-30T12:23:44.317751Z"
    }
   },
   "outputs": [],
   "source": [
    "df.loc[df.Age.isna(), 'Age'] = df.loc[df.Age.isna(), 'Age_avg']"
   ]
  },
  {
   "cell_type": "markdown",
   "id": "43f57cb0",
   "metadata": {},
   "source": [
    "# Удаление ненужных признаков"
   ]
  },
  {
   "cell_type": "markdown",
   "id": "589a1159",
   "metadata": {},
   "source": [
    "Логически нам не понадобятся признаки:\n",
    "* `PassengerId` - порядковыый номер пассажира, выдаваться может хоатично, например по мере покупки/бронирования билетов\n",
    "* `Name` - имя человека не влияет\n",
    "* `Ticket` - аналогично с `PassengerId` может выдаваться хоатично\n",
    "* `Cabin` - может влиять, но для этого потребуется слишком тонкий анализ расположения номера кабины на уровнях палубы и прочее. В нашем случае будем считать, что это поле влияния не оказывает\n",
    "* `Embarked` - может влиять, по аналогии с `Cabin`, но в нашем случае будем считать, что это поле влияния не оказывает\n",
    "* `Age_avg` - технический столбец, можно удалить\n",
    "* `status` - технический столбец, можно удалить"
   ]
  },
  {
   "cell_type": "code",
   "execution_count": 20,
   "id": "ad48acae",
   "metadata": {
    "ExecuteTime": {
     "end_time": "2022-07-30T12:23:44.334772Z",
     "start_time": "2022-07-30T12:23:44.326485Z"
    }
   },
   "outputs": [],
   "source": [
    "dataset2 = df.drop(columns=['PassengerId', 'Name', 'Ticket', 'Cabin', 'Embarked', 'Age_avg', 'status'])"
   ]
  },
  {
   "cell_type": "markdown",
   "id": "de4ef583",
   "metadata": {},
   "source": [
    "# Проверка данных на пропущенные значения"
   ]
  },
  {
   "cell_type": "code",
   "execution_count": 21,
   "id": "79dc8612",
   "metadata": {
    "ExecuteTime": {
     "end_time": "2022-07-30T12:23:44.352399Z",
     "start_time": "2022-07-30T12:23:44.336771Z"
    }
   },
   "outputs": [
    {
     "name": "stdout",
     "output_type": "stream",
     "text": [
      "<class 'pandas.core.frame.DataFrame'>\n",
      "Int64Index: 891 entries, 0 to 890\n",
      "Data columns (total 8 columns):\n",
      " #   Column     Non-Null Count  Dtype  \n",
      "---  ------     --------------  -----  \n",
      " 0   Survived   891 non-null    int64  \n",
      " 1   Pclass     891 non-null    int64  \n",
      " 2   Sex        891 non-null    object \n",
      " 3   Age        891 non-null    float64\n",
      " 4   SibSp      891 non-null    int64  \n",
      " 5   Parch      891 non-null    int64  \n",
      " 6   Fare       891 non-null    float64\n",
      " 7   empty_age  891 non-null    int32  \n",
      "dtypes: float64(2), int32(1), int64(4), object(1)\n",
      "memory usage: 59.2+ KB\n"
     ]
    }
   ],
   "source": [
    "dataset2.info()"
   ]
  },
  {
   "cell_type": "markdown",
   "id": "567867b6",
   "metadata": {},
   "source": [
    "Нужные поля выбраны, пустые значения заполнены"
   ]
  },
  {
   "cell_type": "markdown",
   "id": "ec844ba2",
   "metadata": {},
   "source": [
    "# Перевод категориальных переменных в цифровые значения. "
   ]
  },
  {
   "cell_type": "code",
   "execution_count": 22,
   "id": "b1aac36a",
   "metadata": {
    "ExecuteTime": {
     "end_time": "2022-07-30T12:23:44.375272Z",
     "start_time": "2022-07-30T12:23:44.353476Z"
    }
   },
   "outputs": [],
   "source": [
    "df_with_selected_columns = dataset2[['Pclass', 'Sex', 'Age', 'SibSp', 'Parch', 'Fare', 'empty_age', 'Survived']]\n",
    "X = pd.get_dummies(df_with_selected_columns, columns=['Pclass', 'Sex'])"
   ]
  },
  {
   "cell_type": "markdown",
   "id": "81fa2385",
   "metadata": {},
   "source": [
    "# Проверка данных на наличие выбросов"
   ]
  },
  {
   "cell_type": "markdown",
   "id": "85a55833",
   "metadata": {},
   "source": [
    "## Рассмотрим распределение значений `Age`"
   ]
  },
  {
   "cell_type": "code",
   "execution_count": 23,
   "id": "072c1777",
   "metadata": {
    "ExecuteTime": {
     "end_time": "2022-07-30T12:23:44.634384Z",
     "start_time": "2022-07-30T12:23:44.377271Z"
    }
   },
   "outputs": [
    {
     "data": {
      "image/png": "[encoded data removed]",
      "text/plain": [
       "<Figure size 648x648 with 1 Axes>"
      ]
     },
     "metadata": {
      "needs_background": "light"
     },
     "output_type": "display_data"
    }
   ],
   "source": [
    "plt.figure(figsize=(9, 9))\n",
    "plt.hist(X.Age, bins=50)\n",
    "plt.title('Age histogramm')\n",
    "plt.xlabel('Age')\n",
    "plt.ylabel('Count')\n",
    "plt.show()"
   ]
  },
  {
   "cell_type": "markdown",
   "id": "fc9d2df2",
   "metadata": {},
   "source": [
    "В целом, возраст распределен нормально"
   ]
  },
  {
   "cell_type": "markdown",
   "id": "80c3dbd5",
   "metadata": {},
   "source": [
    "## Рассмотрим распределение `Fare`"
   ]
  },
  {
   "cell_type": "code",
   "execution_count": 24,
   "id": "44a5f3df",
   "metadata": {
    "ExecuteTime": {
     "end_time": "2022-07-30T12:23:44.849385Z",
     "start_time": "2022-07-30T12:23:44.636749Z"
    }
   },
   "outputs": [
    {
     "data": {
      "image/png": "[encoded data removed]",
      "text/plain": [
       "<Figure size 648x648 with 1 Axes>"
      ]
     },
     "metadata": {
      "needs_background": "light"
     },
     "output_type": "display_data"
    }
   ],
   "source": [
    "plt.figure(figsize=(9, 9))\n",
    "plt.hist(X.Fare, bins=50)\n",
    "plt.title('Fare histogramm')\n",
    "plt.xlabel('Fare')\n",
    "plt.ylabel('Count')\n",
    "plt.show()"
   ]
  },
  {
   "cell_type": "markdown",
   "id": "4efc4d75",
   "metadata": {},
   "source": [
    "Построим Boxplot на колонке `Fare`"
   ]
  },
  {
   "cell_type": "code",
   "execution_count": 26,
   "id": "5eda9c6e",
   "metadata": {
    "ExecuteTime": {
     "end_time": "2022-07-30T12:23:45.062355Z",
     "start_time": "2022-07-30T12:23:44.881529Z"
    }
   },
   "outputs": [
    {
     "data": {
      "image/png": "[encoded data removed]",
      "text/plain": [
       "<Figure size 648x648 with 1 Axes>"
      ]
     },
     "metadata": {
      "needs_background": "light"
     },
     "output_type": "display_data"
    }
   ],
   "source": [
    "plt.figure(figsize=(9, 9))\n",
    "plt.boxplot(X.Fare)\n",
    "plt.title('Fare boxplot')\n",
    "plt.ylabel('Fare')\n",
    "plt.show()"
   ]
  },
  {
   "cell_type": "markdown",
   "id": "7f2cc3e0",
   "metadata": {},
   "source": [
    "Удалим выбросы, у которых `Fare` > 200, таких будет менее 2.2% - на итог не должны влиять"
   ]
  },
  {
   "cell_type": "code",
   "execution_count": 27,
   "id": "1cb8d704",
   "metadata": {
    "ExecuteTime": {
     "end_time": "2022-07-30T12:23:45.084803Z",
     "start_time": "2022-07-30T12:23:45.065853Z"
    }
   },
   "outputs": [
    {
     "data": {
      "text/plain": [
       "2.244668911335578"
      ]
     },
     "execution_count": 27,
     "metadata": {},
     "output_type": "execute_result"
    }
   ],
   "source": [
    "100 * len(X[X['Fare'] > 200]) / len(X)"
   ]
  },
  {
   "cell_type": "code",
   "execution_count": 28,
   "id": "6133d10c",
   "metadata": {
    "ExecuteTime": {
     "end_time": "2022-07-30T12:23:45.097266Z",
     "start_time": "2022-07-30T12:23:45.088809Z"
    }
   },
   "outputs": [],
   "source": [
    "X = X[X['Fare'] <= 200]"
   ]
  },
  {
   "cell_type": "markdown",
   "id": "c4b86b7e",
   "metadata": {},
   "source": [
    "## Построим модель2"
   ]
  },
  {
   "cell_type": "code",
   "execution_count": 29,
   "id": "0e4e33bc",
   "metadata": {
    "ExecuteTime": {
     "end_time": "2022-07-30T12:23:45.119610Z",
     "start_time": "2022-07-30T12:23:45.100268Z"
    }
   },
   "outputs": [],
   "source": [
    "Y = X['Survived']\n",
    "X = X.drop(columns='Survived')\n",
    "X_train, X_test, Y_train, Y_test = train_test_split(X, Y, test_size=0.2)\n",
    "sc = StandardScaler()\n",
    "X_train = sc.fit_transform(X_train)\n",
    "X_test = sc.transform(X_test)"
   ]
  },
  {
   "cell_type": "code",
   "execution_count": 30,
   "id": "3d5eb5cf",
   "metadata": {
    "ExecuteTime": {
     "end_time": "2022-07-30T12:23:45.153407Z",
     "start_time": "2022-07-30T12:23:45.121576Z"
    }
   },
   "outputs": [],
   "source": [
    "model = LogisticRegression(max_iter=500)\n",
    "model.fit(X_train, Y_train)\n",
    "predictions = model.predict(X_test)\n",
    "accuracy2 = model.score(X_test, Y_test)\n",
    "precision2 = precision_score(Y_test, predictions)\n",
    "recall2 = recall_score(Y_test, predictions)"
   ]
  },
  {
   "cell_type": "markdown",
   "id": "bcafcf88",
   "metadata": {},
   "source": [
    "## Сравним модели1  и модели2"
   ]
  },
  {
   "cell_type": "code",
   "execution_count": 31,
   "id": "6906e9a4",
   "metadata": {
    "ExecuteTime": {
     "end_time": "2022-07-30T12:23:45.163933Z",
     "start_time": "2022-07-30T12:23:45.156516Z"
    }
   },
   "outputs": [
    {
     "name": "stdout",
     "output_type": "stream",
     "text": [
      "accuracy1=0.7202797202797203, precision1=0.875, recall1=0.3620689655172414\n",
      "accuracy2=0.8514285714285714, precision2=0.8688524590163934, recall2=0.7464788732394366\n"
     ]
    }
   ],
   "source": [
    "print(f'{accuracy1=}, {precision1=}, {recall1=}')\n",
    "print(f'{accuracy2=}, {precision2=}, {recall2=}')"
   ]
  },
  {
   "cell_type": "markdown",
   "id": "1010c241",
   "metadata": {},
   "source": [
    "Видно, что у модели2 результаты выше, чем у модели1"
   ]
  },
  {
   "cell_type": "markdown",
   "id": "6964f8f3",
   "metadata": {},
   "source": [
    "# Выводы"
   ]
  },
  {
   "cell_type": "markdown",
   "id": "2e0a3420",
   "metadata": {},
   "source": [
    "Итого:\n",
    "* Построены 2 модели\n",
    "* Для первой модели удалены категориальные признаки, для второй - некоторые категориальные признаки оставлены и предопработаны\n",
    "* Для модели2 было дозаполнено поле `Age` там, где отсутствовали значения\n",
    "* Для модели2 были удалены выборосы по `Fare`\n",
    "* В сравенении модель2 показала лучшие результаты, чем модель1\n",
    "* Целесообразность работы с данными при построении моделей машинного обучения: как и в данной работе, аналогичным образом имеет смысл исследовать и дополнять большие данные"
   ]
  }
 ],
 "metadata": {
  "kernelspec": {
   "display_name": "Python 3 (ipykernel)",
   "language": "python",
   "name": "python3"
  },
  "language_info": {
   "codemirror_mode": {
    "name": "ipython",
    "version": 3
   },
   "file_extension": ".py",
   "mimetype": "text/x-python",
   "name": "python",
   "nbconvert_exporter": "python",
   "pygments_lexer": "ipython3",
   "version": "3.8.12"
  },
  "toc": {
   "base_numbering": 1,
   "nav_menu": {},
   "number_sections": true,
   "sideBar": true,
   "skip_h1_title": false,
   "title_cell": "Table of Contents",
   "title_sidebar": "Contents",
   "toc_cell": false,
   "toc_position": {},
   "toc_section_display": true,
   "toc_window_display": false
  }
 },
 "nbformat": 4,
 "nbformat_minor": 5
}
