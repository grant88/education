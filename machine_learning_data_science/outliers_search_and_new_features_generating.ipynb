{
 "cells": [
  {
   "cell_type": "code",
   "execution_count": 1,
   "id": "b5e795a5",
   "metadata": {
    "ExecuteTime": {
     "end_time": "2022-08-09T19:34:02.446271Z",
     "start_time": "2022-08-09T19:33:58.600603Z"
    }
   },
   "outputs": [],
   "source": [
    "import pandas as pd\n",
    "import matplotlib.pyplot as plt\n",
    "from sklearn.model_selection import train_test_split\n",
    "from sklearn.ensemble import RandomForestClassifier\n",
    "import seaborn as sns"
   ]
  },
  {
   "cell_type": "markdown",
   "id": "5a62488c",
   "metadata": {},
   "source": [
    "# Загрузим данные о составе стекла и его типах"
   ]
  },
  {
   "cell_type": "code",
   "execution_count": 2,
   "id": "845ad2cd",
   "metadata": {
    "ExecuteTime": {
     "end_time": "2022-08-09T19:34:02.462147Z",
     "start_time": "2022-08-09T19:34:02.448194Z"
    }
   },
   "outputs": [],
   "source": [
    "df = pd.read_csv('glass.csv')"
   ]
  },
  {
   "cell_type": "code",
   "execution_count": 3,
   "id": "8e3e165f",
   "metadata": {
    "ExecuteTime": {
     "end_time": "2022-08-09T19:34:02.534368Z",
     "start_time": "2022-08-09T19:34:02.468957Z"
    }
   },
   "outputs": [
    {
     "name": "stdout",
     "output_type": "stream",
     "text": [
      "<class 'pandas.core.frame.DataFrame'>\n",
      "RangeIndex: 214 entries, 0 to 213\n",
      "Data columns (total 10 columns):\n",
      " #   Column  Non-Null Count  Dtype  \n",
      "---  ------  --------------  -----  \n",
      " 0   RI      214 non-null    float64\n",
      " 1   Na      214 non-null    float64\n",
      " 2   Mg      214 non-null    float64\n",
      " 3   Al      214 non-null    float64\n",
      " 4   Si      214 non-null    float64\n",
      " 5   K       214 non-null    float64\n",
      " 6   Ca      214 non-null    float64\n",
      " 7   Ba      214 non-null    float64\n",
      " 8   Fe      214 non-null    float64\n",
      " 9   Type    214 non-null    int64  \n",
      "dtypes: float64(9), int64(1)\n",
      "memory usage: 16.8 KB\n"
     ]
    }
   ],
   "source": [
    "df.info()"
   ]
  },
  {
   "cell_type": "markdown",
   "id": "f1db1f76",
   "metadata": {},
   "source": [
    "Пропусков в данных нет"
   ]
  },
  {
   "cell_type": "markdown",
   "id": "5f8767e6",
   "metadata": {},
   "source": [
    "# Проведем первичный анализ"
   ]
  },
  {
   "cell_type": "code",
   "execution_count": 4,
   "id": "039d39e9",
   "metadata": {
    "ExecuteTime": {
     "end_time": "2022-08-09T19:34:02.592566Z",
     "start_time": "2022-08-09T19:34:02.537506Z"
    }
   },
   "outputs": [
    {
     "data": {
      "text/html": [
       "<div>\n",
       "<style scoped>\n",
       "    .dataframe tbody tr th:only-of-type {\n",
       "        vertical-align: middle;\n",
       "    }\n",
       "\n",
       "    .dataframe tbody tr th {\n",
       "        vertical-align: top;\n",
       "    }\n",
       "\n",
       "    .dataframe thead th {\n",
       "        text-align: right;\n",
       "    }\n",
       "</style>\n",
       "<table border=\"1\" class=\"dataframe\">\n",
       "  <thead>\n",
       "    <tr style=\"text-align: right;\">\n",
       "      <th></th>\n",
       "      <th>count</th>\n",
       "      <th>mean</th>\n",
       "      <th>std</th>\n",
       "      <th>min</th>\n",
       "      <th>25%</th>\n",
       "      <th>50%</th>\n",
       "      <th>75%</th>\n",
       "      <th>max</th>\n",
       "    </tr>\n",
       "  </thead>\n",
       "  <tbody>\n",
       "    <tr>\n",
       "      <th>RI</th>\n",
       "      <td>214.0</td>\n",
       "      <td>1.518365</td>\n",
       "      <td>0.003037</td>\n",
       "      <td>1.51115</td>\n",
       "      <td>1.516522</td>\n",
       "      <td>1.51768</td>\n",
       "      <td>1.519157</td>\n",
       "      <td>1.53393</td>\n",
       "    </tr>\n",
       "    <tr>\n",
       "      <th>Na</th>\n",
       "      <td>214.0</td>\n",
       "      <td>13.407850</td>\n",
       "      <td>0.816604</td>\n",
       "      <td>10.73000</td>\n",
       "      <td>12.907500</td>\n",
       "      <td>13.30000</td>\n",
       "      <td>13.825000</td>\n",
       "      <td>17.38000</td>\n",
       "    </tr>\n",
       "    <tr>\n",
       "      <th>Mg</th>\n",
       "      <td>214.0</td>\n",
       "      <td>2.684533</td>\n",
       "      <td>1.442408</td>\n",
       "      <td>0.00000</td>\n",
       "      <td>2.115000</td>\n",
       "      <td>3.48000</td>\n",
       "      <td>3.600000</td>\n",
       "      <td>4.49000</td>\n",
       "    </tr>\n",
       "    <tr>\n",
       "      <th>Al</th>\n",
       "      <td>214.0</td>\n",
       "      <td>1.444907</td>\n",
       "      <td>0.499270</td>\n",
       "      <td>0.29000</td>\n",
       "      <td>1.190000</td>\n",
       "      <td>1.36000</td>\n",
       "      <td>1.630000</td>\n",
       "      <td>3.50000</td>\n",
       "    </tr>\n",
       "    <tr>\n",
       "      <th>Si</th>\n",
       "      <td>214.0</td>\n",
       "      <td>72.650935</td>\n",
       "      <td>0.774546</td>\n",
       "      <td>69.81000</td>\n",
       "      <td>72.280000</td>\n",
       "      <td>72.79000</td>\n",
       "      <td>73.087500</td>\n",
       "      <td>75.41000</td>\n",
       "    </tr>\n",
       "    <tr>\n",
       "      <th>K</th>\n",
       "      <td>214.0</td>\n",
       "      <td>0.497056</td>\n",
       "      <td>0.652192</td>\n",
       "      <td>0.00000</td>\n",
       "      <td>0.122500</td>\n",
       "      <td>0.55500</td>\n",
       "      <td>0.610000</td>\n",
       "      <td>6.21000</td>\n",
       "    </tr>\n",
       "    <tr>\n",
       "      <th>Ca</th>\n",
       "      <td>214.0</td>\n",
       "      <td>8.956963</td>\n",
       "      <td>1.423153</td>\n",
       "      <td>5.43000</td>\n",
       "      <td>8.240000</td>\n",
       "      <td>8.60000</td>\n",
       "      <td>9.172500</td>\n",
       "      <td>16.19000</td>\n",
       "    </tr>\n",
       "    <tr>\n",
       "      <th>Ba</th>\n",
       "      <td>214.0</td>\n",
       "      <td>0.175047</td>\n",
       "      <td>0.497219</td>\n",
       "      <td>0.00000</td>\n",
       "      <td>0.000000</td>\n",
       "      <td>0.00000</td>\n",
       "      <td>0.000000</td>\n",
       "      <td>3.15000</td>\n",
       "    </tr>\n",
       "    <tr>\n",
       "      <th>Fe</th>\n",
       "      <td>214.0</td>\n",
       "      <td>0.057009</td>\n",
       "      <td>0.097439</td>\n",
       "      <td>0.00000</td>\n",
       "      <td>0.000000</td>\n",
       "      <td>0.00000</td>\n",
       "      <td>0.100000</td>\n",
       "      <td>0.51000</td>\n",
       "    </tr>\n",
       "    <tr>\n",
       "      <th>Type</th>\n",
       "      <td>214.0</td>\n",
       "      <td>2.780374</td>\n",
       "      <td>2.103739</td>\n",
       "      <td>1.00000</td>\n",
       "      <td>1.000000</td>\n",
       "      <td>2.00000</td>\n",
       "      <td>3.000000</td>\n",
       "      <td>7.00000</td>\n",
       "    </tr>\n",
       "  </tbody>\n",
       "</table>\n",
       "</div>"
      ],
      "text/plain": [
       "      count       mean       std       min        25%       50%        75%  \\\n",
       "RI    214.0   1.518365  0.003037   1.51115   1.516522   1.51768   1.519157   \n",
       "Na    214.0  13.407850  0.816604  10.73000  12.907500  13.30000  13.825000   \n",
       "Mg    214.0   2.684533  1.442408   0.00000   2.115000   3.48000   3.600000   \n",
       "Al    214.0   1.444907  0.499270   0.29000   1.190000   1.36000   1.630000   \n",
       "Si    214.0  72.650935  0.774546  69.81000  72.280000  72.79000  73.087500   \n",
       "K     214.0   0.497056  0.652192   0.00000   0.122500   0.55500   0.610000   \n",
       "Ca    214.0   8.956963  1.423153   5.43000   8.240000   8.60000   9.172500   \n",
       "Ba    214.0   0.175047  0.497219   0.00000   0.000000   0.00000   0.000000   \n",
       "Fe    214.0   0.057009  0.097439   0.00000   0.000000   0.00000   0.100000   \n",
       "Type  214.0   2.780374  2.103739   1.00000   1.000000   2.00000   3.000000   \n",
       "\n",
       "           max  \n",
       "RI     1.53393  \n",
       "Na    17.38000  \n",
       "Mg     4.49000  \n",
       "Al     3.50000  \n",
       "Si    75.41000  \n",
       "K      6.21000  \n",
       "Ca    16.19000  \n",
       "Ba     3.15000  \n",
       "Fe     0.51000  \n",
       "Type   7.00000  "
      ]
     },
     "execution_count": 4,
     "metadata": {},
     "output_type": "execute_result"
    }
   ],
   "source": [
    "df.describe().T"
   ]
  },
  {
   "cell_type": "code",
   "execution_count": 5,
   "id": "d64227db",
   "metadata": {
    "ExecuteTime": {
     "end_time": "2022-08-09T19:34:02.600721Z",
     "start_time": "2022-08-09T19:34:02.593531Z"
    }
   },
   "outputs": [
    {
     "data": {
      "text/plain": [
       "2    76\n",
       "1    70\n",
       "7    29\n",
       "3    17\n",
       "5    13\n",
       "6     9\n",
       "Name: Type, dtype: int64"
      ]
     },
     "execution_count": 5,
     "metadata": {},
     "output_type": "execute_result"
    }
   ],
   "source": [
    "df['Type'].value_counts()"
   ]
  },
  {
   "cell_type": "code",
   "execution_count": 6,
   "id": "08bd36f4",
   "metadata": {
    "ExecuteTime": {
     "end_time": "2022-08-09T19:34:02.859465Z",
     "start_time": "2022-08-09T19:34:02.602721Z"
    }
   },
   "outputs": [
    {
     "data": {
      "image/png": "[encoded data removed]",
      "text/plain": [
       "<Figure size 720x720 with 1 Axes>"
      ]
     },
     "metadata": {
      "needs_background": "light"
     },
     "output_type": "display_data"
    }
   ],
   "source": [
    "plt.figure(figsize=(10, 10))\n",
    "df['Type'].hist()\n",
    "plt.title('Target histogram')\n",
    "plt.xlabel('Glass type')\n",
    "plt.ylabel('Examples count')\n",
    "plt.show()"
   ]
  },
  {
   "cell_type": "markdown",
   "id": "f91b7e95",
   "metadata": {},
   "source": [
    "Видно, что распределение примеров неравномерное для каждого из типов, а 4й тип отсутствует вовсе"
   ]
  },
  {
   "cell_type": "markdown",
   "id": "c168b372",
   "metadata": {},
   "source": [
    "# Разделим выборку на train, test части, построим модель"
   ]
  },
  {
   "cell_type": "code",
   "execution_count": 7,
   "id": "645a80e3",
   "metadata": {
    "ExecuteTime": {
     "end_time": "2022-08-09T19:34:03.085082Z",
     "start_time": "2022-08-09T19:34:02.860461Z"
    }
   },
   "outputs": [
    {
     "data": {
      "text/plain": [
       "RandomForestClassifier(max_depth=2, random_state=0)"
      ]
     },
     "execution_count": 7,
     "metadata": {},
     "output_type": "execute_result"
    }
   ],
   "source": [
    "X_train, X_test, Y_train, Y_test = train_test_split(df.drop(columns=['Type']), df['Type'], test_size=0.2, random_state=0)\n",
    "\n",
    "model = RandomForestClassifier(max_depth=2, random_state=0)\n",
    "\n",
    "model.fit(X_train, Y_train)"
   ]
  },
  {
   "cell_type": "markdown",
   "id": "bf2f62b6",
   "metadata": {},
   "source": [
    "Посчитаем точность модели:"
   ]
  },
  {
   "cell_type": "code",
   "execution_count": 8,
   "id": "6c78da58",
   "metadata": {
    "ExecuteTime": {
     "end_time": "2022-08-09T19:34:03.133397Z",
     "start_time": "2022-08-09T19:34:03.089116Z"
    }
   },
   "outputs": [
    {
     "data": {
      "text/plain": [
       "0.512"
      ]
     },
     "execution_count": 8,
     "metadata": {},
     "output_type": "execute_result"
    }
   ],
   "source": [
    "result_before = round(model.score(X_test, Y_test), 3)\n",
    "result_before"
   ]
  },
  {
   "cell_type": "markdown",
   "id": "d5c5687e",
   "metadata": {},
   "source": [
    "# Обработаем выбросы в данных"
   ]
  },
  {
   "cell_type": "markdown",
   "id": "33ee768b",
   "metadata": {
    "ExecuteTime": {
     "end_time": "2022-08-09T19:29:41.571595Z",
     "start_time": "2022-08-09T19:29:41.560557Z"
    }
   },
   "source": [
    "Для каждого признака построим `boxplot` и `histplot`:"
   ]
  },
  {
   "cell_type": "code",
   "execution_count": 9,
   "id": "6a2e7844",
   "metadata": {
    "ExecuteTime": {
     "end_time": "2022-08-09T19:34:08.206421Z",
     "start_time": "2022-08-09T19:34:03.136960Z"
    },
    "scrolled": false
   },
   "outputs": [
    {
     "name": "stdout",
     "output_type": "stream",
     "text": [
      "column='RI'\n"
     ]
    },
    {
     "data": {
      "image/png": "[encoded data removed]",
      "text/plain": [
       "<Figure size 1224x504 with 2 Axes>"
      ]
     },
     "metadata": {
      "needs_background": "light"
     },
     "output_type": "display_data"
    },
    {
     "name": "stdout",
     "output_type": "stream",
     "text": [
      "column='Na'\n"
     ]
    },
    {
     "data": {
      "image/png": "[encoded data removed]",
      "text/plain": [
       "<Figure size 1224x504 with 2 Axes>"
      ]
     },
     "metadata": {
      "needs_background": "light"
     },
     "output_type": "display_data"
    },
    {
     "name": "stdout",
     "output_type": "stream",
     "text": [
      "column='Mg'\n"
     ]
    },
    {
     "data": {
      "image/png": "[encoded data removed]",
      "text/plain": [
       "<Figure size 1224x504 with 2 Axes>"
      ]
     },
     "metadata": {
      "needs_background": "light"
     },
     "output_type": "display_data"
    },
    {
     "name": "stdout",
     "output_type": "stream",
     "text": [
      "column='Al'\n"
     ]
    },
    {
     "data": {
      "image/png": "[encoded data removed]",
      "text/plain": [
       "<Figure size 1224x504 with 2 Axes>"
      ]
     },
     "metadata": {
      "needs_background": "light"
     },
     "output_type": "display_data"
    },
    {
     "name": "stdout",
     "output_type": "stream",
     "text": [
      "column='Si'\n"
     ]
    },
    {
     "data": {
      "image/png": "[encoded data removed]",
      "text/plain": [
       "<Figure size 1224x504 with 2 Axes>"
      ]
     },
     "metadata": {
      "needs_background": "light"
     },
     "output_type": "display_data"
    },
    {
     "name": "stdout",
     "output_type": "stream",
     "text": [
      "column='K'\n"
     ]
    },
    {
     "data": {
      "image/png": "[encoded data removed]",
      "text/plain": [
       "<Figure size 1224x504 with 2 Axes>"
      ]
     },
     "metadata": {
      "needs_background": "light"
     },
     "output_type": "display_data"
    },
    {
     "name": "stdout",
     "output_type": "stream",
     "text": [
      "column='Ca'\n"
     ]
    },
    {
     "data": {
      "image/png": "[encoded data removed]",
      "text/plain": [
       "<Figure size 1224x504 with 2 Axes>"
      ]
     },
     "metadata": {
      "needs_background": "light"
     },
     "output_type": "display_data"
    },
    {
     "name": "stdout",
     "output_type": "stream",
     "text": [
      "column='Ba'\n"
     ]
    },
    {
     "data": {
      "image/png": "[encoded data removed]",
      "text/plain": [
       "<Figure size 1224x504 with 2 Axes>"
      ]
     },
     "metadata": {
      "needs_background": "light"
     },
     "output_type": "display_data"
    },
    {
     "name": "stdout",
     "output_type": "stream",
     "text": [
      "column='Fe'\n"
     ]
    },
    {
     "data": {
      "image/png": "[encoded data removed]",
      "text/plain": [
       "<Figure size 1224x504 with 2 Axes>"
      ]
     },
     "metadata": {
      "needs_background": "light"
     },
     "output_type": "display_data"
    }
   ],
   "source": [
    "for column in df.drop(columns='Type').columns:\n",
    "    print(f'{column=}')\n",
    "    f, (ax1, ax2) = plt.subplots(ncols=2, nrows=1, figsize=(17, 7))\n",
    "    sns.boxplot(x=df[column], ax=ax1)\n",
    "    sns.histplot(df[column], kde=True, stat=\"density\", ax=ax2)\n",
    "    plt.show()"
   ]
  },
  {
   "cell_type": "markdown",
   "id": "a427cfe6",
   "metadata": {},
   "source": [
    "По графикам видно, что признаки `RI`, `Na`, `Al`, `Si`, `Ca` похожи на нормальные распределения. Кроме того, есть признаки с явными выбросами"
   ]
  },
  {
   "cell_type": "markdown",
   "id": "83a8b6cb",
   "metadata": {},
   "source": [
    "Рассчитаем +/- 2 стандартных отклонения для каждого признака, чтобы соотнести значения с графиками и выбрать подходящие пороги для отсеивания выбросов:"
   ]
  },
  {
   "cell_type": "code",
   "execution_count": 10,
   "id": "4507667d",
   "metadata": {
    "ExecuteTime": {
     "end_time": "2022-08-09T19:34:08.224586Z",
     "start_time": "2022-08-09T19:34:08.210792Z"
    }
   },
   "outputs": [
    {
     "name": "stdout",
     "output_type": "stream",
     "text": [
      "column='RI',\t1.512291693081976\t-\t1.5244391480395176\n",
      "column='Na',\t11.774643355859757\t-\t15.04105757871969\n",
      "column='Mg',\t-0.20028297946050877\t-\t5.569348400021257\n",
      "column='Al',\t0.4463672508551061\t-\t2.4434458332570443\n",
      "column='Si',\t71.10184298990903\t-\t74.20002616896947\n",
      "column='K',\t-0.8073276163516055\t-\t1.8014397658843153\n",
      "column='Ca',\t6.110655642259641\t-\t11.80326959138522\n",
      "column='Ba',\t-0.8193917922274446\t-\t1.16948525017137\n",
      "column='Fe',\t-0.1378680554786092\t-\t0.2518867470673942\n"
     ]
    }
   ],
   "source": [
    "for column in df.drop(columns='Type').columns:\n",
    "    std = df[column].std()\n",
    "    m = df[column].mean()\n",
    "    print(f\"{column=},\\t{m - 2 * std}\\t-\\t{m + 2 * std}\")"
   ]
  },
  {
   "cell_type": "markdown",
   "id": "ef930c98",
   "metadata": {},
   "source": [
    "Подготовим условие для записей, которое разграничит их на хорошие значения и плохие (выбросы):"
   ]
  },
  {
   "cell_type": "code",
   "execution_count": 11,
   "id": "29cf9d1e",
   "metadata": {
    "ExecuteTime": {
     "end_time": "2022-08-09T19:34:08.280115Z",
     "start_time": "2022-08-09T19:34:08.231938Z"
    }
   },
   "outputs": [],
   "source": [
    "condition = (\n",
    "    (df.RI > 1.5122) & (df.RI < 1.525)\n",
    "    & (df.Na > 11.774) & (df.Na < 15.041)\n",
    "    & (df.Al < 2.443)\n",
    "    & (df.Si > 70.0) & (df.Si < 75)\n",
    "    & (df.K < 2)\n",
    "    & (df.Ca > 6.11) & (df.Ca < 12)\n",
    "    & (df.Ba < 2)\n",
    "    & (df.Fe < 0.4)\n",
    ")"
   ]
  },
  {
   "cell_type": "markdown",
   "id": "9b5fb926",
   "metadata": {},
   "source": [
    "Заполним столбец `is_good` значениями, которые отвечают на вопрос, оставить запись, либо же она является выбросом и ее нужно будет исключить перед повторным построением модели"
   ]
  },
  {
   "cell_type": "code",
   "execution_count": 12,
   "id": "6ccb7540",
   "metadata": {
    "ExecuteTime": {
     "end_time": "2022-08-09T19:34:08.293983Z",
     "start_time": "2022-08-09T19:34:08.281115Z"
    }
   },
   "outputs": [],
   "source": [
    "df['is_good'] = condition"
   ]
  },
  {
   "cell_type": "markdown",
   "id": "23e6a3a0",
   "metadata": {},
   "source": [
    "Доля записей по `is_good`:"
   ]
  },
  {
   "cell_type": "code",
   "execution_count": 13,
   "id": "2c49e53b",
   "metadata": {
    "ExecuteTime": {
     "end_time": "2022-08-09T19:34:08.320609Z",
     "start_time": "2022-08-09T19:34:08.295984Z"
    }
   },
   "outputs": [
    {
     "data": {
      "text/plain": [
       "True     0.850467\n",
       "False    0.149533\n",
       "Name: is_good, dtype: float64"
      ]
     },
     "execution_count": 13,
     "metadata": {},
     "output_type": "execute_result"
    }
   ],
   "source": [
    "df['is_good'].value_counts(normalize=True)"
   ]
  },
  {
   "cell_type": "markdown",
   "id": "cd391fd0",
   "metadata": {},
   "source": [
    "Получется почти 15% записей придется удалить"
   ]
  },
  {
   "cell_type": "markdown",
   "id": "f7b3705e",
   "metadata": {},
   "source": [
    "Посчитаем процент удаленных записей от общего числа записей для каждого класса."
   ]
  },
  {
   "cell_type": "markdown",
   "id": "1dfd7664",
   "metadata": {},
   "source": [
    "Для этого сначала рассчитаем кол-во экземпляров в каждом `Type` в разрезе `is_good` (выброс - не выброс)"
   ]
  },
  {
   "cell_type": "code",
   "execution_count": 14,
   "id": "c2e4ec8f",
   "metadata": {
    "ExecuteTime": {
     "end_time": "2022-08-09T19:34:08.351686Z",
     "start_time": "2022-08-09T19:34:08.322609Z"
    }
   },
   "outputs": [
    {
     "data": {
      "text/html": [
       "<div>\n",
       "<style scoped>\n",
       "    .dataframe tbody tr th:only-of-type {\n",
       "        vertical-align: middle;\n",
       "    }\n",
       "\n",
       "    .dataframe tbody tr th {\n",
       "        vertical-align: top;\n",
       "    }\n",
       "\n",
       "    .dataframe thead th {\n",
       "        text-align: right;\n",
       "    }\n",
       "</style>\n",
       "<table border=\"1\" class=\"dataframe\">\n",
       "  <thead>\n",
       "    <tr style=\"text-align: right;\">\n",
       "      <th></th>\n",
       "      <th>Type</th>\n",
       "      <th>is_good</th>\n",
       "      <th>counts</th>\n",
       "    </tr>\n",
       "  </thead>\n",
       "  <tbody>\n",
       "    <tr>\n",
       "      <th>0</th>\n",
       "      <td>1</td>\n",
       "      <td>False</td>\n",
       "      <td>2</td>\n",
       "    </tr>\n",
       "    <tr>\n",
       "      <th>1</th>\n",
       "      <td>1</td>\n",
       "      <td>True</td>\n",
       "      <td>68</td>\n",
       "    </tr>\n",
       "    <tr>\n",
       "      <th>2</th>\n",
       "      <td>2</td>\n",
       "      <td>False</td>\n",
       "      <td>8</td>\n",
       "    </tr>\n",
       "    <tr>\n",
       "      <th>3</th>\n",
       "      <td>2</td>\n",
       "      <td>True</td>\n",
       "      <td>68</td>\n",
       "    </tr>\n",
       "    <tr>\n",
       "      <th>4</th>\n",
       "      <td>3</td>\n",
       "      <td>True</td>\n",
       "      <td>17</td>\n",
       "    </tr>\n",
       "    <tr>\n",
       "      <th>5</th>\n",
       "      <td>5</td>\n",
       "      <td>False</td>\n",
       "      <td>8</td>\n",
       "    </tr>\n",
       "    <tr>\n",
       "      <th>6</th>\n",
       "      <td>5</td>\n",
       "      <td>True</td>\n",
       "      <td>5</td>\n",
       "    </tr>\n",
       "    <tr>\n",
       "      <th>7</th>\n",
       "      <td>6</td>\n",
       "      <td>False</td>\n",
       "      <td>1</td>\n",
       "    </tr>\n",
       "    <tr>\n",
       "      <th>8</th>\n",
       "      <td>6</td>\n",
       "      <td>True</td>\n",
       "      <td>8</td>\n",
       "    </tr>\n",
       "    <tr>\n",
       "      <th>9</th>\n",
       "      <td>7</td>\n",
       "      <td>False</td>\n",
       "      <td>13</td>\n",
       "    </tr>\n",
       "    <tr>\n",
       "      <th>10</th>\n",
       "      <td>7</td>\n",
       "      <td>True</td>\n",
       "      <td>16</td>\n",
       "    </tr>\n",
       "  </tbody>\n",
       "</table>\n",
       "</div>"
      ],
      "text/plain": [
       "    Type  is_good  counts\n",
       "0      1    False       2\n",
       "1      1     True      68\n",
       "2      2    False       8\n",
       "3      2     True      68\n",
       "4      3     True      17\n",
       "5      5    False       8\n",
       "6      5     True       5\n",
       "7      6    False       1\n",
       "8      6     True       8\n",
       "9      7    False      13\n",
       "10     7     True      16"
      ]
     },
     "execution_count": 14,
     "metadata": {},
     "output_type": "execute_result"
    }
   ],
   "source": [
    "percent_df = df.groupby(['Type','is_good']).agg(counts=('Type', 'count')).reset_index()\n",
    "percent_df"
   ]
  },
  {
   "cell_type": "markdown",
   "id": "d5019d22",
   "metadata": {},
   "source": [
    "Рассчитаем доли:"
   ]
  },
  {
   "cell_type": "code",
   "execution_count": 15,
   "id": "eece8101",
   "metadata": {
    "ExecuteTime": {
     "end_time": "2022-08-09T19:34:08.367575Z",
     "start_time": "2022-08-09T19:34:08.354028Z"
    }
   },
   "outputs": [],
   "source": [
    "percent_df['counts_in_type'] = percent_df.groupby('Type').transform('sum')['counts']\n",
    "percent_df['percent_in_type'] = 100 * round(percent_df['counts'] / percent_df['counts_in_type'], 2)\n",
    "percent_df['percent_from_total'] = 100 * round(percent_df['counts'] / len(df), 2)"
   ]
  },
  {
   "cell_type": "code",
   "execution_count": 16,
   "id": "6ee380d2",
   "metadata": {
    "ExecuteTime": {
     "end_time": "2022-08-09T19:34:08.393182Z",
     "start_time": "2022-08-09T19:34:08.370045Z"
    }
   },
   "outputs": [
    {
     "data": {
      "text/html": [
       "<div>\n",
       "<style scoped>\n",
       "    .dataframe tbody tr th:only-of-type {\n",
       "        vertical-align: middle;\n",
       "    }\n",
       "\n",
       "    .dataframe tbody tr th {\n",
       "        vertical-align: top;\n",
       "    }\n",
       "\n",
       "    .dataframe thead th {\n",
       "        text-align: right;\n",
       "    }\n",
       "</style>\n",
       "<table border=\"1\" class=\"dataframe\">\n",
       "  <thead>\n",
       "    <tr style=\"text-align: right;\">\n",
       "      <th></th>\n",
       "      <th>Type</th>\n",
       "      <th>is_good</th>\n",
       "      <th>counts</th>\n",
       "      <th>counts_in_type</th>\n",
       "      <th>percent_in_type</th>\n",
       "      <th>percent_from_total</th>\n",
       "    </tr>\n",
       "  </thead>\n",
       "  <tbody>\n",
       "    <tr>\n",
       "      <th>0</th>\n",
       "      <td>1</td>\n",
       "      <td>False</td>\n",
       "      <td>2</td>\n",
       "      <td>70</td>\n",
       "      <td>3.0</td>\n",
       "      <td>1.0</td>\n",
       "    </tr>\n",
       "    <tr>\n",
       "      <th>1</th>\n",
       "      <td>1</td>\n",
       "      <td>True</td>\n",
       "      <td>68</td>\n",
       "      <td>70</td>\n",
       "      <td>97.0</td>\n",
       "      <td>32.0</td>\n",
       "    </tr>\n",
       "    <tr>\n",
       "      <th>2</th>\n",
       "      <td>2</td>\n",
       "      <td>False</td>\n",
       "      <td>8</td>\n",
       "      <td>76</td>\n",
       "      <td>11.0</td>\n",
       "      <td>4.0</td>\n",
       "    </tr>\n",
       "    <tr>\n",
       "      <th>3</th>\n",
       "      <td>2</td>\n",
       "      <td>True</td>\n",
       "      <td>68</td>\n",
       "      <td>76</td>\n",
       "      <td>89.0</td>\n",
       "      <td>32.0</td>\n",
       "    </tr>\n",
       "    <tr>\n",
       "      <th>4</th>\n",
       "      <td>3</td>\n",
       "      <td>True</td>\n",
       "      <td>17</td>\n",
       "      <td>17</td>\n",
       "      <td>100.0</td>\n",
       "      <td>8.0</td>\n",
       "    </tr>\n",
       "    <tr>\n",
       "      <th>5</th>\n",
       "      <td>5</td>\n",
       "      <td>False</td>\n",
       "      <td>8</td>\n",
       "      <td>13</td>\n",
       "      <td>62.0</td>\n",
       "      <td>4.0</td>\n",
       "    </tr>\n",
       "    <tr>\n",
       "      <th>6</th>\n",
       "      <td>5</td>\n",
       "      <td>True</td>\n",
       "      <td>5</td>\n",
       "      <td>13</td>\n",
       "      <td>38.0</td>\n",
       "      <td>2.0</td>\n",
       "    </tr>\n",
       "    <tr>\n",
       "      <th>7</th>\n",
       "      <td>6</td>\n",
       "      <td>False</td>\n",
       "      <td>1</td>\n",
       "      <td>9</td>\n",
       "      <td>11.0</td>\n",
       "      <td>0.0</td>\n",
       "    </tr>\n",
       "    <tr>\n",
       "      <th>8</th>\n",
       "      <td>6</td>\n",
       "      <td>True</td>\n",
       "      <td>8</td>\n",
       "      <td>9</td>\n",
       "      <td>89.0</td>\n",
       "      <td>4.0</td>\n",
       "    </tr>\n",
       "    <tr>\n",
       "      <th>9</th>\n",
       "      <td>7</td>\n",
       "      <td>False</td>\n",
       "      <td>13</td>\n",
       "      <td>29</td>\n",
       "      <td>45.0</td>\n",
       "      <td>6.0</td>\n",
       "    </tr>\n",
       "    <tr>\n",
       "      <th>10</th>\n",
       "      <td>7</td>\n",
       "      <td>True</td>\n",
       "      <td>16</td>\n",
       "      <td>29</td>\n",
       "      <td>55.0</td>\n",
       "      <td>7.0</td>\n",
       "    </tr>\n",
       "  </tbody>\n",
       "</table>\n",
       "</div>"
      ],
      "text/plain": [
       "    Type  is_good  counts  counts_in_type  percent_in_type  percent_from_total\n",
       "0      1    False       2              70              3.0                 1.0\n",
       "1      1     True      68              70             97.0                32.0\n",
       "2      2    False       8              76             11.0                 4.0\n",
       "3      2     True      68              76             89.0                32.0\n",
       "4      3     True      17              17            100.0                 8.0\n",
       "5      5    False       8              13             62.0                 4.0\n",
       "6      5     True       5              13             38.0                 2.0\n",
       "7      6    False       1               9             11.0                 0.0\n",
       "8      6     True       8               9             89.0                 4.0\n",
       "9      7    False      13              29             45.0                 6.0\n",
       "10     7     True      16              29             55.0                 7.0"
      ]
     },
     "execution_count": 16,
     "metadata": {},
     "output_type": "execute_result"
    }
   ],
   "source": [
    "percent_df"
   ]
  },
  {
   "cell_type": "markdown",
   "id": "d7c50496",
   "metadata": {},
   "source": [
    "Для выбросов отобразим процент от кол-ва удаленных записей (и внутри каждого типа и общий):"
   ]
  },
  {
   "cell_type": "code",
   "execution_count": 17,
   "id": "a6c61156",
   "metadata": {
    "ExecuteTime": {
     "end_time": "2022-08-09T19:34:08.419691Z",
     "start_time": "2022-08-09T19:34:08.396890Z"
    }
   },
   "outputs": [
    {
     "data": {
      "text/html": [
       "<div>\n",
       "<style scoped>\n",
       "    .dataframe tbody tr th:only-of-type {\n",
       "        vertical-align: middle;\n",
       "    }\n",
       "\n",
       "    .dataframe tbody tr th {\n",
       "        vertical-align: top;\n",
       "    }\n",
       "\n",
       "    .dataframe thead th {\n",
       "        text-align: right;\n",
       "    }\n",
       "</style>\n",
       "<table border=\"1\" class=\"dataframe\">\n",
       "  <thead>\n",
       "    <tr style=\"text-align: right;\">\n",
       "      <th></th>\n",
       "      <th>Type</th>\n",
       "      <th>percent_in_type</th>\n",
       "      <th>percent_from_total</th>\n",
       "    </tr>\n",
       "  </thead>\n",
       "  <tbody>\n",
       "    <tr>\n",
       "      <th>0</th>\n",
       "      <td>1</td>\n",
       "      <td>3.0</td>\n",
       "      <td>1.0</td>\n",
       "    </tr>\n",
       "    <tr>\n",
       "      <th>2</th>\n",
       "      <td>2</td>\n",
       "      <td>11.0</td>\n",
       "      <td>4.0</td>\n",
       "    </tr>\n",
       "    <tr>\n",
       "      <th>5</th>\n",
       "      <td>5</td>\n",
       "      <td>62.0</td>\n",
       "      <td>4.0</td>\n",
       "    </tr>\n",
       "    <tr>\n",
       "      <th>7</th>\n",
       "      <td>6</td>\n",
       "      <td>11.0</td>\n",
       "      <td>0.0</td>\n",
       "    </tr>\n",
       "    <tr>\n",
       "      <th>9</th>\n",
       "      <td>7</td>\n",
       "      <td>45.0</td>\n",
       "      <td>6.0</td>\n",
       "    </tr>\n",
       "  </tbody>\n",
       "</table>\n",
       "</div>"
      ],
      "text/plain": [
       "   Type  percent_in_type  percent_from_total\n",
       "0     1              3.0                 1.0\n",
       "2     2             11.0                 4.0\n",
       "5     5             62.0                 4.0\n",
       "7     6             11.0                 0.0\n",
       "9     7             45.0                 6.0"
      ]
     },
     "execution_count": 17,
     "metadata": {},
     "output_type": "execute_result"
    }
   ],
   "source": [
    "percent_df[~percent_df['is_good']][['Type', 'percent_in_type', 'percent_from_total']]"
   ]
  },
  {
   "cell_type": "markdown",
   "id": "063ae6e2",
   "metadata": {},
   "source": [
    "Получается, что больше всего строк удалено у Type=7 (6% от всех примеров). А доля удаленных строк выше всего в Type=5 (62% от всех записей в Type=5)"
   ]
  },
  {
   "cell_type": "markdown",
   "id": "bd8dbcd9",
   "metadata": {},
   "source": [
    "# Заново обучим модель и посчитаем `Accuracy`"
   ]
  },
  {
   "cell_type": "code",
   "execution_count": 18,
   "id": "187f214d",
   "metadata": {
    "ExecuteTime": {
     "end_time": "2022-08-09T19:34:08.743308Z",
     "start_time": "2022-08-09T19:34:08.421693Z"
    }
   },
   "outputs": [
    {
     "data": {
      "text/plain": [
       "RandomForestClassifier(max_depth=2, random_state=0)"
      ]
     },
     "execution_count": 18,
     "metadata": {},
     "output_type": "execute_result"
    }
   ],
   "source": [
    "X_train, X_test, Y_train, Y_test = train_test_split(df[df.is_good].drop(columns=['Type']), df[df.is_good]['Type'], test_size=0.2, random_state=0)\n",
    "\n",
    "model = RandomForestClassifier(max_depth=2, random_state=0)\n",
    "\n",
    "model.fit(X_train, Y_train)"
   ]
  },
  {
   "cell_type": "code",
   "execution_count": 19,
   "id": "d9721397",
   "metadata": {
    "ExecuteTime": {
     "end_time": "2022-08-09T19:34:08.783044Z",
     "start_time": "2022-08-09T19:34:08.747184Z"
    }
   },
   "outputs": [
    {
     "name": "stdout",
     "output_type": "stream",
     "text": [
      "result_before=0.512\tresult_after=0.757\n"
     ]
    }
   ],
   "source": [
    "result_after = round(model.score(X_test, Y_test), 3)\n",
    "print(f\"{result_before=}\\t{result_after=}\")"
   ]
  },
  {
   "cell_type": "code",
   "execution_count": 22,
   "id": "7247099e",
   "metadata": {
    "ExecuteTime": {
     "end_time": "2022-08-09T19:35:02.963560Z",
     "start_time": "2022-08-09T19:35:02.942308Z"
    }
   },
   "outputs": [
    {
     "name": "stdout",
     "output_type": "stream",
     "text": [
      "Результат увеличился c 51.2% до 75.7%\n"
     ]
    }
   ],
   "source": [
    "print(f\"Результат увеличился c {result_before:.1%} до {result_after:.1%}\")"
   ]
  },
  {
   "cell_type": "markdown",
   "id": "b3cf9ec3",
   "metadata": {},
   "source": [
    "# Вывод"
   ]
  },
  {
   "cell_type": "markdown",
   "id": "1247e432",
   "metadata": {},
   "source": [
    "В работе был проведен Исследовательский анализ данных (EDA) на выбросы. В частности:\n",
    "* Проведен первичный анализ данных, выявлен перекос по кол-ву примеров для каждого `Type`\n",
    "* Построена модель на основе Случайного леса До проведения модификаций с признаками\n",
    "* Проведено исследование на выбросы для каждого признака\n",
    "* Найдены признаки с нормальным распределением\n",
    "* Подготовлены диапазоны допустимых значений и выбросов\n",
    "* Рассчитаны доли выбосов для каждого значения таргета `Type`\n",
    "* Построена модель на основе Случайного леса с данными без выбросов\n",
    "* Проведено сравение значений `Accuracy` для первой и второй модели\n",
    "* Модель, обученная на данных без выбросов показала лучший результат\n",
    "\n",
    "Исходя из результатов можно сделать вывод, что перед обучением модели необходимо исследовать признаки в данных на наличие выбросов, чтобы они не влияли на точность модели"
   ]
  }
 ],
 "metadata": {
  "kernelspec": {
   "display_name": "Python 3 (ipykernel)",
   "language": "python",
   "name": "python3"
  },
  "language_info": {
   "codemirror_mode": {
    "name": "ipython",
    "version": 3
   },
   "file_extension": ".py",
   "mimetype": "text/x-python",
   "name": "python",
   "nbconvert_exporter": "python",
   "pygments_lexer": "ipython3",
   "version": "3.8.12"
  },
  "toc": {
   "base_numbering": 1,
   "nav_menu": {},
   "number_sections": true,
   "sideBar": true,
   "skip_h1_title": false,
   "title_cell": "Table of Contents",
   "title_sidebar": "Contents",
   "toc_cell": false,
   "toc_position": {},
   "toc_section_display": true,
   "toc_window_display": false
  }
 },
 "nbformat": 4,
 "nbformat_minor": 5
}
