{
  "cells": [
    {
      "cell_type": "markdown",
      "source": [
        "<a href=\"https://colab.research.google.com/github/grant88/education/blob/main/datatypes_cycles_2.ipynb\" target=\"_parent\"><img src=\"https://colab.research.google.com/assets/colab-badge.svg\" alt=\"Open In Colab\"/></a>"
      ],
      "metadata": {
        "id": "X9RjB6ZgqEdU"
      },
      "id": "X9RjB6ZgqEdU"
    },
    {
      "cell_type": "markdown",
      "id": "3cb9f0cd",
      "metadata": {
        "id": "3cb9f0cd"
      },
      "source": [
        "**Задание 1**\n",
        "\n",
        "Дана переменная, в которой хранится словарь, содержащий гео-метки для каждого пользователя (пример структуры данных приведен ниже). Вам необходимо написать программу, которая выведет на экран множество уникальных гео-меток всех пользователей."
      ]
    },
    {
      "cell_type": "code",
      "execution_count": null,
      "id": "41025680",
      "metadata": {
        "ExecuteTime": {
          "end_time": "2022-01-03T11:12:43.301946Z",
          "start_time": "2022-01-03T11:12:43.290604Z"
        },
        "id": "41025680"
      },
      "outputs": [],
      "source": [
        "ids = {\n",
        "    'user1': [213, 213, 213, 15, 213], \n",
        "    'user2': [54, 54, 119, 119, 119], \n",
        "    'user3': [213, 98, 98, 35]\n",
        "}"
      ]
    },
    {
      "cell_type": "code",
      "execution_count": null,
      "id": "370be2a8",
      "metadata": {
        "ExecuteTime": {
          "end_time": "2022-01-03T11:12:43.503458Z",
          "start_time": "2022-01-03T11:12:43.488460Z"
        },
        "id": "370be2a8"
      },
      "outputs": [],
      "source": [
        "result = set()\n",
        "\n",
        "for geo_arr in ids.values():\n",
        "    result.update(set(geo_arr))\n",
        "\n",
        "print(result)"
      ]
    },
    {
      "cell_type": "markdown",
      "id": "4dfee410",
      "metadata": {
        "id": "4dfee410"
      },
      "source": [
        "**Задание 2**\n",
        "\n",
        "Дана переменная, в которой хранится список поисковых запросов пользователя (пример структуры данных приведен ниже). Вам необходимо написать программу, которая выведет на экран распределение количества слов в запросах в требуемом виде."
      ]
    },
    {
      "cell_type": "code",
      "execution_count": null,
      "id": "f2fd4da7",
      "metadata": {
        "ExecuteTime": {
          "end_time": "2022-01-03T11:12:43.831743Z",
          "start_time": "2022-01-03T11:12:43.825024Z"
        },
        "id": "f2fd4da7"
      },
      "outputs": [],
      "source": [
        "queries = [\n",
        "    'смотреть сериалы онлайн',\n",
        "    'новости спорта',\n",
        "    'афиша кино',\n",
        "    'курс доллара',\n",
        "    'сериалы этим летом',\n",
        "    'курс по питону',\n",
        "    'сериалы про спорт',\n",
        "]"
      ]
    },
    {
      "cell_type": "code",
      "execution_count": null,
      "id": "752d02ed",
      "metadata": {
        "ExecuteTime": {
          "end_time": "2022-01-03T11:12:44.003866Z",
          "start_time": "2022-01-03T11:12:43.991983Z"
        },
        "id": "752d02ed"
      },
      "outputs": [],
      "source": [
        "distribution = dict()\n",
        "\n",
        "for query in queries:\n",
        "    word_count = len(query.split(' '))\n",
        "    if word_count in distribution:\n",
        "        distribution[word_count] += 1\n",
        "    else:\n",
        "        distribution[word_count] = 1\n",
        "        \n",
        "queries_count = len(queries)\n",
        "for word_count, rows_count in  sorted(distribution.items()):\n",
        "    print(f'Поисковых запросов, содержащих {word_count} слов(а): {rows_count/queries_count: .2%}')"
      ]
    },
    {
      "cell_type": "markdown",
      "id": "fb37199f",
      "metadata": {
        "id": "fb37199f"
      },
      "source": [
        "**Задание 3**\n",
        "\n",
        "Дана переменная, в которой хранится информация о затратах и доходе рекламных кампаний по различным источникам. Необходимо дополнить исходную структуру показателем ROI, который рассчитаем по формуле: **(revenue / cost - 1) * 100**"
      ]
    },
    {
      "cell_type": "code",
      "execution_count": null,
      "id": "c343c6cd",
      "metadata": {
        "ExecuteTime": {
          "end_time": "2022-01-03T11:12:44.346531Z",
          "start_time": "2022-01-03T11:12:44.341150Z"
        },
        "id": "c343c6cd"
      },
      "outputs": [],
      "source": [
        "results = {\n",
        "    'vk': {'revenue': 103, 'cost': 98},\n",
        "    'yandex': {'revenue': 179, 'cost': 153},\n",
        "    'facebook': {'revenue': 103, 'cost': 110},\n",
        "    'adwords': {'revenue': 35, 'cost': 34},\n",
        "    'twitter': {'revenue': 11, 'cost': 24},\n",
        "}"
      ]
    },
    {
      "cell_type": "code",
      "execution_count": null,
      "id": "7d723c97",
      "metadata": {
        "ExecuteTime": {
          "end_time": "2022-01-03T11:12:44.534504Z",
          "start_time": "2022-01-03T11:12:44.516629Z"
        },
        "id": "7d723c97"
      },
      "outputs": [],
      "source": [
        "for company, data in results.items():\n",
        "    revenue = results[company]['revenue']\n",
        "    cost = results[company]['cost']\n",
        "    results[company]['ROI'] = round((revenue / cost - 1) * 100, 2)\n",
        "    \n",
        "results"
      ]
    },
    {
      "cell_type": "markdown",
      "id": "3b6c4cd3",
      "metadata": {
        "id": "3b6c4cd3"
      },
      "source": [
        "**Задание 4**\n",
        "\n",
        "Дана переменная, в которой хранится статистика рекламных каналов по объемам продаж (пример структуры данных приведен ниже). Напишите программу, которая возвращает название канала с максимальным объемом продаж."
      ]
    },
    {
      "cell_type": "code",
      "execution_count": null,
      "id": "0396f638",
      "metadata": {
        "ExecuteTime": {
          "end_time": "2022-01-03T11:12:44.876996Z",
          "start_time": "2022-01-03T11:12:44.869920Z"
        },
        "id": "0396f638"
      },
      "outputs": [],
      "source": [
        "stats = {\n",
        "    'facebook': 55,\n",
        "    'yandex': 115,\n",
        "    'vk': 120,\n",
        "    'google': 99,\n",
        "    'email': 42,\n",
        "    'ok': 98\n",
        "}"
      ]
    },
    {
      "cell_type": "code",
      "execution_count": null,
      "id": "8267c723",
      "metadata": {
        "ExecuteTime": {
          "end_time": "2022-01-03T11:12:45.062567Z",
          "start_time": "2022-01-03T11:12:45.047572Z"
        },
        "id": "8267c723"
      },
      "outputs": [],
      "source": [
        "result_cannel_name = ''\n",
        "max_cannel_value = 0\n",
        "\n",
        "for name, value in stats.items():\n",
        "    if value >= max_cannel_value:\n",
        "        result_cannel_name = name\n",
        "        max_cannel_value = value\n",
        "        \n",
        "print(f'Максимальный объем продаж на рекламном канале: {result_cannel_name}')"
      ]
    },
    {
      "cell_type": "markdown",
      "id": "e319c42e",
      "metadata": {
        "id": "e319c42e"
      },
      "source": [
        "**Задание 5 (необязательное)**\n",
        "\n",
        "\n",
        "Дан список произвольной длины. Необходимо написать код, который на основе исходного списка составит словарь такого уровня вложенности, какова длина исхондого списка."
      ]
    },
    {
      "cell_type": "code",
      "execution_count": null,
      "id": "dbbc7d0f",
      "metadata": {
        "ExecuteTime": {
          "end_time": "2022-01-03T11:12:45.425722Z",
          "start_time": "2022-01-03T11:12:45.411796Z"
        },
        "id": "dbbc7d0f"
      },
      "outputs": [],
      "source": [
        "my_list = ['2018-01-01', 'yandex', 'cpc', 100]"
      ]
    },
    {
      "cell_type": "code",
      "execution_count": null,
      "id": "498b3ce5",
      "metadata": {
        "ExecuteTime": {
          "end_time": "2022-01-03T11:12:45.614741Z",
          "start_time": "2022-01-03T11:12:45.592739Z"
        },
        "id": "498b3ce5"
      },
      "outputs": [],
      "source": [
        "result = my_list.pop()\n",
        "\n",
        "while len(my_list) > 0:\n",
        "    result = {my_list.pop(): result}\n",
        "    \n",
        "result"
      ]
    },
    {
      "cell_type": "markdown",
      "id": "ef229e54",
      "metadata": {
        "id": "ef229e54"
      },
      "source": [
        "**Задание 6 (необязательное)**\n",
        "\n",
        "Дана книга рецептов с информацией о том, сколько ингредиентов нужно для приготовления блюда в расчете на одну порцию (пример данных представлен ниже).\n",
        "Напишите программу, которая будет запрашивать у пользователя количество порций для приготовления этих блюд и отображать информацию о суммарном количестве требуемых ингредиентов в указанном виде.\n",
        "\n",
        "**Внимание!** Одинаковые ингридиенты с разными размерностями нужно считать раздельно!"
      ]
    },
    {
      "cell_type": "code",
      "execution_count": null,
      "id": "7d813c63",
      "metadata": {
        "ExecuteTime": {
          "end_time": "2022-01-03T11:12:45.976847Z",
          "start_time": "2022-01-03T11:12:45.964355Z"
        },
        "id": "7d813c63"
      },
      "outputs": [],
      "source": [
        "cook_book = {\n",
        "  'салат': [\n",
        "     {'ingridient_name': 'сыр', 'quantity': 50, 'measure': 'гр'},\n",
        "     {'ingridient_name': 'томаты', 'quantity': 2, 'measure': 'шт'},\n",
        "     {'ingridient_name': 'огурцы', 'quantity': 20, 'measure': 'гр'},\n",
        "     {'ingridient_name': 'маслины', 'quantity': 10, 'measure': 'гр'},\n",
        "     {'ingridient_name': 'оливковое масло', 'quantity': 20, 'measure': 'мл'},\n",
        "     {'ingridient_name': 'салат', 'quantity': 10, 'measure': 'гр'},\n",
        "     {'ingridient_name': 'перец', 'quantity': 20, 'measure': 'гр'}\n",
        "    ],\n",
        "  'пицца': [\n",
        "     {'ingridient_name': 'сыр', 'quantity': 20, 'measure': 'гр'},\n",
        "     {'ingridient_name': 'колбаса', 'quantity': 30, 'measure': 'гр'},\n",
        "     {'ingridient_name': 'бекон', 'quantity': 30, 'measure': 'гр'},\n",
        "     {'ingridient_name': 'оливки', 'quantity': 10, 'measure': 'гр'},\n",
        "     {'ingridient_name': 'томаты', 'quantity': 20, 'measure': 'гр'},\n",
        "     {'ingridient_name': 'тесто', 'quantity': 100, 'measure': 'гр'},   \n",
        "    ],\n",
        "  'лимонад': [\n",
        "     {'ingridient_name': 'лимон', 'quantity': 1, 'measure': 'шт'},\n",
        "     {'ingridient_name': 'вода', 'quantity': 200, 'measure': 'мл'},\n",
        "     {'ingridient_name': 'сахар', 'quantity': 10, 'measure': 'гр'},\n",
        "     {'ingridient_name': 'лайм', 'quantity': 20, 'measure': 'гр'},    \n",
        "    ]\n",
        "}"
      ]
    },
    {
      "cell_type": "code",
      "execution_count": null,
      "id": "53d609ee",
      "metadata": {
        "ExecuteTime": {
          "end_time": "2022-01-03T11:12:49.430842Z",
          "start_time": "2022-01-03T11:12:46.146511Z"
        },
        "id": "53d609ee"
      },
      "outputs": [],
      "source": [
        "persons = int(input('Введите количество порций: '))\n",
        "\n",
        "result = dict()\n",
        "\n",
        "for ingridients in cook_book.values():\n",
        "    for ingridient in ingridients:\n",
        "        product = ingridient['ingridient_name']\n",
        "        if product in result:\n",
        "            result[product]['quantity'] += ingridient['quantity'] * persons\n",
        "        else:\n",
        "            result[product] = {\n",
        "                    'quantity': ingridient['quantity'] * persons,\n",
        "                    'measure': ingridient['measure']\n",
        "                }\n",
        "            \n",
        "for product, product_data in result.items():\n",
        "    product = product.capitalize()\n",
        "    quantity = product_data['quantity']\n",
        "    measure = product_data['measure']\n",
        "    print(f'{product}: {quantity} {measure}')"
      ]
    }
  ],
  "metadata": {
    "kernelspec": {
      "display_name": "Python 3",
      "language": "python",
      "name": "python3"
    },
    "language_info": {
      "codemirror_mode": {
        "name": "ipython",
        "version": 3
      },
      "file_extension": ".py",
      "mimetype": "text/x-python",
      "name": "python",
      "nbconvert_exporter": "python",
      "pygments_lexer": "ipython3",
      "version": "3.8.10"
    },
    "colab": {
      "name": "datatypes_cycles_2.ipynb",
      "provenance": [],
      "include_colab_link": true
    }
  },
  "nbformat": 4,
  "nbformat_minor": 5
}
