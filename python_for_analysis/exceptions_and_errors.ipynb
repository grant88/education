{
  "cells": [
    {
      "cell_type": "markdown",
      "metadata": {
        "id": "view-in-github",
        "colab_type": "text"
      },
      "source": [
        "<a href=\"https://colab.research.google.com/github/grant88/education/blob/main/exceptions_and_errors.ipynb\" target=\"_parent\"><img src=\"https://colab.research.google.com/assets/colab-badge.svg\" alt=\"Open In Colab\"/></a>"
      ]
    },
    {
      "cell_type": "markdown",
      "id": "c6fa6286",
      "metadata": {
        "ExecuteTime": {
          "end_time": "2022-01-20T05:39:33.984651Z",
          "start_time": "2022-01-20T05:39:33.964649Z"
        },
        "id": "c6fa6286"
      },
      "source": [
        "**Задание 1**\n",
        "\n",
        "Печатные газеты использовали свой формат дат для каждого выпуска. Для каждой газеты из списка напишите формат указанной даты для перевода в объект datetime:\n",
        "\n",
        "The Moscow Times - Wednesday, October 2, 2002\n",
        "\n",
        "The Guardian - Friday, 11.10.13\n",
        "\n",
        "Daily News - Thursday, 18 August 1977"
      ]
    },
    {
      "cell_type": "code",
      "execution_count": 1,
      "id": "81ef94ce",
      "metadata": {
        "ExecuteTime": {
          "end_time": "2022-01-20T07:10:18.395447Z",
          "start_time": "2022-01-20T07:10:18.375901Z"
        },
        "id": "81ef94ce"
      },
      "outputs": [],
      "source": [
        "from datetime import datetime"
      ]
    },
    {
      "cell_type": "code",
      "execution_count": 2,
      "id": "f5ecedcf",
      "metadata": {
        "ExecuteTime": {
          "end_time": "2022-01-20T07:10:18.566959Z",
          "start_time": "2022-01-20T07:10:18.543997Z"
        },
        "colab": {
          "base_uri": "https://localhost:8080/",
          "height": 35
        },
        "id": "f5ecedcf",
        "outputId": "0a353980-8376-4f3e-fe72-fd52985cfb83"
      },
      "outputs": [
        {
          "output_type": "execute_result",
          "data": {
            "application/vnd.google.colaboratory.intrinsic+json": {
              "type": "string"
            },
            "text/plain": [
              "'Wednesday, October 2, 2002'"
            ]
          },
          "metadata": {},
          "execution_count": 2
        }
      ],
      "source": [
        "# The Moscow Times - Wednesday, October 2, 2002\n",
        "datetime(2002, 10, 2).strftime('%A, %B %-d, %Y')"
      ]
    },
    {
      "cell_type": "code",
      "execution_count": 3,
      "id": "83386d5d",
      "metadata": {
        "ExecuteTime": {
          "end_time": "2022-01-20T07:10:18.692883Z",
          "start_time": "2022-01-20T07:10:18.679924Z"
        },
        "colab": {
          "base_uri": "https://localhost:8080/",
          "height": 35
        },
        "id": "83386d5d",
        "outputId": "c43f2795-5dae-43ad-d4cc-dff7ed68af0d"
      },
      "outputs": [
        {
          "output_type": "execute_result",
          "data": {
            "application/vnd.google.colaboratory.intrinsic+json": {
              "type": "string"
            },
            "text/plain": [
              "'Friday, 11.10.13'"
            ]
          },
          "metadata": {},
          "execution_count": 3
        }
      ],
      "source": [
        "# The Guardian - Friday, 11.10.13\n",
        "datetime(2013, 10, 11).strftime('%A, %d.%m.%y')"
      ]
    },
    {
      "cell_type": "code",
      "execution_count": 4,
      "id": "c9e0f206",
      "metadata": {
        "ExecuteTime": {
          "end_time": "2022-01-20T07:10:18.833890Z",
          "start_time": "2022-01-20T07:10:18.815847Z"
        },
        "colab": {
          "base_uri": "https://localhost:8080/",
          "height": 35
        },
        "id": "c9e0f206",
        "outputId": "b921528f-eb33-4cd4-a1bc-023decfc7c94"
      },
      "outputs": [
        {
          "output_type": "execute_result",
          "data": {
            "application/vnd.google.colaboratory.intrinsic+json": {
              "type": "string"
            },
            "text/plain": [
              "'Thursday, 18 August 1977'"
            ]
          },
          "metadata": {},
          "execution_count": 4
        }
      ],
      "source": [
        "# Daily News - Thursday, 18 August 1977\n",
        "datetime(1977, 8, 18).strftime('%A, %d %B %Y')"
      ]
    },
    {
      "cell_type": "markdown",
      "id": "ea8635d0",
      "metadata": {
        "id": "ea8635d0"
      },
      "source": [
        "**Задание 2** \n",
        "\n",
        "Дан поток дат в формате YYYY-MM-DD, в которых встречаются некорректные значения:\n",
        "stream = [‘2018-04-02’, ‘2018-02-29’, ‘2018-19-02’]\n",
        "\n",
        "Напишите функцию, которая проверяет эти даты на корректность. Т. е. для каждой даты возвращает True (дата корректна) или False (некорректная дата)."
      ]
    },
    {
      "cell_type": "code",
      "execution_count": 5,
      "id": "1652739f",
      "metadata": {
        "ExecuteTime": {
          "end_time": "2022-01-20T07:10:19.989213Z",
          "start_time": "2022-01-20T07:10:19.967841Z"
        },
        "colab": {
          "base_uri": "https://localhost:8080/"
        },
        "id": "1652739f",
        "outputId": "f6bf360b-fac3-43e9-b5b3-4176e3a994b6"
      },
      "outputs": [
        {
          "output_type": "execute_result",
          "data": {
            "text/plain": [
              "[True, False, False]"
            ]
          },
          "metadata": {},
          "execution_count": 5
        }
      ],
      "source": [
        "from datetime import datetime\n",
        "stream = ['2018-04-02', '2018-02-29', '2018-19-02']\n",
        "\n",
        "def date_check(date_str):\n",
        "    \"\"\"\n",
        "    Для каждой даты возвращает True (дата корректна) или False (некорректная дата)\n",
        "    \"\"\"\n",
        "    try:\n",
        "        datetime.strptime(date_str, '%Y-%m-%d')\n",
        "        return True\n",
        "    except Exception as e:\n",
        "        return False\n",
        "\n",
        "list(map(date_check, stream))"
      ]
    },
    {
      "cell_type": "markdown",
      "id": "c0a9ad1f",
      "metadata": {
        "id": "c0a9ad1f"
      },
      "source": [
        "**Задание 3**\n",
        "\n",
        "Напишите функцию date_range, которая возвращает список дат за период от start_date до end_date.\n",
        "\n",
        "Даты должны вводиться в формате YYYY-MM-DD. В случае неверного формата или при start_date > end_date должен возвращаться пустой список."
      ]
    },
    {
      "cell_type": "code",
      "execution_count": 6,
      "id": "848beb58",
      "metadata": {
        "ExecuteTime": {
          "end_time": "2022-01-20T07:10:20.285770Z",
          "start_time": "2022-01-20T07:10:20.264315Z"
        },
        "id": "848beb58"
      },
      "outputs": [],
      "source": [
        "from datetime import datetime\n",
        "from datetime import timedelta\n",
        "\n",
        "def date_check(date_str):\n",
        "    \"\"\"\n",
        "    Для каждой даты возвращает True (дата корректна) или False (некорректная дата)\n",
        "    \"\"\"\n",
        "    try:\n",
        "        datetime.strptime(date_str, '%Y-%m-%d')\n",
        "        return True\n",
        "    except Exception as e:\n",
        "        return False\n",
        "\n",
        "def date_range(start, end):\n",
        "    \"\"\"\n",
        "    Возвращает список дат за период от start_date до end_date.\n",
        "\n",
        "    Даты должны вводиться в формате YYYY-MM-DD. \n",
        "    В случае неверного формата или при start_date > end_date возвращается пустой список.\n",
        "    \"\"\"\n",
        "    if date_check(start) and date_check(end) and start <= end:\n",
        "        start_date = datetime.strptime(start, '%Y-%m-%d')\n",
        "        end_date = datetime.strptime(end, '%Y-%m-%d')\n",
        "        days = (end_date - start_date).days + 1\n",
        "        return [(start_date + timedelta(days=i)).strftime('%Y-%m-%d') for i in range(days)]\n",
        "    return []"
      ]
    },
    {
      "cell_type": "code",
      "execution_count": 7,
      "id": "9df64181",
      "metadata": {
        "ExecuteTime": {
          "end_time": "2022-01-20T07:10:20.380667Z",
          "start_time": "2022-01-20T07:10:20.371670Z"
        },
        "colab": {
          "base_uri": "https://localhost:8080/"
        },
        "id": "9df64181",
        "outputId": "0120e7a0-16f5-42f7-e6c7-8b0308ca82c8"
      },
      "outputs": [
        {
          "output_type": "execute_result",
          "data": {
            "text/plain": [
              "['2021-01-01', '2021-01-02']"
            ]
          },
          "metadata": {},
          "execution_count": 7
        }
      ],
      "source": [
        "date_range('2021-01-01','2021-01-02')"
      ]
    },
    {
      "cell_type": "markdown",
      "id": "ae5e4473",
      "metadata": {
        "id": "ae5e4473"
      },
      "source": [
        "**Задание 4 (необязательное)**"
      ]
    },
    {
      "cell_type": "code",
      "execution_count": 8,
      "id": "10e80e93",
      "metadata": {
        "ExecuteTime": {
          "end_time": "2022-01-20T07:32:59.464878Z",
          "start_time": "2022-01-20T07:32:59.457879Z"
        },
        "id": "10e80e93"
      },
      "outputs": [],
      "source": [
        "DEFAULT_USER_COUNT = 3\n",
        "\n",
        "def delete_and_return_last_user(region, default_list=['A100', 'A101', 'A102']):\n",
        "    \"\"\"\n",
        "    Удаляет из списка default_list последнего пользователя\n",
        "    и возвращает ID нового последнего пользователя.\n",
        "    \"\"\"\n",
        "    element_to_delete = default_list[-1]\n",
        "    default_list.remove(element_to_delete)\n",
        "\n",
        "    return default_list[DEFAULT_USER_COUNT-2]"
      ]
    },
    {
      "cell_type": "code",
      "execution_count": 9,
      "id": "d423ca67",
      "metadata": {
        "ExecuteTime": {
          "end_time": "2022-01-20T07:32:59.668336Z",
          "start_time": "2022-01-20T07:32:59.658301Z"
        },
        "colab": {
          "base_uri": "https://localhost:8080/",
          "height": 35
        },
        "id": "d423ca67",
        "outputId": "a807cf4e-5468-4704-8423-cacebf61afae"
      },
      "outputs": [
        {
          "output_type": "execute_result",
          "data": {
            "application/vnd.google.colaboratory.intrinsic+json": {
              "type": "string"
            },
            "text/plain": [
              "'A101'"
            ]
          },
          "metadata": {},
          "execution_count": 9
        }
      ],
      "source": [
        "delete_and_return_last_user(1)"
      ]
    },
    {
      "cell_type": "markdown",
      "id": "377bb3d2",
      "metadata": {
        "ExecuteTime": {
          "end_time": "2022-01-20T07:33:23.329016Z",
          "start_time": "2022-01-20T07:33:23.313747Z"
        },
        "id": "377bb3d2"
      },
      "source": [
        "**Что значит ошибка list index out of range?**\n",
        "\n",
        "Ошибка означает, что индекс, по которому запрашивается элемент из списка, не входит в множество индексов для этого списка."
      ]
    },
    {
      "cell_type": "markdown",
      "id": "d6a57a03",
      "metadata": {
        "ExecuteTime": {
          "end_time": "2022-01-20T07:33:23.531649Z",
          "start_time": "2022-01-20T07:33:23.521649Z"
        },
        "id": "d6a57a03"
      },
      "source": [
        "**Почему при первом запуске функция работает корректно, а при втором - нет?**\n",
        "\n",
        "Потому что при создании функции создается и объект-список default_list. \n",
        "На этот же самый объект-список и ссылаются все последующие вызовы функции. \n",
        "А его длина после каждого вызова становится меньше на 1. \n",
        "После определенного кол-ва вызовов этой функции его длина становится менее 2. \n",
        "И вызов default_list[1] возвратит ошибку IndexError: list index out of range"
      ]
    },
    {
      "cell_type": "code",
      "execution_count": null,
      "id": "63d95f21",
      "metadata": {
        "id": "63d95f21"
      },
      "outputs": [],
      "source": [
        ""
      ]
    }
  ],
  "metadata": {
    "kernelspec": {
      "display_name": "Python 3",
      "language": "python",
      "name": "python3"
    },
    "language_info": {
      "codemirror_mode": {
        "name": "ipython",
        "version": 3
      },
      "file_extension": ".py",
      "mimetype": "text/x-python",
      "name": "python",
      "nbconvert_exporter": "python",
      "pygments_lexer": "ipython3",
      "version": "3.8.12"
    },
    "colab": {
      "name": "exceptions_and_errors.ipynb",
      "provenance": [],
      "include_colab_link": true
    }
  },
  "nbformat": 4,
  "nbformat_minor": 5
}