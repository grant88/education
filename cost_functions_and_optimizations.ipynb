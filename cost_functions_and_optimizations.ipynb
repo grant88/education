{
 "cells": [
  {
   "cell_type": "code",
   "execution_count": 1,
   "id": "f26933b2",
   "metadata": {
    "ExecuteTime": {
     "end_time": "2022-07-25T17:42:58.781682Z",
     "start_time": "2022-07-25T17:42:54.521723Z"
    }
   },
   "outputs": [],
   "source": [
    "import numpy as np\n",
    "import pandas as pd\n",
    "from sklearn.datasets import load_iris\n",
    "from sklearn.model_selection import train_test_split\n",
    "from sklearn.preprocessing import StandardScaler\n",
    "from sklearn.metrics import accuracy_score\n",
    "import matplotlib.pyplot as plt"
   ]
  },
  {
   "cell_type": "markdown",
   "id": "08046a79",
   "metadata": {},
   "source": [
    "# Подготовка данных для обучения для тестов"
   ]
  },
  {
   "cell_type": "code",
   "execution_count": 2,
   "id": "35023a51",
   "metadata": {
    "ExecuteTime": {
     "end_time": "2022-07-25T17:42:58.797335Z",
     "start_time": "2022-07-25T17:42:58.784762Z"
    }
   },
   "outputs": [],
   "source": [
    "df = load_iris(as_frame=True)"
   ]
  },
  {
   "cell_type": "code",
   "execution_count": 3,
   "id": "cdd3f911",
   "metadata": {
    "ExecuteTime": {
     "end_time": "2022-07-25T17:42:58.813333Z",
     "start_time": "2022-07-25T17:42:58.799333Z"
    }
   },
   "outputs": [
    {
     "data": {
      "text/plain": [
       "array(['setosa', 'versicolor', 'virginica'], dtype='<U10')"
      ]
     },
     "execution_count": 3,
     "metadata": {},
     "output_type": "execute_result"
    }
   ],
   "source": [
    "df.target_names"
   ]
  },
  {
   "cell_type": "markdown",
   "id": "aa77ab7c",
   "metadata": {},
   "source": [
    "#### Поскольку данные нужны только для `Iris Versicolor`(1), `Iris Virginica`(2), исключим `Iris Setosa` (0)"
   ]
  },
  {
   "cell_type": "code",
   "execution_count": 4,
   "id": "e3ed8702",
   "metadata": {
    "ExecuteTime": {
     "end_time": "2022-07-25T17:42:58.828370Z",
     "start_time": "2022-07-25T17:42:58.816337Z"
    }
   },
   "outputs": [],
   "source": [
    "df = df.frame[df.frame.target != 0]"
   ]
  },
  {
   "cell_type": "markdown",
   "id": "dc526240",
   "metadata": {},
   "source": [
    "#### Трансформируем целевой вектор для бинарной классификации 0, 1"
   ]
  },
  {
   "cell_type": "code",
   "execution_count": 5,
   "id": "f7f76b1a",
   "metadata": {
    "ExecuteTime": {
     "end_time": "2022-07-25T17:42:58.844199Z",
     "start_time": "2022-07-25T17:42:58.831510Z"
    }
   },
   "outputs": [],
   "source": [
    "df['target'] = df['target'].apply(lambda x: 0 if x == 1 else 1)"
   ]
  },
  {
   "cell_type": "code",
   "execution_count": 6,
   "id": "0b5d1949",
   "metadata": {
    "ExecuteTime": {
     "end_time": "2022-07-25T17:42:58.859576Z",
     "start_time": "2022-07-25T17:42:58.846332Z"
    }
   },
   "outputs": [],
   "source": [
    "X = df[df.columns[:4]].to_numpy()\n",
    "y = df['target'].to_numpy()"
   ]
  },
  {
   "cell_type": "code",
   "execution_count": 7,
   "id": "adeb7a1d",
   "metadata": {
    "ExecuteTime": {
     "end_time": "2022-07-25T17:42:58.875559Z",
     "start_time": "2022-07-25T17:42:58.861228Z"
    }
   },
   "outputs": [],
   "source": [
    "X_train, X_test, y_train, y_test = train_test_split(X, y, test_size = 0.2, random_state = 0)\n",
    "sc = StandardScaler()\n",
    "X_train = sc.fit_transform(X_train)\n",
    "X_test = sc.transform(X_test)"
   ]
  },
  {
   "cell_type": "markdown",
   "id": "8650ec67",
   "metadata": {},
   "source": [
    "# Реализация логистической регрессии"
   ]
  },
  {
   "cell_type": "code",
   "execution_count": 8,
   "id": "7a7d368a",
   "metadata": {
    "ExecuteTime": {
     "end_time": "2022-07-25T17:42:58.891231Z",
     "start_time": "2022-07-25T17:42:58.877538Z"
    }
   },
   "outputs": [],
   "source": [
    "class LG():\n",
    "    def __init__(self, alpha=0.25, iterations=500, model='gradient_descent'):\n",
    "        self.alpha = alpha\n",
    "        self.iterations = iterations\n",
    "        self.m = 0 # rows\n",
    "        self.j = 0 # columns\n",
    "        self.costs = None\n",
    "        self.X_train = None\n",
    "        self.Y_train = None\n",
    "        self.W = None\n",
    "        self.model = model\n",
    "        self.models = {\n",
    "            'gradient_descent': self._run_gradient_descent,\n",
    "            # ... others models\n",
    "        }\n",
    "        print(f'Logistic Regression initialized. Model: {self.model} ')\n",
    "    \n",
    "    def _sigmoida(self, z):\n",
    "        return 1/(1 + np.exp(-z))\n",
    "    \n",
    "    def _h(self, X, W):\n",
    "        return self._sigmoida(np.dot(X, W))\n",
    "    \n",
    "    def _cost(self, X, W, y):\n",
    "        y_calculated = self._h(X, W)\n",
    "        return (-1 * y.dot(np.log(y_calculated)) - (1 - y).dot(np.log(1 - y_calculated))) / len(X)\n",
    "\n",
    "    def _gradient(self, X, W, y):\n",
    "        return 2 * X.T.dot(self._h(X, W) - y) / len(X)\n",
    "    \n",
    "    def _run_gradient_descent(self):\n",
    "        for i in range(self.iterations):\n",
    "            current_cost = self._cost(self.X_train, self.W, self.Y_train)\n",
    "            self.costs.append(current_cost)\n",
    "            self.W = self.W - self.alpha * self._gradient(self.X_train, self.W, self.Y_train)\n",
    "\n",
    "    def fit(self, X_train, Y_train):\n",
    "        self.m, self.j = X_train.shape\n",
    "        self.X_train=X_train\n",
    "        self.Y_train=Y_train\n",
    "        self.W = np.ones(shape=(1, self.j))[0]\n",
    "        self.costs = []\n",
    "        current_model = self.models[self.model]\n",
    "        current_model()\n",
    "\n",
    "    def predict(self, X):\n",
    "        return np.array([0 if x < 0 else 1 for x in self.decision_function(X)])\n",
    "    \n",
    "    def decision_function(self, X):\n",
    "        return X.dot(self.W)\n",
    "    \n",
    "    def score(self, X, y):\n",
    "        return accuracy_score(self.predict(X), y)\n",
    "\n",
    "    def visualize(self, figsize=(10, 10)):\n",
    "        plt.figure(figsize=figsize)\n",
    "        plt.scatter(range(len(self.costs)), self.costs)\n",
    "        plt.xlabel('Iterations')\n",
    "        plt.ylabel('Error cost')\n",
    "        plt.show()"
   ]
  },
  {
   "cell_type": "markdown",
   "id": "ad45a5d8",
   "metadata": {},
   "source": [
    "## Презентация работы Логистической регрессии (градиентный спуск)"
   ]
  },
  {
   "cell_type": "code",
   "execution_count": 9,
   "id": "6fe087bd",
   "metadata": {
    "ExecuteTime": {
     "end_time": "2022-07-25T17:42:58.907264Z",
     "start_time": "2022-07-25T17:42:58.893229Z"
    }
   },
   "outputs": [
    {
     "name": "stdout",
     "output_type": "stream",
     "text": [
      "Logistic Regression initialized. Model: gradient_descent \n"
     ]
    }
   ],
   "source": [
    "log_reg = LG(alpha=0.25, iterations=500, model='gradient_descent')"
   ]
  },
  {
   "cell_type": "code",
   "execution_count": 10,
   "id": "73c62b3c",
   "metadata": {
    "ExecuteTime": {
     "end_time": "2022-07-25T17:42:58.938227Z",
     "start_time": "2022-07-25T17:42:58.911286Z"
    }
   },
   "outputs": [],
   "source": [
    "log_reg.fit(X_train, y_train)"
   ]
  },
  {
   "cell_type": "markdown",
   "id": "d16aae5b",
   "metadata": {},
   "source": [
    "#### Качество работы модели логистической регрессии LG:"
   ]
  },
  {
   "cell_type": "code",
   "execution_count": 11,
   "id": "e1832ec6",
   "metadata": {
    "ExecuteTime": {
     "end_time": "2022-07-25T17:42:58.953360Z",
     "start_time": "2022-07-25T17:42:58.940228Z"
    }
   },
   "outputs": [
    {
     "data": {
      "text/plain": [
       "0.9"
      ]
     },
     "execution_count": 11,
     "metadata": {},
     "output_type": "execute_result"
    }
   ],
   "source": [
    "log_reg.score(X_test, y_test)"
   ]
  },
  {
   "cell_type": "markdown",
   "id": "e1e40dc0",
   "metadata": {},
   "source": [
    "#### Построим график зависимости ошибок от кол-ва итераций "
   ]
  },
  {
   "cell_type": "code",
   "execution_count": 12,
   "id": "fa102b9c",
   "metadata": {
    "ExecuteTime": {
     "end_time": "2022-07-25T17:42:59.189510Z",
     "start_time": "2022-07-25T17:42:58.955367Z"
    }
   },
   "outputs": [
    {
     "data": {
      "image/png": "[encoded data removed]",
      "text/plain": [
       "<Figure size 648x648 with 1 Axes>"
      ]
     },
     "metadata": {
      "needs_background": "light"
     },
     "output_type": "display_data"
    }
   ],
   "source": [
    "log_reg.visualize(figsize=(9, 9))"
   ]
  },
  {
   "cell_type": "markdown",
   "id": "a347c0f1",
   "metadata": {},
   "source": [
    "#### Построим график того, как происходит деление экземляров Iris'ов"
   ]
  },
  {
   "cell_type": "code",
   "execution_count": 21,
   "id": "52c3c839",
   "metadata": {
    "ExecuteTime": {
     "end_time": "2022-07-25T17:48:20.403983Z",
     "start_time": "2022-07-25T17:48:20.220854Z"
    }
   },
   "outputs": [
    {
     "data": {
      "image/png": "[encoded data removed]",
      "text/plain": [
       "<Figure size 576x576 with 1 Axes>"
      ]
     },
     "metadata": {
      "needs_background": "light"
     },
     "output_type": "display_data"
    }
   ],
   "source": [
    "plt.figure(figsize=(8, 8))\n",
    "y_points = log_reg.decision_function(X)\n",
    "plt.scatter(range(len(y_points)), y_points)\n",
    "plt.xlabel('Iris number')\n",
    "plt.ylabel('Decision function value')\n",
    "plt.show()"
   ]
  },
  {
   "cell_type": "markdown",
   "id": "d43fb099",
   "metadata": {},
   "source": [
    "# Сравнение со встроенной библиотекой из sklearn"
   ]
  },
  {
   "cell_type": "code",
   "execution_count": 14,
   "id": "fe2b58d7",
   "metadata": {
    "ExecuteTime": {
     "end_time": "2022-07-25T17:42:59.490556Z",
     "start_time": "2022-07-25T17:42:59.349381Z"
    }
   },
   "outputs": [],
   "source": [
    "from sklearn.linear_model import LogisticRegression"
   ]
  },
  {
   "cell_type": "code",
   "execution_count": 15,
   "id": "4dce34b9",
   "metadata": {
    "ExecuteTime": {
     "end_time": "2022-07-25T17:42:59.506530Z",
     "start_time": "2022-07-25T17:42:59.492366Z"
    }
   },
   "outputs": [],
   "source": [
    "lg = LogisticRegression()"
   ]
  },
  {
   "cell_type": "code",
   "execution_count": 16,
   "id": "75585b44",
   "metadata": {
    "ExecuteTime": {
     "end_time": "2022-07-25T17:42:59.537478Z",
     "start_time": "2022-07-25T17:42:59.508365Z"
    }
   },
   "outputs": [
    {
     "data": {
      "text/plain": [
       "LogisticRegression()"
      ]
     },
     "execution_count": 16,
     "metadata": {},
     "output_type": "execute_result"
    }
   ],
   "source": [
    "lg.fit(X_train, y_train)"
   ]
  },
  {
   "cell_type": "markdown",
   "id": "57e24fe3",
   "metadata": {},
   "source": [
    "####  Построим график того, как происходит деление экземляров Iris'ов"
   ]
  },
  {
   "cell_type": "code",
   "execution_count": 20,
   "id": "6e7788ac",
   "metadata": {
    "ExecuteTime": {
     "end_time": "2022-07-25T17:48:07.641013Z",
     "start_time": "2022-07-25T17:48:07.459889Z"
    }
   },
   "outputs": [
    {
     "data": {
      "image/png": "[encoded data removed]",
      "text/plain": [
       "<Figure size 648x648 with 1 Axes>"
      ]
     },
     "metadata": {
      "needs_background": "light"
     },
     "output_type": "display_data"
    }
   ],
   "source": [
    "plt.figure(figsize=(9, 9))\n",
    "y_points = lg.decision_function(X)\n",
    "plt.scatter(range(len(y_points)), y_points)\n",
    "plt.xlabel('Iris number')\n",
    "plt.ylabel('Decision function value')\n",
    "plt.show()"
   ]
  },
  {
   "cell_type": "markdown",
   "id": "624aaa34",
   "metadata": {},
   "source": [
    "#### Качество работы модели LogisticRegression из sklearn:"
   ]
  },
  {
   "cell_type": "code",
   "execution_count": 22,
   "id": "462da56f",
   "metadata": {
    "ExecuteTime": {
     "end_time": "2022-07-25T17:49:12.641810Z",
     "start_time": "2022-07-25T17:49:12.629782Z"
    }
   },
   "outputs": [
    {
     "data": {
      "text/plain": [
       "0.9"
      ]
     },
     "execution_count": 22,
     "metadata": {},
     "output_type": "execute_result"
    }
   ],
   "source": [
    "lg.score(X_test, y_test)"
   ]
  },
  {
   "cell_type": "markdown",
   "id": "168c2b7d",
   "metadata": {},
   "source": [
    "# Вывод"
   ]
  },
  {
   "cell_type": "markdown",
   "id": "489e3e20",
   "metadata": {
    "ExecuteTime": {
     "end_time": "2022-07-25T17:29:14.958099Z",
     "start_time": "2022-07-25T17:29:14.944557Z"
    }
   },
   "source": [
    "В рамках данной работы:\n",
    "* подготовлены данные, для обучения и тестовые\n",
    "* реализована логистическая регрессия\n",
    "* в логистической регресси реализован метод градиентного спуска\n",
    "* реализованная модель применена на практике\n",
    "* построены графики для визуализации\n",
    "* реализованную модель сравнили по качеству работы с моделью LogisticRegression из библиотеки sklearn - получился паритет на тестовых данных. Возможно на больших объемах LogisticRegression из библиотеки sklearn будет работать быстрее, поскольку более оптимизирована по скорости вычислений\n"
   ]
  }
 ],
 "metadata": {
  "kernelspec": {
   "display_name": "Python 3 (ipykernel)",
   "language": "python",
   "name": "python3"
  },
  "language_info": {
   "codemirror_mode": {
    "name": "ipython",
    "version": 3
   },
   "file_extension": ".py",
   "mimetype": "text/x-python",
   "name": "python",
   "nbconvert_exporter": "python",
   "pygments_lexer": "ipython3",
   "version": "3.8.12"
  }
 },
 "nbformat": 4,
 "nbformat_minor": 5
}
