{
  "cells": [
    {
      "cell_type": "markdown",
      "metadata": {
        "id": "view-in-github",
        "colab_type": "text"
      },
      "source": [
        "<a href=\"https://colab.research.google.com/github/grant88/education/blob/main/parsing_and_api.ipynb\" target=\"_parent\"><img src=\"https://colab.research.google.com/assets/colab-badge.svg\" alt=\"Open In Colab\"/></a>"
      ]
    },
    {
      "cell_type": "markdown",
      "metadata": {
        "id": "-iXcU6BiJnuX"
      },
      "source": [
        "# Домашнее задание к лекции \"Основы веб-скрапинга и работы с API\""
      ]
    },
    {
      "cell_type": "markdown",
      "metadata": {
        "id": "FIJzFUtBJnuZ"
      },
      "source": [
        "## Задание 1. \n",
        "\n",
        "### Обязательная часть"
      ]
    },
    {
      "cell_type": "markdown",
      "metadata": {
        "id": "DJqyzUApJnua"
      },
      "source": [
        "Будем парсить страницу со свежеми новостям на [habr.com/ru/all/](https://habr.com/ru/all/).\n",
        "\n",
        "Вам необходимо собирать только те статьи, в заголовке которых встречается хотя бы одно требуемое ключевое слово. Эти слова определяем в начале кода в переменной, например:\n",
        "\n",
        "`KEYWORDS = ['python', 'парсинг']`\n",
        " \n",
        "В итоге должен формироваться датафрейм вида: `<дата> - <заголовок> - <ссылка>`"
      ]
    },
    {
      "cell_type": "code",
      "execution_count": null,
      "metadata": {
        "ExecuteTime": {
          "end_time": "2022-02-23T15:12:58.391865Z",
          "start_time": "2022-02-23T15:12:58.381606Z"
        },
        "id": "TaNAHlejJnub"
      },
      "outputs": [],
      "source": [
        "import requests\n",
        "import pandas as pd\n",
        "import time\n",
        "import re\n",
        "from datetime import datetime\n",
        "from bs4 import BeautifulSoup\n",
        "from bs4.element import Tag"
      ]
    },
    {
      "cell_type": "code",
      "execution_count": null,
      "metadata": {
        "ExecuteTime": {
          "end_time": "2022-02-23T15:12:58.549696Z",
          "start_time": "2022-02-23T15:12:58.540727Z"
        },
        "id": "WhPUpU_mJnuc"
      },
      "outputs": [],
      "source": [
        "# определяем список хабов, которые нам интересны\n",
        "DESIRED_HUBS = ['python', 'парсинг']"
      ]
    },
    {
      "cell_type": "code",
      "execution_count": null,
      "metadata": {
        "ExecuteTime": {
          "end_time": "2022-02-23T15:12:58.814520Z",
          "start_time": "2022-02-23T15:12:58.804341Z"
        },
        "id": "wewnv29bJnud"
      },
      "outputs": [],
      "source": [
        "def get_soup_from_url(url: str) -> BeautifulSoup:\n",
        "    req = requests.get(url)\n",
        "    return BeautifulSoup(req.text, 'html.parser')"
      ]
    },
    {
      "cell_type": "code",
      "execution_count": null,
      "metadata": {
        "ExecuteTime": {
          "end_time": "2022-02-23T15:12:59.222975Z",
          "start_time": "2022-02-23T15:12:59.205967Z"
        },
        "id": "6KaEpbBDJnud"
      },
      "outputs": [],
      "source": [
        "def get_post_info(post: Tag) -> dict:\n",
        "    regex = re.compile('tm-(article|megapost)-snippet__title')\n",
        "    header = post.find('h2', {'class': regex})\n",
        "    if header:\n",
        "        for hub in DESIRED_HUBS:\n",
        "            if hub in header.text.lower():\n",
        "\n",
        "                url = f\"https://habr.com{header.find('a').get('href')}\"\n",
        "                date = post.find('time').get('datetime')\n",
        "                post_date = datetime.strptime(date, '%Y-%m-%dT%H:%M:%S.000Z')\n",
        "\n",
        "                return {\n",
        "                    'post_date': post_date,\n",
        "                    'header': header.text,\n",
        "                    'url': url,\n",
        "                }"
      ]
    },
    {
      "cell_type": "code",
      "execution_count": null,
      "metadata": {
        "ExecuteTime": {
          "end_time": "2022-02-23T15:13:51.609296Z",
          "start_time": "2022-02-23T15:12:59.740541Z"
        },
        "id": "UNBFh53QJnue"
      },
      "outputs": [],
      "source": [
        "pages_count = 50\n",
        "resulted_posts = []\n",
        "for page_id in range(1, pages_count + 1):\n",
        "    url = f\"http://habr.com/ru/all/page{str(page_id)}/\"\n",
        "    page = get_soup_from_url(url)\n",
        "    posts = page.find_all('article', {'class':'tm-articles-list__item'})\n",
        "    for post in posts:\n",
        "        post_info = get_post_info(post)\n",
        "        if post_info:\n",
        "            resulted_posts.append(post_info)\n",
        "    time.sleep(0.3)"
      ]
    },
    {
      "cell_type": "code",
      "execution_count": null,
      "metadata": {
        "ExecuteTime": {
          "end_time": "2022-02-23T15:13:51.624395Z",
          "start_time": "2022-02-23T15:13:51.617312Z"
        },
        "id": "trA5TY5jJnue"
      },
      "outputs": [],
      "source": [
        "df = pd.DataFrame(resulted_posts)"
      ]
    },
    {
      "cell_type": "code",
      "execution_count": null,
      "metadata": {
        "ExecuteTime": {
          "end_time": "2022-02-23T15:13:51.655318Z",
          "start_time": "2022-02-23T15:13:51.626404Z"
        },
        "id": "Md5p0eIcJnuf",
        "outputId": "24778fd6-f6b2-4e62-fa72-e55c7a797711"
      },
      "outputs": [
        {
          "data": {
            "text/html": [
              "<div>\n",
              "<style scoped>\n",
              "    .dataframe tbody tr th:only-of-type {\n",
              "        vertical-align: middle;\n",
              "    }\n",
              "\n",
              "    .dataframe tbody tr th {\n",
              "        vertical-align: top;\n",
              "    }\n",
              "\n",
              "    .dataframe thead th {\n",
              "        text-align: right;\n",
              "    }\n",
              "</style>\n",
              "<table border=\"1\" class=\"dataframe\">\n",
              "  <thead>\n",
              "    <tr style=\"text-align: right;\">\n",
              "      <th></th>\n",
              "      <th>post_date</th>\n",
              "      <th>header</th>\n",
              "      <th>url</th>\n",
              "    </tr>\n",
              "  </thead>\n",
              "  <tbody>\n",
              "    <tr>\n",
              "      <th>0</th>\n",
              "      <td>2022-02-22 08:29:20</td>\n",
              "      <td>Бот-трафик и парсинг цен – взгляд со стороны в...</td>\n",
              "      <td>https://habr.com/ru/company/proto/blog/652861/</td>\n",
              "    </tr>\n",
              "    <tr>\n",
              "      <th>1</th>\n",
              "      <td>2022-02-21 19:33:41</td>\n",
              "      <td>Обнаружение новизны изображений с помощью Pyth...</td>\n",
              "      <td>https://habr.com/ru/post/652851/</td>\n",
              "    </tr>\n",
              "    <tr>\n",
              "      <th>2</th>\n",
              "      <td>2022-02-20 21:57:45</td>\n",
              "      <td>Машинное стереозрение для новичков: две камеры...</td>\n",
              "      <td>https://habr.com/ru/company/skillfactory/blog/...</td>\n",
              "    </tr>\n",
              "    <tr>\n",
              "      <th>3</th>\n",
              "      <td>2022-02-19 18:00:39</td>\n",
              "      <td>Еще один способ развернуть python автотесты we...</td>\n",
              "      <td>https://habr.com/ru/post/652511/</td>\n",
              "    </tr>\n",
              "    <tr>\n",
              "      <th>4</th>\n",
              "      <td>2022-02-17 06:57:45</td>\n",
              "      <td>Atlas: Путешествие Dropbox от монолита на Pyth...</td>\n",
              "      <td>https://habr.com/ru/company/flant/blog/651871/</td>\n",
              "    </tr>\n",
              "  </tbody>\n",
              "</table>\n",
              "</div>"
            ],
            "text/plain": [
              "            post_date                                             header  \\\n",
              "0 2022-02-22 08:29:20  Бот-трафик и парсинг цен – взгляд со стороны в...   \n",
              "1 2022-02-21 19:33:41  Обнаружение новизны изображений с помощью Pyth...   \n",
              "2 2022-02-20 21:57:45  Машинное стереозрение для новичков: две камеры...   \n",
              "3 2022-02-19 18:00:39  Еще один способ развернуть python автотесты we...   \n",
              "4 2022-02-17 06:57:45  Atlas: Путешествие Dropbox от монолита на Pyth...   \n",
              "\n",
              "                                                 url  \n",
              "0     https://habr.com/ru/company/proto/blog/652861/  \n",
              "1                   https://habr.com/ru/post/652851/  \n",
              "2  https://habr.com/ru/company/skillfactory/blog/...  \n",
              "3                   https://habr.com/ru/post/652511/  \n",
              "4     https://habr.com/ru/company/flant/blog/651871/  "
            ]
          },
          "execution_count": 26,
          "metadata": {},
          "output_type": "execute_result"
        }
      ],
      "source": [
        "df.head()"
      ]
    },
    {
      "cell_type": "markdown",
      "metadata": {
        "ExecuteTime": {
          "end_time": "2022-02-23T15:10:22.302977Z",
          "start_time": "2022-02-23T15:10:22.287634Z"
        },
        "id": "6-jfnjXXJnug"
      },
      "source": [
        "### Дополнительная часть (необязательная)"
      ]
    },
    {
      "cell_type": "markdown",
      "metadata": {
        "id": "0SPfDnaCJnug"
      },
      "source": [
        "Улучшить скрипт так, чтобы он анализировал не только заголовки статьи, но и весь текст статьи целиком.\n",
        "\n",
        "Для этого потребуется получать страницы статей и искать по тексту внутри этой страницы.  \n",
        "\n",
        "Итоговый датафрейм формировать со столбцами: `<дата> - <заголовок> - <ссылка> - <текст_статьи>`"
      ]
    },
    {
      "cell_type": "code",
      "execution_count": null,
      "metadata": {
        "ExecuteTime": {
          "end_time": "2022-02-23T15:13:51.670397Z",
          "start_time": "2022-02-23T15:13:51.658324Z"
        },
        "id": "3GGCYHKNJnuh"
      },
      "outputs": [],
      "source": [
        "def get_post_content(url: str) -> str:\n",
        "    soup = get_soup_from_url(url)\n",
        "    time.sleep(0.3)\n",
        "    return soup.find('article').find('div', id=\"post-content-body\").text"
      ]
    },
    {
      "cell_type": "code",
      "execution_count": null,
      "metadata": {
        "ExecuteTime": {
          "end_time": "2022-02-23T15:14:02.937644Z",
          "start_time": "2022-02-23T15:13:51.672420Z"
        },
        "id": "2-7N08oUJnuh"
      },
      "outputs": [],
      "source": [
        "df['article_text'] = df['url'].apply(get_post_content)"
      ]
    },
    {
      "cell_type": "code",
      "execution_count": null,
      "metadata": {
        "ExecuteTime": {
          "end_time": "2022-02-23T15:14:02.968947Z",
          "start_time": "2022-02-23T15:14:02.944915Z"
        },
        "id": "xoHF7S9HJnuh",
        "outputId": "2d570a03-5319-44fb-c265-7bae1eb31fee"
      },
      "outputs": [
        {
          "data": {
            "text/html": [
              "<div>\n",
              "<style scoped>\n",
              "    .dataframe tbody tr th:only-of-type {\n",
              "        vertical-align: middle;\n",
              "    }\n",
              "\n",
              "    .dataframe tbody tr th {\n",
              "        vertical-align: top;\n",
              "    }\n",
              "\n",
              "    .dataframe thead th {\n",
              "        text-align: right;\n",
              "    }\n",
              "</style>\n",
              "<table border=\"1\" class=\"dataframe\">\n",
              "  <thead>\n",
              "    <tr style=\"text-align: right;\">\n",
              "      <th></th>\n",
              "      <th>post_date</th>\n",
              "      <th>header</th>\n",
              "      <th>url</th>\n",
              "      <th>article_text</th>\n",
              "    </tr>\n",
              "  </thead>\n",
              "  <tbody>\n",
              "    <tr>\n",
              "      <th>0</th>\n",
              "      <td>2022-02-22 08:29:20</td>\n",
              "      <td>Бот-трафик и парсинг цен – взгляд со стороны в...</td>\n",
              "      <td>https://habr.com/ru/company/proto/blog/652861/</td>\n",
              "      <td>В данной статье я хочу рассказать про то, как ...</td>\n",
              "    </tr>\n",
              "    <tr>\n",
              "      <th>1</th>\n",
              "      <td>2022-02-21 19:33:41</td>\n",
              "      <td>Обнаружение новизны изображений с помощью Pyth...</td>\n",
              "      <td>https://habr.com/ru/post/652851/</td>\n",
              "      <td>В этой статье я расскажу, как с по...</td>\n",
              "    </tr>\n",
              "    <tr>\n",
              "      <th>2</th>\n",
              "      <td>2022-02-20 21:57:45</td>\n",
              "      <td>Машинное стереозрение для новичков: две камеры...</td>\n",
              "      <td>https://habr.com/ru/company/skillfactory/blog/...</td>\n",
              "      <td>Стажируясь в правительственном технологическом...</td>\n",
              "    </tr>\n",
              "    <tr>\n",
              "      <th>3</th>\n",
              "      <td>2022-02-19 18:00:39</td>\n",
              "      <td>Еще один способ развернуть python автотесты we...</td>\n",
              "      <td>https://habr.com/ru/post/652511/</td>\n",
              "      <td>Всем привет! Меня зовут Илья. Я люблю писать а...</td>\n",
              "    </tr>\n",
              "    <tr>\n",
              "      <th>4</th>\n",
              "      <td>2022-02-17 06:57:45</td>\n",
              "      <td>Atlas: Путешествие Dropbox от монолита на Pyth...</td>\n",
              "      <td>https://habr.com/ru/company/flant/blog/651871/</td>\n",
              "      <td>Прим. перев.: в этом материале, опубликованном...</td>\n",
              "    </tr>\n",
              "  </tbody>\n",
              "</table>\n",
              "</div>"
            ],
            "text/plain": [
              "            post_date                                             header  \\\n",
              "0 2022-02-22 08:29:20  Бот-трафик и парсинг цен – взгляд со стороны в...   \n",
              "1 2022-02-21 19:33:41  Обнаружение новизны изображений с помощью Pyth...   \n",
              "2 2022-02-20 21:57:45  Машинное стереозрение для новичков: две камеры...   \n",
              "3 2022-02-19 18:00:39  Еще один способ развернуть python автотесты we...   \n",
              "4 2022-02-17 06:57:45  Atlas: Путешествие Dropbox от монолита на Pyth...   \n",
              "\n",
              "                                                 url  \\\n",
              "0     https://habr.com/ru/company/proto/blog/652861/   \n",
              "1                   https://habr.com/ru/post/652851/   \n",
              "2  https://habr.com/ru/company/skillfactory/blog/...   \n",
              "3                   https://habr.com/ru/post/652511/   \n",
              "4     https://habr.com/ru/company/flant/blog/651871/   \n",
              "\n",
              "                                        article_text  \n",
              "0  В данной статье я хочу рассказать про то, как ...  \n",
              "1              В этой статье я расскажу, как с по...  \n",
              "2  Стажируясь в правительственном технологическом...  \n",
              "3  Всем привет! Меня зовут Илья. Я люблю писать а...  \n",
              "4  Прим. перев.: в этом материале, опубликованном...  "
            ]
          },
          "execution_count": 29,
          "metadata": {},
          "output_type": "execute_result"
        }
      ],
      "source": [
        "df.head()"
      ]
    },
    {
      "cell_type": "markdown",
      "metadata": {
        "id": "_jrPf8sXJnui"
      },
      "source": [
        "## Задание 2."
      ]
    },
    {
      "cell_type": "markdown",
      "metadata": {
        "id": "D-yKX4FCJnui"
      },
      "source": [
        "### Обязательная часть"
      ]
    },
    {
      "cell_type": "markdown",
      "metadata": {
        "id": "msNwe7NtJnui"
      },
      "source": [
        "Написать скрипт, который будет проверять список e-mail адресов на утечку при помощи сервиса [Avast Hack Ckeck](https://www.avast.com/hackcheck/).\n",
        "Список email-ов задаем переменной в начале кода:  \n",
        "`EMAIL = [xxx@x.ru, yyy@y.com]`\n",
        "\n",
        "В итоге должен формироваться датафрейм со столбцами: `<дата утечки> - <источник утечки> - <описание утечки>`  \n",
        "\n",
        "**Подсказка**: сервис работает при помощи \"скрытого\" API. Внимательно изучите post-запросы. Данные (почтовые адреса) передаются на сервис в json-формате (параметр `json` функции `post`)."
      ]
    },
    {
      "cell_type": "code",
      "execution_count": null,
      "metadata": {
        "ExecuteTime": {
          "end_time": "2022-02-23T15:12:17.657199Z",
          "start_time": "2022-02-23T15:12:17.646466Z"
        },
        "id": "7VWPi40bJnuj"
      },
      "outputs": [],
      "source": [
        "# todo"
      ]
    },
    {
      "cell_type": "markdown",
      "metadata": {
        "id": "3FK9-jVDJnuj"
      },
      "source": [
        "### Дополнительная часть (необязательная)"
      ]
    },
    {
      "cell_type": "markdown",
      "metadata": {
        "id": "ZSKS7Dr9Jnuj"
      },
      "source": [
        "Написать скрипт, который будет получать 50 последних постов указанной группы во Вконтакте.  \n",
        "Документация к API VK: https://vk.com/dev/methods\n",
        ", вам поможет метод [wall.get](https://vk.com/dev/wall.get)  \n",
        "```\n",
        "GROUP = 'netology'  \n",
        "TOKEN = УДАЛЯЙТЕ В ВЕРСИИ ДЛЯ ПРОВЕРКИ, НА GITHUB НЕ ВЫКЛАДЫВАТЬ  \n",
        "```\n",
        "\n",
        "В итоге должен формироваться датафрейм со столбцами: `<дата поста> - <текст поста>`"
      ]
    }
  ],
  "metadata": {
    "kernelspec": {
      "display_name": "Python 3 (ipykernel)",
      "language": "python",
      "name": "python3"
    },
    "language_info": {
      "codemirror_mode": {
        "name": "ipython",
        "version": 3
      },
      "file_extension": ".py",
      "mimetype": "text/x-python",
      "name": "python",
      "nbconvert_exporter": "python",
      "pygments_lexer": "ipython3",
      "version": "3.8.12"
    },
    "colab": {
      "name": "parsing_and_api.ipynb",
      "provenance": [],
      "include_colab_link": true
    }
  },
  "nbformat": 4,
  "nbformat_minor": 0
}