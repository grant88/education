{
  "cells": [
    {
      "cell_type": "markdown",
      "metadata": {
        "id": "view-in-github",
        "colab_type": "text"
      },
      "source": [
        "<a href=\"https://colab.research.google.com/github/grant88/education/blob/main/parsing_and_API.ipynb\" target=\"_parent\"><img src=\"https://colab.research.google.com/assets/colab-badge.svg\" alt=\"Open In Colab\"/></a>"
      ]
    },
    {
      "cell_type": "markdown",
      "metadata": {
        "id": "-iXcU6BiJnuX"
      },
      "source": [
        "# Домашнее задание к лекции \"Основы веб-скрапинга и работы с API\""
      ]
    },
    {
      "cell_type": "markdown",
      "metadata": {
        "id": "FIJzFUtBJnuZ"
      },
      "source": [
        "## Задание 1. \n",
        "\n",
        "### Обязательная часть"
      ]
    },
    {
      "cell_type": "markdown",
      "metadata": {
        "id": "DJqyzUApJnua"
      },
      "source": [
        "Будем парсить страницу со свежеми новостям на [habr.com/ru/all/](https://habr.com/ru/all/).\n",
        "\n",
        "Вам необходимо собирать только те статьи, в заголовке которых встречается хотя бы одно требуемое ключевое слово. Эти слова определяем в начале кода в переменной, например:\n",
        "\n",
        "`KEYWORDS = ['python', 'парсинг']`\n",
        " \n",
        "В итоге должен формироваться датафрейм вида: `<дата> - <заголовок> - <ссылка>`"
      ]
    },
    {
      "cell_type": "code",
      "execution_count": null,
      "metadata": {
        "id": "TaNAHlejJnub"
      },
      "outputs": [],
      "source": [
        "import requests\n",
        "import pandas as pd\n",
        "import time\n",
        "import re\n",
        "from datetime import datetime\n",
        "from bs4 import BeautifulSoup\n",
        "from bs4.element import Tag"
      ]
    },
    {
      "cell_type": "code",
      "execution_count": null,
      "metadata": {
        "id": "WhPUpU_mJnuc"
      },
      "outputs": [],
      "source": [
        "# определяем список хабов, которые нам интересны\n",
        "DESIRED_HUBS = ['python', 'парсинг']"
      ]
    },
    {
      "cell_type": "code",
      "execution_count": null,
      "metadata": {
        "id": "wewnv29bJnud"
      },
      "outputs": [],
      "source": [
        "def get_soup_from_url(url: str) -> BeautifulSoup:\n",
        "    req = requests.get(url)\n",
        "    return BeautifulSoup(req.text, 'html.parser')"
      ]
    },
    {
      "cell_type": "code",
      "execution_count": null,
      "metadata": {
        "id": "6KaEpbBDJnud"
      },
      "outputs": [],
      "source": [
        "def get_post_info(post: Tag) -> dict:\n",
        "    regex = re.compile('tm-(article|megapost)-snippet__title')\n",
        "    header = post.find('h2', {'class': regex})\n",
        "    if header:\n",
        "        for hub in DESIRED_HUBS:\n",
        "            if hub in header.text.lower():\n",
        "\n",
        "                url = f\"https://habr.com{header.find('a').get('href')}\"\n",
        "                date = post.find('time').get('datetime')\n",
        "                post_date = datetime.strptime(date, '%Y-%m-%dT%H:%M:%S.000Z')\n",
        "\n",
        "                return {\n",
        "                    'post_date': post_date,\n",
        "                    'header': header.text,\n",
        "                    'url': url,\n",
        "                }"
      ]
    },
    {
      "cell_type": "code",
      "execution_count": null,
      "metadata": {
        "colab": {
          "background_save": true
        },
        "id": "UNBFh53QJnue"
      },
      "outputs": [],
      "source": [
        "pages_count = 50\n",
        "resulted_posts = []\n",
        "for page_id in range(1, pages_count + 1):\n",
        "    url = f\"http://habr.com/ru/all/page{str(page_id)}/\"\n",
        "    page = get_soup_from_url(url)\n",
        "    posts = page.find_all('article', {'class':'tm-articles-list__item'})\n",
        "    for post in posts:\n",
        "        post_info = get_post_info(post)\n",
        "        if post_info:\n",
        "            resulted_posts.append(post_info)\n",
        "    time.sleep(0.3)"
      ]
    },
    {
      "cell_type": "code",
      "execution_count": null,
      "metadata": {
        "colab": {
          "background_save": true
        },
        "id": "trA5TY5jJnue"
      },
      "outputs": [],
      "source": [
        "df = pd.DataFrame(resulted_posts)"
      ]
    },
    {
      "cell_type": "code",
      "execution_count": null,
      "metadata": {
        "colab": {
          "background_save": true,
          "base_uri": "https://localhost:8080/"
        },
        "id": "Md5p0eIcJnuf",
        "outputId": "a8b3ce83-f6c7-481f-895e-d57ea2b89669"
      },
      "outputs": [
        {
          "data": {
            "text/html": [
              "\n",
              "  <div id=\"df-5137e343-fe1c-4ae1-8765-1b7706a31f1d\">\n",
              "    <div class=\"colab-df-container\">\n",
              "      <div>\n",
              "<style scoped>\n",
              "    .dataframe tbody tr th:only-of-type {\n",
              "        vertical-align: middle;\n",
              "    }\n",
              "\n",
              "    .dataframe tbody tr th {\n",
              "        vertical-align: top;\n",
              "    }\n",
              "\n",
              "    .dataframe thead th {\n",
              "        text-align: right;\n",
              "    }\n",
              "</style>\n",
              "<table border=\"1\" class=\"dataframe\">\n",
              "  <thead>\n",
              "    <tr style=\"text-align: right;\">\n",
              "      <th></th>\n",
              "      <th>post_date</th>\n",
              "      <th>header</th>\n",
              "      <th>url</th>\n",
              "    </tr>\n",
              "  </thead>\n",
              "  <tbody>\n",
              "    <tr>\n",
              "      <th>0</th>\n",
              "      <td>2022-02-25 07:09:01</td>\n",
              "      <td>Почему я начал использовать аннотации типов в ...</td>\n",
              "      <td>https://habr.com/ru/company/piter/blog/653415/</td>\n",
              "    </tr>\n",
              "    <tr>\n",
              "      <th>1</th>\n",
              "      <td>2022-02-22 08:29:20</td>\n",
              "      <td>Бот-трафик и парсинг цен – взгляд со стороны в...</td>\n",
              "      <td>https://habr.com/ru/company/proto/blog/652861/</td>\n",
              "    </tr>\n",
              "    <tr>\n",
              "      <th>2</th>\n",
              "      <td>2022-02-21 19:33:41</td>\n",
              "      <td>Обнаружение новизны изображений с помощью Pyth...</td>\n",
              "      <td>https://habr.com/ru/post/652851/</td>\n",
              "    </tr>\n",
              "    <tr>\n",
              "      <th>3</th>\n",
              "      <td>2022-02-20 21:57:45</td>\n",
              "      <td>Машинное стереозрение для новичков: две камеры...</td>\n",
              "      <td>https://habr.com/ru/company/skillfactory/blog/...</td>\n",
              "    </tr>\n",
              "    <tr>\n",
              "      <th>4</th>\n",
              "      <td>2022-02-19 18:00:39</td>\n",
              "      <td>Еще один способ развернуть python автотесты we...</td>\n",
              "      <td>https://habr.com/ru/post/652511/</td>\n",
              "    </tr>\n",
              "  </tbody>\n",
              "</table>\n",
              "</div>\n",
              "      <button class=\"colab-df-convert\" onclick=\"convertToInteractive('df-5137e343-fe1c-4ae1-8765-1b7706a31f1d')\"\n",
              "              title=\"Convert this dataframe to an interactive table.\"\n",
              "              style=\"display:none;\">\n",
              "        \n",
              "  <svg xmlns=\"http://www.w3.org/2000/svg\" height=\"24px\"viewBox=\"0 0 24 24\"\n",
              "       width=\"24px\">\n",
              "    <path d=\"M0 0h24v24H0V0z\" fill=\"none\"/>\n",
              "    <path d=\"M18.56 5.44l.94 2.06.94-2.06 2.06-.94-2.06-.94-.94-2.06-.94 2.06-2.06.94zm-11 1L8.5 8.5l.94-2.06 2.06-.94-2.06-.94L8.5 2.5l-.94 2.06-2.06.94zm10 10l.94 2.06.94-2.06 2.06-.94-2.06-.94-.94-2.06-.94 2.06-2.06.94z\"/><path d=\"M17.41 7.96l-1.37-1.37c-.4-.4-.92-.59-1.43-.59-.52 0-1.04.2-1.43.59L10.3 9.45l-7.72 7.72c-.78.78-.78 2.05 0 2.83L4 21.41c.39.39.9.59 1.41.59.51 0 1.02-.2 1.41-.59l7.78-7.78 2.81-2.81c.8-.78.8-2.07 0-2.86zM5.41 20L4 18.59l7.72-7.72 1.47 1.35L5.41 20z\"/>\n",
              "  </svg>\n",
              "      </button>\n",
              "      \n",
              "  <style>\n",
              "    .colab-df-container {\n",
              "      display:flex;\n",
              "      flex-wrap:wrap;\n",
              "      gap: 12px;\n",
              "    }\n",
              "\n",
              "    .colab-df-convert {\n",
              "      background-color: #E8F0FE;\n",
              "      border: none;\n",
              "      border-radius: 50%;\n",
              "      cursor: pointer;\n",
              "      display: none;\n",
              "      fill: #1967D2;\n",
              "      height: 32px;\n",
              "      padding: 0 0 0 0;\n",
              "      width: 32px;\n",
              "    }\n",
              "\n",
              "    .colab-df-convert:hover {\n",
              "      background-color: #E2EBFA;\n",
              "      box-shadow: 0px 1px 2px rgba(60, 64, 67, 0.3), 0px 1px 3px 1px rgba(60, 64, 67, 0.15);\n",
              "      fill: #174EA6;\n",
              "    }\n",
              "\n",
              "    [theme=dark] .colab-df-convert {\n",
              "      background-color: #3B4455;\n",
              "      fill: #D2E3FC;\n",
              "    }\n",
              "\n",
              "    [theme=dark] .colab-df-convert:hover {\n",
              "      background-color: #434B5C;\n",
              "      box-shadow: 0px 1px 3px 1px rgba(0, 0, 0, 0.15);\n",
              "      filter: drop-shadow(0px 1px 2px rgba(0, 0, 0, 0.3));\n",
              "      fill: #FFFFFF;\n",
              "    }\n",
              "  </style>\n",
              "\n",
              "      <script>\n",
              "        const buttonEl =\n",
              "          document.querySelector('#df-5137e343-fe1c-4ae1-8765-1b7706a31f1d button.colab-df-convert');\n",
              "        buttonEl.style.display =\n",
              "          google.colab.kernel.accessAllowed ? 'block' : 'none';\n",
              "\n",
              "        async function convertToInteractive(key) {\n",
              "          const element = document.querySelector('#df-5137e343-fe1c-4ae1-8765-1b7706a31f1d');\n",
              "          const dataTable =\n",
              "            await google.colab.kernel.invokeFunction('convertToInteractive',\n",
              "                                                     [key], {});\n",
              "          if (!dataTable) return;\n",
              "\n",
              "          const docLinkHtml = 'Like what you see? Visit the ' +\n",
              "            '<a target=\"_blank\" href=https://colab.research.google.com/notebooks/data_table.ipynb>data table notebook</a>'\n",
              "            + ' to learn more about interactive tables.';\n",
              "          element.innerHTML = '';\n",
              "          dataTable['output_type'] = 'display_data';\n",
              "          await google.colab.output.renderOutput(dataTable, element);\n",
              "          const docLink = document.createElement('div');\n",
              "          docLink.innerHTML = docLinkHtml;\n",
              "          element.appendChild(docLink);\n",
              "        }\n",
              "      </script>\n",
              "    </div>\n",
              "  </div>\n",
              "  "
            ],
            "text/plain": [
              "            post_date  ...                                                url\n",
              "0 2022-02-25 07:09:01  ...     https://habr.com/ru/company/piter/blog/653415/\n",
              "1 2022-02-22 08:29:20  ...     https://habr.com/ru/company/proto/blog/652861/\n",
              "2 2022-02-21 19:33:41  ...                   https://habr.com/ru/post/652851/\n",
              "3 2022-02-20 21:57:45  ...  https://habr.com/ru/company/skillfactory/blog/...\n",
              "4 2022-02-19 18:00:39  ...                   https://habr.com/ru/post/652511/\n",
              "\n",
              "[5 rows x 3 columns]"
            ]
          },
          "execution_count": null,
          "metadata": {},
          "output_type": "execute_result"
        }
      ],
      "source": [
        "df.head()"
      ]
    },
    {
      "cell_type": "markdown",
      "metadata": {
        "id": "6-jfnjXXJnug"
      },
      "source": [
        "### Дополнительная часть (необязательная)"
      ]
    },
    {
      "cell_type": "markdown",
      "metadata": {
        "id": "0SPfDnaCJnug"
      },
      "source": [
        "Улучшить скрипт так, чтобы он анализировал не только заголовки статьи, но и весь текст статьи целиком.\n",
        "\n",
        "Для этого потребуется получать страницы статей и искать по тексту внутри этой страницы.  \n",
        "\n",
        "Итоговый датафрейм формировать со столбцами: `<дата> - <заголовок> - <ссылка> - <текст_статьи>`"
      ]
    },
    {
      "cell_type": "code",
      "execution_count": null,
      "metadata": {
        "colab": {
          "background_save": true
        },
        "id": "3GGCYHKNJnuh"
      },
      "outputs": [],
      "source": [
        "def get_post_content(url: str) -> str:\n",
        "    soup = get_soup_from_url(url)\n",
        "    time.sleep(0.3)\n",
        "    return soup.find('article').find('div', id=\"post-content-body\").text"
      ]
    },
    {
      "cell_type": "code",
      "execution_count": null,
      "metadata": {
        "id": "2-7N08oUJnuh"
      },
      "outputs": [],
      "source": [
        "df['article_text'] = df['url'].apply(get_post_content)"
      ]
    },
    {
      "cell_type": "code",
      "execution_count": null,
      "metadata": {
        "colab": {
          "background_save": true
        },
        "id": "xoHF7S9HJnuh",
        "outputId": "ddb4e5b2-d90c-463c-9013-599ab74bd369"
      },
      "outputs": [
        {
          "data": {
            "text/html": [
              "\n",
              "  <div id=\"df-95b0c08f-fe42-48c4-a025-5c6fd95b3a03\">\n",
              "    <div class=\"colab-df-container\">\n",
              "      <div>\n",
              "<style scoped>\n",
              "    .dataframe tbody tr th:only-of-type {\n",
              "        vertical-align: middle;\n",
              "    }\n",
              "\n",
              "    .dataframe tbody tr th {\n",
              "        vertical-align: top;\n",
              "    }\n",
              "\n",
              "    .dataframe thead th {\n",
              "        text-align: right;\n",
              "    }\n",
              "</style>\n",
              "<table border=\"1\" class=\"dataframe\">\n",
              "  <thead>\n",
              "    <tr style=\"text-align: right;\">\n",
              "      <th></th>\n",
              "      <th>post_date</th>\n",
              "      <th>header</th>\n",
              "      <th>url</th>\n",
              "      <th>article_text</th>\n",
              "    </tr>\n",
              "  </thead>\n",
              "  <tbody>\n",
              "    <tr>\n",
              "      <th>0</th>\n",
              "      <td>2022-02-25 07:09:01</td>\n",
              "      <td>Почему я начал использовать аннотации типов в ...</td>\n",
              "      <td>https://habr.com/ru/company/piter/blog/653415/</td>\n",
              "      <td>С появлением подсказок типов (type hints) в Py...</td>\n",
              "    </tr>\n",
              "    <tr>\n",
              "      <th>1</th>\n",
              "      <td>2022-02-22 08:29:20</td>\n",
              "      <td>Бот-трафик и парсинг цен – взгляд со стороны в...</td>\n",
              "      <td>https://habr.com/ru/company/proto/blog/652861/</td>\n",
              "      <td>В данной статье я хочу рассказать про то, как ...</td>\n",
              "    </tr>\n",
              "    <tr>\n",
              "      <th>2</th>\n",
              "      <td>2022-02-21 19:33:41</td>\n",
              "      <td>Обнаружение новизны изображений с помощью Pyth...</td>\n",
              "      <td>https://habr.com/ru/post/652851/</td>\n",
              "      <td>В этой статье я расскажу, как с по...</td>\n",
              "    </tr>\n",
              "    <tr>\n",
              "      <th>3</th>\n",
              "      <td>2022-02-20 21:57:45</td>\n",
              "      <td>Машинное стереозрение для новичков: две камеры...</td>\n",
              "      <td>https://habr.com/ru/company/skillfactory/blog/...</td>\n",
              "      <td>Стажируясь в правительственном технологическом...</td>\n",
              "    </tr>\n",
              "    <tr>\n",
              "      <th>4</th>\n",
              "      <td>2022-02-19 18:00:39</td>\n",
              "      <td>Еще один способ развернуть python автотесты we...</td>\n",
              "      <td>https://habr.com/ru/post/652511/</td>\n",
              "      <td>Всем привет! Меня зовут Илья. Я люблю писать а...</td>\n",
              "    </tr>\n",
              "  </tbody>\n",
              "</table>\n",
              "</div>\n",
              "      <button class=\"colab-df-convert\" onclick=\"convertToInteractive('df-95b0c08f-fe42-48c4-a025-5c6fd95b3a03')\"\n",
              "              title=\"Convert this dataframe to an interactive table.\"\n",
              "              style=\"display:none;\">\n",
              "        \n",
              "  <svg xmlns=\"http://www.w3.org/2000/svg\" height=\"24px\"viewBox=\"0 0 24 24\"\n",
              "       width=\"24px\">\n",
              "    <path d=\"M0 0h24v24H0V0z\" fill=\"none\"/>\n",
              "    <path d=\"M18.56 5.44l.94 2.06.94-2.06 2.06-.94-2.06-.94-.94-2.06-.94 2.06-2.06.94zm-11 1L8.5 8.5l.94-2.06 2.06-.94-2.06-.94L8.5 2.5l-.94 2.06-2.06.94zm10 10l.94 2.06.94-2.06 2.06-.94-2.06-.94-.94-2.06-.94 2.06-2.06.94z\"/><path d=\"M17.41 7.96l-1.37-1.37c-.4-.4-.92-.59-1.43-.59-.52 0-1.04.2-1.43.59L10.3 9.45l-7.72 7.72c-.78.78-.78 2.05 0 2.83L4 21.41c.39.39.9.59 1.41.59.51 0 1.02-.2 1.41-.59l7.78-7.78 2.81-2.81c.8-.78.8-2.07 0-2.86zM5.41 20L4 18.59l7.72-7.72 1.47 1.35L5.41 20z\"/>\n",
              "  </svg>\n",
              "      </button>\n",
              "      \n",
              "  <style>\n",
              "    .colab-df-container {\n",
              "      display:flex;\n",
              "      flex-wrap:wrap;\n",
              "      gap: 12px;\n",
              "    }\n",
              "\n",
              "    .colab-df-convert {\n",
              "      background-color: #E8F0FE;\n",
              "      border: none;\n",
              "      border-radius: 50%;\n",
              "      cursor: pointer;\n",
              "      display: none;\n",
              "      fill: #1967D2;\n",
              "      height: 32px;\n",
              "      padding: 0 0 0 0;\n",
              "      width: 32px;\n",
              "    }\n",
              "\n",
              "    .colab-df-convert:hover {\n",
              "      background-color: #E2EBFA;\n",
              "      box-shadow: 0px 1px 2px rgba(60, 64, 67, 0.3), 0px 1px 3px 1px rgba(60, 64, 67, 0.15);\n",
              "      fill: #174EA6;\n",
              "    }\n",
              "\n",
              "    [theme=dark] .colab-df-convert {\n",
              "      background-color: #3B4455;\n",
              "      fill: #D2E3FC;\n",
              "    }\n",
              "\n",
              "    [theme=dark] .colab-df-convert:hover {\n",
              "      background-color: #434B5C;\n",
              "      box-shadow: 0px 1px 3px 1px rgba(0, 0, 0, 0.15);\n",
              "      filter: drop-shadow(0px 1px 2px rgba(0, 0, 0, 0.3));\n",
              "      fill: #FFFFFF;\n",
              "    }\n",
              "  </style>\n",
              "\n",
              "      <script>\n",
              "        const buttonEl =\n",
              "          document.querySelector('#df-95b0c08f-fe42-48c4-a025-5c6fd95b3a03 button.colab-df-convert');\n",
              "        buttonEl.style.display =\n",
              "          google.colab.kernel.accessAllowed ? 'block' : 'none';\n",
              "\n",
              "        async function convertToInteractive(key) {\n",
              "          const element = document.querySelector('#df-95b0c08f-fe42-48c4-a025-5c6fd95b3a03');\n",
              "          const dataTable =\n",
              "            await google.colab.kernel.invokeFunction('convertToInteractive',\n",
              "                                                     [key], {});\n",
              "          if (!dataTable) return;\n",
              "\n",
              "          const docLinkHtml = 'Like what you see? Visit the ' +\n",
              "            '<a target=\"_blank\" href=https://colab.research.google.com/notebooks/data_table.ipynb>data table notebook</a>'\n",
              "            + ' to learn more about interactive tables.';\n",
              "          element.innerHTML = '';\n",
              "          dataTable['output_type'] = 'display_data';\n",
              "          await google.colab.output.renderOutput(dataTable, element);\n",
              "          const docLink = document.createElement('div');\n",
              "          docLink.innerHTML = docLinkHtml;\n",
              "          element.appendChild(docLink);\n",
              "        }\n",
              "      </script>\n",
              "    </div>\n",
              "  </div>\n",
              "  "
            ],
            "text/plain": [
              "            post_date  ...                                       article_text\n",
              "0 2022-02-25 07:09:01  ...  С появлением подсказок типов (type hints) в Py...\n",
              "1 2022-02-22 08:29:20  ...  В данной статье я хочу рассказать про то, как ...\n",
              "2 2022-02-21 19:33:41  ...              В этой статье я расскажу, как с по...\n",
              "3 2022-02-20 21:57:45  ...  Стажируясь в правительственном технологическом...\n",
              "4 2022-02-19 18:00:39  ...  Всем привет! Меня зовут Илья. Я люблю писать а...\n",
              "\n",
              "[5 rows x 4 columns]"
            ]
          },
          "execution_count": null,
          "metadata": {},
          "output_type": "execute_result"
        }
      ],
      "source": [
        "df.head()"
      ]
    },
    {
      "cell_type": "markdown",
      "metadata": {
        "id": "_jrPf8sXJnui"
      },
      "source": [
        "## Задание 2."
      ]
    },
    {
      "cell_type": "markdown",
      "metadata": {
        "id": "D-yKX4FCJnui"
      },
      "source": [
        "### Обязательная часть"
      ]
    },
    {
      "cell_type": "markdown",
      "metadata": {
        "id": "msNwe7NtJnui"
      },
      "source": [
        "Написать скрипт, который будет проверять список e-mail адресов на утечку при помощи сервиса [Avast Hack Ckeck](https://www.avast.com/hackcheck/).\n",
        "Список email-ов задаем переменной в начале кода:  \n",
        "`EMAIL = [xxx@x.ru, yyy@y.com]`\n",
        "\n",
        "В итоге должен формироваться датафрейм со столбцами: `<дата утечки> - <источник утечки> - <описание утечки>`  \n",
        "\n",
        "**Подсказка**: сервис работает при помощи \"скрытого\" API. Внимательно изучите post-запросы. Данные (почтовые адреса) передаются на сервис в json-формате (параметр `json` функции `post`)."
      ]
    },
    {
      "cell_type": "code",
      "execution_count": null,
      "metadata": {
        "colab": {
          "background_save": true
        },
        "id": "O2_FYj3x8r3P",
        "outputId": "80c58877-8239-4601-e32f-085824d21b90"
      },
      "outputs": [
        {
          "name": "stdout",
          "output_type": "stream",
          "text": [
            "200\n"
          ]
        }
      ],
      "source": [
        "url = 'https://identityprotection.avast.com/v1/web/query/site-breaches/unauthorized-data'\n",
        "EMAIL = ['xxx@x.ru', 'yyy@y.com']\n",
        "data = {\"emailAddresses\": EMAIL}\n",
        "headers = {\n",
        "    \"Vaar-Version\": \"0\",\n",
        "    \"Vaar-Header-App-Product-Name\": \"hackcheck-web-avast\",\n",
        "    \"Vaar-Header-App-Build-Version\": \"1.0.0\"\n",
        "}\n",
        "\n",
        "resp = requests.post(url, headers=headers, json=data)\n",
        "print(resp.status_code)"
      ]
    },
    {
      "cell_type": "code",
      "execution_count": null,
      "metadata": {
        "colab": {
          "background_save": true
        },
        "id": "89p4UGnk8r3R"
      },
      "outputs": [],
      "source": [
        "resp_json = resp.json()"
      ]
    },
    {
      "cell_type": "code",
      "execution_count": null,
      "metadata": {
        "colab": {
          "background_save": true
        },
        "id": "hMXrj5qA8r3R"
      },
      "outputs": [],
      "source": [
        "df = pd.DataFrame([value for value in resp_json[\"breaches\"].values()])"
      ]
    },
    {
      "cell_type": "code",
      "execution_count": null,
      "metadata": {
        "colab": {
          "background_save": true
        },
        "id": "_wF2n7en8r3R",
        "outputId": "24e02640-fdb3-4e8d-cd37-63182c71f27d"
      },
      "outputs": [
        {
          "data": {
            "text/html": [
              "\n",
              "  <div id=\"df-5ff28ecf-2dad-464f-b1aa-4e7923565616\">\n",
              "    <div class=\"colab-df-container\">\n",
              "      <div>\n",
              "<style scoped>\n",
              "    .dataframe tbody tr th:only-of-type {\n",
              "        vertical-align: middle;\n",
              "    }\n",
              "\n",
              "    .dataframe tbody tr th {\n",
              "        vertical-align: top;\n",
              "    }\n",
              "\n",
              "    .dataframe thead th {\n",
              "        text-align: right;\n",
              "    }\n",
              "</style>\n",
              "<table border=\"1\" class=\"dataframe\">\n",
              "  <thead>\n",
              "    <tr style=\"text-align: right;\">\n",
              "      <th></th>\n",
              "      <th>publishDate</th>\n",
              "      <th>site</th>\n",
              "      <th>description</th>\n",
              "    </tr>\n",
              "  </thead>\n",
              "  <tbody>\n",
              "    <tr>\n",
              "      <th>0</th>\n",
              "      <td>2020-01-03T00:00:00Z</td>\n",
              "      <td>azcentral.com</td>\n",
              "      <td>At an unconfirmed date, online Arizona newspap...</td>\n",
              "    </tr>\n",
              "    <tr>\n",
              "      <th>1</th>\n",
              "      <td>2021-02-11T00:00:00Z</td>\n",
              "      <td>forums.vkmonline.com</td>\n",
              "      <td>At an unconfirmed date, the Russian-language m...</td>\n",
              "    </tr>\n",
              "    <tr>\n",
              "      <th>2</th>\n",
              "      <td>2016-10-24T00:00:00Z</td>\n",
              "      <td>dropbox.com</td>\n",
              "      <td>Cloud storage company Dropbox suffered a major...</td>\n",
              "    </tr>\n",
              "    <tr>\n",
              "      <th>3</th>\n",
              "      <td>2019-10-17T00:00:00Z</td>\n",
              "      <td>zynga.com</td>\n",
              "      <td>In September 2019, the game developer Zynga wa...</td>\n",
              "    </tr>\n",
              "    <tr>\n",
              "      <th>4</th>\n",
              "      <td>2016-10-29T00:00:00Z</td>\n",
              "      <td>vk.com</td>\n",
              "      <td>Popular Russian social networking platform VKo...</td>\n",
              "    </tr>\n",
              "  </tbody>\n",
              "</table>\n",
              "</div>\n",
              "      <button class=\"colab-df-convert\" onclick=\"convertToInteractive('df-5ff28ecf-2dad-464f-b1aa-4e7923565616')\"\n",
              "              title=\"Convert this dataframe to an interactive table.\"\n",
              "              style=\"display:none;\">\n",
              "        \n",
              "  <svg xmlns=\"http://www.w3.org/2000/svg\" height=\"24px\"viewBox=\"0 0 24 24\"\n",
              "       width=\"24px\">\n",
              "    <path d=\"M0 0h24v24H0V0z\" fill=\"none\"/>\n",
              "    <path d=\"M18.56 5.44l.94 2.06.94-2.06 2.06-.94-2.06-.94-.94-2.06-.94 2.06-2.06.94zm-11 1L8.5 8.5l.94-2.06 2.06-.94-2.06-.94L8.5 2.5l-.94 2.06-2.06.94zm10 10l.94 2.06.94-2.06 2.06-.94-2.06-.94-.94-2.06-.94 2.06-2.06.94z\"/><path d=\"M17.41 7.96l-1.37-1.37c-.4-.4-.92-.59-1.43-.59-.52 0-1.04.2-1.43.59L10.3 9.45l-7.72 7.72c-.78.78-.78 2.05 0 2.83L4 21.41c.39.39.9.59 1.41.59.51 0 1.02-.2 1.41-.59l7.78-7.78 2.81-2.81c.8-.78.8-2.07 0-2.86zM5.41 20L4 18.59l7.72-7.72 1.47 1.35L5.41 20z\"/>\n",
              "  </svg>\n",
              "      </button>\n",
              "      \n",
              "  <style>\n",
              "    .colab-df-container {\n",
              "      display:flex;\n",
              "      flex-wrap:wrap;\n",
              "      gap: 12px;\n",
              "    }\n",
              "\n",
              "    .colab-df-convert {\n",
              "      background-color: #E8F0FE;\n",
              "      border: none;\n",
              "      border-radius: 50%;\n",
              "      cursor: pointer;\n",
              "      display: none;\n",
              "      fill: #1967D2;\n",
              "      height: 32px;\n",
              "      padding: 0 0 0 0;\n",
              "      width: 32px;\n",
              "    }\n",
              "\n",
              "    .colab-df-convert:hover {\n",
              "      background-color: #E2EBFA;\n",
              "      box-shadow: 0px 1px 2px rgba(60, 64, 67, 0.3), 0px 1px 3px 1px rgba(60, 64, 67, 0.15);\n",
              "      fill: #174EA6;\n",
              "    }\n",
              "\n",
              "    [theme=dark] .colab-df-convert {\n",
              "      background-color: #3B4455;\n",
              "      fill: #D2E3FC;\n",
              "    }\n",
              "\n",
              "    [theme=dark] .colab-df-convert:hover {\n",
              "      background-color: #434B5C;\n",
              "      box-shadow: 0px 1px 3px 1px rgba(0, 0, 0, 0.15);\n",
              "      filter: drop-shadow(0px 1px 2px rgba(0, 0, 0, 0.3));\n",
              "      fill: #FFFFFF;\n",
              "    }\n",
              "  </style>\n",
              "\n",
              "      <script>\n",
              "        const buttonEl =\n",
              "          document.querySelector('#df-5ff28ecf-2dad-464f-b1aa-4e7923565616 button.colab-df-convert');\n",
              "        buttonEl.style.display =\n",
              "          google.colab.kernel.accessAllowed ? 'block' : 'none';\n",
              "\n",
              "        async function convertToInteractive(key) {\n",
              "          const element = document.querySelector('#df-5ff28ecf-2dad-464f-b1aa-4e7923565616');\n",
              "          const dataTable =\n",
              "            await google.colab.kernel.invokeFunction('convertToInteractive',\n",
              "                                                     [key], {});\n",
              "          if (!dataTable) return;\n",
              "\n",
              "          const docLinkHtml = 'Like what you see? Visit the ' +\n",
              "            '<a target=\"_blank\" href=https://colab.research.google.com/notebooks/data_table.ipynb>data table notebook</a>'\n",
              "            + ' to learn more about interactive tables.';\n",
              "          element.innerHTML = '';\n",
              "          dataTable['output_type'] = 'display_data';\n",
              "          await google.colab.output.renderOutput(dataTable, element);\n",
              "          const docLink = document.createElement('div');\n",
              "          docLink.innerHTML = docLinkHtml;\n",
              "          element.appendChild(docLink);\n",
              "        }\n",
              "      </script>\n",
              "    </div>\n",
              "  </div>\n",
              "  "
            ],
            "text/plain": [
              "            publishDate  ...                                        description\n",
              "0  2020-01-03T00:00:00Z  ...  At an unconfirmed date, online Arizona newspap...\n",
              "1  2021-02-11T00:00:00Z  ...  At an unconfirmed date, the Russian-language m...\n",
              "2  2016-10-24T00:00:00Z  ...  Cloud storage company Dropbox suffered a major...\n",
              "3  2019-10-17T00:00:00Z  ...  In September 2019, the game developer Zynga wa...\n",
              "4  2016-10-29T00:00:00Z  ...  Popular Russian social networking platform VKo...\n",
              "\n",
              "[5 rows x 3 columns]"
            ]
          },
          "execution_count": null,
          "metadata": {},
          "output_type": "execute_result"
        }
      ],
      "source": [
        "df[['publishDate', 'site', 'description']].head()"
      ]
    }
  ],
  "metadata": {
    "colab": {
      "name": "parsing_and_API.ipynb",
      "provenance": [],
      "include_colab_link": true
    },
    "kernelspec": {
      "display_name": "Python 3 (ipykernel)",
      "language": "python",
      "name": "python3"
    },
    "language_info": {
      "codemirror_mode": {
        "name": "ipython",
        "version": 3
      },
      "file_extension": ".py",
      "mimetype": "text/x-python",
      "name": "python",
      "nbconvert_exporter": "python",
      "pygments_lexer": "ipython3",
      "version": "3.9.7"
    },
    "toc": {
      "base_numbering": 1,
      "nav_menu": {},
      "number_sections": true,
      "sideBar": true,
      "skip_h1_title": false,
      "title_cell": "Table of Contents",
      "title_sidebar": "Contents",
      "toc_cell": false,
      "toc_position": {},
      "toc_section_display": true,
      "toc_window_display": false
    }
  },
  "nbformat": 4,
  "nbformat_minor": 0
}