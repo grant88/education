{
  "cells": [
    {
      "cell_type": "markdown",
      "metadata": {
        "id": "view-in-github",
        "colab_type": "text"
      },
      "source": [
        "<a href=\"https://colab.research.google.com/github/grant88/education/blob/main/classes.ipynb\" target=\"_parent\"><img src=\"https://colab.research.google.com/assets/colab-badge.svg\" alt=\"Open In Colab\"/></a>"
      ]
    },
    {
      "cell_type": "markdown",
      "id": "2de26e32",
      "metadata": {
        "ExecuteTime": {
          "end_time": "2022-01-22T16:43:14.257848Z",
          "start_time": "2022-01-22T16:43:14.249847Z"
        },
        "id": "2de26e32"
      },
      "source": [
        "**Задание 1**\n",
        "\n",
        "Напишите функцию, которая возвращает название валюты (поле ‘Name’) с максимальным значением курса с помощью сервиса www.cbr-xml-daily.ru/daily_json.js"
      ]
    },
    {
      "cell_type": "code",
      "execution_count": 2,
      "id": "85326024",
      "metadata": {
        "ExecuteTime": {
          "end_time": "2022-01-22T18:44:22.788825Z",
          "start_time": "2022-01-22T18:44:22.769763Z"
        },
        "id": "85326024"
      },
      "outputs": [],
      "source": [
        "import requests"
      ]
    },
    {
      "cell_type": "code",
      "execution_count": 3,
      "id": "a6ae431b",
      "metadata": {
        "ExecuteTime": {
          "end_time": "2022-01-22T18:44:22.945908Z",
          "start_time": "2022-01-22T18:44:22.927905Z"
        },
        "id": "a6ae431b"
      },
      "outputs": [],
      "source": [
        "def max_rate():\n",
        "    r = requests.get('http://www.cbr-xml-daily.ru/daily_json.js')\n",
        "    data = r.json()['Valute']\n",
        "    rate_with_max_value = max(data.values(), key=lambda x: x['Value'])\n",
        "    return rate_with_max_value['Name']"
      ]
    },
    {
      "cell_type": "code",
      "execution_count": 4,
      "id": "e6bf1fa7",
      "metadata": {
        "ExecuteTime": {
          "end_time": "2022-01-22T18:44:23.257090Z",
          "start_time": "2022-01-22T18:44:23.091915Z"
        },
        "colab": {
          "base_uri": "https://localhost:8080/",
          "height": 35
        },
        "id": "e6bf1fa7",
        "outputId": "3c240bd4-f9ba-41b3-d9ce-e95bbf4ace5c"
      },
      "outputs": [
        {
          "output_type": "execute_result",
          "data": {
            "application/vnd.google.colaboratory.intrinsic+json": {
              "type": "string"
            },
            "text/plain": [
              "'СДР (специальные права заимствования)'"
            ]
          },
          "metadata": {},
          "execution_count": 4
        }
      ],
      "source": [
        "max_rate()"
      ]
    },
    {
      "cell_type": "markdown",
      "id": "e8cbda1b",
      "metadata": {
        "ExecuteTime": {
          "end_time": "2022-01-22T17:07:14.495966Z",
          "start_time": "2022-01-22T17:07:14.487851Z"
        },
        "id": "e8cbda1b"
      },
      "source": [
        "**Задание 2**\n",
        "\n",
        "Добавьте в класс Rate параметр diff (со значениями True или False), который в случае значения True в методах курсов валют (eur, usd итд) будет возвращать не курс валюты, а изменение по сравнению в прошлым значением. Считайте, self.diff будет принимать значение True только при возврате значения курса. При отображении всей информации о валюте он не используется."
      ]
    },
    {
      "cell_type": "code",
      "execution_count": 5,
      "id": "1b304d2b",
      "metadata": {
        "ExecuteTime": {
          "end_time": "2022-01-22T18:44:23.383278Z",
          "start_time": "2022-01-22T18:44:23.361282Z"
        },
        "id": "1b304d2b"
      },
      "outputs": [],
      "source": [
        "import requests\n",
        "class Rate:\n",
        "    def __init__(self, format_='value', diff=False):\n",
        "        self.format = format_\n",
        "        self.diff = diff\n",
        "    \n",
        "    def exchange_rates(self):\n",
        "        \"\"\"\n",
        "        Возвращает ответ сервиса с информацией о валютах в виде:\n",
        "        \n",
        "        {\n",
        "            'AMD': {\n",
        "                'CharCode': 'AMD',\n",
        "                'ID': 'R01060',\n",
        "                'Name': 'Армянских драмов',\n",
        "                'Nominal': 100,\n",
        "                'NumCode': '051',\n",
        "                'Previous': 14.103,\n",
        "                'Value': 14.0879\n",
        "                },\n",
        "            ...\n",
        "        }\n",
        "        \"\"\"\n",
        "        self.r = requests.get('http://www.cbr-xml-daily.ru/daily_json.js')\n",
        "        return self.r.json()['Valute']\n",
        "    \n",
        "    def make_format(self, currency):\n",
        "        \"\"\"\n",
        "        Возвращает информацию о валюте currency в двух вариантах:\n",
        "        - полная информация о валюте при self.format = 'full':\n",
        "        Rate('full').make_format('EUR')\n",
        "        {\n",
        "            'CharCode': 'EUR',\n",
        "            'ID': 'R01239',\n",
        "            'Name': 'Евро',\n",
        "            'Nominal': 1,\n",
        "            'NumCode': '978',\n",
        "            'Previous': 79.6765,\n",
        "            'Value': 79.4966\n",
        "        }\n",
        "        \n",
        "        Rate('value').make_format('EUR')\n",
        "        79.4966\n",
        "        \"\"\"\n",
        "        response = self.exchange_rates()\n",
        "        \n",
        "        if currency in response:\n",
        "            if self.format == 'full':\n",
        "                return response[currency]\n",
        "            \n",
        "            if self.format == 'value':\n",
        "                if self.diff:\n",
        "                    return response[currency]['Value'] - response[currency]['Previous']\n",
        "                else:\n",
        "                    return response[currency]['Value'] \n",
        "        \n",
        "        return 'Error'\n",
        "    \n",
        "    def eur(self):\n",
        "        \"\"\"Возвращает курс евро на сегодня в формате self.format\"\"\"\n",
        "        return self.make_format('EUR')\n",
        "    \n",
        "    def usd(self):\n",
        "        \"\"\"Возвращает курс доллара на сегодня в формате self.format\"\"\"\n",
        "        return self.make_format('USD')\n",
        "    \n",
        "    def brl(self):\n",
        "        \"\"\"Возвращает курс бразильского реала на сегодня в формате self.format\"\"\"\n",
        "        return self.make_format('BRL')"
      ]
    },
    {
      "cell_type": "code",
      "execution_count": 6,
      "id": "5650f9b7",
      "metadata": {
        "ExecuteTime": {
          "end_time": "2022-01-22T18:44:23.509311Z",
          "start_time": "2022-01-22T18:44:23.489314Z"
        },
        "id": "5650f9b7"
      },
      "outputs": [],
      "source": [
        "r = Rate(format_='value', diff=True)"
      ]
    },
    {
      "cell_type": "code",
      "execution_count": 7,
      "id": "f2454e15",
      "metadata": {
        "ExecuteTime": {
          "end_time": "2022-01-22T18:44:25.220540Z",
          "start_time": "2022-01-22T18:44:24.082346Z"
        },
        "colab": {
          "base_uri": "https://localhost:8080/"
        },
        "id": "f2454e15",
        "outputId": "b84e7fb9-a518-4c8e-e062-f94c097b9f34"
      },
      "outputs": [
        {
          "output_type": "execute_result",
          "data": {
            "text/plain": [
              "0.08389999999999986"
            ]
          },
          "metadata": {},
          "execution_count": 7
        }
      ],
      "source": [
        "r.eur()"
      ]
    },
    {
      "cell_type": "markdown",
      "id": "c5712007",
      "metadata": {
        "id": "c5712007"
      },
      "source": [
        "**Задание 3** \n",
        "\n",
        "Напишите класс Designer, который учитывает количество международных премий. Подсказки в коде занятия в разделе “Домашнее задание задача 3”.\n",
        "\n",
        "Комментарий по классу Designer такой:\n",
        "Напишите класс Designer, который учитывает количество международных премий для дизайнеров (из презентации: “Повышение на 1 грейд за каждые 7 баллов. Получение международной премии – это +2 балла”). Считайте, что при выходе на работу сотрудник уже имеет две премии и их количество не меняется со стажем (конечно если хотите это можно вручную менять).\n",
        "\n",
        "Класс Designer пишется по аналогии с классом Developer из материалов занятия."
      ]
    },
    {
      "cell_type": "code",
      "execution_count": 12,
      "id": "e96ab7d3",
      "metadata": {
        "ExecuteTime": {
          "end_time": "2022-01-22T18:44:25.989140Z",
          "start_time": "2022-01-22T18:44:25.967603Z"
        },
        "id": "e96ab7d3"
      },
      "outputs": [],
      "source": [
        "class Employee:\n",
        "    def __init__(self, name, seniority):\n",
        "        self.name = name\n",
        "        self.seniority = seniority\n",
        "        self.grade = 1\n",
        "    \n",
        "    def grade_up(self):\n",
        "        \"\"\"Повышает уровень сотрудника\"\"\"\n",
        "        self.grade += 1\n",
        "    \n",
        "    def publish_grade(self):\n",
        "        \"\"\"Публикация результатов аккредитации сотрудников\"\"\"\n",
        "        print(f\"name: {self.name}\\tgrade: {self.grade}\\tseniority: {self.seniority}\")\n",
        "    \n",
        "    def check_if_it_is_time_for_upgrade(self):\n",
        "        pass"
      ]
    },
    {
      "cell_type": "code",
      "execution_count": 13,
      "id": "9d417218",
      "metadata": {
        "ExecuteTime": {
          "end_time": "2022-01-22T18:44:26.224722Z",
          "start_time": "2022-01-22T18:44:26.203725Z"
        },
        "id": "9d417218"
      },
      "outputs": [],
      "source": [
        "class Designer(Employee):\n",
        "    def __init__(self, name, seniority=2):\n",
        "        super().__init__(name, seniority)\n",
        "        # изначальный грейд выставляется на основе кол-ва баллов, \n",
        "        # которые ему присвоили при устройстве на работу\n",
        "        # вдруг у него уже было 5 международных премий, \n",
        "        # и поэтому сразу грейд выставляем высокий\n",
        "        self.grade = (seniority // 7) + 1\n",
        "        \n",
        "    def get_international_award(self):\n",
        "        self.seniority += 2\n",
        "    \n",
        "    def check_if_it_is_time_for_upgrade(self):\n",
        "        # мин кол-во баллов, для текущего грейда\n",
        "        min_seniority = (self.grade - 1) * 7\n",
        "        # текущая разница в баллах\n",
        "        seniority_diff = self.seniority - min_seniority\n",
        "        # кол-во грейдов, на которое надо повысить сотрудника\n",
        "        grades_diff = seniority_diff // 7\n",
        "        for _ in range(grades_diff):\n",
        "            self.grade_up()\n",
        "        # публикация результатов\n",
        "        self.publish_grade()"
      ]
    },
    {
      "cell_type": "code",
      "execution_count": 10,
      "id": "c9aa57a2",
      "metadata": {
        "ExecuteTime": {
          "end_time": "2022-01-22T18:44:26.630475Z",
          "start_time": "2022-01-22T18:44:26.607824Z"
        },
        "colab": {
          "base_uri": "https://localhost:8080/"
        },
        "id": "c9aa57a2",
        "outputId": "e89aceaa-47ed-4579-8123-fda046346eb6"
      },
      "outputs": [
        {
          "output_type": "stream",
          "name": "stdout",
          "text": [
            "name: vasya\tgrade: 1\tseniority: 2\n",
            "name: vasya\tgrade: 1\tseniority: 2\n",
            "name: vasya\tgrade: 1\tseniority: 2\n",
            "name: vasya\tgrade: 1\tseniority: 2\n",
            "name: vasya\tgrade: 1\tseniority: 4\n",
            "name: vasya\tgrade: 1\tseniority: 6\n",
            "name: vasya\tgrade: 1\tseniority: 6\n",
            "name: vasya\tgrade: 1\tseniority: 6\n",
            "name: vasya\tgrade: 1\tseniority: 6\n",
            "name: vasya\tgrade: 2\tseniority: 8\n",
            "name: vasya\tgrade: 5\tseniority: 30\n"
          ]
        }
      ],
      "source": [
        "a = Designer('vasya')\n",
        "a.check_if_it_is_time_for_upgrade()\n",
        "a.check_if_it_is_time_for_upgrade()\n",
        "a.check_if_it_is_time_for_upgrade()\n",
        "a.check_if_it_is_time_for_upgrade()\n",
        "a.get_international_award() # кол-во баллов \n",
        "a.check_if_it_is_time_for_upgrade()\n",
        "a.get_international_award()\n",
        "a.check_if_it_is_time_for_upgrade()\n",
        "a.check_if_it_is_time_for_upgrade()\n",
        "a.check_if_it_is_time_for_upgrade()\n",
        "a.check_if_it_is_time_for_upgrade()\n",
        "a.get_international_award()\n",
        "a.check_if_it_is_time_for_upgrade()\n",
        "a.get_international_award()\n",
        "a.get_international_award()\n",
        "a.get_international_award()\n",
        "a.get_international_award()\n",
        "a.get_international_award()\n",
        "a.get_international_award()\n",
        "a.get_international_award()\n",
        "a.get_international_award()\n",
        "a.get_international_award()\n",
        "a.get_international_award()\n",
        "a.get_international_award()\n",
        "a.check_if_it_is_time_for_upgrade()"
      ]
    },
    {
      "cell_type": "code",
      "execution_count": 11,
      "id": "60c3f272",
      "metadata": {
        "ExecuteTime": {
          "end_time": "2022-01-22T18:44:27.084183Z",
          "start_time": "2022-01-22T18:44:27.064535Z"
        },
        "colab": {
          "base_uri": "https://localhost:8080/"
        },
        "id": "60c3f272",
        "outputId": "28f907e8-51fe-4288-9d46-7aaee9db9a30"
      },
      "outputs": [
        {
          "output_type": "stream",
          "name": "stdout",
          "text": [
            "name: vasya\tgrade: 2\tseniority: 8\n",
            "name: vasya\tgrade: 3\tseniority: 16\n"
          ]
        }
      ],
      "source": [
        "a = Designer('vasya', 8)\n",
        "a.check_if_it_is_time_for_upgrade()\n",
        "a.get_international_award()\n",
        "a.get_international_award()\n",
        "a.get_international_award()\n",
        "a.get_international_award()\n",
        "a.check_if_it_is_time_for_upgrade()"
      ]
    },
    {
      "cell_type": "code",
      "execution_count": null,
      "id": "6f0eb9b7",
      "metadata": {
        "id": "6f0eb9b7"
      },
      "outputs": [],
      "source": [
        ""
      ]
    }
  ],
  "metadata": {
    "kernelspec": {
      "display_name": "Python 3 (ipykernel)",
      "language": "python",
      "name": "python3"
    },
    "language_info": {
      "codemirror_mode": {
        "name": "ipython",
        "version": 3
      },
      "file_extension": ".py",
      "mimetype": "text/x-python",
      "name": "python",
      "nbconvert_exporter": "python",
      "pygments_lexer": "ipython3",
      "version": "3.8.12"
    },
    "colab": {
      "name": "classes.ipynb",
      "provenance": [],
      "include_colab_link": true
    }
  },
  "nbformat": 4,
  "nbformat_minor": 5
}