{
  "cells": [
    {
      "cell_type": "markdown",
      "metadata": {
        "id": "view-in-github",
        "colab_type": "text"
      },
      "source": [
        "<a href=\"https://colab.research.google.com/github/grant88/education/blob/main/functions.ipynb\" target=\"_parent\"><img src=\"https://colab.research.google.com/assets/colab-badge.svg\" alt=\"Open In Colab\"/></a>"
      ]
    },
    {
      "cell_type": "markdown",
      "metadata": {
        "id": "06_jVYJaazyp"
      },
      "source": [
        "**Исходные данные**"
      ]
    },
    {
      "cell_type": "code",
      "execution_count": 1,
      "metadata": {
        "id": "z7GWJCiVazyu"
      },
      "outputs": [],
      "source": [
        "documents = [\n",
        " {'type': 'passport', 'number': '2207 876234', 'name': 'Василий Гупкин'},\n",
        " {'type': 'invoice', 'number': '11-2', 'name': 'Геннадий Покемонов'},\n",
        " {'type': 'insurance', 'number': '10006', 'name': 'Аристарх Павлов'}\n",
        "]\n",
        "\n",
        "directories = {\n",
        " '1': ['2207 876234', '11-2'],\n",
        " '2': ['10006'],\n",
        " '3': []\n",
        "}"
      ]
    },
    {
      "cell_type": "markdown",
      "metadata": {
        "id": "A1hJOjO0azyw"
      },
      "source": [
        "# Задание 1\n",
        "**Пункт 1. Пользователь по команде \"p\" может узнать владельца документа по его номеру**"
      ]
    },
    {
      "cell_type": "code",
      "execution_count": 2,
      "metadata": {
        "id": "OFJ1jYG_azyx"
      },
      "outputs": [],
      "source": [
        "def get_doc_idx(doc_number):\n",
        "    for doc_idx, document in enumerate(documents):\n",
        "        if doc_number == document['number']:\n",
        "            return doc_idx\n",
        "\n",
        "def print_name_by_doc_number():\n",
        "    doc_number = input('Введите номер документа:')\n",
        "    doc_idx = get_doc_idx(doc_number)\n",
        "\n",
        "    if doc_idx is not None:\n",
        "        owner = documents[doc_idx]['name']\n",
        "        print(f'Владелец документа: {owner}')\n",
        "    else:\n",
        "        print('Документ не найден в базе')      "
      ]
    },
    {
      "cell_type": "markdown",
      "metadata": {
        "id": "F1cLBT5Razyx"
      },
      "source": [
        "**Пункт 2. Пользователь по команде \"s\" может по номеру документа узнать на какой полке он хранится**"
      ]
    },
    {
      "cell_type": "code",
      "execution_count": 3,
      "metadata": {
        "id": "rPHkhZSFazyy"
      },
      "outputs": [],
      "source": [
        "def get_shelf(doc_number):\n",
        "    for shelf, doc_numbers in directories.items():\n",
        "        if doc_number in doc_numbers:\n",
        "            return shelf\n",
        "\n",
        "def print_shelf_by_doc_number():\n",
        "    doc_number = input('Введите номер документа:')\n",
        "    shelf = get_shelf(doc_number)\n",
        "\n",
        "    if shelf:\n",
        "        print(f'Документ хранится на полке: {shelf}')\n",
        "    else:\n",
        "        print('Документ не найден в базе')   "
      ]
    },
    {
      "cell_type": "markdown",
      "metadata": {
        "id": "xSLjOFxIazyy"
      },
      "source": [
        "**Пункт 3. Пользователь по команде \"l\" может увидеть полную информацию по всем документам**"
      ]
    },
    {
      "cell_type": "code",
      "execution_count": 4,
      "metadata": {
        "id": "J2Zwx7mhazyz"
      },
      "outputs": [],
      "source": [
        "def print_all_documents():\n",
        "    for document in documents:\n",
        "        shelf = get_shelf(document['number'])\n",
        "        print(\"Текущий список документов:\")\n",
        "        print(f\"№: {document['number']}, тип: {document['type']}, владелец: {document['name']}, полка хранения: {shelf}\")"
      ]
    },
    {
      "cell_type": "markdown",
      "metadata": {
        "id": "vqwcufd7azy0"
      },
      "source": [
        "**Пункт 4. Пользователь по команде \"ads\" может добавить новую полку**"
      ]
    },
    {
      "cell_type": "code",
      "execution_count": 5,
      "metadata": {
        "id": "y5SCTjKiazy1"
      },
      "outputs": [],
      "source": [
        "def print_shelf_ids():\n",
        "    shelfs = ', '.join(sorted(directories, key=lambda x: int(x)))\n",
        "    return f\"Текущий перечень полок: {shelfs}.\"\n",
        "\n",
        "def add_shelf():\n",
        "    shelf = str(int(input('Введите номер полки:')))\n",
        "    if shelf in directories:\n",
        "        message = 'Такая полка уже существует.'\n",
        "    else:\n",
        "        directories[shelf] = list()\n",
        "        message = 'Полка добавлена.'\n",
        "    print(f\"{message} {print_shelf_ids()}\")"
      ]
    },
    {
      "cell_type": "markdown",
      "metadata": {
        "id": "63WXmjU1azy1"
      },
      "source": [
        "**Пункт 5. Пользователь по команде \"ds\" может удалить существующую полку из данных (только если она пустая)**"
      ]
    },
    {
      "cell_type": "code",
      "execution_count": 6,
      "metadata": {
        "id": "VdviH2saazy2"
      },
      "outputs": [],
      "source": [
        "def remove_shelf():\n",
        "    shelf = input('Введите номер полки:')\n",
        "\n",
        "    if shelf in directories:\n",
        "        if directories[shelf]:\n",
        "            message = 'На полке есть документа, удалите их перед удалением полки.'\n",
        "        else:\n",
        "            del directories[shelf]\n",
        "            message = 'Полка удалена.'\n",
        "    else:\n",
        "        message = 'Такой полки не существует.'\n",
        "    \n",
        "    print(f'{message} {print_shelf_ids()}')"
      ]
    },
    {
      "cell_type": "markdown",
      "metadata": {
        "id": "KFxTZtM_azy2"
      },
      "source": [
        "# Задание 2 (необязательное)\n",
        "**Пункт 1. Пользователь по команде \"ad\" может добавить новый документ в данные**"
      ]
    },
    {
      "cell_type": "code",
      "execution_count": 7,
      "metadata": {
        "id": "RFOp2gTKazy2"
      },
      "outputs": [],
      "source": [
        "def add_document():\n",
        "    doc_number = input('Введите номер документа:')\n",
        "    doc_type = input('Введите тип документа:')\n",
        "    name = input('Введите владельца документа:')\n",
        "    document = {\n",
        "        'type': doc_type,\n",
        "        'number': doc_number,\n",
        "        'name': name\n",
        "    }\n",
        "    shelf = str(int(input('Введите полку для хранения:')))\n",
        "\n",
        "    if shelf in directories:\n",
        "        documents.append(document)\n",
        "        directories[shelf].append(doc_number)\n",
        "        print('Документ добавлен.', end=' ')\n",
        "    else:\n",
        "        print('Такой полки не существует. Добавьте полку командой ads. \\n')\n",
        "    print_all_documents()"
      ]
    },
    {
      "cell_type": "markdown",
      "metadata": {
        "id": "Wbp2RkqQazy3"
      },
      "source": [
        "**Пункт 2. Пользователь по команде \"d\" может удалить документ из данных**"
      ]
    },
    {
      "cell_type": "code",
      "execution_count": 8,
      "metadata": {
        "id": "wJk7cDB3azy3"
      },
      "outputs": [],
      "source": [
        "def remove_from_shelf(doc_number):\n",
        "    shelf = get_shelf(doc_number)\n",
        "    if shelf:\n",
        "        directories[shelf].remove(doc_number)"
      ]
    },
    {
      "cell_type": "code",
      "execution_count": 9,
      "metadata": {
        "id": "kkkktc6Vazy4"
      },
      "outputs": [],
      "source": [
        "def delete_document():\n",
        "    doc_number = str(input('Введите номер документа:'))\n",
        "    doc_idx = get_doc_idx(doc_number)\n",
        "\n",
        "    if doc_idx is not None:\n",
        "        remove_from_shelf(doc_number)\n",
        "        del documents[doc_idx]\n",
        "        print('Документ удален.')\n",
        "    else:\n",
        "        print('Документ не найден в базе.')\n",
        "    print_all_documents()"
      ]
    },
    {
      "cell_type": "markdown",
      "metadata": {
        "id": "O_4VcERaazy4"
      },
      "source": [
        "**Пункт 3. Пользователь по команде \"m\" может переместить документ с полки на полку**"
      ]
    },
    {
      "cell_type": "code",
      "execution_count": 10,
      "metadata": {
        "id": "APDSTjJUazy4"
      },
      "outputs": [],
      "source": [
        "def move():\n",
        "    doc_number = input('Введите номер документа:')\n",
        "    new_shelf = str(int(input('Введите номер полки:')))\n",
        "\n",
        "    if new_shelf not in directories:\n",
        "        print(f'Такой полки не существует. {print_shelf_ids()}')\n",
        "        return\n",
        "\n",
        "    if get_doc_idx(doc_number) is not None:\n",
        "        remove_from_shelf(doc_number)\n",
        "        directories[new_shelf].append(doc_number)\n",
        "        print('Документ перемещен.')\n",
        "    else:\n",
        "        print('Документ не найден в базе.')\n",
        "    print_all_documents()"
      ]
    },
    {
      "cell_type": "markdown",
      "metadata": {
        "id": "fUzu4n4Aazy5"
      },
      "source": [
        "**Диспетчер команд**"
      ]
    },
    {
      "cell_type": "code",
      "execution_count": 11,
      "metadata": {
        "id": "fkh6Sgpcazy5"
      },
      "outputs": [],
      "source": [
        "def run(command: str):\n",
        "    if command == 'p':\n",
        "        print_name_by_doc_number()\n",
        "    elif command == 's':\n",
        "        print_shelf_by_doc_number()\n",
        "    elif command == 'l':\n",
        "        print_all_documents()\n",
        "    elif command == 'ads':\n",
        "        add_shelf()\n",
        "    elif command == 'ds':\n",
        "        remove_shelf()\n",
        "    elif command == 'ad':\n",
        "        add_document()\n",
        "    elif command == 'd':\n",
        "        delete_document()\n",
        "    elif command == 'm':\n",
        "        move()\n",
        "    else:\n",
        "        pass\n",
        "\n",
        "def main():\n",
        "    while True:\n",
        "        command = input('Введите команду:')\n",
        "        if command == 'q':\n",
        "            break\n",
        "        else:\n",
        "            run(command)"
      ]
    },
    {
      "cell_type": "markdown",
      "metadata": {
        "id": "du3EiOjIazy5"
      },
      "source": [
        "**Запуск**"
      ]
    },
    {
      "cell_type": "code",
      "execution_count": 12,
      "metadata": {
        "colab": {
          "base_uri": "https://localhost:8080/"
        },
        "id": "1NRdjXTzazy5",
        "outputId": "3f6c27b5-c706-446a-e17a-7e07f1ad3648"
      },
      "outputs": [
        {
          "name": "stdout",
          "output_type": "stream",
          "text": [
            "Введите команду:l\n",
            "Текущий список документов:\n",
            "№: 2207 876234, тип: passport, владелец: Василий Гупкин, полка хранения: 1\n",
            "Текущий список документов:\n",
            "№: 11-2, тип: invoice, владелец: Геннадий Покемонов, полка хранения: 1\n",
            "Текущий список документов:\n",
            "№: 10006, тип: insurance, владелец: Аристарх Павлов, полка хранения: 2\n",
            "Введите команду:q\n"
          ]
        }
      ],
      "source": [
        "main()"
      ]
    },
    {
      "cell_type": "code",
      "execution_count": null,
      "metadata": {
        "id": "UHXItDEoazy6"
      },
      "outputs": [],
      "source": [
        ""
      ]
    }
  ],
  "metadata": {
    "kernelspec": {
      "display_name": "Python 3",
      "language": "python",
      "name": "python3"
    },
    "language_info": {
      "codemirror_mode": {
        "name": "ipython",
        "version": 3
      },
      "file_extension": ".py",
      "mimetype": "text/x-python",
      "name": "python",
      "nbconvert_exporter": "python",
      "pygments_lexer": "ipython3",
      "version": "3.7.3"
    },
    "colab": {
      "name": "functions.ipynb",
      "provenance": [],
      "include_colab_link": true
    }
  },
  "nbformat": 4,
  "nbformat_minor": 0
}