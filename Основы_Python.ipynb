{
  "nbformat": 4,
  "nbformat_minor": 0,
  "metadata": {
    "colab": {
      "name": "Основы Python.ipynb",
      "provenance": [],
      "collapsed_sections": [],
      "authorship_tag": "ABX9TyOkYAIvlmQ8moHc56YXooUj",
      "include_colab_link": true
    },
    "kernelspec": {
      "name": "python3",
      "display_name": "Python 3"
    },
    "language_info": {
      "name": "python"
    }
  },
  "cells": [
    {
      "cell_type": "markdown",
      "metadata": {
        "id": "view-in-github",
        "colab_type": "text"
      },
      "source": [
        "<a href=\"https://colab.research.google.com/github/grant88/education/blob/main/%D0%9E%D1%81%D0%BD%D0%BE%D0%B2%D1%8B_Python.ipynb\" target=\"_parent\"><img src=\"https://colab.research.google.com/assets/colab-badge.svg\" alt=\"Open In Colab\"/></a>"
      ]
    },
    {
      "cell_type": "markdown",
      "source": [
        "**Задание 1**\n",
        "\n",
        "Даны 2 переменных, в которых хранятся строки произвольной длины: phrase_1 и phrase_2.\n",
        "\n",
        "Напишите код, который проверяет какая из этих строк длиннее."
      ],
      "metadata": {
        "id": "y-T_HuG8-EfN"
      }
    },
    {
      "cell_type": "code",
      "source": [
        "phrase_1 = 'Фраза 1'\n",
        "phrase_2 = 'Вторая фраза'"
      ],
      "metadata": {
        "id": "vAteU64PEMPx"
      },
      "execution_count": null,
      "outputs": []
    },
    {
      "cell_type": "code",
      "execution_count": null,
      "metadata": {
        "id": "oZX3ZJEA9MwK"
      },
      "outputs": [],
      "source": [
        "if len(phrase_1) == len(phrase_2):\n",
        "    print('Фразы равной длины')\n",
        "elif len(phrase_1) > len(phrase_2):\n",
        "    print('Фраза 1 длиннее фразы 2')\n",
        "else:\n",
        "    print('Фраза 2 длиннее фразы 1')"
      ]
    },
    {
      "cell_type": "markdown",
      "source": [
        "**Задание 2**\n",
        "\n",
        "Дана переменная, в которой хранится число (год). \n",
        "\n",
        "Необходимо написать программу, которая выведет, является ли данный год високосным или обычным."
      ],
      "metadata": {
        "id": "SPsHpAmAB4mE"
      }
    },
    {
      "cell_type": "code",
      "source": [
        "year = 1900"
      ],
      "metadata": {
        "id": "_chBdAw5EJn4"
      },
      "execution_count": null,
      "outputs": []
    },
    {
      "cell_type": "code",
      "source": [
        "if year % 4 == 0:\n",
        "    if year % 100 == 0:\n",
        "        if year % 400 == 0:\n",
        "            print('Високосный год')\n",
        "        else:\n",
        "            print('Обычный год')            \n",
        "    else:\n",
        "        print('Високосный год')\n",
        "else:\n",
        "    print('Обычный год')"
      ],
      "metadata": {
        "id": "8T5sgq9vB-xv"
      },
      "execution_count": null,
      "outputs": []
    },
    {
      "cell_type": "markdown",
      "source": [
        "**Задание 3**\n",
        "\n",
        "Необходимо написать программу, которая будет запрашивать у пользователя месяц и дату рождения и выводить соответствующий знак зодиака."
      ],
      "metadata": {
        "id": "xtoUTPNg1V_l"
      }
    },
    {
      "cell_type": "code",
      "source": [
        "day = int(input(\"Введите день:\"))\n",
        "month = input(\"Введите месяц:\")"
      ],
      "metadata": {
        "id": "k3qc1BmM1bo2"
      },
      "execution_count": null,
      "outputs": []
    },
    {
      "cell_type": "code",
      "source": [
        "if month == 'Март' and day >= 21 or month == 'Апрель' and day <= 20:\n",
        "    star_sign = 'Овен'\n",
        "elif month == 'Апрель' and day >= 21 or month == 'Май' and day <= 21:\n",
        "    star_sign = 'Телец'\n",
        "elif month == 'Май' and day >= 22 or month == 'Июнь' and day <= 21:\n",
        "    star_sign = 'Близнецы'\n",
        "elif month == 'Июнь' and day >= 22 or month == 'Июль' and day <= 22:\n",
        "    star_sign = 'Рак'\n",
        "elif month == 'Июль' and day >= 23 or month == 'Август' and day <= 21:\n",
        "    star_sign = 'Лев'\n",
        "elif month == 'Август' and day >= 22 or month == 'Сентябрь' and day <= 23:\n",
        "    star_sign = 'Дева'\n",
        "elif month == 'Сентябрь' and day >= 24 or month == 'Октябрь' and day <= 23:\n",
        "    star_sign = 'Весы'\n",
        "elif month == 'Октябрь' and day >= 24 or month == 'Ноябрь' and day <= 22:\n",
        "    star_sign = 'Скорпион'\n",
        "elif month == 'Ноябрь' and day >= 23 or month == 'Декабрь' and day <= 22:\n",
        "    star_sign = 'Стрелец'\n",
        "elif month == 'Декабрь' and day >= 23 or month == 'Январь' and day <= 20:\n",
        "    star_sign = 'Козерог'\n",
        "elif month == 'Январь' and day >= 21 or month == 'Февраль' and day <= 19:\n",
        "    star_sign = 'Водолей'\n",
        "elif month == 'Февраль' and day >= 20 or month == 'Март' and day <= 20:\n",
        "    star_sign = 'Рыбы'\n",
        "else:\n",
        "    star_sign = ''\n",
        "\n",
        "print(f'Ваш знак зодиака: {star_sign}')"
      ],
      "metadata": {
        "id": "xP9JW2hR4G4f"
      },
      "execution_count": null,
      "outputs": []
    },
    {
      "cell_type": "markdown",
      "source": [
        "**Задание 4**\n",
        "\n",
        "Вам нужно написать программу для подбора упаковок по размерам товара. Размеры (ширина, длина, высота) хранятся в переменных (в сантиметрах):\n",
        "\n",
        "Используйте следующие правила:\n",
        "\n",
        "если каждое из трех измерений менее или равно 15 сантиметрам, то выведите на экран \"Коробка №1\";\n",
        "если хотя бы одно из измерений больше 15 сантиметров, но менее 50 сантиметров, то выводите \"Коробка №2\";\n",
        "если длина товара больше 2 метров, то выводите \"Упаковка для лыж\";\n",
        "во всех остальных случаях выводите \"Стандартная коробка №3\"."
      ],
      "metadata": {
        "id": "coIU98Wx8KFz"
      }
    },
    {
      "cell_type": "code",
      "source": [
        "width = 54\n",
        "length = 565\n",
        "height = 10"
      ],
      "metadata": {
        "id": "MS5E14Qp8P1o"
      },
      "execution_count": 58,
      "outputs": []
    },
    {
      "cell_type": "code",
      "source": [
        "if width <= 15 and length <= 15 and height <= 15:\n",
        "    print('Коробка №1')\n",
        "elif length > 200:\n",
        "    print('Упаковка для лыж')\n",
        "elif 15 < width < 50 or 15 < length < 50 or 15 < height < 50:\n",
        "    print('Коробка №2')\n",
        "else:\n",
        "    print('Стандартная коробка №3')"
      ],
      "metadata": {
        "id": "hrm9F_ooD-sC"
      },
      "execution_count": null,
      "outputs": []
    },
    {
      "cell_type": "markdown",
      "source": [
        "**Задание 5 (необязательное)**\n",
        "\n",
        "\n",
        "Дана переменная, в которой хранится шестизначное число (номер проездного билета). Напишите программу, которая будет определять, является ли данный билет \"счастливым\". Билет считается счастливым, если сумма первых трех цифр совпадает с суммой последних трех цифр номера."
      ],
      "metadata": {
        "id": "ChVZ0mb8BQc0"
      }
    },
    {
      "cell_type": "code",
      "source": [
        "number = 123321"
      ],
      "metadata": {
        "id": "B-yuKENoBU_y"
      },
      "execution_count": 53,
      "outputs": []
    },
    {
      "cell_type": "code",
      "source": [
        "right = number % 1000\n",
        "left = number // 1000\n",
        "left_sum = left // 100 + left // 10 % 10 + left % 10\n",
        "right_sum = right // 100 + right // 10 % 10 + right % 10\n",
        "\n",
        "if left_sum == right_sum:\n",
        "    print('Счастливый билет')\n",
        "else:\n",
        "    print('Несчастливый билет')"
      ],
      "metadata": {
        "id": "kQu5R_R3CAO4"
      },
      "execution_count": 56,
      "outputs": []
    }
  ]
}