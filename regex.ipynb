{
  "cells": [
    {
      "cell_type": "markdown",
      "metadata": {
        "id": "view-in-github",
        "colab_type": "text"
      },
      "source": [
        "<a href=\"https://colab.research.google.com/github/grant88/education/blob/main/regex.ipynb\" target=\"_parent\"><img src=\"https://colab.research.google.com/assets/colab-badge.svg\" alt=\"Open In Colab\"/></a>"
      ]
    },
    {
      "cell_type": "code",
      "execution_count": 1,
      "id": "3c07d714",
      "metadata": {
        "ExecuteTime": {
          "end_time": "2022-01-30T16:36:48.840608Z",
          "start_time": "2022-01-30T16:36:48.823891Z"
        },
        "id": "3c07d714"
      },
      "outputs": [],
      "source": [
        "import re"
      ]
    },
    {
      "cell_type": "markdown",
      "id": "aa0c2082",
      "metadata": {
        "id": "aa0c2082"
      },
      "source": [
        "**Задание 1**\n",
        "\n",
        "Напишите функцию, которая принимает на вход строку и проверяет является ли она валидным транспортным номером (1 буква, 3 цифры, 2 буквы, 2-3 цифры). Обратите внимание, что не все буквы кириллического алфавита используются в транспортных номерах.\n",
        "\n",
        "Если номер валиден, то функция должна возвращать отдельно номер и регион."
      ]
    },
    {
      "cell_type": "code",
      "execution_count": 2,
      "id": "4b499e1c",
      "metadata": {
        "ExecuteTime": {
          "end_time": "2022-01-30T16:36:49.122199Z",
          "start_time": "2022-01-30T16:36:49.104164Z"
        },
        "id": "4b499e1c"
      },
      "outputs": [],
      "source": [
        "def check_car_number(car_id: str) -> str:\n",
        "    valid_ru = 'АВЕЛМНОРСТХУ'\n",
        "    valid_eng = 'ABEKMHOPCTXD'\n",
        "    letters = valid_ru + valid_eng\n",
        "    regex = re.compile('^([' + letters + ']\\d{3}[' + letters + ']{2})(\\d{2,3})$')\n",
        "    result = re.match(regex, car_id)\n",
        "    if result:\n",
        "        number, region = result.groups()\n",
        "        return f\"Результат: Номер {number} валиден. Регион: {region}\"\n",
        "    return \"Результат: Номер не валиден\""
      ]
    },
    {
      "cell_type": "code",
      "execution_count": 3,
      "id": "02ddac27",
      "metadata": {
        "ExecuteTime": {
          "end_time": "2022-01-30T16:36:49.485054Z",
          "start_time": "2022-01-30T16:36:49.468020Z"
        },
        "colab": {
          "base_uri": "https://localhost:8080/",
          "height": 35
        },
        "id": "02ddac27",
        "outputId": "768d1c53-0111-475d-8bf9-6e1af4fe7210"
      },
      "outputs": [
        {
          "output_type": "execute_result",
          "data": {
            "application/vnd.google.colaboratory.intrinsic+json": {
              "type": "string"
            },
            "text/plain": [
              "'Результат: Номер A222BC валиден. Регион: 96'"
            ]
          },
          "metadata": {},
          "execution_count": 3
        }
      ],
      "source": [
        "car_id = 'A222BC96'\n",
        "check_car_number(car_id)"
      ]
    },
    {
      "cell_type": "code",
      "execution_count": 4,
      "id": "12cea9d0",
      "metadata": {
        "ExecuteTime": {
          "end_time": "2022-01-30T16:36:49.625420Z",
          "start_time": "2022-01-30T16:36:49.616332Z"
        },
        "colab": {
          "base_uri": "https://localhost:8080/",
          "height": 35
        },
        "id": "12cea9d0",
        "outputId": "a818d2cb-53bb-4607-f23a-eaa9a1fc9d8e"
      },
      "outputs": [
        {
          "output_type": "execute_result",
          "data": {
            "application/vnd.google.colaboratory.intrinsic+json": {
              "type": "string"
            },
            "text/plain": [
              "'Результат: Номер не валиден'"
            ]
          },
          "metadata": {},
          "execution_count": 4
        }
      ],
      "source": [
        "car_id = 'АБ22ВВ193'\n",
        "check_car_number(car_id)"
      ]
    },
    {
      "cell_type": "markdown",
      "id": "f0fe324d",
      "metadata": {
        "id": "f0fe324d"
      },
      "source": [
        "**Задание 2**\n",
        "\n",
        "Напишите функцию, которая будет удалять все последовательные повторы слов из заданной строки при помощи регулярных выражений."
      ]
    },
    {
      "cell_type": "code",
      "execution_count": 5,
      "id": "d5b537ca",
      "metadata": {
        "ExecuteTime": {
          "end_time": "2022-01-30T16:36:49.906962Z",
          "start_time": "2022-01-30T16:36:49.897401Z"
        },
        "id": "d5b537ca"
      },
      "outputs": [],
      "source": [
        "some_string = 'Напишите напишите функцию ФУНКЦИЮ функцию, которая будет будет будет будет удалять все все все все последовательные повторы слов из из из из заданной строки строки при помощи регулярных выражений ВЫРАЖЕНИЙ.'\n",
        "\n",
        "res = 'Напишите функцию, которая будет удалять все последовательные повторы слов из заданной строки при помощи регулярных выражений.'"
      ]
    },
    {
      "cell_type": "code",
      "execution_count": 6,
      "id": "59961089",
      "metadata": {
        "ExecuteTime": {
          "end_time": "2022-01-30T16:36:50.030051Z",
          "start_time": "2022-01-30T16:36:50.023057Z"
        },
        "id": "59961089"
      },
      "outputs": [],
      "source": [
        "def remove_word_seq(text: str) -> str:\n",
        "    return re.sub(r'(\\w+)(\\s\\1)*', r'\\1', text, flags=re.IGNORECASE)"
      ]
    },
    {
      "cell_type": "code",
      "execution_count": 9,
      "id": "69b42fd1",
      "metadata": {
        "ExecuteTime": {
          "end_time": "2022-01-30T16:36:50.155955Z",
          "start_time": "2022-01-30T16:36:50.148355Z"
        },
        "colab": {
          "base_uri": "https://localhost:8080/"
        },
        "id": "69b42fd1",
        "outputId": "ed8bc92e-b438-46f4-c56c-ba22ea9aabf7"
      },
      "outputs": [
        {
          "output_type": "execute_result",
          "data": {
            "text/plain": [
              "True"
            ]
          },
          "metadata": {},
          "execution_count": 9
        }
      ],
      "source": [
        "remove_word_seq(some_string) == res"
      ]
    },
    {
      "cell_type": "markdown",
      "id": "006c2f21",
      "metadata": {
        "ExecuteTime": {
          "end_time": "2022-01-29T20:37:59.650832Z",
          "start_time": "2022-01-29T20:37:59.640668Z"
        },
        "id": "006c2f21"
      },
      "source": [
        "**Задание 3**\n",
        "\n",
        "Напишите функцию, которая будет возвращать акроним по переданной в нее строке со словами."
      ]
    },
    {
      "cell_type": "code",
      "execution_count": 10,
      "id": "86344512",
      "metadata": {
        "ExecuteTime": {
          "end_time": "2022-01-30T16:36:50.406964Z",
          "start_time": "2022-01-30T16:36:50.388958Z"
        },
        "id": "86344512"
      },
      "outputs": [],
      "source": [
        "# вариант 1\n",
        "def acronym(text: str) -> str:\n",
        "    return re.sub(r'(^| )(\\w)(\\w*)', r'\\2', text).upper()"
      ]
    },
    {
      "cell_type": "code",
      "execution_count": 11,
      "id": "c96e4761",
      "metadata": {
        "ExecuteTime": {
          "end_time": "2022-01-30T16:36:50.565190Z",
          "start_time": "2022-01-30T16:36:50.554382Z"
        },
        "colab": {
          "base_uri": "https://localhost:8080/",
          "height": 35
        },
        "id": "c96e4761",
        "outputId": "1e0b88f7-96da-4ac4-c7d1-9901c9c7a75f"
      },
      "outputs": [
        {
          "output_type": "execute_result",
          "data": {
            "application/vnd.google.colaboratory.intrinsic+json": {
              "type": "string"
            },
            "text/plain": [
              "'ИТ'"
            ]
          },
          "metadata": {},
          "execution_count": 11
        }
      ],
      "source": [
        "some_words = 'Информационные технологии'\n",
        "acronym(some_words)"
      ]
    },
    {
      "cell_type": "code",
      "execution_count": 12,
      "id": "4114b068",
      "metadata": {
        "ExecuteTime": {
          "end_time": "2022-01-30T16:36:50.737612Z",
          "start_time": "2022-01-30T16:36:50.720564Z"
        },
        "colab": {
          "base_uri": "https://localhost:8080/",
          "height": 35
        },
        "id": "4114b068",
        "outputId": "fbd1fd29-0920-462a-debf-1e150338e687"
      },
      "outputs": [
        {
          "output_type": "execute_result",
          "data": {
            "application/vnd.google.colaboratory.intrinsic+json": {
              "type": "string"
            },
            "text/plain": [
              "'NFC'"
            ]
          },
          "metadata": {},
          "execution_count": 12
        }
      ],
      "source": [
        "some_words = 'Near Field Communication'\n",
        "acronym(some_words)"
      ]
    },
    {
      "cell_type": "code",
      "execution_count": 13,
      "id": "e6b70a12",
      "metadata": {
        "ExecuteTime": {
          "end_time": "2022-01-30T17:24:55.056148Z",
          "start_time": "2022-01-30T17:24:55.047135Z"
        },
        "id": "e6b70a12"
      },
      "outputs": [],
      "source": [
        "# вариант 2\n",
        "def acronym(text: str) -> str:\n",
        "    return ''.join(re.findall(r'(?:(\\w))\\w*', text)).upper()"
      ]
    },
    {
      "cell_type": "code",
      "execution_count": 14,
      "id": "5fa7e8cb",
      "metadata": {
        "ExecuteTime": {
          "end_time": "2022-01-30T17:24:55.306694Z",
          "start_time": "2022-01-30T17:24:55.297128Z"
        },
        "colab": {
          "base_uri": "https://localhost:8080/",
          "height": 35
        },
        "id": "5fa7e8cb",
        "outputId": "1fd16c09-17c1-460c-a152-e7dbab3f17b3"
      },
      "outputs": [
        {
          "output_type": "execute_result",
          "data": {
            "application/vnd.google.colaboratory.intrinsic+json": {
              "type": "string"
            },
            "text/plain": [
              "'ИТ'"
            ]
          },
          "metadata": {},
          "execution_count": 14
        }
      ],
      "source": [
        "some_words = 'Информационные технологии'\n",
        "acronym(some_words)"
      ]
    },
    {
      "cell_type": "code",
      "execution_count": 15,
      "id": "e3d5595f",
      "metadata": {
        "ExecuteTime": {
          "end_time": "2022-01-30T17:24:55.807987Z",
          "start_time": "2022-01-30T17:24:55.795798Z"
        },
        "colab": {
          "base_uri": "https://localhost:8080/",
          "height": 35
        },
        "id": "e3d5595f",
        "outputId": "9aafecb8-b840-4ee6-ec18-d69cfd1f8341"
      },
      "outputs": [
        {
          "output_type": "execute_result",
          "data": {
            "application/vnd.google.colaboratory.intrinsic+json": {
              "type": "string"
            },
            "text/plain": [
              "'NFC'"
            ]
          },
          "metadata": {},
          "execution_count": 15
        }
      ],
      "source": [
        "some_words = 'Near Field Communication'\n",
        "acronym(some_words)"
      ]
    },
    {
      "cell_type": "markdown",
      "id": "27bf59da",
      "metadata": {
        "id": "27bf59da"
      },
      "source": [
        "**Задание 4**\n",
        "\n",
        "Напишите функцию, которая будет принимать на вход список email-адресов и выводить их распределение по доменным зонам."
      ]
    },
    {
      "cell_type": "code",
      "execution_count": 16,
      "id": "a83eb3f8",
      "metadata": {
        "ExecuteTime": {
          "end_time": "2022-01-30T16:56:01.956569Z",
          "start_time": "2022-01-30T16:56:01.950376Z"
        },
        "id": "a83eb3f8"
      },
      "outputs": [],
      "source": [
        "emails = ['test@gmail.com', 'xyz@test.in', 'test@ya.ru', 'xyz@mail.ru', 'xyz@ya.ru', 'xyz@gmail.com']"
      ]
    },
    {
      "cell_type": "code",
      "execution_count": 17,
      "id": "54affa9b",
      "metadata": {
        "ExecuteTime": {
          "end_time": "2022-01-30T16:56:02.175691Z",
          "start_time": "2022-01-30T16:56:02.169620Z"
        },
        "id": "54affa9b"
      },
      "outputs": [],
      "source": [
        "def distribution(emails: list):\n",
        "    domains = dict()\n",
        "    \n",
        "    for email in emails:\n",
        "        domain = re.search(r'@(?:(\\w+\\.\\w+))', email).group(1)\n",
        "        domains.setdefault(domain, 0)\n",
        "        domains[domain] += 1\n",
        "        \n",
        "    for domain, count in domains.items():\n",
        "        print(f\"{domain}: {count}\")"
      ]
    },
    {
      "cell_type": "code",
      "execution_count": 18,
      "id": "d0949e38",
      "metadata": {
        "ExecuteTime": {
          "end_time": "2022-01-30T16:56:02.836193Z",
          "start_time": "2022-01-30T16:56:02.827690Z"
        },
        "colab": {
          "base_uri": "https://localhost:8080/"
        },
        "id": "d0949e38",
        "outputId": "4a3d9660-41e3-436c-8c50-0a9f0226b2d0"
      },
      "outputs": [
        {
          "output_type": "stream",
          "name": "stdout",
          "text": [
            "gmail.com: 2\n",
            "test.in: 1\n",
            "ya.ru: 2\n",
            "mail.ru: 1\n"
          ]
        }
      ],
      "source": [
        "distribution(emails)"
      ]
    },
    {
      "cell_type": "markdown",
      "id": "e4e0845a",
      "metadata": {
        "id": "e4e0845a"
      },
      "source": [
        "**Задание 5 (необязательное)**\n",
        "\n",
        "Напишите функцию, которая будет подсчитывать сколько слов начинается на гласные, а сколько на согласные буквы в тексте (текст может быть написан как с использованием букв кириллицы, так и латиницы)."
      ]
    },
    {
      "cell_type": "code",
      "execution_count": 19,
      "id": "64273b72",
      "metadata": {
        "ExecuteTime": {
          "end_time": "2022-01-30T17:29:44.672443Z",
          "start_time": "2022-01-30T17:29:44.663445Z"
        },
        "id": "64273b72"
      },
      "outputs": [],
      "source": [
        "some_text = 'Эталонной реализацией Python является интерпретатор CPython, поддерживающий большинство активно используемых платформ. Он распространяется под свободной лицензией Python Software Foundation License, позволяющей использовать его без ограничений в любых приложениях, включая проприетарные.'"
      ]
    },
    {
      "cell_type": "code",
      "execution_count": 20,
      "id": "d383ed98",
      "metadata": {
        "ExecuteTime": {
          "end_time": "2022-01-30T17:29:50.330399Z",
          "start_time": "2022-01-30T17:29:50.324465Z"
        },
        "id": "d383ed98"
      },
      "outputs": [],
      "source": [
        "def letters_count(text: str):\n",
        "    vowels = set('АУОЫЭЯЮЁИЕAEIOUY')\n",
        "\n",
        "    letters = acronym(text)\n",
        "\n",
        "    vowels_count = len([x for x in letters if x in vowels])\n",
        "\n",
        "    consonants_count = len([x for x in letters if x not in vowels])\n",
        "    \n",
        "    print(f\"Слов на гласные буквы: {vowels_count}\")\n",
        "    print(f\"Слов на согласные буквы: {consonants_count}\")"
      ]
    },
    {
      "cell_type": "code",
      "execution_count": 21,
      "id": "90a7f5a9",
      "metadata": {
        "ExecuteTime": {
          "end_time": "2022-01-30T17:29:50.770898Z",
          "start_time": "2022-01-30T17:29:50.751613Z"
        },
        "colab": {
          "base_uri": "https://localhost:8080/"
        },
        "id": "90a7f5a9",
        "outputId": "dab4bd71-9908-4e9a-e33a-f77a1832ef37"
      },
      "outputs": [
        {
          "output_type": "stream",
          "name": "stdout",
          "text": [
            "Слов на гласные буквы: 9\n",
            "Слов на согласные буквы: 21\n"
          ]
        }
      ],
      "source": [
        "letters_count(some_text)"
      ]
    },
    {
      "cell_type": "markdown",
      "id": "cb644018",
      "metadata": {
        "id": "cb644018"
      },
      "source": [
        "**Задание 6 (необязательное)**\n",
        "\n",
        "Напишите функцию, которая будет проверять номер сотового телефона на валидность (только для российского формата), если он валиден, то переводить его в формат:\n",
        "+7-xxx-xxx-xx-xx"
      ]
    },
    {
      "cell_type": "code",
      "execution_count": 22,
      "id": "e3f15884",
      "metadata": {
        "ExecuteTime": {
          "end_time": "2022-01-30T19:20:26.304392Z",
          "start_time": "2022-01-30T19:20:26.289363Z"
        },
        "id": "e3f15884"
      },
      "outputs": [],
      "source": [
        "def check_phone(phone: str) -> str:\n",
        "    match = re.match(r'^(\\+7|8|7)( |\\()(\\d{3})( |\\)|\\) )(\\d{3})(-| |)(\\d{2})(-| |)(\\d{2})', phone)\n",
        "\n",
        "    if match:\n",
        "        return f\"+7-{match.group(3)}-{match.group(5)}-{match.group(7)}-{match.group(9)}\"\n",
        "    \n",
        "    return \"Номер не валиден\""
      ]
    },
    {
      "cell_type": "code",
      "execution_count": 23,
      "id": "bfd2161e",
      "metadata": {
        "ExecuteTime": {
          "end_time": "2022-01-30T19:20:27.153302Z",
          "start_time": "2022-01-30T19:20:27.147500Z"
        },
        "id": "bfd2161e"
      },
      "outputs": [],
      "source": [
        "phones = [\n",
        "    '+7 955 555-55-55',\n",
        "    '8(955)555-55-55',\n",
        "    '+7 955 555 55 55',\n",
        "    '7(955) 555-55-55',\n",
        "    '423-555-55-5555',\n",
        "    '123-456-789'\n",
        "]"
      ]
    },
    {
      "cell_type": "code",
      "execution_count": 24,
      "id": "e217de6d",
      "metadata": {
        "ExecuteTime": {
          "end_time": "2022-01-30T19:20:27.440652Z",
          "start_time": "2022-01-30T19:20:27.431358Z"
        },
        "colab": {
          "base_uri": "https://localhost:8080/"
        },
        "id": "e217de6d",
        "outputId": "b8540755-ddbf-4960-b71c-cdf4ce0cd589"
      },
      "outputs": [
        {
          "output_type": "stream",
          "name": "stdout",
          "text": [
            "Результат: +7-955-555-55-55\n",
            "Результат: +7-955-555-55-55\n",
            "Результат: +7-955-555-55-55\n",
            "Результат: +7-955-555-55-55\n",
            "Результат: Номер не валиден\n",
            "Результат: Номер не валиден\n"
          ]
        }
      ],
      "source": [
        "for phone in phones:\n",
        "    print(f\"Результат: {check_phone(phone)}\")"
      ]
    },
    {
      "cell_type": "code",
      "execution_count": null,
      "id": "d54b9b37",
      "metadata": {
        "id": "d54b9b37"
      },
      "outputs": [],
      "source": [
        ""
      ]
    }
  ],
  "metadata": {
    "kernelspec": {
      "display_name": "Python 3 (ipykernel)",
      "language": "python",
      "name": "python3"
    },
    "language_info": {
      "codemirror_mode": {
        "name": "ipython",
        "version": 3
      },
      "file_extension": ".py",
      "mimetype": "text/x-python",
      "name": "python",
      "nbconvert_exporter": "python",
      "pygments_lexer": "ipython3",
      "version": "3.8.12"
    },
    "colab": {
      "name": "regex.ipynb",
      "provenance": [],
      "include_colab_link": true
    }
  },
  "nbformat": 4,
  "nbformat_minor": 5
}