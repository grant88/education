{
  "cells": [
    {
      "cell_type": "markdown",
      "metadata": {
        "id": "view-in-github",
        "colab_type": "text"
      },
      "source": [
        "<a href=\"https://colab.research.google.com/github/grant88/education/blob/main/numpy.ipynb\" target=\"_parent\"><img src=\"https://colab.research.google.com/assets/colab-badge.svg\" alt=\"Open In Colab\"/></a>"
      ]
    },
    {
      "cell_type": "code",
      "execution_count": 3,
      "metadata": {
        "id": "Tot98R1Oep00"
      },
      "outputs": [],
      "source": [
        "import numpy as np"
      ]
    },
    {
      "cell_type": "markdown",
      "metadata": {
        "id": "QE0yvkDPep04"
      },
      "source": [
        "**Задание 1**\n",
        "\n",
        "Создайте numpy array с элементами от числа N до 0 (например, для N = 10 это будет array([9, 8, 7, 6, 5, 4, 3, 2, 1, 0]))."
      ]
    },
    {
      "cell_type": "code",
      "execution_count": 4,
      "metadata": {
        "colab": {
          "base_uri": "https://localhost:8080/"
        },
        "id": "oBmTvxCOep06",
        "outputId": "c3a7bad0-8ad0-4f33-eb49-bf14e6ba4263"
      },
      "outputs": [
        {
          "output_type": "execute_result",
          "data": {
            "text/plain": [
              "array([9, 8, 7, 6, 5, 4, 3, 2, 1, 0])"
            ]
          },
          "metadata": {},
          "execution_count": 4
        }
      ],
      "source": [
        "n = 10\n",
        "x = np.arange(n - 1, -1, -1)\n",
        "x"
      ]
    },
    {
      "cell_type": "markdown",
      "metadata": {
        "id": "XmEh73E5ep08"
      },
      "source": [
        "**Задание 2**\n",
        "\n",
        "Создайте диагональную матрицу с элементами от N до 0. Посчитайте сумму ее значений на диагонали."
      ]
    },
    {
      "cell_type": "code",
      "execution_count": 5,
      "metadata": {
        "colab": {
          "base_uri": "https://localhost:8080/"
        },
        "id": "TBls150iep09",
        "outputId": "9068af62-c43c-422a-bb10-98cefecd79b8"
      },
      "outputs": [
        {
          "output_type": "execute_result",
          "data": {
            "text/plain": [
              "array([[9, 0, 0, 0, 0, 0, 0, 0, 0, 0],\n",
              "       [0, 8, 0, 0, 0, 0, 0, 0, 0, 0],\n",
              "       [0, 0, 7, 0, 0, 0, 0, 0, 0, 0],\n",
              "       [0, 0, 0, 6, 0, 0, 0, 0, 0, 0],\n",
              "       [0, 0, 0, 0, 5, 0, 0, 0, 0, 0],\n",
              "       [0, 0, 0, 0, 0, 4, 0, 0, 0, 0],\n",
              "       [0, 0, 0, 0, 0, 0, 3, 0, 0, 0],\n",
              "       [0, 0, 0, 0, 0, 0, 0, 2, 0, 0],\n",
              "       [0, 0, 0, 0, 0, 0, 0, 0, 1, 0],\n",
              "       [0, 0, 0, 0, 0, 0, 0, 0, 0, 0]])"
            ]
          },
          "metadata": {},
          "execution_count": 5
        }
      ],
      "source": [
        "matrix = np.diag(x)\n",
        "matrix"
      ]
    },
    {
      "cell_type": "code",
      "execution_count": 6,
      "metadata": {
        "colab": {
          "base_uri": "https://localhost:8080/"
        },
        "id": "vO13lpvVep09",
        "outputId": "83d05786-d4fa-4222-eed6-18fac0dce9a9"
      },
      "outputs": [
        {
          "output_type": "execute_result",
          "data": {
            "text/plain": [
              "45"
            ]
          },
          "metadata": {},
          "execution_count": 6
        }
      ],
      "source": [
        "# Сумма значений по диагонали\n",
        "np.trace(matrix)"
      ]
    },
    {
      "cell_type": "markdown",
      "metadata": {
        "id": "F_kZyYzBep0-"
      },
      "source": [
        "**Задание 3**\n",
        "\n",
        "Решите систему уравнений:\n",
        "\n",
        "4x + 2y + z = 4\n",
        "\n",
        "x + 3y = 12\n",
        "\n",
        "5y + 4z = -3"
      ]
    },
    {
      "cell_type": "code",
      "execution_count": 7,
      "metadata": {
        "id": "LW_COhVKep0_"
      },
      "outputs": [],
      "source": [
        "from numpy import linalg"
      ]
    },
    {
      "cell_type": "code",
      "execution_count": 8,
      "metadata": {
        "id": "xuNx_kXQep0_"
      },
      "outputs": [],
      "source": [
        "coefficients = np.array([\n",
        "    [4, 2, 1],\n",
        "    [1, 3, 0],\n",
        "    [0, 5, 4]\n",
        "])"
      ]
    },
    {
      "cell_type": "code",
      "execution_count": 9,
      "metadata": {
        "id": "wTTwVYJzep1A"
      },
      "outputs": [],
      "source": [
        "values = np.array([\n",
        "    4,\n",
        "    12,\n",
        "    -3\n",
        "])"
      ]
    },
    {
      "cell_type": "code",
      "execution_count": 10,
      "metadata": {
        "colab": {
          "base_uri": "https://localhost:8080/"
        },
        "id": "xw6sOJ7wep1B",
        "outputId": "01632242-1954-4994-893f-a1888809b586"
      },
      "outputs": [
        {
          "output_type": "execute_result",
          "data": {
            "text/plain": [
              "(0.4666666666666668, 3.844444444444444, -5.555555555555555)"
            ]
          },
          "metadata": {},
          "execution_count": 10
        }
      ],
      "source": [
        "x, y, z = linalg.solve(coefficients, values)\n",
        "x, y, z"
      ]
    },
    {
      "cell_type": "markdown",
      "metadata": {
        "id": "aCEb2VQCep1B"
      },
      "source": [
        "Проверка того, что найденные x, y, z удовлетворяют условиям уравнения:"
      ]
    },
    {
      "cell_type": "code",
      "execution_count": 11,
      "metadata": {
        "colab": {
          "base_uri": "https://localhost:8080/"
        },
        "id": "PYEi7KhJep1B",
        "outputId": "1292bef4-9a0e-4630-e1a0-4564053e80ca"
      },
      "outputs": [
        {
          "output_type": "execute_result",
          "data": {
            "text/plain": [
              "array([ True,  True,  True])"
            ]
          },
          "metadata": {},
          "execution_count": 11
        }
      ],
      "source": [
        "[int(round(x.sum(), 0)) for x in coefficients * np.array([x, y, z])] == values"
      ]
    },
    {
      "cell_type": "markdown",
      "metadata": {
        "id": "1KJQcOxiep1C"
      },
      "source": [
        "**Задача 4**\n",
        "\n",
        "Имеется матрица покупок в интернет-магазине.\n",
        "\n",
        "Столбец А - ID пользователя.\n",
        "\n",
        "Остальные столбцы - количество покупок категорий товаров этим пользователем\n",
        "\n",
        "Матрица в виде numpy array:"
      ]
    },
    {
      "cell_type": "code",
      "execution_count": 12,
      "metadata": {
        "id": "YpIO-xXMep1C"
      },
      "outputs": [],
      "source": [
        "users_stats = np.array(\n",
        "    [\n",
        "        [2, 1, 0, 0, 0, 0],\n",
        "        [1, 1, 2, 1, 0, 0],\n",
        "        [2, 0, 1, 0, 0, 0],\n",
        "        [1, 1, 2, 1, 0, 1],\n",
        "        [0, 0, 1, 2, 0, 0],\n",
        "        [0, 0, 0, 0, 0, 5],\n",
        "        [1, 0, 0, 0, 0, 0],\n",
        "        [0, 1, 1, 0, 0, 0],\n",
        "        [0, 0, 0, 1, 1, 3],\n",
        "        [1, 0, 0, 2, 1, 4]\n",
        "    ], \n",
        "    np.int32\n",
        ")"
      ]
    },
    {
      "cell_type": "markdown",
      "metadata": {
        "id": "-_flnwyaep1D"
      },
      "source": [
        "На сайт заходит очередной посетитель, о покупках которого известно следующее:"
      ]
    },
    {
      "cell_type": "code",
      "execution_count": 13,
      "metadata": {
        "id": "6jZbpDtRep1D"
      },
      "outputs": [],
      "source": [
        "next_user_stats = np.array([0, 1, 2, 0, 0, 0])"
      ]
    },
    {
      "cell_type": "markdown",
      "metadata": {
        "id": "Ce4siDM7ep1D"
      },
      "source": [
        "Найти самого похожего пользователя. \n",
        "Т. е. посчитать косинусное сходство между этим пользователем и всеми пользователями из массива user_stats"
      ]
    },
    {
      "cell_type": "markdown",
      "metadata": {
        "id": "fp4CufmSep1D"
      },
      "source": [
        "**Решение задачи 4**"
      ]
    },
    {
      "cell_type": "code",
      "execution_count": 14,
      "metadata": {
        "id": "yn0tBVIaep1E"
      },
      "outputs": [],
      "source": [
        "from numpy import dot\n",
        "from numpy import linalg"
      ]
    },
    {
      "cell_type": "code",
      "execution_count": 15,
      "metadata": {
        "id": "qCfrJId9ep1E"
      },
      "outputs": [],
      "source": [
        "def cosine( a, b ):\n",
        "    \"\"\"\n",
        "    Подсчет косинуса угла между векторами a, b по их координатам\n",
        "    \"\"\"\n",
        "    \n",
        "    # длины векторов\n",
        "    aLength = np.linalg.norm( a )\n",
        "    bLength = np.linalg.norm( b )\n",
        "    \n",
        "    return np.dot( a, b ) / ( aLength * bLength )"
      ]
    },
    {
      "cell_type": "markdown",
      "metadata": {
        "id": "XgQYAjp7ep1E"
      },
      "source": [
        "Косинусные расстояния между новым пользователем и пользователями из массива user_stats"
      ]
    },
    {
      "cell_type": "code",
      "execution_count": 16,
      "metadata": {
        "colab": {
          "base_uri": "https://localhost:8080/"
        },
        "id": "U1uAKXnOep1F",
        "outputId": "742396a6-cfc2-4d03-9a75-7b4b1e5638e8"
      },
      "outputs": [
        {
          "output_type": "execute_result",
          "data": {
            "text/plain": [
              "[0.19999999999999996,\n",
              " 0.8451542547285165,\n",
              " 0.3999999999999999,\n",
              " 0.7905694150420948,\n",
              " 0.3999999999999999,\n",
              " 0.0,\n",
              " 0.0,\n",
              " 0.9486832980505138,\n",
              " 0.0,\n",
              " 0.0]"
            ]
          },
          "metadata": {},
          "execution_count": 16
        }
      ],
      "source": [
        "cos_distanses = [cosine(user, next_user_stats) for user in users_stats]\n",
        "cos_distanses"
      ]
    },
    {
      "cell_type": "markdown",
      "metadata": {
        "id": "jqPW6QXBep1F"
      },
      "source": [
        "Максимальное косинусное расстояние"
      ]
    },
    {
      "cell_type": "code",
      "execution_count": 17,
      "metadata": {
        "colab": {
          "base_uri": "https://localhost:8080/"
        },
        "id": "gWlqVw3yep1F",
        "outputId": "3c893df6-d417-4081-ab96-96ba7508131d"
      },
      "outputs": [
        {
          "output_type": "execute_result",
          "data": {
            "text/plain": [
              "0.9486832980505138"
            ]
          },
          "metadata": {},
          "execution_count": 17
        }
      ],
      "source": [
        "max_cos = max(cos_distanses)\n",
        "max_cos"
      ]
    },
    {
      "cell_type": "markdown",
      "metadata": {
        "id": "ogAixz3Uep1F"
      },
      "source": [
        "Идентификатор пользователя"
      ]
    },
    {
      "cell_type": "code",
      "execution_count": 18,
      "metadata": {
        "colab": {
          "base_uri": "https://localhost:8080/"
        },
        "id": "C9MkAPE4ep1G",
        "outputId": "bcb2603c-6d1e-472c-805b-8b86ac5e51ab"
      },
      "outputs": [
        {
          "output_type": "execute_result",
          "data": {
            "text/plain": [
              "8"
            ]
          },
          "metadata": {},
          "execution_count": 18
        }
      ],
      "source": [
        "user_id = cos_distanses.index(max_cos) + 1\n",
        "user_id "
      ]
    }
  ],
  "metadata": {
    "kernelspec": {
      "display_name": "Python 3",
      "language": "python",
      "name": "python3"
    },
    "language_info": {
      "codemirror_mode": {
        "name": "ipython",
        "version": 3
      },
      "file_extension": ".py",
      "mimetype": "text/x-python",
      "name": "python",
      "nbconvert_exporter": "python",
      "pygments_lexer": "ipython3",
      "version": "3.7.3"
    },
    "colab": {
      "name": "numpy.ipynb",
      "provenance": [],
      "include_colab_link": true
    }
  },
  "nbformat": 4,
  "nbformat_minor": 0
}