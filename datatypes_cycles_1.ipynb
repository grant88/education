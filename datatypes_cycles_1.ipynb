{
 "cells": [
  {
   "cell_type": "markdown",
   "id": "255fc455",
   "metadata": {
    "ExecuteTime": {
     "end_time": "2021-12-26T12:21:46.511643Z",
     "start_time": "2021-12-26T12:21:46.501646Z"
    }
   },
   "source": [
    "<a href=\"https://colab.research.google.com/github/grant88/education/blob/main/datatypes_cycles_1.ipynb\" target=\"_parent\"><img src=\"https://colab.research.google.com/assets/colab-badge.svg\" alt=\"Open In Colab\"/></a>"
   ]
  },
  {
   "cell_type": "markdown",
   "id": "3cb9f0cd",
   "metadata": {},
   "source": [
    "**Задание 1**\n",
    "\n",
    "Дана переменная, в которой хранится слово из латинских букв. Напишите код, который выводит на экран:\n",
    "\n",
    "* среднюю букву, если число букв в слове нечетное;\n",
    "* две средних буквы, если число букв четное."
   ]
  },
  {
   "cell_type": "code",
   "execution_count": null,
   "id": "41025680",
   "metadata": {
    "ExecuteTime": {
     "end_time": "2021-12-26T12:18:26.652293Z",
     "start_time": "2021-12-26T12:18:26.638298Z"
    }
   },
   "outputs": [],
   "source": [
    "word = 'test'"
   ]
  },
  {
   "cell_type": "code",
   "execution_count": null,
   "id": "370be2a8",
   "metadata": {
    "ExecuteTime": {
     "end_time": "2021-12-26T12:18:27.039375Z",
     "start_time": "2021-12-26T12:18:27.021244Z"
    }
   },
   "outputs": [],
   "source": [
    "length = len(word)\n",
    "middle = int(length / 2)\n",
    "\n",
    "if length % 2 == 0:    \n",
    "    print(word[middle - 1: middle + 1])\n",
    "else:\n",
    "    print(word[middle])"
   ]
  },
  {
   "cell_type": "markdown",
   "id": "4dfee410",
   "metadata": {},
   "source": [
    "**Задание 2**\n",
    "\n",
    "Напишите программу, которая последовательно запрашивает у пользователя числа (по одному за раз) и после первого нуля выводит сумму всех ранее введенных чисел."
   ]
  },
  {
   "cell_type": "code",
   "execution_count": null,
   "id": "752d02ed",
   "metadata": {
    "ExecuteTime": {
     "end_time": "2021-12-26T12:25:01.811507Z",
     "start_time": "2021-12-26T12:24:57.812586Z"
    }
   },
   "outputs": [],
   "source": [
    "total_sum = 0\n",
    "while True:\n",
    "    number = int(input('Введите число:'))\n",
    "    total_sum += number\n",
    "    if number == 0:\n",
    "        break\n",
    "print(total_sum)"
   ]
  },
  {
   "cell_type": "markdown",
   "id": "fb37199f",
   "metadata": {},
   "source": [
    "**Задание 3**\n",
    "\n",
    "Мы делаем MVP dating-сервиса, и у нас есть список парней и девушек.\n",
    "\n",
    "Выдвигаем гипотезу: лучшие рекомендации мы получим, если просто отсортируем имена по алфавиту и познакомим людей с одинаковыми индексами после сортировки! Но мы не будем никого знакомить, если кто-то может остаться без пары:"
   ]
  },
  {
   "cell_type": "code",
   "execution_count": null,
   "id": "c343c6cd",
   "metadata": {
    "ExecuteTime": {
     "end_time": "2021-12-26T12:30:56.730485Z",
     "start_time": "2021-12-26T12:30:56.722982Z"
    }
   },
   "outputs": [],
   "source": [
    "boys = ['Peter', 'Alex', 'John', 'Arthur', 'Richard']\n",
    "girls = ['Kate', 'Liza', 'Kira', 'Emma', 'Trisha']"
   ]
  },
  {
   "cell_type": "code",
   "execution_count": null,
   "id": "7d723c97",
   "metadata": {
    "ExecuteTime": {
     "end_time": "2021-12-26T12:30:56.980034Z",
     "start_time": "2021-12-26T12:30:56.971075Z"
    }
   },
   "outputs": [],
   "source": [
    "if len(boys) == len(girls):\n",
    "    print('Идеальные пары:')\n",
    "    for couple in zip(sorted(boys), sorted(girls)):\n",
    "        print(f'{couple[0]} и {couple[1]}')\n",
    "else:\n",
    "    print('Внимание, кто-то может остаться без пары!')"
   ]
  },
  {
   "cell_type": "markdown",
   "id": "3b6c4cd3",
   "metadata": {},
   "source": [
    "**Задание 4**\n",
    "\n",
    "У нас есть список, содержащий информацию о среднедневной температуре в Фаренгейтах за произвольный период по странам (структура данных в примере).\n",
    "\n",
    "Необходимо написать код, который рассчитает среднюю температуру за период в Цельсиях(!) для каждой страны."
   ]
  },
  {
   "cell_type": "code",
   "execution_count": null,
   "id": "0396f638",
   "metadata": {
    "ExecuteTime": {
     "end_time": "2021-12-26T12:31:58.596667Z",
     "start_time": "2021-12-26T12:31:58.588024Z"
    }
   },
   "outputs": [],
   "source": [
    "countries_temperature = [\n",
    "    ['Thailand', [75.2, 77, 78.8, 73.4, 68, 75.2, 77]],\n",
    "    ['Germany', [57.2, 55.4, 59, 59, 53.6]],\n",
    "    ['Russia', [35.6, 37.4, 39.2, 41, 42.8, 39.2, 35.6]],\n",
    "    ['Poland', [50, 50, 53.6, 57.2, 55.4, 55.4]]\n",
    "]"
   ]
  },
  {
   "cell_type": "code",
   "execution_count": null,
   "id": "8267c723",
   "metadata": {
    "ExecuteTime": {
     "end_time": "2021-12-26T12:36:53.804463Z",
     "start_time": "2021-12-26T12:36:53.793871Z"
    }
   },
   "outputs": [],
   "source": [
    "for country in countries_temperature:\n",
    "    temperature = round(sum([(x - 32) / 1.8 for x in  country[1]]) / len(country[1]), 1)\n",
    "    print(f'{country[0]} - {temperature} C')"
   ]
  },
  {
   "cell_type": "markdown",
   "id": "e319c42e",
   "metadata": {},
   "source": [
    "**Задание 5 (необязательное)**\n",
    "\n",
    "\n",
    "Дан поток логов по количеству просмотренных страниц для каждого пользователя. Вам необходимо написать алгоритм, который считает среднее значение просмотров на пользователя. Т. е. надо посчитать отношение суммы всех просмотров к количеству уникальных пользователей."
   ]
  },
  {
   "cell_type": "code",
   "execution_count": null,
   "id": "dbbc7d0f",
   "metadata": {
    "ExecuteTime": {
     "end_time": "2021-12-26T12:45:14.680661Z",
     "start_time": "2021-12-26T12:45:14.665078Z"
    }
   },
   "outputs": [],
   "source": [
    "stream = [\n",
    "    '2018-01-01,user1,3',\n",
    "    '2018-01-07,user1,4',\n",
    "    '2018-03-29,user1,1',\n",
    "    '2018-04-04,user1,13',\n",
    "    '2018-01-05,user2,7',\n",
    "    '2018-06-14,user3,4',\n",
    "    '2018-07-02,user3,10',\n",
    "    '2018-03-21,user4,19',\n",
    "    '2018-03-22,user4,4',\n",
    "    '2018-04-22,user4,8',\n",
    "    '2018-05-03,user4,9',\n",
    "    '2018-05-11,user4,11',\n",
    "]"
   ]
  },
  {
   "cell_type": "code",
   "execution_count": null,
   "id": "498b3ce5",
   "metadata": {
    "ExecuteTime": {
     "end_time": "2021-12-26T12:46:05.408827Z",
     "start_time": "2021-12-26T12:46:05.393213Z"
    }
   },
   "outputs": [],
   "source": [
    "users = set()\n",
    "total_count = 0\n",
    "\n",
    "for row in stream:\n",
    "    date, user, count = row.split(',')\n",
    "    users.add(user)\n",
    "    total_count += int(count)\n",
    "\n",
    "result = round(total_count / len(users), 2)\n",
    "print(f'Среднее количество просмотров на уникального пользователя: {result}')"
   ]
  },
  {
   "cell_type": "markdown",
   "id": "ef229e54",
   "metadata": {},
   "source": [
    "**Задание 6 (необязательное)**\n",
    "\n",
    "Необходимо у пользователя запрашивать набор чисел разделенных пробелом. В результате в отсортированном порядке должны выводиться числа, которые повторяются в вводе более одного раза."
   ]
  },
  {
   "cell_type": "code",
   "execution_count": null,
   "id": "7d813c63",
   "metadata": {
    "ExecuteTime": {
     "end_time": "2021-12-26T13:14:55.010958Z",
     "start_time": "2021-12-26T13:14:53.371378Z"
    }
   },
   "outputs": [],
   "source": [
    "in_str = map(int, input('Введите числа:').split())\n",
    "\n",
    "items_dict = dict()\n",
    "result_list = list() \n",
    "\n",
    "for item in in_str:\n",
    "    if item in items_dict:\n",
    "        items_dict[item] += 1\n",
    "        if items_dict[item] == 2:\n",
    "            result_list.append(item)\n",
    "    else:\n",
    "        items_dict[item] = 1\n",
    "\n",
    "print(*sorted(result_list))"
   ]
  },
  {
   "cell_type": "code",
   "execution_count": null,
   "id": "0aa4959f",
   "metadata": {},
   "outputs": [],
   "source": []
  }
 ],
 "metadata": {
  "kernelspec": {
   "display_name": "Python 3",
   "language": "python",
   "name": "python3"
  },
  "language_info": {
   "codemirror_mode": {
    "name": "ipython",
    "version": 3
   },
   "file_extension": ".py",
   "mimetype": "text/x-python",
   "name": "python",
   "nbconvert_exporter": "python",
   "pygments_lexer": "ipython3",
   "version": "3.8.10"
  }
 },
 "nbformat": 4,
 "nbformat_minor": 5
}
