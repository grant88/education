{
  "nbformat": 4,
  "nbformat_minor": 0,
  "metadata": {
    "colab": {
      "name": "spark_movies.ipynb",
      "provenance": [],
      "authorship_tag": "ABX9TyNoqx+kqBHLYql0mDZHBrV+",
      "include_colab_link": true
    },
    "kernelspec": {
      "name": "python3",
      "display_name": "Python 3"
    },
    "language_info": {
      "name": "python"
    }
  },
  "cells": [
    {
      "cell_type": "markdown",
      "metadata": {
        "id": "view-in-github",
        "colab_type": "text"
      },
      "source": [
        "<a href=\"https://colab.research.google.com/github/grant88/education/blob/main/spark_movies.ipynb\" target=\"_parent\"><img src=\"https://colab.research.google.com/assets/colab-badge.svg\" alt=\"Open In Colab\"/></a>"
      ]
    },
    {
      "cell_type": "code",
      "execution_count": 1,
      "metadata": {
        "colab": {
          "base_uri": "https://localhost:8080/"
        },
        "id": "ksI1HUXQkktJ",
        "outputId": "623f25fc-7bb9-4d4b-f4a8-7eada761b01f"
      },
      "outputs": [
        {
          "output_type": "stream",
          "name": "stdout",
          "text": [
            "Requirement already satisfied: pyspark in /usr/local/lib/python3.7/dist-packages (3.2.1)\n",
            "Requirement already satisfied: py4j==0.10.9.3 in /usr/local/lib/python3.7/dist-packages (from pyspark) (0.10.9.3)\n"
          ]
        }
      ],
      "source": [
        "!pip install pyspark"
      ]
    },
    {
      "cell_type": "code",
      "source": [
        "from pyspark.sql import SparkSession\n",
        "from pyspark import SparkFiles"
      ],
      "metadata": {
        "id": "0yNykGkpk-4j"
      },
      "execution_count": 2,
      "outputs": []
    },
    {
      "cell_type": "code",
      "source": [
        "spark = SparkSession.builder.master(\"local[*]\").appName(\"PySpark\").getOrCreate()"
      ],
      "metadata": {
        "id": "5XCjM_1sluq8"
      },
      "execution_count": 3,
      "outputs": []
    },
    {
      "cell_type": "code",
      "source": [
        "sc = spark.sparkContext"
      ],
      "metadata": {
        "id": "45gV2locmN3i"
      },
      "execution_count": 4,
      "outputs": []
    },
    {
      "cell_type": "code",
      "source": [
        "data = sc.textFile(SparkFiles.get(\"/content/movies.csv\"))"
      ],
      "metadata": {
        "id": "CGiDV8gOrnEG"
      },
      "execution_count": 5,
      "outputs": []
    },
    {
      "cell_type": "code",
      "source": [
        "answer_row = data\\\n",
        "    .flatMap(lambda line: line.split(',')[1].split(' '))\\\n",
        "    .map(lambda x: (x, 1))\\\n",
        "    .reduceByKey(lambda a, b: a + b)\\\n",
        "    .takeOrdered(1, lambda x: -x[1])"
      ],
      "metadata": {
        "id": "VqO_ICbOrrp4"
      },
      "execution_count": 6,
      "outputs": []
    },
    {
      "cell_type": "code",
      "source": [
        "answer_row"
      ],
      "metadata": {
        "colab": {
          "base_uri": "https://localhost:8080/"
        },
        "id": "jMuYd1t525XQ",
        "outputId": "b3516919-64de-48a1-9084-aae44afcbf84"
      },
      "execution_count": 7,
      "outputs": [
        {
          "output_type": "execute_result",
          "data": {
            "text/plain": [
              "[('of', 946)]"
            ]
          },
          "metadata": {},
          "execution_count": 7
        }
      ]
    },
    {
      "cell_type": "code",
      "source": [
        "result = answer_row[0][0]"
      ],
      "metadata": {
        "id": "rkEIfbSU3Von"
      },
      "execution_count": 8,
      "outputs": []
    },
    {
      "cell_type": "code",
      "source": [
        "print(f\"Наиболее встречающееся слово: '{result}'.\")"
      ],
      "metadata": {
        "colab": {
          "base_uri": "https://localhost:8080/"
        },
        "id": "P8V9Cc253Zaj",
        "outputId": "45e841cc-c90a-4d0d-dbc5-b87ae3ddf963"
      },
      "execution_count": 9,
      "outputs": [
        {
          "output_type": "stream",
          "name": "stdout",
          "text": [
            "Наиболее встречающееся слово: 'of'.\n"
          ]
        }
      ]
    }
  ]
}